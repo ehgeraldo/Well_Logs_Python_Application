{
 "cells": [
  {
   "cell_type": "markdown",
   "id": "80b0dfd8",
   "metadata": {},
   "source": [
    "# Well Log plot - Plotly"
   ]
  },
  {
   "cell_type": "markdown",
   "id": "5b857918",
   "metadata": {},
   "source": [
    "# Planning\n",
    "\n",
    "\n",
    "# Solution at (IOT)\n",
    "\n",
    "\n",
    "# Input\n",
    "* We choose an oil well with open source to apply visualization methods with python libraries.\n",
    "\n",
    "\n",
    "# Output\n",
    "* Jupyter notebook tutorial to analysis\n",
    "\n",
    "# Tasks\n",
    "* From https://www.nlog.nl/datacenter "
   ]
  },
  {
   "cell_type": "markdown",
   "id": "b5ad3706",
   "metadata": {},
   "source": [
    "# Imports"
   ]
  },
  {
   "cell_type": "code",
   "execution_count": 1,
   "id": "53cf9af6",
   "metadata": {
    "ExecuteTime": {
     "end_time": "2022-08-29T19:53:11.305789Z",
     "start_time": "2022-08-29T19:53:08.608591Z"
    }
   },
   "outputs": [],
   "source": [
    "import pandas as pd\n",
    "import numpy  as np\n",
    "import matplotlib.pyplot as plt\n",
    "import lasio\n",
    "\n",
    "\n",
    "import plotly.graph_objects as go\n",
    "import plotly.express       as px\n",
    "\n",
    "from plotly.subplots import make_subplots"
   ]
  },
  {
   "cell_type": "code",
   "execution_count": 2,
   "id": "bcce7ebb",
   "metadata": {
    "ExecuteTime": {
     "end_time": "2022-08-29T19:53:11.352186Z",
     "start_time": "2022-08-29T19:53:11.315681Z"
    }
   },
   "outputs": [
    {
     "data": {
      "text/plain": [
       "'/home/ehgeraldo/repos/Well_Log_Plots'"
      ]
     },
     "execution_count": 2,
     "metadata": {},
     "output_type": "execute_result"
    }
   ],
   "source": [
    "pwd"
   ]
  },
  {
   "cell_type": "code",
   "execution_count": 19,
   "id": "06728a74",
   "metadata": {
    "ExecuteTime": {
     "end_time": "2022-08-29T19:53:46.632509Z",
     "start_time": "2022-08-29T19:53:46.496966Z"
    }
   },
   "outputs": [
    {
     "name": "stdout",
     "output_type": "stream",
     "text": [
      "total 7180\r\n",
      "-rw-rw-r-- 1 ehgeraldo ehgeraldo  478572 ago 27 17:19 c0.0-ehgeraldo-planning.ipynb\r\n",
      "-rw-rw-r-- 1 ehgeraldo ehgeraldo   95928 ago 27 17:19 c1.1-ehgeraldo-planning_histogram.ipynb\r\n",
      "-rw-rw-r-- 1 ehgeraldo ehgeraldo  429306 ago 27 17:19 c2.2-ehgeraldo-planning_scatterplot.ipynb\r\n",
      "-rw-rw-r-- 1 ehgeraldo ehgeraldo  395962 ago 27 17:19 c3.3-ehgeraldo-planning_matplolib.ipynb\r\n",
      "-rw-rw-r-- 1 ehgeraldo ehgeraldo 5739415 ago 27 17:21 c4.4-ehgeraldo-planning_matplolib.ipynb\r\n",
      "-rw-rw-r-- 1 ehgeraldo ehgeraldo  203732 ago 28 10:03 c5.5-ehgeraldo-planning_shading.ipynb\r\n"
     ]
    }
   ],
   "source": [
    "ls -l"
   ]
  },
  {
   "cell_type": "code",
   "execution_count": 24,
   "id": "e36f67bf",
   "metadata": {
    "ExecuteTime": {
     "end_time": "2022-08-29T19:56:11.345533Z",
     "start_time": "2022-08-29T19:56:10.970120Z"
    }
   },
   "outputs": [],
   "source": [
    "df_raw = lasio.read('/home/ehgeraldo/repos/Well_Logs_Plots/data/15-9-19_SR_COMP.LAS').df()"
   ]
  },
  {
   "cell_type": "code",
   "execution_count": 25,
   "id": "f3666507",
   "metadata": {
    "ExecuteTime": {
     "end_time": "2022-08-29T19:56:12.858707Z",
     "start_time": "2022-08-29T19:56:12.844750Z"
    }
   },
   "outputs": [],
   "source": [
    "df_raw.reset_index(inplace=True)"
   ]
  },
  {
   "cell_type": "code",
   "execution_count": 26,
   "id": "9f39e31c",
   "metadata": {
    "ExecuteTime": {
     "end_time": "2022-08-29T19:56:13.875287Z",
     "start_time": "2022-08-29T19:56:13.823016Z"
    }
   },
   "outputs": [
    {
     "data": {
      "text/html": [
       "<div>\n",
       "<style scoped>\n",
       "    .dataframe tbody tr th:only-of-type {\n",
       "        vertical-align: middle;\n",
       "    }\n",
       "\n",
       "    .dataframe tbody tr th {\n",
       "        vertical-align: top;\n",
       "    }\n",
       "\n",
       "    .dataframe thead th {\n",
       "        text-align: right;\n",
       "    }\n",
       "</style>\n",
       "<table border=\"1\" class=\"dataframe\">\n",
       "  <thead>\n",
       "    <tr style=\"text-align: right;\">\n",
       "      <th></th>\n",
       "      <th>DEPT</th>\n",
       "      <th>AC</th>\n",
       "      <th>CALI</th>\n",
       "      <th>DEN</th>\n",
       "      <th>GR</th>\n",
       "      <th>NEU</th>\n",
       "      <th>RDEP</th>\n",
       "      <th>RMED</th>\n",
       "    </tr>\n",
       "  </thead>\n",
       "  <tbody>\n",
       "    <tr>\n",
       "      <th>0</th>\n",
       "      <td>3615.4340</td>\n",
       "      <td>95.7952</td>\n",
       "      <td>12.7249</td>\n",
       "      <td>2.3429</td>\n",
       "      <td>54.8754</td>\n",
       "      <td>44.5742</td>\n",
       "      <td>0.8941</td>\n",
       "      <td>0.8359</td>\n",
       "    </tr>\n",
       "    <tr>\n",
       "      <th>1</th>\n",
       "      <td>3615.5864</td>\n",
       "      <td>94.2267</td>\n",
       "      <td>12.5961</td>\n",
       "      <td>2.3528</td>\n",
       "      <td>53.5158</td>\n",
       "      <td>62.1103</td>\n",
       "      <td>0.7367</td>\n",
       "      <td>0.8028</td>\n",
       "    </tr>\n",
       "    <tr>\n",
       "      <th>2</th>\n",
       "      <td>3615.7388</td>\n",
       "      <td>101.3254</td>\n",
       "      <td>13.7632</td>\n",
       "      <td>2.3170</td>\n",
       "      <td>48.9803</td>\n",
       "      <td>71.9087</td>\n",
       "      <td>0.6423</td>\n",
       "      <td>0.7958</td>\n",
       "    </tr>\n",
       "    <tr>\n",
       "      <th>3</th>\n",
       "      <td>3615.8912</td>\n",
       "      <td>99.5672</td>\n",
       "      <td>14.3249</td>\n",
       "      <td>2.2585</td>\n",
       "      <td>36.6762</td>\n",
       "      <td>44.8988</td>\n",
       "      <td>0.6571</td>\n",
       "      <td>0.7929</td>\n",
       "    </tr>\n",
       "    <tr>\n",
       "      <th>4</th>\n",
       "      <td>3616.0436</td>\n",
       "      <td>100.5965</td>\n",
       "      <td>11.1429</td>\n",
       "      <td>2.2108</td>\n",
       "      <td>40.4632</td>\n",
       "      <td>49.5744</td>\n",
       "      <td>0.7442</td>\n",
       "      <td>0.7940</td>\n",
       "    </tr>\n",
       "  </tbody>\n",
       "</table>\n",
       "</div>"
      ],
      "text/plain": [
       "        DEPT        AC     CALI     DEN       GR      NEU    RDEP    RMED\n",
       "0  3615.4340   95.7952  12.7249  2.3429  54.8754  44.5742  0.8941  0.8359\n",
       "1  3615.5864   94.2267  12.5961  2.3528  53.5158  62.1103  0.7367  0.8028\n",
       "2  3615.7388  101.3254  13.7632  2.3170  48.9803  71.9087  0.6423  0.7958\n",
       "3  3615.8912   99.5672  14.3249  2.2585  36.6762  44.8988  0.6571  0.7929\n",
       "4  3616.0436  100.5965  11.1429  2.2108  40.4632  49.5744  0.7442  0.7940"
      ]
     },
     "execution_count": 26,
     "metadata": {},
     "output_type": "execute_result"
    }
   ],
   "source": [
    "df_raw.head()"
   ]
  },
  {
   "cell_type": "markdown",
   "id": "90284c00",
   "metadata": {},
   "source": [
    "# Data descrition"
   ]
  },
  {
   "cell_type": "code",
   "execution_count": 27,
   "id": "84f7af24",
   "metadata": {
    "ExecuteTime": {
     "end_time": "2022-08-29T19:56:14.706272Z",
     "start_time": "2022-08-29T19:56:14.695465Z"
    }
   },
   "outputs": [],
   "source": [
    "df1 = df_raw.copy()"
   ]
  },
  {
   "cell_type": "markdown",
   "id": "d4798e94",
   "metadata": {},
   "source": [
    "## Data dimensions"
   ]
  },
  {
   "cell_type": "code",
   "execution_count": 28,
   "id": "cd5fa797",
   "metadata": {
    "ExecuteTime": {
     "end_time": "2022-08-29T19:56:15.197101Z",
     "start_time": "2022-08-29T19:56:15.182264Z"
    }
   },
   "outputs": [
    {
     "name": "stdout",
     "output_type": "stream",
     "text": [
      "Number of rows: 6701\n",
      "Number of cols: 8\n"
     ]
    }
   ],
   "source": [
    "print('Number of rows: {}'.format(df_raw.shape[0]))\n",
    "print('Number of cols: {}'.format(df_raw.shape[1]))"
   ]
  },
  {
   "cell_type": "markdown",
   "id": "cfa1d204",
   "metadata": {},
   "source": [
    "## Data types"
   ]
  },
  {
   "cell_type": "code",
   "execution_count": 29,
   "id": "b30c14ec",
   "metadata": {
    "ExecuteTime": {
     "end_time": "2022-08-29T19:56:15.569466Z",
     "start_time": "2022-08-29T19:56:15.550036Z"
    }
   },
   "outputs": [
    {
     "data": {
      "text/plain": [
       "DEPT    float64\n",
       "AC      float64\n",
       "CALI    float64\n",
       "DEN     float64\n",
       "GR      float64\n",
       "NEU     float64\n",
       "RDEP    float64\n",
       "RMED    float64\n",
       "dtype: object"
      ]
     },
     "execution_count": 29,
     "metadata": {},
     "output_type": "execute_result"
    }
   ],
   "source": [
    "df1.dtypes"
   ]
  },
  {
   "cell_type": "markdown",
   "id": "b37cce69",
   "metadata": {},
   "source": [
    "## Check NAs "
   ]
  },
  {
   "cell_type": "code",
   "execution_count": 30,
   "id": "3922c77f",
   "metadata": {
    "ExecuteTime": {
     "end_time": "2022-08-29T19:56:15.928192Z",
     "start_time": "2022-08-29T19:56:15.902940Z"
    }
   },
   "outputs": [
    {
     "data": {
      "text/plain": [
       "DEPT      0\n",
       "AC      122\n",
       "CALI    122\n",
       "DEN      45\n",
       "GR       12\n",
       "NEU      33\n",
       "RDEP      0\n",
       "RMED      0\n",
       "dtype: int64"
      ]
     },
     "execution_count": 30,
     "metadata": {},
     "output_type": "execute_result"
    }
   ],
   "source": [
    "df1.isna().sum()"
   ]
  },
  {
   "cell_type": "code",
   "execution_count": 31,
   "id": "68e64192",
   "metadata": {
    "ExecuteTime": {
     "end_time": "2022-08-29T19:56:16.103318Z",
     "start_time": "2022-08-29T19:56:16.070448Z"
    }
   },
   "outputs": [
    {
     "data": {
      "text/html": [
       "<div>\n",
       "<style scoped>\n",
       "    .dataframe tbody tr th:only-of-type {\n",
       "        vertical-align: middle;\n",
       "    }\n",
       "\n",
       "    .dataframe tbody tr th {\n",
       "        vertical-align: top;\n",
       "    }\n",
       "\n",
       "    .dataframe thead th {\n",
       "        text-align: right;\n",
       "    }\n",
       "</style>\n",
       "<table border=\"1\" class=\"dataframe\">\n",
       "  <thead>\n",
       "    <tr style=\"text-align: right;\">\n",
       "      <th></th>\n",
       "      <th>3186</th>\n",
       "    </tr>\n",
       "  </thead>\n",
       "  <tbody>\n",
       "    <tr>\n",
       "      <th>DEPT</th>\n",
       "      <td>4100.9804</td>\n",
       "    </tr>\n",
       "    <tr>\n",
       "      <th>AC</th>\n",
       "      <td>65.9584</td>\n",
       "    </tr>\n",
       "    <tr>\n",
       "      <th>CALI</th>\n",
       "      <td>9.4286</td>\n",
       "    </tr>\n",
       "    <tr>\n",
       "      <th>DEN</th>\n",
       "      <td>2.5380</td>\n",
       "    </tr>\n",
       "    <tr>\n",
       "      <th>GR</th>\n",
       "      <td>13.9381</td>\n",
       "    </tr>\n",
       "    <tr>\n",
       "      <th>NEU</th>\n",
       "      <td>10.2830</td>\n",
       "    </tr>\n",
       "    <tr>\n",
       "      <th>RDEP</th>\n",
       "      <td>2.9622</td>\n",
       "    </tr>\n",
       "    <tr>\n",
       "      <th>RMED</th>\n",
       "      <td>2.7043</td>\n",
       "    </tr>\n",
       "  </tbody>\n",
       "</table>\n",
       "</div>"
      ],
      "text/plain": [
       "           3186\n",
       "DEPT  4100.9804\n",
       "AC      65.9584\n",
       "CALI     9.4286\n",
       "DEN      2.5380\n",
       "GR      13.9381\n",
       "NEU     10.2830\n",
       "RDEP     2.9622\n",
       "RMED     2.7043"
      ]
     },
     "execution_count": 31,
     "metadata": {},
     "output_type": "execute_result"
    }
   ],
   "source": [
    "df1.sample().T"
   ]
  },
  {
   "cell_type": "markdown",
   "id": "24fd5f9b",
   "metadata": {},
   "source": [
    "## Replace NAs"
   ]
  },
  {
   "cell_type": "code",
   "execution_count": 32,
   "id": "e6224a46",
   "metadata": {
    "ExecuteTime": {
     "end_time": "2022-08-29T19:56:16.429567Z",
     "start_time": "2022-08-29T19:56:16.419261Z"
    }
   },
   "outputs": [],
   "source": [
    "#df1 = df1.dropna()"
   ]
  },
  {
   "cell_type": "code",
   "execution_count": 33,
   "id": "2eed421e",
   "metadata": {
    "ExecuteTime": {
     "end_time": "2022-08-29T19:56:16.625461Z",
     "start_time": "2022-08-29T19:56:16.613877Z"
    }
   },
   "outputs": [],
   "source": [
    "#df1.shape"
   ]
  },
  {
   "cell_type": "code",
   "execution_count": 34,
   "id": "fba73655",
   "metadata": {
    "ExecuteTime": {
     "end_time": "2022-08-29T19:56:16.793263Z",
     "start_time": "2022-08-29T19:56:16.785699Z"
    }
   },
   "outputs": [],
   "source": [
    "#print('Removed data: {:.2f}%'.format( 1-( df1.shape[0] / df_raw.shape[0] ) ) )"
   ]
  },
  {
   "cell_type": "code",
   "execution_count": 35,
   "id": "1441f00d",
   "metadata": {
    "ExecuteTime": {
     "end_time": "2022-08-29T19:56:17.014814Z",
     "start_time": "2022-08-29T19:56:16.985876Z"
    }
   },
   "outputs": [
    {
     "data": {
      "text/plain": [
       "DEPT      0\n",
       "AC      122\n",
       "CALI    122\n",
       "DEN      45\n",
       "GR       12\n",
       "NEU      33\n",
       "RDEP      0\n",
       "RMED      0\n",
       "dtype: int64"
      ]
     },
     "execution_count": 35,
     "metadata": {},
     "output_type": "execute_result"
    }
   ],
   "source": [
    "df1.isna().sum()"
   ]
  },
  {
   "cell_type": "markdown",
   "id": "d069ab92",
   "metadata": {},
   "source": [
    "## Data Describe"
   ]
  },
  {
   "cell_type": "code",
   "execution_count": 36,
   "id": "54f0e84a",
   "metadata": {
    "ExecuteTime": {
     "end_time": "2022-08-29T19:56:17.435147Z",
     "start_time": "2022-08-29T19:56:17.339339Z"
    }
   },
   "outputs": [
    {
     "data": {
      "text/html": [
       "<div>\n",
       "<style scoped>\n",
       "    .dataframe tbody tr th:only-of-type {\n",
       "        vertical-align: middle;\n",
       "    }\n",
       "\n",
       "    .dataframe tbody tr th {\n",
       "        vertical-align: top;\n",
       "    }\n",
       "\n",
       "    .dataframe thead th {\n",
       "        text-align: right;\n",
       "    }\n",
       "</style>\n",
       "<table border=\"1\" class=\"dataframe\">\n",
       "  <thead>\n",
       "    <tr style=\"text-align: right;\">\n",
       "      <th></th>\n",
       "      <th>DEPT</th>\n",
       "      <th>AC</th>\n",
       "      <th>CALI</th>\n",
       "      <th>DEN</th>\n",
       "      <th>GR</th>\n",
       "      <th>NEU</th>\n",
       "      <th>RDEP</th>\n",
       "      <th>RMED</th>\n",
       "    </tr>\n",
       "  </thead>\n",
       "  <tbody>\n",
       "    <tr>\n",
       "      <th>count</th>\n",
       "      <td>6701.000000</td>\n",
       "      <td>6579.000000</td>\n",
       "      <td>6579.000000</td>\n",
       "      <td>6656.000000</td>\n",
       "      <td>6689.000000</td>\n",
       "      <td>6668.000000</td>\n",
       "      <td>6701.000000</td>\n",
       "      <td>6701.000000</td>\n",
       "    </tr>\n",
       "    <tr>\n",
       "      <th>mean</th>\n",
       "      <td>4125.974000</td>\n",
       "      <td>78.313607</td>\n",
       "      <td>9.550656</td>\n",
       "      <td>2.459291</td>\n",
       "      <td>36.048563</td>\n",
       "      <td>17.986061</td>\n",
       "      <td>3.221012</td>\n",
       "      <td>3.081261</td>\n",
       "    </tr>\n",
       "    <tr>\n",
       "      <th>std</th>\n",
       "      <td>294.826397</td>\n",
       "      <td>17.009535</td>\n",
       "      <td>0.906267</td>\n",
       "      <td>0.162682</td>\n",
       "      <td>26.705519</td>\n",
       "      <td>11.694084</td>\n",
       "      <td>8.860387</td>\n",
       "      <td>6.306741</td>\n",
       "    </tr>\n",
       "    <tr>\n",
       "      <th>min</th>\n",
       "      <td>3615.434000</td>\n",
       "      <td>1.025100</td>\n",
       "      <td>6.000000</td>\n",
       "      <td>2.037700</td>\n",
       "      <td>2.766100</td>\n",
       "      <td>2.178300</td>\n",
       "      <td>0.250300</td>\n",
       "      <td>0.294700</td>\n",
       "    </tr>\n",
       "    <tr>\n",
       "      <th>25%</th>\n",
       "      <td>3870.704000</td>\n",
       "      <td>66.169300</td>\n",
       "      <td>9.142900</td>\n",
       "      <td>2.341250</td>\n",
       "      <td>14.852300</td>\n",
       "      <td>10.244475</td>\n",
       "      <td>0.800600</td>\n",
       "      <td>0.844800</td>\n",
       "    </tr>\n",
       "    <tr>\n",
       "      <th>50%</th>\n",
       "      <td>4125.974000</td>\n",
       "      <td>74.145900</td>\n",
       "      <td>9.523800</td>\n",
       "      <td>2.514200</td>\n",
       "      <td>32.142600</td>\n",
       "      <td>15.245100</td>\n",
       "      <td>1.770000</td>\n",
       "      <td>1.801400</td>\n",
       "    </tr>\n",
       "    <tr>\n",
       "      <th>75%</th>\n",
       "      <td>4381.244000</td>\n",
       "      <td>89.024250</td>\n",
       "      <td>9.904800</td>\n",
       "      <td>2.589800</td>\n",
       "      <td>50.901700</td>\n",
       "      <td>22.952525</td>\n",
       "      <td>3.394000</td>\n",
       "      <td>3.537300</td>\n",
       "    </tr>\n",
       "    <tr>\n",
       "      <th>max</th>\n",
       "      <td>4636.514000</td>\n",
       "      <td>149.218700</td>\n",
       "      <td>20.285700</td>\n",
       "      <td>3.001300</td>\n",
       "      <td>304.333700</td>\n",
       "      <td>146.347400</td>\n",
       "      <td>198.537100</td>\n",
       "      <td>115.635000</td>\n",
       "    </tr>\n",
       "  </tbody>\n",
       "</table>\n",
       "</div>"
      ],
      "text/plain": [
       "              DEPT           AC         CALI          DEN           GR  \\\n",
       "count  6701.000000  6579.000000  6579.000000  6656.000000  6689.000000   \n",
       "mean   4125.974000    78.313607     9.550656     2.459291    36.048563   \n",
       "std     294.826397    17.009535     0.906267     0.162682    26.705519   \n",
       "min    3615.434000     1.025100     6.000000     2.037700     2.766100   \n",
       "25%    3870.704000    66.169300     9.142900     2.341250    14.852300   \n",
       "50%    4125.974000    74.145900     9.523800     2.514200    32.142600   \n",
       "75%    4381.244000    89.024250     9.904800     2.589800    50.901700   \n",
       "max    4636.514000   149.218700    20.285700     3.001300   304.333700   \n",
       "\n",
       "               NEU         RDEP         RMED  \n",
       "count  6668.000000  6701.000000  6701.000000  \n",
       "mean     17.986061     3.221012     3.081261  \n",
       "std      11.694084     8.860387     6.306741  \n",
       "min       2.178300     0.250300     0.294700  \n",
       "25%      10.244475     0.800600     0.844800  \n",
       "50%      15.245100     1.770000     1.801400  \n",
       "75%      22.952525     3.394000     3.537300  \n",
       "max     146.347400   198.537100   115.635000  "
      ]
     },
     "execution_count": 36,
     "metadata": {},
     "output_type": "execute_result"
    }
   ],
   "source": [
    "df1.describe()"
   ]
  },
  {
   "cell_type": "markdown",
   "id": "1ab06b64",
   "metadata": {},
   "source": [
    "## Descriptive Statistical"
   ]
  },
  {
   "cell_type": "code",
   "execution_count": 37,
   "id": "51e1bc45",
   "metadata": {
    "ExecuteTime": {
     "end_time": "2022-08-29T19:56:17.708342Z",
     "start_time": "2022-08-29T19:56:17.692462Z"
    }
   },
   "outputs": [],
   "source": [
    "num_attributes = df1.select_dtypes('float64')"
   ]
  },
  {
   "cell_type": "code",
   "execution_count": 38,
   "id": "c1db25a9",
   "metadata": {
    "ExecuteTime": {
     "end_time": "2022-08-29T19:56:17.896346Z",
     "start_time": "2022-08-29T19:56:17.856967Z"
    }
   },
   "outputs": [
    {
     "data": {
      "text/html": [
       "<div>\n",
       "<style scoped>\n",
       "    .dataframe tbody tr th:only-of-type {\n",
       "        vertical-align: middle;\n",
       "    }\n",
       "\n",
       "    .dataframe tbody tr th {\n",
       "        vertical-align: top;\n",
       "    }\n",
       "\n",
       "    .dataframe thead th {\n",
       "        text-align: right;\n",
       "    }\n",
       "</style>\n",
       "<table border=\"1\" class=\"dataframe\">\n",
       "  <thead>\n",
       "    <tr style=\"text-align: right;\">\n",
       "      <th></th>\n",
       "      <th>DEPT</th>\n",
       "      <th>AC</th>\n",
       "      <th>CALI</th>\n",
       "      <th>DEN</th>\n",
       "      <th>GR</th>\n",
       "      <th>NEU</th>\n",
       "      <th>RDEP</th>\n",
       "      <th>RMED</th>\n",
       "    </tr>\n",
       "  </thead>\n",
       "  <tbody>\n",
       "    <tr>\n",
       "      <th>222</th>\n",
       "      <td>3649.2668</td>\n",
       "      <td>107.5242</td>\n",
       "      <td>8.9525</td>\n",
       "      <td>2.2922</td>\n",
       "      <td>49.8045</td>\n",
       "      <td>41.1011</td>\n",
       "      <td>0.7653</td>\n",
       "      <td>0.8184</td>\n",
       "    </tr>\n",
       "    <tr>\n",
       "      <th>5800</th>\n",
       "      <td>4499.3540</td>\n",
       "      <td>74.2461</td>\n",
       "      <td>9.9048</td>\n",
       "      <td>2.5432</td>\n",
       "      <td>43.4423</td>\n",
       "      <td>19.7718</td>\n",
       "      <td>1.2680</td>\n",
       "      <td>1.3125</td>\n",
       "    </tr>\n",
       "  </tbody>\n",
       "</table>\n",
       "</div>"
      ],
      "text/plain": [
       "           DEPT        AC    CALI     DEN       GR      NEU    RDEP    RMED\n",
       "222   3649.2668  107.5242  8.9525  2.2922  49.8045  41.1011  0.7653  0.8184\n",
       "5800  4499.3540   74.2461  9.9048  2.5432  43.4423  19.7718  1.2680  1.3125"
      ]
     },
     "execution_count": 38,
     "metadata": {},
     "output_type": "execute_result"
    }
   ],
   "source": [
    "num_attributes.sample(2)"
   ]
  },
  {
   "cell_type": "markdown",
   "id": "a63970bb",
   "metadata": {},
   "source": [
    "## Numerical Attributes"
   ]
  },
  {
   "cell_type": "code",
   "execution_count": 39,
   "id": "83e01744",
   "metadata": {
    "ExecuteTime": {
     "end_time": "2022-08-29T19:56:18.301049Z",
     "start_time": "2022-08-29T19:56:18.219159Z"
    }
   },
   "outputs": [],
   "source": [
    "# Central Tendency - Mean, median:\n",
    "\n",
    "ct1 = pd.DataFrame(num_attributes.apply(np.mean)).T\n",
    "ct2 = pd.DataFrame(num_attributes.apply(np.median)).T\n",
    "\n",
    "# Dispersion - std, min, max, range, skew, kurtosis:\n",
    "\n",
    "d1 = pd.DataFrame(num_attributes.apply( np.std)).T\n",
    "d2 = pd.DataFrame(num_attributes.apply( np.min)).T\n",
    "d3 = pd.DataFrame(num_attributes.apply( np.max)).T\n",
    "d4 = pd.DataFrame(num_attributes.apply( lambda x: x.max() - x.min() ) ).T\n",
    "d5 = pd.DataFrame(num_attributes.apply( lambda x: x.skew() ) ).T\n",
    "d6 = pd.DataFrame(num_attributes.apply( lambda x: x.kurtosis() ) ).T\n",
    "                  \n",
    "# Concatenate:\n",
    "m = pd.concat( [d2, d3, d4, ct1, ct2, d1, d5, d6] ).T.reset_index()\n",
    "m.columns = ['attributes','min','max','range','mean','median','std','skew','kurtosis']"
   ]
  },
  {
   "cell_type": "code",
   "execution_count": 40,
   "id": "7592d258",
   "metadata": {
    "ExecuteTime": {
     "end_time": "2022-08-29T19:56:18.452328Z",
     "start_time": "2022-08-29T19:56:18.402931Z"
    }
   },
   "outputs": [
    {
     "data": {
      "text/html": [
       "<div>\n",
       "<style scoped>\n",
       "    .dataframe tbody tr th:only-of-type {\n",
       "        vertical-align: middle;\n",
       "    }\n",
       "\n",
       "    .dataframe tbody tr th {\n",
       "        vertical-align: top;\n",
       "    }\n",
       "\n",
       "    .dataframe thead th {\n",
       "        text-align: right;\n",
       "    }\n",
       "</style>\n",
       "<table border=\"1\" class=\"dataframe\">\n",
       "  <thead>\n",
       "    <tr style=\"text-align: right;\">\n",
       "      <th></th>\n",
       "      <th>attributes</th>\n",
       "      <th>min</th>\n",
       "      <th>max</th>\n",
       "      <th>range</th>\n",
       "      <th>mean</th>\n",
       "      <th>median</th>\n",
       "      <th>std</th>\n",
       "      <th>skew</th>\n",
       "      <th>kurtosis</th>\n",
       "    </tr>\n",
       "  </thead>\n",
       "  <tbody>\n",
       "    <tr>\n",
       "      <th>0</th>\n",
       "      <td>DEPT</td>\n",
       "      <td>3615.4340</td>\n",
       "      <td>4636.5140</td>\n",
       "      <td>1021.0800</td>\n",
       "      <td>4125.974000</td>\n",
       "      <td>4125.9740</td>\n",
       "      <td>294.804397</td>\n",
       "      <td>-1.777894e-15</td>\n",
       "      <td>-1.200000</td>\n",
       "    </tr>\n",
       "    <tr>\n",
       "      <th>1</th>\n",
       "      <td>AC</td>\n",
       "      <td>1.0251</td>\n",
       "      <td>149.2187</td>\n",
       "      <td>148.1936</td>\n",
       "      <td>78.313607</td>\n",
       "      <td>NaN</td>\n",
       "      <td>17.008242</td>\n",
       "      <td>5.688211e-01</td>\n",
       "      <td>0.188815</td>\n",
       "    </tr>\n",
       "    <tr>\n",
       "      <th>2</th>\n",
       "      <td>CALI</td>\n",
       "      <td>6.0000</td>\n",
       "      <td>20.2857</td>\n",
       "      <td>14.2857</td>\n",
       "      <td>9.550656</td>\n",
       "      <td>NaN</td>\n",
       "      <td>0.906198</td>\n",
       "      <td>1.356733e+00</td>\n",
       "      <td>26.107515</td>\n",
       "    </tr>\n",
       "    <tr>\n",
       "      <th>3</th>\n",
       "      <td>DEN</td>\n",
       "      <td>2.0377</td>\n",
       "      <td>3.0013</td>\n",
       "      <td>0.9636</td>\n",
       "      <td>2.459291</td>\n",
       "      <td>NaN</td>\n",
       "      <td>0.162669</td>\n",
       "      <td>-7.807570e-01</td>\n",
       "      <td>-0.583874</td>\n",
       "    </tr>\n",
       "    <tr>\n",
       "      <th>4</th>\n",
       "      <td>GR</td>\n",
       "      <td>2.7661</td>\n",
       "      <td>304.3337</td>\n",
       "      <td>301.5676</td>\n",
       "      <td>36.048563</td>\n",
       "      <td>NaN</td>\n",
       "      <td>26.703523</td>\n",
       "      <td>3.509568e+00</td>\n",
       "      <td>27.005485</td>\n",
       "    </tr>\n",
       "    <tr>\n",
       "      <th>5</th>\n",
       "      <td>NEU</td>\n",
       "      <td>2.1783</td>\n",
       "      <td>146.3474</td>\n",
       "      <td>144.1691</td>\n",
       "      <td>17.986061</td>\n",
       "      <td>NaN</td>\n",
       "      <td>11.693207</td>\n",
       "      <td>2.324613e+00</td>\n",
       "      <td>9.520320</td>\n",
       "    </tr>\n",
       "    <tr>\n",
       "      <th>6</th>\n",
       "      <td>RDEP</td>\n",
       "      <td>0.2503</td>\n",
       "      <td>198.5371</td>\n",
       "      <td>198.2868</td>\n",
       "      <td>3.221012</td>\n",
       "      <td>1.7700</td>\n",
       "      <td>8.859726</td>\n",
       "      <td>1.293431e+01</td>\n",
       "      <td>193.265962</td>\n",
       "    </tr>\n",
       "    <tr>\n",
       "      <th>7</th>\n",
       "      <td>RMED</td>\n",
       "      <td>0.2947</td>\n",
       "      <td>115.6350</td>\n",
       "      <td>115.3403</td>\n",
       "      <td>3.081261</td>\n",
       "      <td>1.8014</td>\n",
       "      <td>6.306271</td>\n",
       "      <td>1.035734e+01</td>\n",
       "      <td>130.680492</td>\n",
       "    </tr>\n",
       "  </tbody>\n",
       "</table>\n",
       "</div>"
      ],
      "text/plain": [
       "  attributes        min        max      range         mean     median  \\\n",
       "0       DEPT  3615.4340  4636.5140  1021.0800  4125.974000  4125.9740   \n",
       "1         AC     1.0251   149.2187   148.1936    78.313607        NaN   \n",
       "2       CALI     6.0000    20.2857    14.2857     9.550656        NaN   \n",
       "3        DEN     2.0377     3.0013     0.9636     2.459291        NaN   \n",
       "4         GR     2.7661   304.3337   301.5676    36.048563        NaN   \n",
       "5        NEU     2.1783   146.3474   144.1691    17.986061        NaN   \n",
       "6       RDEP     0.2503   198.5371   198.2868     3.221012     1.7700   \n",
       "7       RMED     0.2947   115.6350   115.3403     3.081261     1.8014   \n",
       "\n",
       "          std          skew    kurtosis  \n",
       "0  294.804397 -1.777894e-15   -1.200000  \n",
       "1   17.008242  5.688211e-01    0.188815  \n",
       "2    0.906198  1.356733e+00   26.107515  \n",
       "3    0.162669 -7.807570e-01   -0.583874  \n",
       "4   26.703523  3.509568e+00   27.005485  \n",
       "5   11.693207  2.324613e+00    9.520320  \n",
       "6    8.859726  1.293431e+01  193.265962  \n",
       "7    6.306271  1.035734e+01  130.680492  "
      ]
     },
     "execution_count": 40,
     "metadata": {},
     "output_type": "execute_result"
    }
   ],
   "source": [
    "m"
   ]
  },
  {
   "cell_type": "markdown",
   "id": "1ecc3c2c",
   "metadata": {},
   "source": [
    "## Data Plotting"
   ]
  },
  {
   "cell_type": "code",
   "execution_count": 41,
   "id": "4ce0f325",
   "metadata": {
    "ExecuteTime": {
     "end_time": "2022-08-29T19:56:18.779294Z",
     "start_time": "2022-08-29T19:56:18.753703Z"
    }
   },
   "outputs": [
    {
     "data": {
      "text/plain": [
       "Index(['DEPT', 'AC', 'CALI', 'DEN', 'GR', 'NEU', 'RDEP', 'RMED'], dtype='object')"
      ]
     },
     "execution_count": 41,
     "metadata": {},
     "output_type": "execute_result"
    }
   ],
   "source": [
    "df1.columns"
   ]
  },
  {
   "cell_type": "markdown",
   "id": "3864457d",
   "metadata": {},
   "source": [
    "# Simple plot setting"
   ]
  },
  {
   "cell_type": "code",
   "execution_count": 42,
   "id": "afe8c240",
   "metadata": {
    "ExecuteTime": {
     "end_time": "2022-08-29T19:56:19.658476Z",
     "start_time": "2022-08-29T19:56:19.149380Z"
    }
   },
   "outputs": [
    {
     "data": {
      "text/plain": [
       "(4400.0, 4000.0)"
      ]
     },
     "execution_count": 42,
     "metadata": {},
     "output_type": "execute_result"
    },
    {
     "data": {
      "image/png": "[encoded data removed]",
      "text/plain": [
       "<Figure size 360x576 with 1 Axes>"
      ]
     },
     "metadata": {
      "needs_background": "light"
     },
     "output_type": "display_data"
    }
   ],
   "source": [
    "plt.figure(figsize=(5,8))\n",
    "plt.plot(df1['GR'], df1['DEPT'], c='black', lw=0.5)\n",
    "\n",
    "\n",
    "# X and Y axes limits\n",
    "plt.xlim(0,150)\n",
    "plt.ylim(4400,4000)"
   ]
  },
  {
   "cell_type": "markdown",
   "id": "4efa838c",
   "metadata": {},
   "source": [
    "# Shading add on Gamma curve"
   ]
  },
  {
   "cell_type": "code",
   "execution_count": 43,
   "id": "4103bde3",
   "metadata": {
    "ExecuteTime": {
     "end_time": "2022-08-29T19:56:20.136635Z",
     "start_time": "2022-08-29T19:56:19.664999Z"
    }
   },
   "outputs": [
    {
     "data": {
      "text/plain": [
       "Text(0, 0.5, 'Depth(DEPT) - (.M)')"
      ]
     },
     "execution_count": 43,
     "metadata": {},
     "output_type": "execute_result"
    },
    {
     "data": {
      "image/png": "[encoded data removed]",
      "text/plain": [
       "<Figure size 360x576 with 1 Axes>"
      ]
     },
     "metadata": {
      "needs_background": "light"
     },
     "output_type": "display_data"
    }
   ],
   "source": [
    "plt.figure(figsize=(5,8))\n",
    "plt.plot(df1['GR'], df1['DEPT'], c='black', lw=0.5)\n",
    "\n",
    "# Shading\n",
    "plt.fill_betweenx(df1['DEPT'], 0, df1['GR'], facecolor='green')\n",
    "\n",
    "# X and Y axes limits\n",
    "plt.xlim(0,150)\n",
    "plt.ylim(4400,4000)\n",
    "\n",
    "# Add in labels for the axes\n",
    "plt.xlabel('Gamma Ray (GR) - API', fontsize=14)\n",
    "plt.ylabel('Depth(DEPT) - (.M)',   fontsize=14)"
   ]
  },
  {
   "cell_type": "markdown",
   "id": "41818fff",
   "metadata": {},
   "source": [
    "# Shading on both sides"
   ]
  },
  {
   "cell_type": "code",
   "execution_count": 44,
   "id": "f803d6d6",
   "metadata": {
    "ExecuteTime": {
     "end_time": "2022-08-29T19:56:20.612677Z",
     "start_time": "2022-08-29T19:56:20.146108Z"
    }
   },
   "outputs": [
    {
     "data": {
      "text/plain": [
       "Text(0, 0.5, 'Depth(DEPT) - (.M)')"
      ]
     },
     "execution_count": 44,
     "metadata": {},
     "output_type": "execute_result"
    },
    {
     "data": {
      "image/png": "[encoded data removed]",
      "text/plain": [
       "<Figure size 360x576 with 1 Axes>"
      ]
     },
     "metadata": {
      "needs_background": "light"
     },
     "output_type": "display_data"
    }
   ],
   "source": [
    "plt.figure(figsize=(5,8))\n",
    "plt.plot(df1['GR'], df1['DEPT'], c='black', lw=0.5)\n",
    "\n",
    "# Shading\n",
    "plt.fill_betweenx(df1['DEPT'], 0, df1['GR'], facecolor='green')\n",
    "\n",
    "plt.fill_betweenx(df1['DEPT'], 150, df1['GR'], facecolor='yellow')\n",
    "\n",
    "# X and Y axes limits\n",
    "plt.xlim(0,150)\n",
    "plt.ylim(4400,4000)\n",
    "\n",
    "# Add in labels for the axes\n",
    "plt.xlabel('Gamma Ray (GR) - API', fontsize=14)\n",
    "plt.ylabel('Depth(DEPT) - (.M)',   fontsize=14)"
   ]
  },
  {
   "cell_type": "markdown",
   "id": "968ee1de",
   "metadata": {},
   "source": [
    "# Shading to fixed value"
   ]
  },
  {
   "cell_type": "code",
   "execution_count": 62,
   "id": "d2156250",
   "metadata": {
    "ExecuteTime": {
     "end_time": "2022-08-29T20:10:31.394325Z",
     "start_time": "2022-08-29T20:10:31.378966Z"
    }
   },
   "outputs": [],
   "source": [
    "left_value = 0\n",
    "right_value = 150\n",
    "span = abs(left_value-right_value)\n",
    "\n",
    "cmap = plt.get_cmap('hsv')\n",
    "\n",
    "color_index = np.arange(left_value, right_value, span/100)"
   ]
  },
  {
   "cell_type": "code",
   "execution_count": 63,
   "id": "c0e33b68",
   "metadata": {
    "ExecuteTime": {
     "end_time": "2022-08-29T20:10:32.411761Z",
     "start_time": "2022-08-29T20:10:32.371681Z"
    }
   },
   "outputs": [
    {
     "data": {
      "image/png": "[encoded data removed]",
      "text/html": [
       "<div style=\"vertical-align: middle;\"><strong>hsv</strong> </div><div class=\"cmap\"><img alt=\"hsv colormap\" title=\"hsv\" style=\"border: 1px solid #555;\" src=\"data:image/png;base64,iVBORw0KGgoAAAANSUhEUgAAAgAAAABACAYAAABsv8+/AAAAEnRFWHRUaXRsZQBoc3YgY29sb3JtYXDsNE57AAAAGHRFWHREZXNjcmlwdGlvbgBoc3YgY29sb3JtYXDgHDwhAAAAMHRFWHRBdXRob3IATWF0cGxvdGxpYiB2My40LjMsIGh0dHBzOi8vbWF0cGxvdGxpYi5vcmcJXfPTAAAAMnRFWHRTb2Z0d2FyZQBNYXRwbG90bGliIHYzLjQuMywgaHR0cHM6Ly9tYXRwbG90bGliLm9yZyf7bPQAAAGPSURBVHic7dZBTsIAEEDRAdH7n1ehuGg3JhpNAFPy39tMWHRC2ln8w3XmOjMzr7N6u9O8976d712255fTOq/bXF7Wed7m+9w2P258/r/2Pup/LrO+yOuctt9f534Oa6eH+tu+y/Ye93oAT3Koh8s6j+fv506//tPsPc0yMzPHOf8w//phn+VQH7P3OABAjgAAgCABAABBAgAAggQAAAQJAAAIEgAAECQAACBIAABAkAAAgCABAABBAgAAggQAAAQJAAAIEgAAECQAACBIAABAkAAAgCABAABBAgAAggQAAAQJAAAIEgAAECQAACBIAABAkAAAgCABAABBAgAAggQAAAQJAAAIEgAAECQAACBIAABAkAAAgCABAABBAgAAggQAAAQJAAAIEgAAECQAACBIAABAkAAAgCABAABBAgAAggQAAAQJAAAIEgAAECQAACBIAABAkAAAgCABAABBAgAAggQAAAQJAAAIEgAAECQAACBIAABAkAAAgCABAABBAgAAggQAAAQJAAAIEgAAEPQJK/6JlSfVpHcAAAAASUVORK5CYII=\"></div><div style=\"vertical-align: middle; max-width: 514px; display: flex; justify-content: space-between;\"><div style=\"float: left;\"><div title=\"#ff0000ff\" style=\"display: inline-block; width: 1em; height: 1em; margin: 0; vertical-align: middle; border: 1px solid #555; background-color: #ff0000ff;\"></div> under</div><div style=\"margin: 0 auto; display: inline-block;\">bad <div title=\"#00000000\" style=\"display: inline-block; width: 1em; height: 1em; margin: 0; vertical-align: middle; border: 1px solid #555; background-color: #00000000;\"></div></div><div style=\"float: right;\">over <div title=\"#ff0018ff\" style=\"display: inline-block; width: 1em; height: 1em; margin: 0; vertical-align: middle; border: 1px solid #555; background-color: #ff0018ff;\"></div></div>"
      ],
      "text/plain": [
       "<matplotlib.colors.LinearSegmentedColormap at 0x7f92011d9310>"
      ]
     },
     "execution_count": 63,
     "metadata": {},
     "output_type": "execute_result"
    }
   ],
   "source": [
    "cmap"
   ]
  },
  {
   "cell_type": "code",
   "execution_count": 64,
   "id": "1213f95e",
   "metadata": {
    "ExecuteTime": {
     "end_time": "2022-08-29T20:10:34.575392Z",
     "start_time": "2022-08-29T20:10:33.529886Z"
    }
   },
   "outputs": [
    {
     "data": {
      "image/png": "[encoded data removed]",
      "text/plain": [
       "<Figure size 360x576 with 1 Axes>"
      ]
     },
     "metadata": {
      "needs_background": "light"
     },
     "output_type": "display_data"
    }
   ],
   "source": [
    "plt.figure(figsize=(5,8))\n",
    "plt.plot(df1['GR'], df1['DEPT'], c='black', lw=0.5)\n",
    "\n",
    "\n",
    "# X and Y axes limits\n",
    "plt.xlim(0,150)\n",
    "plt.ylim(4400,4000)\n",
    "\n",
    "\n",
    "for index in sorted(color_index):\n",
    "    index_value = (index - left_value)/span\n",
    "    color = cmap(index_value)\n",
    "    \n",
    "    plt.fill_betweenx(df1['DEPT'], left_value, df1['GR'], where=df1['GR']>=index, color=color)"
   ]
  },
  {
   "cell_type": "code",
   "execution_count": null,
   "id": "e84d246f",
   "metadata": {},
   "outputs": [],
   "source": []
  },
  {
   "cell_type": "code",
   "execution_count": null,
   "id": "f60ab9e2",
   "metadata": {},
   "outputs": [],
   "source": []
  },
  {
   "cell_type": "code",
   "execution_count": null,
   "id": "4f39813c",
   "metadata": {},
   "outputs": [],
   "source": []
  },
  {
   "cell_type": "code",
   "execution_count": null,
   "id": "0fa4d535",
   "metadata": {},
   "outputs": [],
   "source": []
  },
  {
   "cell_type": "code",
   "execution_count": null,
   "id": "794f2c06",
   "metadata": {},
   "outputs": [],
   "source": []
  }
 ],
 "metadata": {
  "kernelspec": {
   "display_name": "Python 3 (ipykernel)",
   "language": "python",
   "name": "python3"
  },
  "language_info": {
   "codemirror_mode": {
    "name": "ipython",
    "version": 3
   },
   "file_extension": ".py",
   "mimetype": "text/x-python",
   "name": "python",
   "nbconvert_exporter": "python",
   "pygments_lexer": "ipython3",
   "version": "3.9.5"
  },
  "toc": {
   "base_numbering": 1,
   "nav_menu": {},
   "number_sections": true,
   "sideBar": true,
   "skip_h1_title": false,
   "title_cell": "Table of Contents",
   "title_sidebar": "Contents",
   "toc_cell": false,
   "toc_position": {},
   "toc_section_display": true,
   "toc_window_display": false
  }
 },
 "nbformat": 4,
 "nbformat_minor": 5
}
