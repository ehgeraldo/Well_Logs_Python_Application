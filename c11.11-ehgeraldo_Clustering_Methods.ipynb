{
 "cells": [
  {
   "cell_type": "markdown",
   "id": "80b0dfd8",
   "metadata": {},
   "source": [
    "# Well Log plot - Plotly"
   ]
  },
  {
   "cell_type": "markdown",
   "id": "57cb7c5d",
   "metadata": {},
   "source": [
    "# Importing the libraries"
   ]
  },
  {
   "cell_type": "code",
   "execution_count": 1,
   "id": "dcfae36f",
   "metadata": {
    "ExecuteTime": {
     "end_time": "2022-09-18T21:56:20.106752Z",
     "start_time": "2022-09-18T21:56:19.324466Z"
    }
   },
   "outputs": [],
   "source": [
    "import pandas as pd\n",
    "import numpy  as np\n",
    "\n",
    "from sklearn.preprocessing import StandardScaler\n",
    "from sklearn.cluster       import KMeans"
   ]
  },
  {
   "cell_type": "code",
   "execution_count": 2,
   "id": "bcce7ebb",
   "metadata": {
    "ExecuteTime": {
     "end_time": "2022-09-18T21:56:21.701447Z",
     "start_time": "2022-09-18T21:56:21.665824Z"
    }
   },
   "outputs": [
    {
     "data": {
      "text/plain": [
       "'/home/ehgeraldo/repos/Well_Logs_Plots'"
      ]
     },
     "execution_count": 2,
     "metadata": {},
     "output_type": "execute_result"
    }
   ],
   "source": [
    "pwd"
   ]
  },
  {
   "cell_type": "code",
   "execution_count": 3,
   "id": "06728a74",
   "metadata": {
    "ExecuteTime": {
     "end_time": "2022-09-18T21:56:22.827469Z",
     "start_time": "2022-09-18T21:56:22.678066Z"
    }
   },
   "outputs": [
    {
     "name": "stdout",
     "output_type": "stream",
     "text": [
      "total 9496\r\n",
      "-rw-rw-r-- 1 ehgeraldo ehgeraldo  479237 ago 29 22:33 c0.0-ehgeraldo-planning.ipynb\r\n",
      "-rw-rw-r-- 1 ehgeraldo ehgeraldo  170188 set  8 22:42 c10.10-ehgeraldo_well_locations.ipynb\r\n",
      "-rw-rw-r-- 1 ehgeraldo ehgeraldo  668515 set 18 18:55 c11.11-ehgeraldo_Clustering_Methods.ipynb\r\n",
      "-rw-rw-r-- 1 ehgeraldo ehgeraldo   95981 ago 29 22:34 c1.1-ehgeraldo-planning_histogram.ipynb\r\n",
      "-rw-rw-r-- 1 ehgeraldo ehgeraldo  398435 ago 29 22:37 c2.2-ehgeraldo-planning_scatterplot.ipynb\r\n",
      "-rw-rw-r-- 1 ehgeraldo ehgeraldo  395869 ago 29 22:43 c3.3-ehgeraldo_matplotlib_subplots.ipynb\r\n",
      "-rw-rw-r-- 1 ehgeraldo ehgeraldo 5739415 ago 27 17:21 c4.4-ehgeraldo_matplotlib.ipynb\r\n",
      "-rw-rw-r-- 1 ehgeraldo ehgeraldo  201759 set  2 20:30 c5.5-ehgeraldo_shading.ipynb\r\n",
      "-rw-rw-r-- 1 ehgeraldo ehgeraldo  247070 set  2 20:29 c6.6-ehgeraldo_matplotlib_subplot.ipynb\r\n",
      "-rw-rw-r-- 1 ehgeraldo ehgeraldo  803836 set  2 20:29 c7.7-ehgeraldo_well_locations.ipynb\r\n",
      "-rw-rw-r-- 1 ehgeraldo ehgeraldo  217362 set  2 20:28 c8.8-ehgeraldo_well_boxplots.ipynb\r\n",
      "-rw-rw-r-- 1 ehgeraldo ehgeraldo  269012 set  2 20:43 c9.9-ehgeraldo_well_missing_data.ipynb\r\n",
      "drwxrwxr-x 3 ehgeraldo ehgeraldo    4096 set 14 15:49 \u001b[0m\u001b[01;34mdata\u001b[0m/\r\n"
     ]
    }
   ],
   "source": [
    "ls -l"
   ]
  },
  {
   "cell_type": "code",
   "execution_count": 8,
   "id": "01965ab9",
   "metadata": {
    "ExecuteTime": {
     "end_time": "2022-09-17T19:43:50.388739Z",
     "start_time": "2022-09-17T19:43:50.066382Z"
    }
   },
   "outputs": [],
   "source": [
    " df_raw = lasio.read('/home/ehgeraldo/repos/Well_Logs_Plots/data/15-9-19_SR_COMP.LAS').df()"
   ]
  },
  {
   "cell_type": "code",
   "execution_count": 9,
   "id": "1355b658",
   "metadata": {
    "ExecuteTime": {
     "end_time": "2022-09-17T19:43:51.272723Z",
     "start_time": "2022-09-17T19:43:51.213226Z"
    }
   },
   "outputs": [
    {
     "data": {
      "text/html": [
       "<div>\n",
       "<style scoped>\n",
       "    .dataframe tbody tr th:only-of-type {\n",
       "        vertical-align: middle;\n",
       "    }\n",
       "\n",
       "    .dataframe tbody tr th {\n",
       "        vertical-align: top;\n",
       "    }\n",
       "\n",
       "    .dataframe thead th {\n",
       "        text-align: right;\n",
       "    }\n",
       "</style>\n",
       "<table border=\"1\" class=\"dataframe\">\n",
       "  <thead>\n",
       "    <tr style=\"text-align: right;\">\n",
       "      <th></th>\n",
       "      <th>AC</th>\n",
       "      <th>CALI</th>\n",
       "      <th>DEN</th>\n",
       "      <th>GR</th>\n",
       "      <th>NEU</th>\n",
       "      <th>RDEP</th>\n",
       "      <th>RMED</th>\n",
       "    </tr>\n",
       "    <tr>\n",
       "      <th>DEPT</th>\n",
       "      <th></th>\n",
       "      <th></th>\n",
       "      <th></th>\n",
       "      <th></th>\n",
       "      <th></th>\n",
       "      <th></th>\n",
       "      <th></th>\n",
       "    </tr>\n",
       "  </thead>\n",
       "  <tbody>\n",
       "    <tr>\n",
       "      <th>3615.4340</th>\n",
       "      <td>95.7952</td>\n",
       "      <td>12.7249</td>\n",
       "      <td>2.3429</td>\n",
       "      <td>54.8754</td>\n",
       "      <td>44.5742</td>\n",
       "      <td>0.8941</td>\n",
       "      <td>0.8359</td>\n",
       "    </tr>\n",
       "    <tr>\n",
       "      <th>3615.5864</th>\n",
       "      <td>94.2267</td>\n",
       "      <td>12.5961</td>\n",
       "      <td>2.3528</td>\n",
       "      <td>53.5158</td>\n",
       "      <td>62.1103</td>\n",
       "      <td>0.7367</td>\n",
       "      <td>0.8028</td>\n",
       "    </tr>\n",
       "    <tr>\n",
       "      <th>3615.7388</th>\n",
       "      <td>101.3254</td>\n",
       "      <td>13.7632</td>\n",
       "      <td>2.3170</td>\n",
       "      <td>48.9803</td>\n",
       "      <td>71.9087</td>\n",
       "      <td>0.6423</td>\n",
       "      <td>0.7958</td>\n",
       "    </tr>\n",
       "    <tr>\n",
       "      <th>3615.8912</th>\n",
       "      <td>99.5672</td>\n",
       "      <td>14.3249</td>\n",
       "      <td>2.2585</td>\n",
       "      <td>36.6762</td>\n",
       "      <td>44.8988</td>\n",
       "      <td>0.6571</td>\n",
       "      <td>0.7929</td>\n",
       "    </tr>\n",
       "    <tr>\n",
       "      <th>3616.0436</th>\n",
       "      <td>100.5965</td>\n",
       "      <td>11.1429</td>\n",
       "      <td>2.2108</td>\n",
       "      <td>40.4632</td>\n",
       "      <td>49.5744</td>\n",
       "      <td>0.7442</td>\n",
       "      <td>0.7940</td>\n",
       "    </tr>\n",
       "  </tbody>\n",
       "</table>\n",
       "</div>"
      ],
      "text/plain": [
       "                 AC     CALI     DEN       GR      NEU    RDEP    RMED\n",
       "DEPT                                                                  \n",
       "3615.4340   95.7952  12.7249  2.3429  54.8754  44.5742  0.8941  0.8359\n",
       "3615.5864   94.2267  12.5961  2.3528  53.5158  62.1103  0.7367  0.8028\n",
       "3615.7388  101.3254  13.7632  2.3170  48.9803  71.9087  0.6423  0.7958\n",
       "3615.8912   99.5672  14.3249  2.2585  36.6762  44.8988  0.6571  0.7929\n",
       "3616.0436  100.5965  11.1429  2.2108  40.4632  49.5744  0.7442  0.7940"
      ]
     },
     "execution_count": 9,
     "metadata": {},
     "output_type": "execute_result"
    }
   ],
   "source": [
    "df_raw.head()"
   ]
  },
  {
   "cell_type": "code",
   "execution_count": 10,
   "id": "3b85e234",
   "metadata": {
    "ExecuteTime": {
     "end_time": "2022-09-17T19:43:52.934978Z",
     "start_time": "2022-09-17T19:43:52.923114Z"
    }
   },
   "outputs": [],
   "source": [
    "#df_raw = pd.read_csv('https://raw.githubusercontent.com/bolgebrygg/Force-2020-Machine-Learning-competition/master/lithology_competition/data/hidden_test.csv', sep=';')"
   ]
  },
  {
   "cell_type": "markdown",
   "id": "90284c00",
   "metadata": {},
   "source": [
    "# Data descrition"
   ]
  },
  {
   "cell_type": "code",
   "execution_count": 11,
   "id": "84f7af24",
   "metadata": {
    "ExecuteTime": {
     "end_time": "2022-09-17T19:44:02.306789Z",
     "start_time": "2022-09-17T19:44:02.292131Z"
    }
   },
   "outputs": [],
   "source": [
    "df1 = df_raw.copy()"
   ]
  },
  {
   "cell_type": "markdown",
   "id": "d4798e94",
   "metadata": {},
   "source": [
    "## Data dimensions"
   ]
  },
  {
   "cell_type": "code",
   "execution_count": 12,
   "id": "cd5fa797",
   "metadata": {
    "ExecuteTime": {
     "end_time": "2022-09-17T19:44:03.188689Z",
     "start_time": "2022-09-17T19:44:03.170964Z"
    }
   },
   "outputs": [
    {
     "name": "stdout",
     "output_type": "stream",
     "text": [
      "Number of rows: 6701\n",
      "Number of cols: 7\n"
     ]
    }
   ],
   "source": [
    "print('Number of rows: {}'.format(df1.shape[0]))\n",
    "print('Number of cols: {}'.format(df1.shape[1]))"
   ]
  },
  {
   "cell_type": "markdown",
   "id": "cfa1d204",
   "metadata": {},
   "source": [
    "## Data types"
   ]
  },
  {
   "cell_type": "code",
   "execution_count": 13,
   "id": "b30c14ec",
   "metadata": {
    "ExecuteTime": {
     "end_time": "2022-09-17T19:44:04.192182Z",
     "start_time": "2022-09-17T19:44:04.164000Z"
    }
   },
   "outputs": [
    {
     "data": {
      "text/plain": [
       "AC      float64\n",
       "CALI    float64\n",
       "DEN     float64\n",
       "GR      float64\n",
       "NEU     float64\n",
       "RDEP    float64\n",
       "RMED    float64\n",
       "dtype: object"
      ]
     },
     "execution_count": 13,
     "metadata": {},
     "output_type": "execute_result"
    }
   ],
   "source": [
    "df1.dtypes"
   ]
  },
  {
   "cell_type": "markdown",
   "id": "b37cce69",
   "metadata": {},
   "source": [
    "## Check NAs "
   ]
  },
  {
   "cell_type": "code",
   "execution_count": 14,
   "id": "3922c77f",
   "metadata": {
    "ExecuteTime": {
     "end_time": "2022-09-17T19:44:04.949796Z",
     "start_time": "2022-09-17T19:44:04.923700Z"
    }
   },
   "outputs": [
    {
     "data": {
      "text/plain": [
       "AC      122\n",
       "CALI    122\n",
       "DEN      45\n",
       "GR       12\n",
       "NEU      33\n",
       "RDEP      0\n",
       "RMED      0\n",
       "dtype: int64"
      ]
     },
     "execution_count": 14,
     "metadata": {},
     "output_type": "execute_result"
    }
   ],
   "source": [
    "df1.isna().sum() "
   ]
  },
  {
   "cell_type": "code",
   "execution_count": 15,
   "id": "cdf0365e",
   "metadata": {
    "ExecuteTime": {
     "end_time": "2022-09-17T19:44:05.283843Z",
     "start_time": "2022-09-17T19:44:05.257645Z"
    }
   },
   "outputs": [
    {
     "data": {
      "text/plain": [
       "AC      0.018206\n",
       "CALI    0.018206\n",
       "DEN     0.006715\n",
       "GR      0.001791\n",
       "NEU     0.004925\n",
       "RDEP    0.000000\n",
       "RMED    0.000000\n",
       "dtype: float64"
      ]
     },
     "execution_count": 15,
     "metadata": {},
     "output_type": "execute_result"
    }
   ],
   "source": [
    "df1.isna().sum() /len(df_raw)"
   ]
  },
  {
   "cell_type": "code",
   "execution_count": 16,
   "id": "68e64192",
   "metadata": {
    "ExecuteTime": {
     "end_time": "2022-09-17T19:44:05.794125Z",
     "start_time": "2022-09-17T19:44:05.757721Z"
    }
   },
   "outputs": [
    {
     "data": {
      "text/html": [
       "<div>\n",
       "<style scoped>\n",
       "    .dataframe tbody tr th:only-of-type {\n",
       "        vertical-align: middle;\n",
       "    }\n",
       "\n",
       "    .dataframe tbody tr th {\n",
       "        vertical-align: top;\n",
       "    }\n",
       "\n",
       "    .dataframe thead th {\n",
       "        text-align: right;\n",
       "    }\n",
       "</style>\n",
       "<table border=\"1\" class=\"dataframe\">\n",
       "  <thead>\n",
       "    <tr style=\"text-align: right;\">\n",
       "      <th>DEPT</th>\n",
       "      <th>4388.5592</th>\n",
       "    </tr>\n",
       "  </thead>\n",
       "  <tbody>\n",
       "    <tr>\n",
       "      <th>AC</th>\n",
       "      <td>89.7374</td>\n",
       "    </tr>\n",
       "    <tr>\n",
       "      <th>CALI</th>\n",
       "      <td>8.9524</td>\n",
       "    </tr>\n",
       "    <tr>\n",
       "      <th>DEN</th>\n",
       "      <td>2.3333</td>\n",
       "    </tr>\n",
       "    <tr>\n",
       "      <th>GR</th>\n",
       "      <td>51.9418</td>\n",
       "    </tr>\n",
       "    <tr>\n",
       "      <th>NEU</th>\n",
       "      <td>25.7891</td>\n",
       "    </tr>\n",
       "    <tr>\n",
       "      <th>RDEP</th>\n",
       "      <td>0.7269</td>\n",
       "    </tr>\n",
       "    <tr>\n",
       "      <th>RMED</th>\n",
       "      <td>0.8301</td>\n",
       "    </tr>\n",
       "  </tbody>\n",
       "</table>\n",
       "</div>"
      ],
      "text/plain": [
       "DEPT  4388.5592\n",
       "AC      89.7374\n",
       "CALI     8.9524\n",
       "DEN      2.3333\n",
       "GR      51.9418\n",
       "NEU     25.7891\n",
       "RDEP     0.7269\n",
       "RMED     0.8301"
      ]
     },
     "execution_count": 16,
     "metadata": {},
     "output_type": "execute_result"
    }
   ],
   "source": [
    "df1.sample().T"
   ]
  },
  {
   "cell_type": "markdown",
   "id": "24fd5f9b",
   "metadata": {},
   "source": [
    "## Replace NAs"
   ]
  },
  {
   "cell_type": "code",
   "execution_count": 17,
   "id": "e6224a46",
   "metadata": {
    "ExecuteTime": {
     "end_time": "2022-09-17T19:44:06.696734Z",
     "start_time": "2022-09-17T19:44:06.679466Z"
    }
   },
   "outputs": [],
   "source": [
    "df1 = df1.dropna()"
   ]
  },
  {
   "cell_type": "code",
   "execution_count": 18,
   "id": "2eed421e",
   "metadata": {
    "ExecuteTime": {
     "end_time": "2022-09-17T19:44:07.034067Z",
     "start_time": "2022-09-17T19:44:07.019271Z"
    }
   },
   "outputs": [
    {
     "data": {
      "text/plain": [
       "(6579, 7)"
      ]
     },
     "execution_count": 18,
     "metadata": {},
     "output_type": "execute_result"
    }
   ],
   "source": [
    "df1.shape"
   ]
  },
  {
   "cell_type": "code",
   "execution_count": 19,
   "id": "fba73655",
   "metadata": {
    "ExecuteTime": {
     "end_time": "2022-09-17T19:44:07.359709Z",
     "start_time": "2022-09-17T19:44:07.339031Z"
    }
   },
   "outputs": [
    {
     "name": "stdout",
     "output_type": "stream",
     "text": [
      "Removed data: 0.02%\n"
     ]
    }
   ],
   "source": [
    "print('Removed data: {:.2f}%'.format( 1-( df1.shape[0] / df_raw.shape[0] ) ) )"
   ]
  },
  {
   "cell_type": "code",
   "execution_count": 20,
   "id": "1441f00d",
   "metadata": {
    "ExecuteTime": {
     "end_time": "2022-09-17T19:44:07.717509Z",
     "start_time": "2022-09-17T19:44:07.690709Z"
    }
   },
   "outputs": [
    {
     "data": {
      "text/plain": [
       "AC      0\n",
       "CALI    0\n",
       "DEN     0\n",
       "GR      0\n",
       "NEU     0\n",
       "RDEP    0\n",
       "RMED    0\n",
       "dtype: int64"
      ]
     },
     "execution_count": 20,
     "metadata": {},
     "output_type": "execute_result"
    }
   ],
   "source": [
    "df1.isna().sum()"
   ]
  },
  {
   "cell_type": "markdown",
   "id": "d069ab92",
   "metadata": {},
   "source": [
    "## Data Describe"
   ]
  },
  {
   "cell_type": "code",
   "execution_count": 21,
   "id": "54f0e84a",
   "metadata": {
    "ExecuteTime": {
     "end_time": "2022-09-17T19:44:08.619093Z",
     "start_time": "2022-09-17T19:44:08.530938Z"
    }
   },
   "outputs": [
    {
     "data": {
      "text/html": [
       "<div>\n",
       "<style scoped>\n",
       "    .dataframe tbody tr th:only-of-type {\n",
       "        vertical-align: middle;\n",
       "    }\n",
       "\n",
       "    .dataframe tbody tr th {\n",
       "        vertical-align: top;\n",
       "    }\n",
       "\n",
       "    .dataframe thead th {\n",
       "        text-align: right;\n",
       "    }\n",
       "</style>\n",
       "<table border=\"1\" class=\"dataframe\">\n",
       "  <thead>\n",
       "    <tr style=\"text-align: right;\">\n",
       "      <th></th>\n",
       "      <th>AC</th>\n",
       "      <th>CALI</th>\n",
       "      <th>DEN</th>\n",
       "      <th>GR</th>\n",
       "      <th>NEU</th>\n",
       "      <th>RDEP</th>\n",
       "      <th>RMED</th>\n",
       "    </tr>\n",
       "  </thead>\n",
       "  <tbody>\n",
       "    <tr>\n",
       "      <th>count</th>\n",
       "      <td>6579.000000</td>\n",
       "      <td>6579.000000</td>\n",
       "      <td>6579.000000</td>\n",
       "      <td>6579.000000</td>\n",
       "      <td>6579.000000</td>\n",
       "      <td>6579.000000</td>\n",
       "      <td>6579.000000</td>\n",
       "    </tr>\n",
       "    <tr>\n",
       "      <th>mean</th>\n",
       "      <td>78.313607</td>\n",
       "      <td>9.550656</td>\n",
       "      <td>2.459512</td>\n",
       "      <td>35.814045</td>\n",
       "      <td>17.989428</td>\n",
       "      <td>3.257043</td>\n",
       "      <td>3.117874</td>\n",
       "    </tr>\n",
       "    <tr>\n",
       "      <th>std</th>\n",
       "      <td>17.009535</td>\n",
       "      <td>0.906267</td>\n",
       "      <td>0.163524</td>\n",
       "      <td>26.848476</td>\n",
       "      <td>11.770996</td>\n",
       "      <td>8.937792</td>\n",
       "      <td>6.358822</td>\n",
       "    </tr>\n",
       "    <tr>\n",
       "      <th>min</th>\n",
       "      <td>1.025100</td>\n",
       "      <td>6.000000</td>\n",
       "      <td>2.037700</td>\n",
       "      <td>2.766100</td>\n",
       "      <td>2.178300</td>\n",
       "      <td>0.250300</td>\n",
       "      <td>0.294700</td>\n",
       "    </tr>\n",
       "    <tr>\n",
       "      <th>25%</th>\n",
       "      <td>66.169300</td>\n",
       "      <td>9.142900</td>\n",
       "      <td>2.339150</td>\n",
       "      <td>14.567300</td>\n",
       "      <td>10.156650</td>\n",
       "      <td>0.794950</td>\n",
       "      <td>0.846850</td>\n",
       "    </tr>\n",
       "    <tr>\n",
       "      <th>50%</th>\n",
       "      <td>74.145900</td>\n",
       "      <td>9.523800</td>\n",
       "      <td>2.515400</td>\n",
       "      <td>31.706400</td>\n",
       "      <td>15.158800</td>\n",
       "      <td>1.813600</td>\n",
       "      <td>1.849500</td>\n",
       "    </tr>\n",
       "    <tr>\n",
       "      <th>75%</th>\n",
       "      <td>89.024250</td>\n",
       "      <td>9.904800</td>\n",
       "      <td>2.590450</td>\n",
       "      <td>50.767000</td>\n",
       "      <td>23.103300</td>\n",
       "      <td>3.406250</td>\n",
       "      <td>3.587400</td>\n",
       "    </tr>\n",
       "    <tr>\n",
       "      <th>max</th>\n",
       "      <td>149.218700</td>\n",
       "      <td>20.285700</td>\n",
       "      <td>3.001300</td>\n",
       "      <td>304.333700</td>\n",
       "      <td>146.347400</td>\n",
       "      <td>198.537100</td>\n",
       "      <td>115.635000</td>\n",
       "    </tr>\n",
       "  </tbody>\n",
       "</table>\n",
       "</div>"
      ],
      "text/plain": [
       "                AC         CALI          DEN           GR          NEU  \\\n",
       "count  6579.000000  6579.000000  6579.000000  6579.000000  6579.000000   \n",
       "mean     78.313607     9.550656     2.459512    35.814045    17.989428   \n",
       "std      17.009535     0.906267     0.163524    26.848476    11.770996   \n",
       "min       1.025100     6.000000     2.037700     2.766100     2.178300   \n",
       "25%      66.169300     9.142900     2.339150    14.567300    10.156650   \n",
       "50%      74.145900     9.523800     2.515400    31.706400    15.158800   \n",
       "75%      89.024250     9.904800     2.590450    50.767000    23.103300   \n",
       "max     149.218700    20.285700     3.001300   304.333700   146.347400   \n",
       "\n",
       "              RDEP         RMED  \n",
       "count  6579.000000  6579.000000  \n",
       "mean      3.257043     3.117874  \n",
       "std       8.937792     6.358822  \n",
       "min       0.250300     0.294700  \n",
       "25%       0.794950     0.846850  \n",
       "50%       1.813600     1.849500  \n",
       "75%       3.406250     3.587400  \n",
       "max     198.537100   115.635000  "
      ]
     },
     "execution_count": 21,
     "metadata": {},
     "output_type": "execute_result"
    }
   ],
   "source": [
    "df1.describe()"
   ]
  },
  {
   "cell_type": "markdown",
   "id": "1ab06b64",
   "metadata": {},
   "source": [
    "## Descriptive Statistical"
   ]
  },
  {
   "cell_type": "code",
   "execution_count": 22,
   "id": "51e1bc45",
   "metadata": {
    "ExecuteTime": {
     "end_time": "2022-09-17T19:44:09.250082Z",
     "start_time": "2022-09-17T19:44:09.234669Z"
    }
   },
   "outputs": [],
   "source": [
    "num_attributes = df1.select_dtypes('float64')"
   ]
  },
  {
   "cell_type": "code",
   "execution_count": 23,
   "id": "c1db25a9",
   "metadata": {
    "ExecuteTime": {
     "end_time": "2022-09-17T19:44:10.585021Z",
     "start_time": "2022-09-17T19:44:10.540347Z"
    }
   },
   "outputs": [
    {
     "data": {
      "text/html": [
       "<div>\n",
       "<style scoped>\n",
       "    .dataframe tbody tr th:only-of-type {\n",
       "        vertical-align: middle;\n",
       "    }\n",
       "\n",
       "    .dataframe tbody tr th {\n",
       "        vertical-align: top;\n",
       "    }\n",
       "\n",
       "    .dataframe thead th {\n",
       "        text-align: right;\n",
       "    }\n",
       "</style>\n",
       "<table border=\"1\" class=\"dataframe\">\n",
       "  <thead>\n",
       "    <tr style=\"text-align: right;\">\n",
       "      <th></th>\n",
       "      <th>AC</th>\n",
       "      <th>CALI</th>\n",
       "      <th>DEN</th>\n",
       "      <th>GR</th>\n",
       "      <th>NEU</th>\n",
       "      <th>RDEP</th>\n",
       "      <th>RMED</th>\n",
       "    </tr>\n",
       "    <tr>\n",
       "      <th>DEPT</th>\n",
       "      <th></th>\n",
       "      <th></th>\n",
       "      <th></th>\n",
       "      <th></th>\n",
       "      <th></th>\n",
       "      <th></th>\n",
       "      <th></th>\n",
       "    </tr>\n",
       "  </thead>\n",
       "  <tbody>\n",
       "    <tr>\n",
       "      <th>4593.6896</th>\n",
       "      <td>39.6250</td>\n",
       "      <td>9.619</td>\n",
       "      <td>2.4856</td>\n",
       "      <td>54.8839</td>\n",
       "      <td>15.0451</td>\n",
       "      <td>1.6912</td>\n",
       "      <td>1.6599</td>\n",
       "    </tr>\n",
       "    <tr>\n",
       "      <th>3853.3304</th>\n",
       "      <td>72.9705</td>\n",
       "      <td>10.000</td>\n",
       "      <td>2.4627</td>\n",
       "      <td>5.7717</td>\n",
       "      <td>13.8031</td>\n",
       "      <td>1.7401</td>\n",
       "      <td>2.0839</td>\n",
       "    </tr>\n",
       "  </tbody>\n",
       "</table>\n",
       "</div>"
      ],
      "text/plain": [
       "                AC    CALI     DEN       GR      NEU    RDEP    RMED\n",
       "DEPT                                                                \n",
       "4593.6896  39.6250   9.619  2.4856  54.8839  15.0451  1.6912  1.6599\n",
       "3853.3304  72.9705  10.000  2.4627   5.7717  13.8031  1.7401  2.0839"
      ]
     },
     "execution_count": 23,
     "metadata": {},
     "output_type": "execute_result"
    }
   ],
   "source": [
    "num_attributes.sample(2)"
   ]
  },
  {
   "cell_type": "markdown",
   "id": "a63970bb",
   "metadata": {},
   "source": [
    "## Numerical Attributes"
   ]
  },
  {
   "cell_type": "code",
   "execution_count": 24,
   "id": "83e01744",
   "metadata": {
    "ExecuteTime": {
     "end_time": "2022-09-17T19:44:11.220838Z",
     "start_time": "2022-09-17T19:44:11.149824Z"
    }
   },
   "outputs": [],
   "source": [
    "# Central Tendency - Mean, median:\n",
    "\n",
    "ct1 = pd.DataFrame(num_attributes.apply(np.mean)).T\n",
    "ct2 = pd.DataFrame(num_attributes.apply(np.median)).T\n",
    "\n",
    "# Dispersion - std, min, max, range, skew, kurtosis:\n",
    "\n",
    "d1 = pd.DataFrame(num_attributes.apply( np.std)).T\n",
    "d2 = pd.DataFrame(num_attributes.apply( np.min)).T\n",
    "d3 = pd.DataFrame(num_attributes.apply( np.max)).T\n",
    "d4 = pd.DataFrame(num_attributes.apply( lambda x: x.max() - x.min() ) ).T\n",
    "d5 = pd.DataFrame(num_attributes.apply( lambda x: x.skew() ) ).T\n",
    "d6 = pd.DataFrame(num_attributes.apply( lambda x: x.kurtosis() ) ).T\n",
    "                  \n",
    "# Concatenate:\n",
    "m = pd.concat( [d2, d3, d4, ct1, ct2, d1, d5, d6] ).T.reset_index()\n",
    "m.columns = ['attributes','min','max','range','mean','median','std','skew','kurtosis']"
   ]
  },
  {
   "cell_type": "code",
   "execution_count": 25,
   "id": "7592d258",
   "metadata": {
    "ExecuteTime": {
     "end_time": "2022-09-17T19:44:11.531099Z",
     "start_time": "2022-09-17T19:44:11.485386Z"
    }
   },
   "outputs": [
    {
     "data": {
      "text/html": [
       "<div>\n",
       "<style scoped>\n",
       "    .dataframe tbody tr th:only-of-type {\n",
       "        vertical-align: middle;\n",
       "    }\n",
       "\n",
       "    .dataframe tbody tr th {\n",
       "        vertical-align: top;\n",
       "    }\n",
       "\n",
       "    .dataframe thead th {\n",
       "        text-align: right;\n",
       "    }\n",
       "</style>\n",
       "<table border=\"1\" class=\"dataframe\">\n",
       "  <thead>\n",
       "    <tr style=\"text-align: right;\">\n",
       "      <th></th>\n",
       "      <th>attributes</th>\n",
       "      <th>min</th>\n",
       "      <th>max</th>\n",
       "      <th>range</th>\n",
       "      <th>mean</th>\n",
       "      <th>median</th>\n",
       "      <th>std</th>\n",
       "      <th>skew</th>\n",
       "      <th>kurtosis</th>\n",
       "    </tr>\n",
       "  </thead>\n",
       "  <tbody>\n",
       "    <tr>\n",
       "      <th>0</th>\n",
       "      <td>AC</td>\n",
       "      <td>1.0251</td>\n",
       "      <td>149.2187</td>\n",
       "      <td>148.1936</td>\n",
       "      <td>78.313607</td>\n",
       "      <td>74.1459</td>\n",
       "      <td>17.008242</td>\n",
       "      <td>0.568821</td>\n",
       "      <td>0.188815</td>\n",
       "    </tr>\n",
       "    <tr>\n",
       "      <th>1</th>\n",
       "      <td>CALI</td>\n",
       "      <td>6.0000</td>\n",
       "      <td>20.2857</td>\n",
       "      <td>14.2857</td>\n",
       "      <td>9.550656</td>\n",
       "      <td>9.5238</td>\n",
       "      <td>0.906198</td>\n",
       "      <td>1.356733</td>\n",
       "      <td>26.107515</td>\n",
       "    </tr>\n",
       "    <tr>\n",
       "      <th>2</th>\n",
       "      <td>DEN</td>\n",
       "      <td>2.0377</td>\n",
       "      <td>3.0013</td>\n",
       "      <td>0.9636</td>\n",
       "      <td>2.459512</td>\n",
       "      <td>2.5154</td>\n",
       "      <td>0.163511</td>\n",
       "      <td>-0.781671</td>\n",
       "      <td>-0.601550</td>\n",
       "    </tr>\n",
       "    <tr>\n",
       "      <th>3</th>\n",
       "      <td>GR</td>\n",
       "      <td>2.7661</td>\n",
       "      <td>304.3337</td>\n",
       "      <td>301.5676</td>\n",
       "      <td>35.814045</td>\n",
       "      <td>31.7064</td>\n",
       "      <td>26.846435</td>\n",
       "      <td>3.532985</td>\n",
       "      <td>26.981597</td>\n",
       "    </tr>\n",
       "    <tr>\n",
       "      <th>4</th>\n",
       "      <td>NEU</td>\n",
       "      <td>2.1783</td>\n",
       "      <td>146.3474</td>\n",
       "      <td>144.1691</td>\n",
       "      <td>17.989428</td>\n",
       "      <td>15.1588</td>\n",
       "      <td>11.770101</td>\n",
       "      <td>2.309390</td>\n",
       "      <td>9.358745</td>\n",
       "    </tr>\n",
       "    <tr>\n",
       "      <th>5</th>\n",
       "      <td>RDEP</td>\n",
       "      <td>0.2503</td>\n",
       "      <td>198.5371</td>\n",
       "      <td>198.2868</td>\n",
       "      <td>3.257043</td>\n",
       "      <td>1.8136</td>\n",
       "      <td>8.937113</td>\n",
       "      <td>12.823084</td>\n",
       "      <td>189.866496</td>\n",
       "    </tr>\n",
       "    <tr>\n",
       "      <th>6</th>\n",
       "      <td>RMED</td>\n",
       "      <td>0.2947</td>\n",
       "      <td>115.6350</td>\n",
       "      <td>115.3403</td>\n",
       "      <td>3.117874</td>\n",
       "      <td>1.8495</td>\n",
       "      <td>6.358339</td>\n",
       "      <td>10.275765</td>\n",
       "      <td>128.518434</td>\n",
       "    </tr>\n",
       "  </tbody>\n",
       "</table>\n",
       "</div>"
      ],
      "text/plain": [
       "  attributes     min       max     range       mean   median        std  \\\n",
       "0         AC  1.0251  149.2187  148.1936  78.313607  74.1459  17.008242   \n",
       "1       CALI  6.0000   20.2857   14.2857   9.550656   9.5238   0.906198   \n",
       "2        DEN  2.0377    3.0013    0.9636   2.459512   2.5154   0.163511   \n",
       "3         GR  2.7661  304.3337  301.5676  35.814045  31.7064  26.846435   \n",
       "4        NEU  2.1783  146.3474  144.1691  17.989428  15.1588  11.770101   \n",
       "5       RDEP  0.2503  198.5371  198.2868   3.257043   1.8136   8.937113   \n",
       "6       RMED  0.2947  115.6350  115.3403   3.117874   1.8495   6.358339   \n",
       "\n",
       "        skew    kurtosis  \n",
       "0   0.568821    0.188815  \n",
       "1   1.356733   26.107515  \n",
       "2  -0.781671   -0.601550  \n",
       "3   3.532985   26.981597  \n",
       "4   2.309390    9.358745  \n",
       "5  12.823084  189.866496  \n",
       "6  10.275765  128.518434  "
      ]
     },
     "execution_count": 25,
     "metadata": {},
     "output_type": "execute_result"
    }
   ],
   "source": [
    "m"
   ]
  },
  {
   "cell_type": "markdown",
   "id": "1ecc3c2c",
   "metadata": {},
   "source": [
    "## Data transform"
   ]
  },
  {
   "cell_type": "code",
   "execution_count": 26,
   "id": "b803ac33",
   "metadata": {
    "ExecuteTime": {
     "end_time": "2022-09-17T19:44:12.189826Z",
     "start_time": "2022-09-17T19:44:12.178581Z"
    }
   },
   "outputs": [],
   "source": [
    "scaler = StandardScaler()"
   ]
  },
  {
   "cell_type": "code",
   "execution_count": 27,
   "id": "8052258c",
   "metadata": {
    "ExecuteTime": {
     "end_time": "2022-09-17T19:44:14.794518Z",
     "start_time": "2022-09-17T19:44:14.773230Z"
    }
   },
   "outputs": [
    {
     "data": {
      "text/plain": [
       "Index(['AC', 'CALI', 'DEN', 'GR', 'NEU', 'RDEP', 'RMED'], dtype='object')"
      ]
     },
     "execution_count": 27,
     "metadata": {},
     "output_type": "execute_result"
    }
   ],
   "source": [
    "df1.columns"
   ]
  },
  {
   "cell_type": "code",
   "execution_count": 28,
   "id": "f4ace427",
   "metadata": {
    "ExecuteTime": {
     "end_time": "2022-09-17T19:44:17.778809Z",
     "start_time": "2022-09-17T19:44:17.738022Z"
    }
   },
   "outputs": [],
   "source": [
    "df1[['AC_T', 'CALI_T', 'DEN_T', 'GR_T', 'NEU_T', 'RDEP_T', 'RMED_T']] = scaler.fit_transform(df1[['AC', 'CALI', 'DEN', 'GR', 'NEU', 'RDEP', 'RMED']])"
   ]
  },
  {
   "cell_type": "code",
   "execution_count": 29,
   "id": "201adf60",
   "metadata": {
    "ExecuteTime": {
     "end_time": "2022-09-17T19:44:18.336996Z",
     "start_time": "2022-09-17T19:44:18.250495Z"
    }
   },
   "outputs": [
    {
     "data": {
      "text/html": [
       "<div>\n",
       "<style scoped>\n",
       "    .dataframe tbody tr th:only-of-type {\n",
       "        vertical-align: middle;\n",
       "    }\n",
       "\n",
       "    .dataframe tbody tr th {\n",
       "        vertical-align: top;\n",
       "    }\n",
       "\n",
       "    .dataframe thead th {\n",
       "        text-align: right;\n",
       "    }\n",
       "</style>\n",
       "<table border=\"1\" class=\"dataframe\">\n",
       "  <thead>\n",
       "    <tr style=\"text-align: right;\">\n",
       "      <th></th>\n",
       "      <th>AC</th>\n",
       "      <th>CALI</th>\n",
       "      <th>DEN</th>\n",
       "      <th>GR</th>\n",
       "      <th>NEU</th>\n",
       "      <th>RDEP</th>\n",
       "      <th>RMED</th>\n",
       "      <th>AC_T</th>\n",
       "      <th>CALI_T</th>\n",
       "      <th>DEN_T</th>\n",
       "      <th>GR_T</th>\n",
       "      <th>NEU_T</th>\n",
       "      <th>RDEP_T</th>\n",
       "      <th>RMED_T</th>\n",
       "    </tr>\n",
       "    <tr>\n",
       "      <th>DEPT</th>\n",
       "      <th></th>\n",
       "      <th></th>\n",
       "      <th></th>\n",
       "      <th></th>\n",
       "      <th></th>\n",
       "      <th></th>\n",
       "      <th></th>\n",
       "      <th></th>\n",
       "      <th></th>\n",
       "      <th></th>\n",
       "      <th></th>\n",
       "      <th></th>\n",
       "      <th></th>\n",
       "      <th></th>\n",
       "    </tr>\n",
       "  </thead>\n",
       "  <tbody>\n",
       "    <tr>\n",
       "      <th>3615.4340</th>\n",
       "      <td>95.7952</td>\n",
       "      <td>12.7249</td>\n",
       "      <td>2.3429</td>\n",
       "      <td>54.8754</td>\n",
       "      <td>44.5742</td>\n",
       "      <td>0.8941</td>\n",
       "      <td>0.8359</td>\n",
       "      <td>1.027831</td>\n",
       "      <td>3.502816</td>\n",
       "      <td>-0.713177</td>\n",
       "      <td>0.710014</td>\n",
       "      <td>2.258670</td>\n",
       "      <td>-0.264397</td>\n",
       "      <td>-0.358895</td>\n",
       "    </tr>\n",
       "    <tr>\n",
       "      <th>3615.5864</th>\n",
       "      <td>94.2267</td>\n",
       "      <td>12.5961</td>\n",
       "      <td>2.3528</td>\n",
       "      <td>53.5158</td>\n",
       "      <td>62.1103</td>\n",
       "      <td>0.7367</td>\n",
       "      <td>0.8028</td>\n",
       "      <td>0.935611</td>\n",
       "      <td>3.360684</td>\n",
       "      <td>-0.652630</td>\n",
       "      <td>0.659371</td>\n",
       "      <td>3.748555</td>\n",
       "      <td>-0.282009</td>\n",
       "      <td>-0.364100</td>\n",
       "    </tr>\n",
       "    <tr>\n",
       "      <th>3615.7388</th>\n",
       "      <td>101.3254</td>\n",
       "      <td>13.7632</td>\n",
       "      <td>2.3170</td>\n",
       "      <td>48.9803</td>\n",
       "      <td>71.9087</td>\n",
       "      <td>0.6423</td>\n",
       "      <td>0.7958</td>\n",
       "      <td>1.352979</td>\n",
       "      <td>4.648592</td>\n",
       "      <td>-0.871576</td>\n",
       "      <td>0.490428</td>\n",
       "      <td>4.581037</td>\n",
       "      <td>-0.292571</td>\n",
       "      <td>-0.365201</td>\n",
       "    </tr>\n",
       "    <tr>\n",
       "      <th>3615.8912</th>\n",
       "      <td>99.5672</td>\n",
       "      <td>14.3249</td>\n",
       "      <td>2.2585</td>\n",
       "      <td>36.6762</td>\n",
       "      <td>44.8988</td>\n",
       "      <td>0.6571</td>\n",
       "      <td>0.7929</td>\n",
       "      <td>1.249606</td>\n",
       "      <td>5.268435</td>\n",
       "      <td>-1.229350</td>\n",
       "      <td>0.032114</td>\n",
       "      <td>2.286248</td>\n",
       "      <td>-0.290915</td>\n",
       "      <td>-0.365657</td>\n",
       "    </tr>\n",
       "    <tr>\n",
       "      <th>3616.0436</th>\n",
       "      <td>100.5965</td>\n",
       "      <td>11.1429</td>\n",
       "      <td>2.2108</td>\n",
       "      <td>40.4632</td>\n",
       "      <td>49.5744</td>\n",
       "      <td>0.7442</td>\n",
       "      <td>0.7940</td>\n",
       "      <td>1.310123</td>\n",
       "      <td>1.757060</td>\n",
       "      <td>-1.521073</td>\n",
       "      <td>0.173176</td>\n",
       "      <td>2.683492</td>\n",
       "      <td>-0.281169</td>\n",
       "      <td>-0.365484</td>\n",
       "    </tr>\n",
       "    <tr>\n",
       "      <th>...</th>\n",
       "      <td>...</td>\n",
       "      <td>...</td>\n",
       "      <td>...</td>\n",
       "      <td>...</td>\n",
       "      <td>...</td>\n",
       "      <td>...</td>\n",
       "      <td>...</td>\n",
       "      <td>...</td>\n",
       "      <td>...</td>\n",
       "      <td>...</td>\n",
       "      <td>...</td>\n",
       "      <td>...</td>\n",
       "      <td>...</td>\n",
       "      <td>...</td>\n",
       "    </tr>\n",
       "    <tr>\n",
       "      <th>4617.3116</th>\n",
       "      <td>40.0000</td>\n",
       "      <td>6.0000</td>\n",
       "      <td>2.5547</td>\n",
       "      <td>87.1958</td>\n",
       "      <td>15.4080</td>\n",
       "      <td>2.6787</td>\n",
       "      <td>2.1338</td>\n",
       "      <td>-2.252649</td>\n",
       "      <td>-3.918190</td>\n",
       "      <td>0.582148</td>\n",
       "      <td>1.913914</td>\n",
       "      <td>-0.219321</td>\n",
       "      <td>-0.064713</td>\n",
       "      <td>-0.154769</td>\n",
       "    </tr>\n",
       "    <tr>\n",
       "      <th>4617.4640</th>\n",
       "      <td>40.0000</td>\n",
       "      <td>6.0000</td>\n",
       "      <td>2.5662</td>\n",
       "      <td>90.9071</td>\n",
       "      <td>15.8777</td>\n",
       "      <td>2.6239</td>\n",
       "      <td>2.0865</td>\n",
       "      <td>-2.252649</td>\n",
       "      <td>-3.918190</td>\n",
       "      <td>0.652480</td>\n",
       "      <td>2.052155</td>\n",
       "      <td>-0.179415</td>\n",
       "      <td>-0.070844</td>\n",
       "      <td>-0.162208</td>\n",
       "    </tr>\n",
       "    <tr>\n",
       "      <th>4617.6164</th>\n",
       "      <td>40.0000</td>\n",
       "      <td>6.0000</td>\n",
       "      <td>2.5702</td>\n",
       "      <td>86.2190</td>\n",
       "      <td>15.8576</td>\n",
       "      <td>2.5898</td>\n",
       "      <td>2.0461</td>\n",
       "      <td>-2.252649</td>\n",
       "      <td>-3.918190</td>\n",
       "      <td>0.676943</td>\n",
       "      <td>1.877529</td>\n",
       "      <td>-0.181122</td>\n",
       "      <td>-0.074660</td>\n",
       "      <td>-0.168562</td>\n",
       "    </tr>\n",
       "    <tr>\n",
       "      <th>4617.7688</th>\n",
       "      <td>40.0000</td>\n",
       "      <td>6.0000</td>\n",
       "      <td>2.5674</td>\n",
       "      <td>74.8791</td>\n",
       "      <td>15.3727</td>\n",
       "      <td>2.5694</td>\n",
       "      <td>1.9925</td>\n",
       "      <td>-2.252649</td>\n",
       "      <td>-3.918190</td>\n",
       "      <td>0.659819</td>\n",
       "      <td>1.455130</td>\n",
       "      <td>-0.222320</td>\n",
       "      <td>-0.076942</td>\n",
       "      <td>-0.176992</td>\n",
       "    </tr>\n",
       "    <tr>\n",
       "      <th>4617.9212</th>\n",
       "      <td>40.0000</td>\n",
       "      <td>6.0000</td>\n",
       "      <td>2.5552</td>\n",
       "      <td>64.8674</td>\n",
       "      <td>14.8943</td>\n",
       "      <td>2.5456</td>\n",
       "      <td>1.9997</td>\n",
       "      <td>-2.252649</td>\n",
       "      <td>-3.918190</td>\n",
       "      <td>0.585206</td>\n",
       "      <td>1.082205</td>\n",
       "      <td>-0.262965</td>\n",
       "      <td>-0.079606</td>\n",
       "      <td>-0.175859</td>\n",
       "    </tr>\n",
       "  </tbody>\n",
       "</table>\n",
       "<p>6579 rows × 14 columns</p>\n",
       "</div>"
      ],
      "text/plain": [
       "                 AC     CALI     DEN       GR      NEU    RDEP    RMED  \\\n",
       "DEPT                                                                     \n",
       "3615.4340   95.7952  12.7249  2.3429  54.8754  44.5742  0.8941  0.8359   \n",
       "3615.5864   94.2267  12.5961  2.3528  53.5158  62.1103  0.7367  0.8028   \n",
       "3615.7388  101.3254  13.7632  2.3170  48.9803  71.9087  0.6423  0.7958   \n",
       "3615.8912   99.5672  14.3249  2.2585  36.6762  44.8988  0.6571  0.7929   \n",
       "3616.0436  100.5965  11.1429  2.2108  40.4632  49.5744  0.7442  0.7940   \n",
       "...             ...      ...     ...      ...      ...     ...     ...   \n",
       "4617.3116   40.0000   6.0000  2.5547  87.1958  15.4080  2.6787  2.1338   \n",
       "4617.4640   40.0000   6.0000  2.5662  90.9071  15.8777  2.6239  2.0865   \n",
       "4617.6164   40.0000   6.0000  2.5702  86.2190  15.8576  2.5898  2.0461   \n",
       "4617.7688   40.0000   6.0000  2.5674  74.8791  15.3727  2.5694  1.9925   \n",
       "4617.9212   40.0000   6.0000  2.5552  64.8674  14.8943  2.5456  1.9997   \n",
       "\n",
       "               AC_T    CALI_T     DEN_T      GR_T     NEU_T    RDEP_T  \\\n",
       "DEPT                                                                    \n",
       "3615.4340  1.027831  3.502816 -0.713177  0.710014  2.258670 -0.264397   \n",
       "3615.5864  0.935611  3.360684 -0.652630  0.659371  3.748555 -0.282009   \n",
       "3615.7388  1.352979  4.648592 -0.871576  0.490428  4.581037 -0.292571   \n",
       "3615.8912  1.249606  5.268435 -1.229350  0.032114  2.286248 -0.290915   \n",
       "3616.0436  1.310123  1.757060 -1.521073  0.173176  2.683492 -0.281169   \n",
       "...             ...       ...       ...       ...       ...       ...   \n",
       "4617.3116 -2.252649 -3.918190  0.582148  1.913914 -0.219321 -0.064713   \n",
       "4617.4640 -2.252649 -3.918190  0.652480  2.052155 -0.179415 -0.070844   \n",
       "4617.6164 -2.252649 -3.918190  0.676943  1.877529 -0.181122 -0.074660   \n",
       "4617.7688 -2.252649 -3.918190  0.659819  1.455130 -0.222320 -0.076942   \n",
       "4617.9212 -2.252649 -3.918190  0.585206  1.082205 -0.262965 -0.079606   \n",
       "\n",
       "             RMED_T  \n",
       "DEPT                 \n",
       "3615.4340 -0.358895  \n",
       "3615.5864 -0.364100  \n",
       "3615.7388 -0.365201  \n",
       "3615.8912 -0.365657  \n",
       "3616.0436 -0.365484  \n",
       "...             ...  \n",
       "4617.3116 -0.154769  \n",
       "4617.4640 -0.162208  \n",
       "4617.6164 -0.168562  \n",
       "4617.7688 -0.176992  \n",
       "4617.9212 -0.175859  \n",
       "\n",
       "[6579 rows x 14 columns]"
      ]
     },
     "execution_count": 29,
     "metadata": {},
     "output_type": "execute_result"
    }
   ],
   "source": [
    "df1"
   ]
  },
  {
   "cell_type": "markdown",
   "id": "cd97ad02",
   "metadata": {},
   "source": [
    "# Clustering the data"
   ]
  },
  {
   "cell_type": "code",
   "execution_count": 41,
   "id": "e3f0db93",
   "metadata": {
    "ExecuteTime": {
     "end_time": "2022-09-17T20:41:29.898252Z",
     "start_time": "2022-09-17T20:41:29.877998Z"
    }
   },
   "outputs": [],
   "source": [
    "def optimise_k_means(data, max_k):\n",
    "    means = []\n",
    "    inertias = []\n",
    "    \n",
    "    for k in range(1, max_k):\n",
    "        kmeans  = KMeans(n_clusters=k)\n",
    "        kmeans.fit(data)\n",
    "        \n",
    "        means.append(k)\n",
    "        inertias.append(kmeans.inertia_)\n",
    "\n",
    "# Generate the elbow plot\n",
    "\n",
    "    fig = plt.subplots(figsize=(10,5))\n",
    "    plt.plot(means, inertias, 'o-')\n",
    "    plt.xlabel('Number of clusters')\n",
    "    plt.ylabel('Inertia')\n",
    "    plt.grid(True)\n",
    "    plt.show()"
   ]
  },
  {
   "cell_type": "code",
   "execution_count": 42,
   "id": "a9640642",
   "metadata": {
    "ExecuteTime": {
     "end_time": "2022-09-17T20:41:35.416431Z",
     "start_time": "2022-09-17T20:41:33.955202Z"
    }
   },
   "outputs": [
    {
     "name": "stderr",
     "output_type": "stream",
     "text": [
      "Exception ignored on calling ctypes callback function: <function _ThreadpoolInfo._find_modules_with_dl_iterate_phdr.<locals>.match_module_callback at 0x7f34dde47b80>\n",
      "Traceback (most recent call last):\n",
      "  File \"/home/ehgeraldo/miniconda3/lib/python3.9/site-packages/threadpoolctl.py\", line 400, in match_module_callback\n",
      "    self._make_module_from_path(filepath)\n",
      "  File \"/home/ehgeraldo/miniconda3/lib/python3.9/site-packages/threadpoolctl.py\", line 515, in _make_module_from_path\n",
      "    module = module_class(filepath, prefix, user_api, internal_api)\n",
      "  File \"/home/ehgeraldo/miniconda3/lib/python3.9/site-packages/threadpoolctl.py\", line 606, in __init__\n",
      "    self.version = self.get_version()\n",
      "  File \"/home/ehgeraldo/miniconda3/lib/python3.9/site-packages/threadpoolctl.py\", line 646, in get_version\n",
      "    config = get_config().split()\n",
      "AttributeError: 'NoneType' object has no attribute 'split'\n",
      "Exception ignored on calling ctypes callback function: <function _ThreadpoolInfo._find_modules_with_dl_iterate_phdr.<locals>.match_module_callback at 0x7f34dde47b80>\n",
      "Traceback (most recent call last):\n",
      "  File \"/home/ehgeraldo/miniconda3/lib/python3.9/site-packages/threadpoolctl.py\", line 400, in match_module_callback\n",
      "    self._make_module_from_path(filepath)\n",
      "  File \"/home/ehgeraldo/miniconda3/lib/python3.9/site-packages/threadpoolctl.py\", line 515, in _make_module_from_path\n",
      "    module = module_class(filepath, prefix, user_api, internal_api)\n",
      "  File \"/home/ehgeraldo/miniconda3/lib/python3.9/site-packages/threadpoolctl.py\", line 606, in __init__\n",
      "    self.version = self.get_version()\n",
      "  File \"/home/ehgeraldo/miniconda3/lib/python3.9/site-packages/threadpoolctl.py\", line 646, in get_version\n",
      "    config = get_config().split()\n",
      "AttributeError: 'NoneType' object has no attribute 'split'\n",
      "Exception ignored on calling ctypes callback function: <function _ThreadpoolInfo._find_modules_with_dl_iterate_phdr.<locals>.match_module_callback at 0x7f34dde47b80>\n",
      "Traceback (most recent call last):\n",
      "  File \"/home/ehgeraldo/miniconda3/lib/python3.9/site-packages/threadpoolctl.py\", line 400, in match_module_callback\n",
      "    self._make_module_from_path(filepath)\n",
      "  File \"/home/ehgeraldo/miniconda3/lib/python3.9/site-packages/threadpoolctl.py\", line 515, in _make_module_from_path\n",
      "    module = module_class(filepath, prefix, user_api, internal_api)\n",
      "  File \"/home/ehgeraldo/miniconda3/lib/python3.9/site-packages/threadpoolctl.py\", line 606, in __init__\n",
      "    self.version = self.get_version()\n",
      "  File \"/home/ehgeraldo/miniconda3/lib/python3.9/site-packages/threadpoolctl.py\", line 646, in get_version\n",
      "    config = get_config().split()\n",
      "AttributeError: 'NoneType' object has no attribute 'split'\n",
      "Exception ignored on calling ctypes callback function: <function _ThreadpoolInfo._find_modules_with_dl_iterate_phdr.<locals>.match_module_callback at 0x7f34dde47b80>\n",
      "Traceback (most recent call last):\n",
      "  File \"/home/ehgeraldo/miniconda3/lib/python3.9/site-packages/threadpoolctl.py\", line 400, in match_module_callback\n",
      "    self._make_module_from_path(filepath)\n",
      "  File \"/home/ehgeraldo/miniconda3/lib/python3.9/site-packages/threadpoolctl.py\", line 515, in _make_module_from_path\n",
      "    module = module_class(filepath, prefix, user_api, internal_api)\n",
      "  File \"/home/ehgeraldo/miniconda3/lib/python3.9/site-packages/threadpoolctl.py\", line 606, in __init__\n",
      "    self.version = self.get_version()\n",
      "  File \"/home/ehgeraldo/miniconda3/lib/python3.9/site-packages/threadpoolctl.py\", line 646, in get_version\n",
      "    config = get_config().split()\n",
      "AttributeError: 'NoneType' object has no attribute 'split'\n",
      "Exception ignored on calling ctypes callback function: <function _ThreadpoolInfo._find_modules_with_dl_iterate_phdr.<locals>.match_module_callback at 0x7f34dde47b80>\n",
      "Traceback (most recent call last):\n",
      "  File \"/home/ehgeraldo/miniconda3/lib/python3.9/site-packages/threadpoolctl.py\", line 400, in match_module_callback\n",
      "    self._make_module_from_path(filepath)\n",
      "  File \"/home/ehgeraldo/miniconda3/lib/python3.9/site-packages/threadpoolctl.py\", line 515, in _make_module_from_path\n",
      "    module = module_class(filepath, prefix, user_api, internal_api)\n",
      "  File \"/home/ehgeraldo/miniconda3/lib/python3.9/site-packages/threadpoolctl.py\", line 606, in __init__\n",
      "    self.version = self.get_version()\n",
      "  File \"/home/ehgeraldo/miniconda3/lib/python3.9/site-packages/threadpoolctl.py\", line 646, in get_version\n",
      "    config = get_config().split()\n",
      "AttributeError: 'NoneType' object has no attribute 'split'\n",
      "Exception ignored on calling ctypes callback function: <function _ThreadpoolInfo._find_modules_with_dl_iterate_phdr.<locals>.match_module_callback at 0x7f34dde47b80>\n",
      "Traceback (most recent call last):\n",
      "  File \"/home/ehgeraldo/miniconda3/lib/python3.9/site-packages/threadpoolctl.py\", line 400, in match_module_callback\n",
      "    self._make_module_from_path(filepath)\n",
      "  File \"/home/ehgeraldo/miniconda3/lib/python3.9/site-packages/threadpoolctl.py\", line 515, in _make_module_from_path\n",
      "    module = module_class(filepath, prefix, user_api, internal_api)\n",
      "  File \"/home/ehgeraldo/miniconda3/lib/python3.9/site-packages/threadpoolctl.py\", line 606, in __init__\n",
      "    self.version = self.get_version()\n",
      "  File \"/home/ehgeraldo/miniconda3/lib/python3.9/site-packages/threadpoolctl.py\", line 646, in get_version\n",
      "    config = get_config().split()\n",
      "AttributeError: 'NoneType' object has no attribute 'split'\n",
      "Exception ignored on calling ctypes callback function: <function _ThreadpoolInfo._find_modules_with_dl_iterate_phdr.<locals>.match_module_callback at 0x7f34dde47b80>\n",
      "Traceback (most recent call last):\n",
      "  File \"/home/ehgeraldo/miniconda3/lib/python3.9/site-packages/threadpoolctl.py\", line 400, in match_module_callback\n",
      "    self._make_module_from_path(filepath)\n",
      "  File \"/home/ehgeraldo/miniconda3/lib/python3.9/site-packages/threadpoolctl.py\", line 515, in _make_module_from_path\n",
      "    module = module_class(filepath, prefix, user_api, internal_api)\n",
      "  File \"/home/ehgeraldo/miniconda3/lib/python3.9/site-packages/threadpoolctl.py\", line 606, in __init__\n",
      "    self.version = self.get_version()\n",
      "  File \"/home/ehgeraldo/miniconda3/lib/python3.9/site-packages/threadpoolctl.py\", line 646, in get_version\n",
      "    config = get_config().split()\n",
      "AttributeError: 'NoneType' object has no attribute 'split'\n",
      "Exception ignored on calling ctypes callback function: <function _ThreadpoolInfo._find_modules_with_dl_iterate_phdr.<locals>.match_module_callback at 0x7f34dde47b80>\n",
      "Traceback (most recent call last):\n",
      "  File \"/home/ehgeraldo/miniconda3/lib/python3.9/site-packages/threadpoolctl.py\", line 400, in match_module_callback\n",
      "    self._make_module_from_path(filepath)\n",
      "  File \"/home/ehgeraldo/miniconda3/lib/python3.9/site-packages/threadpoolctl.py\", line 515, in _make_module_from_path\n",
      "    module = module_class(filepath, prefix, user_api, internal_api)\n",
      "  File \"/home/ehgeraldo/miniconda3/lib/python3.9/site-packages/threadpoolctl.py\", line 606, in __init__\n",
      "    self.version = self.get_version()\n",
      "  File \"/home/ehgeraldo/miniconda3/lib/python3.9/site-packages/threadpoolctl.py\", line 646, in get_version\n",
      "    config = get_config().split()\n",
      "AttributeError: 'NoneType' object has no attribute 'split'\n",
      "Exception ignored on calling ctypes callback function: <function _ThreadpoolInfo._find_modules_with_dl_iterate_phdr.<locals>.match_module_callback at 0x7f34dde47b80>\n",
      "Traceback (most recent call last):\n",
      "  File \"/home/ehgeraldo/miniconda3/lib/python3.9/site-packages/threadpoolctl.py\", line 400, in match_module_callback\n",
      "    self._make_module_from_path(filepath)\n",
      "  File \"/home/ehgeraldo/miniconda3/lib/python3.9/site-packages/threadpoolctl.py\", line 515, in _make_module_from_path\n",
      "    module = module_class(filepath, prefix, user_api, internal_api)\n",
      "  File \"/home/ehgeraldo/miniconda3/lib/python3.9/site-packages/threadpoolctl.py\", line 606, in __init__\n",
      "    self.version = self.get_version()\n",
      "  File \"/home/ehgeraldo/miniconda3/lib/python3.9/site-packages/threadpoolctl.py\", line 646, in get_version\n",
      "    config = get_config().split()\n",
      "AttributeError: 'NoneType' object has no attribute 'split'\n",
      "Exception ignored on calling ctypes callback function: <function _ThreadpoolInfo._find_modules_with_dl_iterate_phdr.<locals>.match_module_callback at 0x7f34dde47b80>\n",
      "Traceback (most recent call last):\n",
      "  File \"/home/ehgeraldo/miniconda3/lib/python3.9/site-packages/threadpoolctl.py\", line 400, in match_module_callback\n",
      "    self._make_module_from_path(filepath)\n",
      "  File \"/home/ehgeraldo/miniconda3/lib/python3.9/site-packages/threadpoolctl.py\", line 515, in _make_module_from_path\n",
      "    module = module_class(filepath, prefix, user_api, internal_api)\n",
      "  File \"/home/ehgeraldo/miniconda3/lib/python3.9/site-packages/threadpoolctl.py\", line 606, in __init__\n",
      "    self.version = self.get_version()\n",
      "  File \"/home/ehgeraldo/miniconda3/lib/python3.9/site-packages/threadpoolctl.py\", line 646, in get_version\n",
      "    config = get_config().split()\n",
      "AttributeError: 'NoneType' object has no attribute 'split'\n"
     ]
    },
    {
     "data": {
      "image/png": "[encoded data removed]",
      "text/plain": [
       "<Figure size 720x360 with 1 Axes>"
      ]
     },
     "metadata": {
      "needs_background": "light"
     },
     "output_type": "display_data"
    }
   ],
   "source": [
    "optimise_k_means(df1[['DEN_T','GR_T']],10)"
   ]
  },
  {
   "cell_type": "code",
   "execution_count": 48,
   "id": "6ca7bf19",
   "metadata": {
    "ExecuteTime": {
     "end_time": "2022-09-17T20:55:40.550088Z",
     "start_time": "2022-09-17T20:55:38.918696Z"
    }
   },
   "outputs": [
    {
     "name": "stderr",
     "output_type": "stream",
     "text": [
      "Exception ignored on calling ctypes callback function: <function _ThreadpoolInfo._find_modules_with_dl_iterate_phdr.<locals>.match_module_callback at 0x7f34d9a4ad30>\n",
      "Traceback (most recent call last):\n",
      "  File \"/home/ehgeraldo/miniconda3/lib/python3.9/site-packages/threadpoolctl.py\", line 400, in match_module_callback\n",
      "    self._make_module_from_path(filepath)\n",
      "  File \"/home/ehgeraldo/miniconda3/lib/python3.9/site-packages/threadpoolctl.py\", line 515, in _make_module_from_path\n",
      "    module = module_class(filepath, prefix, user_api, internal_api)\n",
      "  File \"/home/ehgeraldo/miniconda3/lib/python3.9/site-packages/threadpoolctl.py\", line 606, in __init__\n",
      "    self.version = self.get_version()\n",
      "  File \"/home/ehgeraldo/miniconda3/lib/python3.9/site-packages/threadpoolctl.py\", line 646, in get_version\n",
      "    config = get_config().split()\n",
      "AttributeError: 'NoneType' object has no attribute 'split'\n",
      "Exception ignored on calling ctypes callback function: <function _ThreadpoolInfo._find_modules_with_dl_iterate_phdr.<locals>.match_module_callback at 0x7f34d9a4ad30>\n",
      "Traceback (most recent call last):\n",
      "  File \"/home/ehgeraldo/miniconda3/lib/python3.9/site-packages/threadpoolctl.py\", line 400, in match_module_callback\n",
      "    self._make_module_from_path(filepath)\n",
      "  File \"/home/ehgeraldo/miniconda3/lib/python3.9/site-packages/threadpoolctl.py\", line 515, in _make_module_from_path\n",
      "    module = module_class(filepath, prefix, user_api, internal_api)\n",
      "  File \"/home/ehgeraldo/miniconda3/lib/python3.9/site-packages/threadpoolctl.py\", line 606, in __init__\n",
      "    self.version = self.get_version()\n",
      "  File \"/home/ehgeraldo/miniconda3/lib/python3.9/site-packages/threadpoolctl.py\", line 646, in get_version\n",
      "    config = get_config().split()\n",
      "AttributeError: 'NoneType' object has no attribute 'split'\n",
      "Exception ignored on calling ctypes callback function: <function _ThreadpoolInfo._find_modules_with_dl_iterate_phdr.<locals>.match_module_callback at 0x7f34d9a4ad30>\n",
      "Traceback (most recent call last):\n",
      "  File \"/home/ehgeraldo/miniconda3/lib/python3.9/site-packages/threadpoolctl.py\", line 400, in match_module_callback\n",
      "    self._make_module_from_path(filepath)\n",
      "  File \"/home/ehgeraldo/miniconda3/lib/python3.9/site-packages/threadpoolctl.py\", line 515, in _make_module_from_path\n",
      "    module = module_class(filepath, prefix, user_api, internal_api)\n",
      "  File \"/home/ehgeraldo/miniconda3/lib/python3.9/site-packages/threadpoolctl.py\", line 606, in __init__\n",
      "    self.version = self.get_version()\n",
      "  File \"/home/ehgeraldo/miniconda3/lib/python3.9/site-packages/threadpoolctl.py\", line 646, in get_version\n",
      "    config = get_config().split()\n",
      "AttributeError: 'NoneType' object has no attribute 'split'\n",
      "Exception ignored on calling ctypes callback function: <function _ThreadpoolInfo._find_modules_with_dl_iterate_phdr.<locals>.match_module_callback at 0x7f34d9a4ad30>\n",
      "Traceback (most recent call last):\n",
      "  File \"/home/ehgeraldo/miniconda3/lib/python3.9/site-packages/threadpoolctl.py\", line 400, in match_module_callback\n",
      "    self._make_module_from_path(filepath)\n",
      "  File \"/home/ehgeraldo/miniconda3/lib/python3.9/site-packages/threadpoolctl.py\", line 515, in _make_module_from_path\n",
      "    module = module_class(filepath, prefix, user_api, internal_api)\n",
      "  File \"/home/ehgeraldo/miniconda3/lib/python3.9/site-packages/threadpoolctl.py\", line 606, in __init__\n",
      "    self.version = self.get_version()\n",
      "  File \"/home/ehgeraldo/miniconda3/lib/python3.9/site-packages/threadpoolctl.py\", line 646, in get_version\n",
      "    config = get_config().split()\n",
      "AttributeError: 'NoneType' object has no attribute 'split'\n",
      "Exception ignored on calling ctypes callback function: <function _ThreadpoolInfo._find_modules_with_dl_iterate_phdr.<locals>.match_module_callback at 0x7f34d9a4ad30>\n",
      "Traceback (most recent call last):\n",
      "  File \"/home/ehgeraldo/miniconda3/lib/python3.9/site-packages/threadpoolctl.py\", line 400, in match_module_callback\n",
      "    self._make_module_from_path(filepath)\n",
      "  File \"/home/ehgeraldo/miniconda3/lib/python3.9/site-packages/threadpoolctl.py\", line 515, in _make_module_from_path\n",
      "    module = module_class(filepath, prefix, user_api, internal_api)\n",
      "  File \"/home/ehgeraldo/miniconda3/lib/python3.9/site-packages/threadpoolctl.py\", line 606, in __init__\n",
      "    self.version = self.get_version()\n",
      "  File \"/home/ehgeraldo/miniconda3/lib/python3.9/site-packages/threadpoolctl.py\", line 646, in get_version\n",
      "    config = get_config().split()\n",
      "AttributeError: 'NoneType' object has no attribute 'split'\n",
      "Exception ignored on calling ctypes callback function: <function _ThreadpoolInfo._find_modules_with_dl_iterate_phdr.<locals>.match_module_callback at 0x7f34d9a4ad30>\n",
      "Traceback (most recent call last):\n",
      "  File \"/home/ehgeraldo/miniconda3/lib/python3.9/site-packages/threadpoolctl.py\", line 400, in match_module_callback\n",
      "    self._make_module_from_path(filepath)\n",
      "  File \"/home/ehgeraldo/miniconda3/lib/python3.9/site-packages/threadpoolctl.py\", line 515, in _make_module_from_path\n",
      "    module = module_class(filepath, prefix, user_api, internal_api)\n",
      "  File \"/home/ehgeraldo/miniconda3/lib/python3.9/site-packages/threadpoolctl.py\", line 606, in __init__\n",
      "    self.version = self.get_version()\n",
      "  File \"/home/ehgeraldo/miniconda3/lib/python3.9/site-packages/threadpoolctl.py\", line 646, in get_version\n",
      "    config = get_config().split()\n",
      "AttributeError: 'NoneType' object has no attribute 'split'\n",
      "Exception ignored on calling ctypes callback function: <function _ThreadpoolInfo._find_modules_with_dl_iterate_phdr.<locals>.match_module_callback at 0x7f34d9a4ad30>\n",
      "Traceback (most recent call last):\n",
      "  File \"/home/ehgeraldo/miniconda3/lib/python3.9/site-packages/threadpoolctl.py\", line 400, in match_module_callback\n",
      "    self._make_module_from_path(filepath)\n",
      "  File \"/home/ehgeraldo/miniconda3/lib/python3.9/site-packages/threadpoolctl.py\", line 515, in _make_module_from_path\n",
      "    module = module_class(filepath, prefix, user_api, internal_api)\n",
      "  File \"/home/ehgeraldo/miniconda3/lib/python3.9/site-packages/threadpoolctl.py\", line 606, in __init__\n",
      "    self.version = self.get_version()\n",
      "  File \"/home/ehgeraldo/miniconda3/lib/python3.9/site-packages/threadpoolctl.py\", line 646, in get_version\n",
      "    config = get_config().split()\n",
      "AttributeError: 'NoneType' object has no attribute 'split'\n",
      "Exception ignored on calling ctypes callback function: <function _ThreadpoolInfo._find_modules_with_dl_iterate_phdr.<locals>.match_module_callback at 0x7f34d9a4ad30>\n",
      "Traceback (most recent call last):\n",
      "  File \"/home/ehgeraldo/miniconda3/lib/python3.9/site-packages/threadpoolctl.py\", line 400, in match_module_callback\n",
      "    self._make_module_from_path(filepath)\n",
      "  File \"/home/ehgeraldo/miniconda3/lib/python3.9/site-packages/threadpoolctl.py\", line 515, in _make_module_from_path\n",
      "    module = module_class(filepath, prefix, user_api, internal_api)\n",
      "  File \"/home/ehgeraldo/miniconda3/lib/python3.9/site-packages/threadpoolctl.py\", line 606, in __init__\n",
      "    self.version = self.get_version()\n",
      "  File \"/home/ehgeraldo/miniconda3/lib/python3.9/site-packages/threadpoolctl.py\", line 646, in get_version\n",
      "    config = get_config().split()\n",
      "AttributeError: 'NoneType' object has no attribute 'split'\n",
      "Exception ignored on calling ctypes callback function: <function _ThreadpoolInfo._find_modules_with_dl_iterate_phdr.<locals>.match_module_callback at 0x7f34d9a4ad30>\n",
      "Traceback (most recent call last):\n",
      "  File \"/home/ehgeraldo/miniconda3/lib/python3.9/site-packages/threadpoolctl.py\", line 400, in match_module_callback\n",
      "    self._make_module_from_path(filepath)\n",
      "  File \"/home/ehgeraldo/miniconda3/lib/python3.9/site-packages/threadpoolctl.py\", line 515, in _make_module_from_path\n",
      "    module = module_class(filepath, prefix, user_api, internal_api)\n",
      "  File \"/home/ehgeraldo/miniconda3/lib/python3.9/site-packages/threadpoolctl.py\", line 606, in __init__\n",
      "    self.version = self.get_version()\n",
      "  File \"/home/ehgeraldo/miniconda3/lib/python3.9/site-packages/threadpoolctl.py\", line 646, in get_version\n",
      "    config = get_config().split()\n",
      "AttributeError: 'NoneType' object has no attribute 'split'\n",
      "Exception ignored on calling ctypes callback function: <function _ThreadpoolInfo._find_modules_with_dl_iterate_phdr.<locals>.match_module_callback at 0x7f34d9a4ad30>\n",
      "Traceback (most recent call last):\n",
      "  File \"/home/ehgeraldo/miniconda3/lib/python3.9/site-packages/threadpoolctl.py\", line 400, in match_module_callback\n",
      "    self._make_module_from_path(filepath)\n",
      "  File \"/home/ehgeraldo/miniconda3/lib/python3.9/site-packages/threadpoolctl.py\", line 515, in _make_module_from_path\n",
      "    module = module_class(filepath, prefix, user_api, internal_api)\n",
      "  File \"/home/ehgeraldo/miniconda3/lib/python3.9/site-packages/threadpoolctl.py\", line 606, in __init__\n",
      "    self.version = self.get_version()\n",
      "  File \"/home/ehgeraldo/miniconda3/lib/python3.9/site-packages/threadpoolctl.py\", line 646, in get_version\n",
      "    config = get_config().split()\n",
      "AttributeError: 'NoneType' object has no attribute 'split'\n"
     ]
    },
    {
     "data": {
      "image/png": "[encoded data removed]",
      "text/plain": [
       "<Figure size 720x360 with 1 Axes>"
      ]
     },
     "metadata": {
      "needs_background": "light"
     },
     "output_type": "display_data"
    }
   ],
   "source": [
    "optimise_k_means(df1[['GR_T','NEU_T']],10)"
   ]
  },
  {
   "cell_type": "code",
   "execution_count": 82,
   "id": "af34ed1d",
   "metadata": {
    "ExecuteTime": {
     "end_time": "2022-09-17T22:12:01.805610Z",
     "start_time": "2022-09-17T22:12:00.018295Z"
    }
   },
   "outputs": [
    {
     "name": "stderr",
     "output_type": "stream",
     "text": [
      "Exception ignored on calling ctypes callback function: <function _ThreadpoolInfo._find_modules_with_dl_iterate_phdr.<locals>.match_module_callback at 0x7f34d6f6fe50>\n",
      "Traceback (most recent call last):\n",
      "  File \"/home/ehgeraldo/miniconda3/lib/python3.9/site-packages/threadpoolctl.py\", line 400, in match_module_callback\n",
      "    self._make_module_from_path(filepath)\n",
      "  File \"/home/ehgeraldo/miniconda3/lib/python3.9/site-packages/threadpoolctl.py\", line 515, in _make_module_from_path\n",
      "    module = module_class(filepath, prefix, user_api, internal_api)\n",
      "  File \"/home/ehgeraldo/miniconda3/lib/python3.9/site-packages/threadpoolctl.py\", line 606, in __init__\n",
      "    self.version = self.get_version()\n",
      "  File \"/home/ehgeraldo/miniconda3/lib/python3.9/site-packages/threadpoolctl.py\", line 646, in get_version\n",
      "    config = get_config().split()\n",
      "AttributeError: 'NoneType' object has no attribute 'split'\n",
      "Exception ignored on calling ctypes callback function: <function _ThreadpoolInfo._find_modules_with_dl_iterate_phdr.<locals>.match_module_callback at 0x7f34d6f6fe50>\n",
      "Traceback (most recent call last):\n",
      "  File \"/home/ehgeraldo/miniconda3/lib/python3.9/site-packages/threadpoolctl.py\", line 400, in match_module_callback\n",
      "    self._make_module_from_path(filepath)\n",
      "  File \"/home/ehgeraldo/miniconda3/lib/python3.9/site-packages/threadpoolctl.py\", line 515, in _make_module_from_path\n",
      "    module = module_class(filepath, prefix, user_api, internal_api)\n",
      "  File \"/home/ehgeraldo/miniconda3/lib/python3.9/site-packages/threadpoolctl.py\", line 606, in __init__\n",
      "    self.version = self.get_version()\n",
      "  File \"/home/ehgeraldo/miniconda3/lib/python3.9/site-packages/threadpoolctl.py\", line 646, in get_version\n",
      "    config = get_config().split()\n",
      "AttributeError: 'NoneType' object has no attribute 'split'\n",
      "Exception ignored on calling ctypes callback function: <function _ThreadpoolInfo._find_modules_with_dl_iterate_phdr.<locals>.match_module_callback at 0x7f34d7142ca0>\n",
      "Traceback (most recent call last):\n",
      "  File \"/home/ehgeraldo/miniconda3/lib/python3.9/site-packages/threadpoolctl.py\", line 400, in match_module_callback\n",
      "    self._make_module_from_path(filepath)\n",
      "  File \"/home/ehgeraldo/miniconda3/lib/python3.9/site-packages/threadpoolctl.py\", line 515, in _make_module_from_path\n",
      "    module = module_class(filepath, prefix, user_api, internal_api)\n",
      "  File \"/home/ehgeraldo/miniconda3/lib/python3.9/site-packages/threadpoolctl.py\", line 606, in __init__\n",
      "    self.version = self.get_version()\n",
      "  File \"/home/ehgeraldo/miniconda3/lib/python3.9/site-packages/threadpoolctl.py\", line 646, in get_version\n",
      "    config = get_config().split()\n",
      "AttributeError: 'NoneType' object has no attribute 'split'\n",
      "Exception ignored on calling ctypes callback function: <function _ThreadpoolInfo._find_modules_with_dl_iterate_phdr.<locals>.match_module_callback at 0x7f34d7142ca0>\n",
      "Traceback (most recent call last):\n",
      "  File \"/home/ehgeraldo/miniconda3/lib/python3.9/site-packages/threadpoolctl.py\", line 400, in match_module_callback\n",
      "    self._make_module_from_path(filepath)\n",
      "  File \"/home/ehgeraldo/miniconda3/lib/python3.9/site-packages/threadpoolctl.py\", line 515, in _make_module_from_path\n",
      "    module = module_class(filepath, prefix, user_api, internal_api)\n",
      "  File \"/home/ehgeraldo/miniconda3/lib/python3.9/site-packages/threadpoolctl.py\", line 606, in __init__\n",
      "    self.version = self.get_version()\n",
      "  File \"/home/ehgeraldo/miniconda3/lib/python3.9/site-packages/threadpoolctl.py\", line 646, in get_version\n",
      "    config = get_config().split()\n",
      "AttributeError: 'NoneType' object has no attribute 'split'\n",
      "Exception ignored on calling ctypes callback function: <function _ThreadpoolInfo._find_modules_with_dl_iterate_phdr.<locals>.match_module_callback at 0x7f34d7142ca0>\n",
      "Traceback (most recent call last):\n",
      "  File \"/home/ehgeraldo/miniconda3/lib/python3.9/site-packages/threadpoolctl.py\", line 400, in match_module_callback\n",
      "    self._make_module_from_path(filepath)\n",
      "  File \"/home/ehgeraldo/miniconda3/lib/python3.9/site-packages/threadpoolctl.py\", line 515, in _make_module_from_path\n",
      "    module = module_class(filepath, prefix, user_api, internal_api)\n",
      "  File \"/home/ehgeraldo/miniconda3/lib/python3.9/site-packages/threadpoolctl.py\", line 606, in __init__\n",
      "    self.version = self.get_version()\n",
      "  File \"/home/ehgeraldo/miniconda3/lib/python3.9/site-packages/threadpoolctl.py\", line 646, in get_version\n",
      "    config = get_config().split()\n",
      "AttributeError: 'NoneType' object has no attribute 'split'\n",
      "Exception ignored on calling ctypes callback function: <function _ThreadpoolInfo._find_modules_with_dl_iterate_phdr.<locals>.match_module_callback at 0x7f34d7142ca0>\n",
      "Traceback (most recent call last):\n",
      "  File \"/home/ehgeraldo/miniconda3/lib/python3.9/site-packages/threadpoolctl.py\", line 400, in match_module_callback\n",
      "    self._make_module_from_path(filepath)\n",
      "  File \"/home/ehgeraldo/miniconda3/lib/python3.9/site-packages/threadpoolctl.py\", line 515, in _make_module_from_path\n",
      "    module = module_class(filepath, prefix, user_api, internal_api)\n",
      "  File \"/home/ehgeraldo/miniconda3/lib/python3.9/site-packages/threadpoolctl.py\", line 606, in __init__\n",
      "    self.version = self.get_version()\n",
      "  File \"/home/ehgeraldo/miniconda3/lib/python3.9/site-packages/threadpoolctl.py\", line 646, in get_version\n",
      "    config = get_config().split()\n",
      "AttributeError: 'NoneType' object has no attribute 'split'\n",
      "Exception ignored on calling ctypes callback function: <function _ThreadpoolInfo._find_modules_with_dl_iterate_phdr.<locals>.match_module_callback at 0x7f34d7142ca0>\n",
      "Traceback (most recent call last):\n",
      "  File \"/home/ehgeraldo/miniconda3/lib/python3.9/site-packages/threadpoolctl.py\", line 400, in match_module_callback\n",
      "    self._make_module_from_path(filepath)\n",
      "  File \"/home/ehgeraldo/miniconda3/lib/python3.9/site-packages/threadpoolctl.py\", line 515, in _make_module_from_path\n",
      "    module = module_class(filepath, prefix, user_api, internal_api)\n",
      "  File \"/home/ehgeraldo/miniconda3/lib/python3.9/site-packages/threadpoolctl.py\", line 606, in __init__\n",
      "    self.version = self.get_version()\n",
      "  File \"/home/ehgeraldo/miniconda3/lib/python3.9/site-packages/threadpoolctl.py\", line 646, in get_version\n",
      "    config = get_config().split()\n",
      "AttributeError: 'NoneType' object has no attribute 'split'\n",
      "Exception ignored on calling ctypes callback function: <function _ThreadpoolInfo._find_modules_with_dl_iterate_phdr.<locals>.match_module_callback at 0x7f34d7142ca0>\n",
      "Traceback (most recent call last):\n",
      "  File \"/home/ehgeraldo/miniconda3/lib/python3.9/site-packages/threadpoolctl.py\", line 400, in match_module_callback\n",
      "    self._make_module_from_path(filepath)\n",
      "  File \"/home/ehgeraldo/miniconda3/lib/python3.9/site-packages/threadpoolctl.py\", line 515, in _make_module_from_path\n",
      "    module = module_class(filepath, prefix, user_api, internal_api)\n",
      "  File \"/home/ehgeraldo/miniconda3/lib/python3.9/site-packages/threadpoolctl.py\", line 606, in __init__\n",
      "    self.version = self.get_version()\n",
      "  File \"/home/ehgeraldo/miniconda3/lib/python3.9/site-packages/threadpoolctl.py\", line 646, in get_version\n",
      "    config = get_config().split()\n",
      "AttributeError: 'NoneType' object has no attribute 'split'\n",
      "Exception ignored on calling ctypes callback function: <function _ThreadpoolInfo._find_modules_with_dl_iterate_phdr.<locals>.match_module_callback at 0x7f34d7142ca0>\n",
      "Traceback (most recent call last):\n",
      "  File \"/home/ehgeraldo/miniconda3/lib/python3.9/site-packages/threadpoolctl.py\", line 400, in match_module_callback\n",
      "    self._make_module_from_path(filepath)\n",
      "  File \"/home/ehgeraldo/miniconda3/lib/python3.9/site-packages/threadpoolctl.py\", line 515, in _make_module_from_path\n",
      "    module = module_class(filepath, prefix, user_api, internal_api)\n",
      "  File \"/home/ehgeraldo/miniconda3/lib/python3.9/site-packages/threadpoolctl.py\", line 606, in __init__\n",
      "    self.version = self.get_version()\n",
      "  File \"/home/ehgeraldo/miniconda3/lib/python3.9/site-packages/threadpoolctl.py\", line 646, in get_version\n",
      "    config = get_config().split()\n",
      "AttributeError: 'NoneType' object has no attribute 'split'\n",
      "Exception ignored on calling ctypes callback function: <function _ThreadpoolInfo._find_modules_with_dl_iterate_phdr.<locals>.match_module_callback at 0x7f34d7142ca0>\n",
      "Traceback (most recent call last):\n",
      "  File \"/home/ehgeraldo/miniconda3/lib/python3.9/site-packages/threadpoolctl.py\", line 400, in match_module_callback\n",
      "    self._make_module_from_path(filepath)\n",
      "  File \"/home/ehgeraldo/miniconda3/lib/python3.9/site-packages/threadpoolctl.py\", line 515, in _make_module_from_path\n",
      "    module = module_class(filepath, prefix, user_api, internal_api)\n",
      "  File \"/home/ehgeraldo/miniconda3/lib/python3.9/site-packages/threadpoolctl.py\", line 606, in __init__\n",
      "    self.version = self.get_version()\n",
      "  File \"/home/ehgeraldo/miniconda3/lib/python3.9/site-packages/threadpoolctl.py\", line 646, in get_version\n",
      "    config = get_config().split()\n",
      "AttributeError: 'NoneType' object has no attribute 'split'\n"
     ]
    },
    {
     "data": {
      "image/png": "[encoded data removed]",
      "text/plain": [
       "<Figure size 720x360 with 1 Axes>"
      ]
     },
     "metadata": {
      "needs_background": "light"
     },
     "output_type": "display_data"
    }
   ],
   "source": [
    "optimise_k_means(df1[['DEN_T','NEU_T']],10)"
   ]
  },
  {
   "cell_type": "code",
   "execution_count": 45,
   "id": "df9e6184",
   "metadata": {
    "ExecuteTime": {
     "end_time": "2022-09-17T20:52:34.446826Z",
     "start_time": "2022-09-17T20:52:32.929497Z"
    }
   },
   "outputs": [
    {
     "name": "stderr",
     "output_type": "stream",
     "text": [
      "Exception ignored on calling ctypes callback function: <function _ThreadpoolInfo._find_modules_with_dl_iterate_phdr.<locals>.match_module_callback at 0x7f34dde47af0>\n",
      "Traceback (most recent call last):\n",
      "  File \"/home/ehgeraldo/miniconda3/lib/python3.9/site-packages/threadpoolctl.py\", line 400, in match_module_callback\n",
      "    self._make_module_from_path(filepath)\n",
      "  File \"/home/ehgeraldo/miniconda3/lib/python3.9/site-packages/threadpoolctl.py\", line 515, in _make_module_from_path\n",
      "    module = module_class(filepath, prefix, user_api, internal_api)\n",
      "  File \"/home/ehgeraldo/miniconda3/lib/python3.9/site-packages/threadpoolctl.py\", line 606, in __init__\n",
      "    self.version = self.get_version()\n",
      "  File \"/home/ehgeraldo/miniconda3/lib/python3.9/site-packages/threadpoolctl.py\", line 646, in get_version\n",
      "    config = get_config().split()\n",
      "AttributeError: 'NoneType' object has no attribute 'split'\n",
      "Exception ignored on calling ctypes callback function: <function _ThreadpoolInfo._find_modules_with_dl_iterate_phdr.<locals>.match_module_callback at 0x7f34dde47af0>\n",
      "Traceback (most recent call last):\n",
      "  File \"/home/ehgeraldo/miniconda3/lib/python3.9/site-packages/threadpoolctl.py\", line 400, in match_module_callback\n",
      "    self._make_module_from_path(filepath)\n",
      "  File \"/home/ehgeraldo/miniconda3/lib/python3.9/site-packages/threadpoolctl.py\", line 515, in _make_module_from_path\n",
      "    module = module_class(filepath, prefix, user_api, internal_api)\n",
      "  File \"/home/ehgeraldo/miniconda3/lib/python3.9/site-packages/threadpoolctl.py\", line 606, in __init__\n",
      "    self.version = self.get_version()\n",
      "  File \"/home/ehgeraldo/miniconda3/lib/python3.9/site-packages/threadpoolctl.py\", line 646, in get_version\n",
      "    config = get_config().split()\n",
      "AttributeError: 'NoneType' object has no attribute 'split'\n",
      "Exception ignored on calling ctypes callback function: <function _ThreadpoolInfo._find_modules_with_dl_iterate_phdr.<locals>.match_module_callback at 0x7f34dde47af0>\n",
      "Traceback (most recent call last):\n",
      "  File \"/home/ehgeraldo/miniconda3/lib/python3.9/site-packages/threadpoolctl.py\", line 400, in match_module_callback\n",
      "    self._make_module_from_path(filepath)\n",
      "  File \"/home/ehgeraldo/miniconda3/lib/python3.9/site-packages/threadpoolctl.py\", line 515, in _make_module_from_path\n",
      "    module = module_class(filepath, prefix, user_api, internal_api)\n",
      "  File \"/home/ehgeraldo/miniconda3/lib/python3.9/site-packages/threadpoolctl.py\", line 606, in __init__\n",
      "    self.version = self.get_version()\n",
      "  File \"/home/ehgeraldo/miniconda3/lib/python3.9/site-packages/threadpoolctl.py\", line 646, in get_version\n",
      "    config = get_config().split()\n",
      "AttributeError: 'NoneType' object has no attribute 'split'\n",
      "Exception ignored on calling ctypes callback function: <function _ThreadpoolInfo._find_modules_with_dl_iterate_phdr.<locals>.match_module_callback at 0x7f34dde47af0>\n",
      "Traceback (most recent call last):\n",
      "  File \"/home/ehgeraldo/miniconda3/lib/python3.9/site-packages/threadpoolctl.py\", line 400, in match_module_callback\n",
      "    self._make_module_from_path(filepath)\n",
      "  File \"/home/ehgeraldo/miniconda3/lib/python3.9/site-packages/threadpoolctl.py\", line 515, in _make_module_from_path\n",
      "    module = module_class(filepath, prefix, user_api, internal_api)\n",
      "  File \"/home/ehgeraldo/miniconda3/lib/python3.9/site-packages/threadpoolctl.py\", line 606, in __init__\n",
      "    self.version = self.get_version()\n",
      "  File \"/home/ehgeraldo/miniconda3/lib/python3.9/site-packages/threadpoolctl.py\", line 646, in get_version\n",
      "    config = get_config().split()\n",
      "AttributeError: 'NoneType' object has no attribute 'split'\n",
      "Exception ignored on calling ctypes callback function: <function _ThreadpoolInfo._find_modules_with_dl_iterate_phdr.<locals>.match_module_callback at 0x7f34dde47af0>\n",
      "Traceback (most recent call last):\n",
      "  File \"/home/ehgeraldo/miniconda3/lib/python3.9/site-packages/threadpoolctl.py\", line 400, in match_module_callback\n",
      "    self._make_module_from_path(filepath)\n",
      "  File \"/home/ehgeraldo/miniconda3/lib/python3.9/site-packages/threadpoolctl.py\", line 515, in _make_module_from_path\n",
      "    module = module_class(filepath, prefix, user_api, internal_api)\n",
      "  File \"/home/ehgeraldo/miniconda3/lib/python3.9/site-packages/threadpoolctl.py\", line 606, in __init__\n",
      "    self.version = self.get_version()\n",
      "  File \"/home/ehgeraldo/miniconda3/lib/python3.9/site-packages/threadpoolctl.py\", line 646, in get_version\n",
      "    config = get_config().split()\n",
      "AttributeError: 'NoneType' object has no attribute 'split'\n",
      "Exception ignored on calling ctypes callback function: <function _ThreadpoolInfo._find_modules_with_dl_iterate_phdr.<locals>.match_module_callback at 0x7f34dde47af0>\n",
      "Traceback (most recent call last):\n",
      "  File \"/home/ehgeraldo/miniconda3/lib/python3.9/site-packages/threadpoolctl.py\", line 400, in match_module_callback\n",
      "    self._make_module_from_path(filepath)\n",
      "  File \"/home/ehgeraldo/miniconda3/lib/python3.9/site-packages/threadpoolctl.py\", line 515, in _make_module_from_path\n",
      "    module = module_class(filepath, prefix, user_api, internal_api)\n",
      "  File \"/home/ehgeraldo/miniconda3/lib/python3.9/site-packages/threadpoolctl.py\", line 606, in __init__\n",
      "    self.version = self.get_version()\n",
      "  File \"/home/ehgeraldo/miniconda3/lib/python3.9/site-packages/threadpoolctl.py\", line 646, in get_version\n",
      "    config = get_config().split()\n",
      "AttributeError: 'NoneType' object has no attribute 'split'\n",
      "Exception ignored on calling ctypes callback function: <function _ThreadpoolInfo._find_modules_with_dl_iterate_phdr.<locals>.match_module_callback at 0x7f34dde47af0>\n",
      "Traceback (most recent call last):\n",
      "  File \"/home/ehgeraldo/miniconda3/lib/python3.9/site-packages/threadpoolctl.py\", line 400, in match_module_callback\n",
      "    self._make_module_from_path(filepath)\n",
      "  File \"/home/ehgeraldo/miniconda3/lib/python3.9/site-packages/threadpoolctl.py\", line 515, in _make_module_from_path\n",
      "    module = module_class(filepath, prefix, user_api, internal_api)\n",
      "  File \"/home/ehgeraldo/miniconda3/lib/python3.9/site-packages/threadpoolctl.py\", line 606, in __init__\n",
      "    self.version = self.get_version()\n",
      "  File \"/home/ehgeraldo/miniconda3/lib/python3.9/site-packages/threadpoolctl.py\", line 646, in get_version\n",
      "    config = get_config().split()\n",
      "AttributeError: 'NoneType' object has no attribute 'split'\n",
      "Exception ignored on calling ctypes callback function: <function _ThreadpoolInfo._find_modules_with_dl_iterate_phdr.<locals>.match_module_callback at 0x7f34dde47af0>\n",
      "Traceback (most recent call last):\n",
      "  File \"/home/ehgeraldo/miniconda3/lib/python3.9/site-packages/threadpoolctl.py\", line 400, in match_module_callback\n",
      "    self._make_module_from_path(filepath)\n",
      "  File \"/home/ehgeraldo/miniconda3/lib/python3.9/site-packages/threadpoolctl.py\", line 515, in _make_module_from_path\n",
      "    module = module_class(filepath, prefix, user_api, internal_api)\n",
      "  File \"/home/ehgeraldo/miniconda3/lib/python3.9/site-packages/threadpoolctl.py\", line 606, in __init__\n",
      "    self.version = self.get_version()\n",
      "  File \"/home/ehgeraldo/miniconda3/lib/python3.9/site-packages/threadpoolctl.py\", line 646, in get_version\n",
      "    config = get_config().split()\n",
      "AttributeError: 'NoneType' object has no attribute 'split'\n",
      "Exception ignored on calling ctypes callback function: <function _ThreadpoolInfo._find_modules_with_dl_iterate_phdr.<locals>.match_module_callback at 0x7f34dde47af0>\n",
      "Traceback (most recent call last):\n",
      "  File \"/home/ehgeraldo/miniconda3/lib/python3.9/site-packages/threadpoolctl.py\", line 400, in match_module_callback\n",
      "    self._make_module_from_path(filepath)\n",
      "  File \"/home/ehgeraldo/miniconda3/lib/python3.9/site-packages/threadpoolctl.py\", line 515, in _make_module_from_path\n",
      "    module = module_class(filepath, prefix, user_api, internal_api)\n",
      "  File \"/home/ehgeraldo/miniconda3/lib/python3.9/site-packages/threadpoolctl.py\", line 606, in __init__\n",
      "    self.version = self.get_version()\n",
      "  File \"/home/ehgeraldo/miniconda3/lib/python3.9/site-packages/threadpoolctl.py\", line 646, in get_version\n",
      "    config = get_config().split()\n",
      "AttributeError: 'NoneType' object has no attribute 'split'\n",
      "Exception ignored on calling ctypes callback function: <function _ThreadpoolInfo._find_modules_with_dl_iterate_phdr.<locals>.match_module_callback at 0x7f34dde47af0>\n",
      "Traceback (most recent call last):\n",
      "  File \"/home/ehgeraldo/miniconda3/lib/python3.9/site-packages/threadpoolctl.py\", line 400, in match_module_callback\n",
      "    self._make_module_from_path(filepath)\n",
      "  File \"/home/ehgeraldo/miniconda3/lib/python3.9/site-packages/threadpoolctl.py\", line 515, in _make_module_from_path\n",
      "    module = module_class(filepath, prefix, user_api, internal_api)\n",
      "  File \"/home/ehgeraldo/miniconda3/lib/python3.9/site-packages/threadpoolctl.py\", line 606, in __init__\n",
      "    self.version = self.get_version()\n",
      "  File \"/home/ehgeraldo/miniconda3/lib/python3.9/site-packages/threadpoolctl.py\", line 646, in get_version\n",
      "    config = get_config().split()\n",
      "AttributeError: 'NoneType' object has no attribute 'split'\n"
     ]
    },
    {
     "data": {
      "image/png": "[encoded data removed]",
      "text/plain": [
       "<Figure size 720x360 with 1 Axes>"
      ]
     },
     "metadata": {
      "needs_background": "light"
     },
     "output_type": "display_data"
    }
   ],
   "source": [
    "optimise_k_means(df1[['RDEP_T', 'RMED_T']],10)"
   ]
  },
  {
   "cell_type": "code",
   "execution_count": 49,
   "id": "1f49044c",
   "metadata": {
    "ExecuteTime": {
     "end_time": "2022-09-17T20:57:51.597704Z",
     "start_time": "2022-09-17T20:57:49.156432Z"
    }
   },
   "outputs": [
    {
     "name": "stderr",
     "output_type": "stream",
     "text": [
      "Exception ignored on calling ctypes callback function: <function _ThreadpoolInfo._find_modules_with_dl_iterate_phdr.<locals>.match_module_callback at 0x7f34d9a0b040>\n",
      "Traceback (most recent call last):\n",
      "  File \"/home/ehgeraldo/miniconda3/lib/python3.9/site-packages/threadpoolctl.py\", line 400, in match_module_callback\n",
      "    self._make_module_from_path(filepath)\n",
      "  File \"/home/ehgeraldo/miniconda3/lib/python3.9/site-packages/threadpoolctl.py\", line 515, in _make_module_from_path\n",
      "    module = module_class(filepath, prefix, user_api, internal_api)\n",
      "  File \"/home/ehgeraldo/miniconda3/lib/python3.9/site-packages/threadpoolctl.py\", line 606, in __init__\n",
      "    self.version = self.get_version()\n",
      "  File \"/home/ehgeraldo/miniconda3/lib/python3.9/site-packages/threadpoolctl.py\", line 646, in get_version\n",
      "    config = get_config().split()\n",
      "AttributeError: 'NoneType' object has no attribute 'split'\n",
      "Exception ignored on calling ctypes callback function: <function _ThreadpoolInfo._find_modules_with_dl_iterate_phdr.<locals>.match_module_callback at 0x7f34d9a0b040>\n",
      "Traceback (most recent call last):\n",
      "  File \"/home/ehgeraldo/miniconda3/lib/python3.9/site-packages/threadpoolctl.py\", line 400, in match_module_callback\n",
      "    self._make_module_from_path(filepath)\n",
      "  File \"/home/ehgeraldo/miniconda3/lib/python3.9/site-packages/threadpoolctl.py\", line 515, in _make_module_from_path\n",
      "    module = module_class(filepath, prefix, user_api, internal_api)\n",
      "  File \"/home/ehgeraldo/miniconda3/lib/python3.9/site-packages/threadpoolctl.py\", line 606, in __init__\n",
      "    self.version = self.get_version()\n",
      "  File \"/home/ehgeraldo/miniconda3/lib/python3.9/site-packages/threadpoolctl.py\", line 646, in get_version\n",
      "    config = get_config().split()\n",
      "AttributeError: 'NoneType' object has no attribute 'split'\n",
      "Exception ignored on calling ctypes callback function: <function _ThreadpoolInfo._find_modules_with_dl_iterate_phdr.<locals>.match_module_callback at 0x7f34d9a0b040>\n",
      "Traceback (most recent call last):\n",
      "  File \"/home/ehgeraldo/miniconda3/lib/python3.9/site-packages/threadpoolctl.py\", line 400, in match_module_callback\n",
      "    self._make_module_from_path(filepath)\n",
      "  File \"/home/ehgeraldo/miniconda3/lib/python3.9/site-packages/threadpoolctl.py\", line 515, in _make_module_from_path\n",
      "    module = module_class(filepath, prefix, user_api, internal_api)\n",
      "  File \"/home/ehgeraldo/miniconda3/lib/python3.9/site-packages/threadpoolctl.py\", line 606, in __init__\n",
      "    self.version = self.get_version()\n",
      "  File \"/home/ehgeraldo/miniconda3/lib/python3.9/site-packages/threadpoolctl.py\", line 646, in get_version\n",
      "    config = get_config().split()\n",
      "AttributeError: 'NoneType' object has no attribute 'split'\n",
      "Exception ignored on calling ctypes callback function: <function _ThreadpoolInfo._find_modules_with_dl_iterate_phdr.<locals>.match_module_callback at 0x7f34d9a0b040>\n",
      "Traceback (most recent call last):\n",
      "  File \"/home/ehgeraldo/miniconda3/lib/python3.9/site-packages/threadpoolctl.py\", line 400, in match_module_callback\n",
      "    self._make_module_from_path(filepath)\n",
      "  File \"/home/ehgeraldo/miniconda3/lib/python3.9/site-packages/threadpoolctl.py\", line 515, in _make_module_from_path\n",
      "    module = module_class(filepath, prefix, user_api, internal_api)\n",
      "  File \"/home/ehgeraldo/miniconda3/lib/python3.9/site-packages/threadpoolctl.py\", line 606, in __init__\n",
      "    self.version = self.get_version()\n",
      "  File \"/home/ehgeraldo/miniconda3/lib/python3.9/site-packages/threadpoolctl.py\", line 646, in get_version\n",
      "    config = get_config().split()\n",
      "AttributeError: 'NoneType' object has no attribute 'split'\n",
      "Exception ignored on calling ctypes callback function: <function _ThreadpoolInfo._find_modules_with_dl_iterate_phdr.<locals>.match_module_callback at 0x7f34d9a0b040>\n",
      "Traceback (most recent call last):\n",
      "  File \"/home/ehgeraldo/miniconda3/lib/python3.9/site-packages/threadpoolctl.py\", line 400, in match_module_callback\n",
      "    self._make_module_from_path(filepath)\n",
      "  File \"/home/ehgeraldo/miniconda3/lib/python3.9/site-packages/threadpoolctl.py\", line 515, in _make_module_from_path\n",
      "    module = module_class(filepath, prefix, user_api, internal_api)\n",
      "  File \"/home/ehgeraldo/miniconda3/lib/python3.9/site-packages/threadpoolctl.py\", line 606, in __init__\n",
      "    self.version = self.get_version()\n",
      "  File \"/home/ehgeraldo/miniconda3/lib/python3.9/site-packages/threadpoolctl.py\", line 646, in get_version\n",
      "    config = get_config().split()\n",
      "AttributeError: 'NoneType' object has no attribute 'split'\n",
      "Exception ignored on calling ctypes callback function: <function _ThreadpoolInfo._find_modules_with_dl_iterate_phdr.<locals>.match_module_callback at 0x7f34d9a0b040>\n",
      "Traceback (most recent call last):\n",
      "  File \"/home/ehgeraldo/miniconda3/lib/python3.9/site-packages/threadpoolctl.py\", line 400, in match_module_callback\n",
      "    self._make_module_from_path(filepath)\n",
      "  File \"/home/ehgeraldo/miniconda3/lib/python3.9/site-packages/threadpoolctl.py\", line 515, in _make_module_from_path\n",
      "    module = module_class(filepath, prefix, user_api, internal_api)\n",
      "  File \"/home/ehgeraldo/miniconda3/lib/python3.9/site-packages/threadpoolctl.py\", line 606, in __init__\n",
      "    self.version = self.get_version()\n",
      "  File \"/home/ehgeraldo/miniconda3/lib/python3.9/site-packages/threadpoolctl.py\", line 646, in get_version\n",
      "    config = get_config().split()\n",
      "AttributeError: 'NoneType' object has no attribute 'split'\n",
      "Exception ignored on calling ctypes callback function: <function _ThreadpoolInfo._find_modules_with_dl_iterate_phdr.<locals>.match_module_callback at 0x7f34d9a0b040>\n",
      "Traceback (most recent call last):\n",
      "  File \"/home/ehgeraldo/miniconda3/lib/python3.9/site-packages/threadpoolctl.py\", line 400, in match_module_callback\n",
      "    self._make_module_from_path(filepath)\n",
      "  File \"/home/ehgeraldo/miniconda3/lib/python3.9/site-packages/threadpoolctl.py\", line 515, in _make_module_from_path\n",
      "    module = module_class(filepath, prefix, user_api, internal_api)\n",
      "  File \"/home/ehgeraldo/miniconda3/lib/python3.9/site-packages/threadpoolctl.py\", line 606, in __init__\n",
      "    self.version = self.get_version()\n",
      "  File \"/home/ehgeraldo/miniconda3/lib/python3.9/site-packages/threadpoolctl.py\", line 646, in get_version\n",
      "    config = get_config().split()\n",
      "AttributeError: 'NoneType' object has no attribute 'split'\n",
      "Exception ignored on calling ctypes callback function: <function _ThreadpoolInfo._find_modules_with_dl_iterate_phdr.<locals>.match_module_callback at 0x7f34d9a0b040>\n",
      "Traceback (most recent call last):\n",
      "  File \"/home/ehgeraldo/miniconda3/lib/python3.9/site-packages/threadpoolctl.py\", line 400, in match_module_callback\n",
      "    self._make_module_from_path(filepath)\n",
      "  File \"/home/ehgeraldo/miniconda3/lib/python3.9/site-packages/threadpoolctl.py\", line 515, in _make_module_from_path\n",
      "    module = module_class(filepath, prefix, user_api, internal_api)\n",
      "  File \"/home/ehgeraldo/miniconda3/lib/python3.9/site-packages/threadpoolctl.py\", line 606, in __init__\n",
      "    self.version = self.get_version()\n",
      "  File \"/home/ehgeraldo/miniconda3/lib/python3.9/site-packages/threadpoolctl.py\", line 646, in get_version\n",
      "    config = get_config().split()\n",
      "AttributeError: 'NoneType' object has no attribute 'split'\n",
      "Exception ignored on calling ctypes callback function: <function _ThreadpoolInfo._find_modules_with_dl_iterate_phdr.<locals>.match_module_callback at 0x7f34d9a0b040>\n",
      "Traceback (most recent call last):\n",
      "  File \"/home/ehgeraldo/miniconda3/lib/python3.9/site-packages/threadpoolctl.py\", line 400, in match_module_callback\n",
      "    self._make_module_from_path(filepath)\n",
      "  File \"/home/ehgeraldo/miniconda3/lib/python3.9/site-packages/threadpoolctl.py\", line 515, in _make_module_from_path\n",
      "    module = module_class(filepath, prefix, user_api, internal_api)\n",
      "  File \"/home/ehgeraldo/miniconda3/lib/python3.9/site-packages/threadpoolctl.py\", line 606, in __init__\n",
      "    self.version = self.get_version()\n",
      "  File \"/home/ehgeraldo/miniconda3/lib/python3.9/site-packages/threadpoolctl.py\", line 646, in get_version\n",
      "    config = get_config().split()\n",
      "AttributeError: 'NoneType' object has no attribute 'split'\n",
      "Exception ignored on calling ctypes callback function: <function _ThreadpoolInfo._find_modules_with_dl_iterate_phdr.<locals>.match_module_callback at 0x7f34d9a0b040>\n",
      "Traceback (most recent call last):\n",
      "  File \"/home/ehgeraldo/miniconda3/lib/python3.9/site-packages/threadpoolctl.py\", line 400, in match_module_callback\n",
      "    self._make_module_from_path(filepath)\n",
      "  File \"/home/ehgeraldo/miniconda3/lib/python3.9/site-packages/threadpoolctl.py\", line 515, in _make_module_from_path\n",
      "    module = module_class(filepath, prefix, user_api, internal_api)\n",
      "  File \"/home/ehgeraldo/miniconda3/lib/python3.9/site-packages/threadpoolctl.py\", line 606, in __init__\n",
      "    self.version = self.get_version()\n",
      "  File \"/home/ehgeraldo/miniconda3/lib/python3.9/site-packages/threadpoolctl.py\", line 646, in get_version\n",
      "    config = get_config().split()\n",
      "AttributeError: 'NoneType' object has no attribute 'split'\n"
     ]
    },
    {
     "data": {
      "image/png": "[encoded data removed]",
      "text/plain": [
       "<Figure size 720x360 with 1 Axes>"
      ]
     },
     "metadata": {
      "needs_background": "light"
     },
     "output_type": "display_data"
    }
   ],
   "source": [
    "optimise_k_means(df1[['DEN_T', 'GR_T', 'NEU_T', 'RDEP_T', 'RMED_T']],10)"
   ]
  },
  {
   "cell_type": "markdown",
   "id": "5cf90a50",
   "metadata": {},
   "source": [
    "# Applying K Means Clustering"
   ]
  },
  {
   "cell_type": "code",
   "execution_count": 50,
   "id": "b69658a1",
   "metadata": {
    "ExecuteTime": {
     "end_time": "2022-09-17T21:01:53.440055Z",
     "start_time": "2022-09-17T21:01:53.427575Z"
    }
   },
   "outputs": [],
   "source": [
    "kmeans = KMeans(n_clusters=4)"
   ]
  },
  {
   "cell_type": "code",
   "execution_count": 67,
   "id": "43923fef",
   "metadata": {
    "ExecuteTime": {
     "end_time": "2022-09-17T21:22:34.716379Z",
     "start_time": "2022-09-17T21:22:34.553283Z"
    }
   },
   "outputs": [
    {
     "data": {
      "text/plain": [
       "KMeans(n_clusters=4)"
      ]
     },
     "execution_count": 67,
     "metadata": {},
     "output_type": "execute_result"
    }
   ],
   "source": [
    "kmeans.fit(df1[['DEN_T', 'GR_T', 'NEU_T', 'RDEP_T', 'RMED_T']])"
   ]
  },
  {
   "cell_type": "code",
   "execution_count": 52,
   "id": "bb276e1d",
   "metadata": {
    "ExecuteTime": {
     "end_time": "2022-09-17T21:03:21.573580Z",
     "start_time": "2022-09-17T21:03:21.560515Z"
    }
   },
   "outputs": [],
   "source": [
    "df1['kmeans_4'] = kmeans.labels_"
   ]
  },
  {
   "cell_type": "code",
   "execution_count": 53,
   "id": "7f2fc65f",
   "metadata": {
    "ExecuteTime": {
     "end_time": "2022-09-17T21:03:26.584450Z",
     "start_time": "2022-09-17T21:03:26.514297Z"
    }
   },
   "outputs": [
    {
     "data": {
      "text/html": [
       "<div>\n",
       "<style scoped>\n",
       "    .dataframe tbody tr th:only-of-type {\n",
       "        vertical-align: middle;\n",
       "    }\n",
       "\n",
       "    .dataframe tbody tr th {\n",
       "        vertical-align: top;\n",
       "    }\n",
       "\n",
       "    .dataframe thead th {\n",
       "        text-align: right;\n",
       "    }\n",
       "</style>\n",
       "<table border=\"1\" class=\"dataframe\">\n",
       "  <thead>\n",
       "    <tr style=\"text-align: right;\">\n",
       "      <th></th>\n",
       "      <th>AC</th>\n",
       "      <th>CALI</th>\n",
       "      <th>DEN</th>\n",
       "      <th>GR</th>\n",
       "      <th>NEU</th>\n",
       "      <th>RDEP</th>\n",
       "      <th>RMED</th>\n",
       "      <th>AC_T</th>\n",
       "      <th>CALI_T</th>\n",
       "      <th>DEN_T</th>\n",
       "      <th>GR_T</th>\n",
       "      <th>NEU_T</th>\n",
       "      <th>RDEP_T</th>\n",
       "      <th>RMED_T</th>\n",
       "      <th>kmeans_4</th>\n",
       "    </tr>\n",
       "    <tr>\n",
       "      <th>DEPT</th>\n",
       "      <th></th>\n",
       "      <th></th>\n",
       "      <th></th>\n",
       "      <th></th>\n",
       "      <th></th>\n",
       "      <th></th>\n",
       "      <th></th>\n",
       "      <th></th>\n",
       "      <th></th>\n",
       "      <th></th>\n",
       "      <th></th>\n",
       "      <th></th>\n",
       "      <th></th>\n",
       "      <th></th>\n",
       "      <th></th>\n",
       "    </tr>\n",
       "  </thead>\n",
       "  <tbody>\n",
       "    <tr>\n",
       "      <th>3615.4340</th>\n",
       "      <td>95.7952</td>\n",
       "      <td>12.7249</td>\n",
       "      <td>2.3429</td>\n",
       "      <td>54.8754</td>\n",
       "      <td>44.5742</td>\n",
       "      <td>0.8941</td>\n",
       "      <td>0.8359</td>\n",
       "      <td>1.027831</td>\n",
       "      <td>3.502816</td>\n",
       "      <td>-0.713177</td>\n",
       "      <td>0.710014</td>\n",
       "      <td>2.258670</td>\n",
       "      <td>-0.264397</td>\n",
       "      <td>-0.358895</td>\n",
       "      <td>0</td>\n",
       "    </tr>\n",
       "    <tr>\n",
       "      <th>3615.5864</th>\n",
       "      <td>94.2267</td>\n",
       "      <td>12.5961</td>\n",
       "      <td>2.3528</td>\n",
       "      <td>53.5158</td>\n",
       "      <td>62.1103</td>\n",
       "      <td>0.7367</td>\n",
       "      <td>0.8028</td>\n",
       "      <td>0.935611</td>\n",
       "      <td>3.360684</td>\n",
       "      <td>-0.652630</td>\n",
       "      <td>0.659371</td>\n",
       "      <td>3.748555</td>\n",
       "      <td>-0.282009</td>\n",
       "      <td>-0.364100</td>\n",
       "      <td>0</td>\n",
       "    </tr>\n",
       "    <tr>\n",
       "      <th>3615.7388</th>\n",
       "      <td>101.3254</td>\n",
       "      <td>13.7632</td>\n",
       "      <td>2.3170</td>\n",
       "      <td>48.9803</td>\n",
       "      <td>71.9087</td>\n",
       "      <td>0.6423</td>\n",
       "      <td>0.7958</td>\n",
       "      <td>1.352979</td>\n",
       "      <td>4.648592</td>\n",
       "      <td>-0.871576</td>\n",
       "      <td>0.490428</td>\n",
       "      <td>4.581037</td>\n",
       "      <td>-0.292571</td>\n",
       "      <td>-0.365201</td>\n",
       "      <td>0</td>\n",
       "    </tr>\n",
       "    <tr>\n",
       "      <th>3615.8912</th>\n",
       "      <td>99.5672</td>\n",
       "      <td>14.3249</td>\n",
       "      <td>2.2585</td>\n",
       "      <td>36.6762</td>\n",
       "      <td>44.8988</td>\n",
       "      <td>0.6571</td>\n",
       "      <td>0.7929</td>\n",
       "      <td>1.249606</td>\n",
       "      <td>5.268435</td>\n",
       "      <td>-1.229350</td>\n",
       "      <td>0.032114</td>\n",
       "      <td>2.286248</td>\n",
       "      <td>-0.290915</td>\n",
       "      <td>-0.365657</td>\n",
       "      <td>0</td>\n",
       "    </tr>\n",
       "    <tr>\n",
       "      <th>3616.0436</th>\n",
       "      <td>100.5965</td>\n",
       "      <td>11.1429</td>\n",
       "      <td>2.2108</td>\n",
       "      <td>40.4632</td>\n",
       "      <td>49.5744</td>\n",
       "      <td>0.7442</td>\n",
       "      <td>0.7940</td>\n",
       "      <td>1.310123</td>\n",
       "      <td>1.757060</td>\n",
       "      <td>-1.521073</td>\n",
       "      <td>0.173176</td>\n",
       "      <td>2.683492</td>\n",
       "      <td>-0.281169</td>\n",
       "      <td>-0.365484</td>\n",
       "      <td>0</td>\n",
       "    </tr>\n",
       "    <tr>\n",
       "      <th>...</th>\n",
       "      <td>...</td>\n",
       "      <td>...</td>\n",
       "      <td>...</td>\n",
       "      <td>...</td>\n",
       "      <td>...</td>\n",
       "      <td>...</td>\n",
       "      <td>...</td>\n",
       "      <td>...</td>\n",
       "      <td>...</td>\n",
       "      <td>...</td>\n",
       "      <td>...</td>\n",
       "      <td>...</td>\n",
       "      <td>...</td>\n",
       "      <td>...</td>\n",
       "      <td>...</td>\n",
       "    </tr>\n",
       "    <tr>\n",
       "      <th>4617.3116</th>\n",
       "      <td>40.0000</td>\n",
       "      <td>6.0000</td>\n",
       "      <td>2.5547</td>\n",
       "      <td>87.1958</td>\n",
       "      <td>15.4080</td>\n",
       "      <td>2.6787</td>\n",
       "      <td>2.1338</td>\n",
       "      <td>-2.252649</td>\n",
       "      <td>-3.918190</td>\n",
       "      <td>0.582148</td>\n",
       "      <td>1.913914</td>\n",
       "      <td>-0.219321</td>\n",
       "      <td>-0.064713</td>\n",
       "      <td>-0.154769</td>\n",
       "      <td>1</td>\n",
       "    </tr>\n",
       "    <tr>\n",
       "      <th>4617.4640</th>\n",
       "      <td>40.0000</td>\n",
       "      <td>6.0000</td>\n",
       "      <td>2.5662</td>\n",
       "      <td>90.9071</td>\n",
       "      <td>15.8777</td>\n",
       "      <td>2.6239</td>\n",
       "      <td>2.0865</td>\n",
       "      <td>-2.252649</td>\n",
       "      <td>-3.918190</td>\n",
       "      <td>0.652480</td>\n",
       "      <td>2.052155</td>\n",
       "      <td>-0.179415</td>\n",
       "      <td>-0.070844</td>\n",
       "      <td>-0.162208</td>\n",
       "      <td>1</td>\n",
       "    </tr>\n",
       "    <tr>\n",
       "      <th>4617.6164</th>\n",
       "      <td>40.0000</td>\n",
       "      <td>6.0000</td>\n",
       "      <td>2.5702</td>\n",
       "      <td>86.2190</td>\n",
       "      <td>15.8576</td>\n",
       "      <td>2.5898</td>\n",
       "      <td>2.0461</td>\n",
       "      <td>-2.252649</td>\n",
       "      <td>-3.918190</td>\n",
       "      <td>0.676943</td>\n",
       "      <td>1.877529</td>\n",
       "      <td>-0.181122</td>\n",
       "      <td>-0.074660</td>\n",
       "      <td>-0.168562</td>\n",
       "      <td>1</td>\n",
       "    </tr>\n",
       "    <tr>\n",
       "      <th>4617.7688</th>\n",
       "      <td>40.0000</td>\n",
       "      <td>6.0000</td>\n",
       "      <td>2.5674</td>\n",
       "      <td>74.8791</td>\n",
       "      <td>15.3727</td>\n",
       "      <td>2.5694</td>\n",
       "      <td>1.9925</td>\n",
       "      <td>-2.252649</td>\n",
       "      <td>-3.918190</td>\n",
       "      <td>0.659819</td>\n",
       "      <td>1.455130</td>\n",
       "      <td>-0.222320</td>\n",
       "      <td>-0.076942</td>\n",
       "      <td>-0.176992</td>\n",
       "      <td>1</td>\n",
       "    </tr>\n",
       "    <tr>\n",
       "      <th>4617.9212</th>\n",
       "      <td>40.0000</td>\n",
       "      <td>6.0000</td>\n",
       "      <td>2.5552</td>\n",
       "      <td>64.8674</td>\n",
       "      <td>14.8943</td>\n",
       "      <td>2.5456</td>\n",
       "      <td>1.9997</td>\n",
       "      <td>-2.252649</td>\n",
       "      <td>-3.918190</td>\n",
       "      <td>0.585206</td>\n",
       "      <td>1.082205</td>\n",
       "      <td>-0.262965</td>\n",
       "      <td>-0.079606</td>\n",
       "      <td>-0.175859</td>\n",
       "      <td>1</td>\n",
       "    </tr>\n",
       "  </tbody>\n",
       "</table>\n",
       "<p>6579 rows × 15 columns</p>\n",
       "</div>"
      ],
      "text/plain": [
       "                 AC     CALI     DEN       GR      NEU    RDEP    RMED  \\\n",
       "DEPT                                                                     \n",
       "3615.4340   95.7952  12.7249  2.3429  54.8754  44.5742  0.8941  0.8359   \n",
       "3615.5864   94.2267  12.5961  2.3528  53.5158  62.1103  0.7367  0.8028   \n",
       "3615.7388  101.3254  13.7632  2.3170  48.9803  71.9087  0.6423  0.7958   \n",
       "3615.8912   99.5672  14.3249  2.2585  36.6762  44.8988  0.6571  0.7929   \n",
       "3616.0436  100.5965  11.1429  2.2108  40.4632  49.5744  0.7442  0.7940   \n",
       "...             ...      ...     ...      ...      ...     ...     ...   \n",
       "4617.3116   40.0000   6.0000  2.5547  87.1958  15.4080  2.6787  2.1338   \n",
       "4617.4640   40.0000   6.0000  2.5662  90.9071  15.8777  2.6239  2.0865   \n",
       "4617.6164   40.0000   6.0000  2.5702  86.2190  15.8576  2.5898  2.0461   \n",
       "4617.7688   40.0000   6.0000  2.5674  74.8791  15.3727  2.5694  1.9925   \n",
       "4617.9212   40.0000   6.0000  2.5552  64.8674  14.8943  2.5456  1.9997   \n",
       "\n",
       "               AC_T    CALI_T     DEN_T      GR_T     NEU_T    RDEP_T  \\\n",
       "DEPT                                                                    \n",
       "3615.4340  1.027831  3.502816 -0.713177  0.710014  2.258670 -0.264397   \n",
       "3615.5864  0.935611  3.360684 -0.652630  0.659371  3.748555 -0.282009   \n",
       "3615.7388  1.352979  4.648592 -0.871576  0.490428  4.581037 -0.292571   \n",
       "3615.8912  1.249606  5.268435 -1.229350  0.032114  2.286248 -0.290915   \n",
       "3616.0436  1.310123  1.757060 -1.521073  0.173176  2.683492 -0.281169   \n",
       "...             ...       ...       ...       ...       ...       ...   \n",
       "4617.3116 -2.252649 -3.918190  0.582148  1.913914 -0.219321 -0.064713   \n",
       "4617.4640 -2.252649 -3.918190  0.652480  2.052155 -0.179415 -0.070844   \n",
       "4617.6164 -2.252649 -3.918190  0.676943  1.877529 -0.181122 -0.074660   \n",
       "4617.7688 -2.252649 -3.918190  0.659819  1.455130 -0.222320 -0.076942   \n",
       "4617.9212 -2.252649 -3.918190  0.585206  1.082205 -0.262965 -0.079606   \n",
       "\n",
       "             RMED_T  kmeans_4  \n",
       "DEPT                           \n",
       "3615.4340 -0.358895         0  \n",
       "3615.5864 -0.364100         0  \n",
       "3615.7388 -0.365201         0  \n",
       "3615.8912 -0.365657         0  \n",
       "3616.0436 -0.365484         0  \n",
       "...             ...       ...  \n",
       "4617.3116 -0.154769         1  \n",
       "4617.4640 -0.162208         1  \n",
       "4617.6164 -0.168562         1  \n",
       "4617.7688 -0.176992         1  \n",
       "4617.9212 -0.175859         1  \n",
       "\n",
       "[6579 rows x 15 columns]"
      ]
     },
     "execution_count": 53,
     "metadata": {},
     "output_type": "execute_result"
    }
   ],
   "source": [
    "df1"
   ]
  },
  {
   "cell_type": "markdown",
   "id": "9e649344",
   "metadata": {},
   "source": [
    "# Plotting the Results"
   ]
  },
  {
   "cell_type": "code",
   "execution_count": 65,
   "id": "1153d715",
   "metadata": {
    "ExecuteTime": {
     "end_time": "2022-09-17T21:20:29.133887Z",
     "start_time": "2022-09-17T21:20:28.675721Z"
    }
   },
   "outputs": [
    {
     "data": {
      "image/png": "[encoded data removed]",
      "text/plain": [
       "<Figure size 432x288 with 1 Axes>"
      ]
     },
     "metadata": {
      "needs_background": "light"
     },
     "output_type": "display_data"
    }
   ],
   "source": [
    "plt.scatter(x=df1['DEN'], y=df1['NEU'], c=df1['kmeans_4'])\n",
    "plt.xlim(2,3)\n",
    "plt.ylim(0,120)\n",
    "plt.show()"
   ]
  },
  {
   "cell_type": "code",
   "execution_count": 66,
   "id": "38ce4773",
   "metadata": {
    "ExecuteTime": {
     "end_time": "2022-09-17T21:21:18.980775Z",
     "start_time": "2022-09-17T21:21:18.507272Z"
    }
   },
   "outputs": [
    {
     "data": {
      "image/png": "[encoded data removed]",
      "text/plain": [
       "<Figure size 432x288 with 1 Axes>"
      ]
     },
     "metadata": {
      "needs_background": "light"
     },
     "output_type": "display_data"
    }
   ],
   "source": [
    "plt.scatter(x=df1['GR'], y=df1['DEN'], c=df1['kmeans_4'])\n",
    "plt.xlim(1,300)\n",
    "plt.ylim(2,3)\n",
    "plt.show()"
   ]
  },
  {
   "cell_type": "code",
   "execution_count": 59,
   "id": "9c7f0974",
   "metadata": {
    "ExecuteTime": {
     "end_time": "2022-09-17T21:14:01.276574Z",
     "start_time": "2022-09-17T21:14:00.799773Z"
    }
   },
   "outputs": [
    {
     "data": {
      "image/png": "[encoded data removed]",
      "text/plain": [
       "<Figure size 432x288 with 1 Axes>"
      ]
     },
     "metadata": {
      "needs_background": "light"
     },
     "output_type": "display_data"
    }
   ],
   "source": [
    "plt.scatter(x=df1['GR'], y=df1['RDEP'], c=df1['kmeans_4'])\n",
    "plt.show()"
   ]
  },
  {
   "cell_type": "code",
   "execution_count": 60,
   "id": "d3de9ff7",
   "metadata": {
    "ExecuteTime": {
     "end_time": "2022-09-17T21:14:19.625445Z",
     "start_time": "2022-09-17T21:14:19.169586Z"
    }
   },
   "outputs": [
    {
     "data": {
      "image/png": "[encoded data removed]",
      "text/plain": [
       "<Figure size 432x288 with 1 Axes>"
      ]
     },
     "metadata": {
      "needs_background": "light"
     },
     "output_type": "display_data"
    }
   ],
   "source": [
    "plt.scatter(x=df1['RMED'], y=df1['RDEP'], c=df1['kmeans_4'])\n",
    "plt.show()"
   ]
  },
  {
   "cell_type": "markdown",
   "id": "106f0a40",
   "metadata": {},
   "source": [
    "# Creating Multiple Clusters"
   ]
  },
  {
   "cell_type": "code",
   "execution_count": 88,
   "id": "e728c08f",
   "metadata": {
    "ExecuteTime": {
     "end_time": "2022-09-17T22:14:02.749732Z",
     "start_time": "2022-09-17T22:14:02.229096Z"
    }
   },
   "outputs": [
    {
     "name": "stderr",
     "output_type": "stream",
     "text": [
      "Exception ignored on calling ctypes callback function: <function _ThreadpoolInfo._find_modules_with_dl_iterate_phdr.<locals>.match_module_callback at 0x7f34d6a38670>\n",
      "Traceback (most recent call last):\n",
      "  File \"/home/ehgeraldo/miniconda3/lib/python3.9/site-packages/threadpoolctl.py\", line 400, in match_module_callback\n",
      "    self._make_module_from_path(filepath)\n",
      "  File \"/home/ehgeraldo/miniconda3/lib/python3.9/site-packages/threadpoolctl.py\", line 515, in _make_module_from_path\n",
      "    module = module_class(filepath, prefix, user_api, internal_api)\n",
      "  File \"/home/ehgeraldo/miniconda3/lib/python3.9/site-packages/threadpoolctl.py\", line 606, in __init__\n",
      "    self.version = self.get_version()\n",
      "  File \"/home/ehgeraldo/miniconda3/lib/python3.9/site-packages/threadpoolctl.py\", line 646, in get_version\n",
      "    config = get_config().split()\n",
      "AttributeError: 'NoneType' object has no attribute 'split'\n",
      "Exception ignored on calling ctypes callback function: <function _ThreadpoolInfo._find_modules_with_dl_iterate_phdr.<locals>.match_module_callback at 0x7f34d6a38670>\n",
      "Traceback (most recent call last):\n",
      "  File \"/home/ehgeraldo/miniconda3/lib/python3.9/site-packages/threadpoolctl.py\", line 400, in match_module_callback\n",
      "    self._make_module_from_path(filepath)\n",
      "  File \"/home/ehgeraldo/miniconda3/lib/python3.9/site-packages/threadpoolctl.py\", line 515, in _make_module_from_path\n",
      "    module = module_class(filepath, prefix, user_api, internal_api)\n",
      "  File \"/home/ehgeraldo/miniconda3/lib/python3.9/site-packages/threadpoolctl.py\", line 606, in __init__\n",
      "    self.version = self.get_version()\n",
      "  File \"/home/ehgeraldo/miniconda3/lib/python3.9/site-packages/threadpoolctl.py\", line 646, in get_version\n",
      "    config = get_config().split()\n",
      "AttributeError: 'NoneType' object has no attribute 'split'\n",
      "Exception ignored on calling ctypes callback function: <function _ThreadpoolInfo._find_modules_with_dl_iterate_phdr.<locals>.match_module_callback at 0x7f34d6a38670>\n",
      "Traceback (most recent call last):\n",
      "  File \"/home/ehgeraldo/miniconda3/lib/python3.9/site-packages/threadpoolctl.py\", line 400, in match_module_callback\n",
      "    self._make_module_from_path(filepath)\n",
      "  File \"/home/ehgeraldo/miniconda3/lib/python3.9/site-packages/threadpoolctl.py\", line 515, in _make_module_from_path\n",
      "    module = module_class(filepath, prefix, user_api, internal_api)\n",
      "  File \"/home/ehgeraldo/miniconda3/lib/python3.9/site-packages/threadpoolctl.py\", line 606, in __init__\n",
      "    self.version = self.get_version()\n",
      "  File \"/home/ehgeraldo/miniconda3/lib/python3.9/site-packages/threadpoolctl.py\", line 646, in get_version\n",
      "    config = get_config().split()\n",
      "AttributeError: 'NoneType' object has no attribute 'split'\n",
      "Exception ignored on calling ctypes callback function: <function _ThreadpoolInfo._find_modules_with_dl_iterate_phdr.<locals>.match_module_callback at 0x7f34d6a38670>\n",
      "Traceback (most recent call last):\n",
      "  File \"/home/ehgeraldo/miniconda3/lib/python3.9/site-packages/threadpoolctl.py\", line 400, in match_module_callback\n",
      "    self._make_module_from_path(filepath)\n",
      "  File \"/home/ehgeraldo/miniconda3/lib/python3.9/site-packages/threadpoolctl.py\", line 515, in _make_module_from_path\n",
      "    module = module_class(filepath, prefix, user_api, internal_api)\n",
      "  File \"/home/ehgeraldo/miniconda3/lib/python3.9/site-packages/threadpoolctl.py\", line 606, in __init__\n",
      "    self.version = self.get_version()\n",
      "  File \"/home/ehgeraldo/miniconda3/lib/python3.9/site-packages/threadpoolctl.py\", line 646, in get_version\n",
      "    config = get_config().split()\n",
      "AttributeError: 'NoneType' object has no attribute 'split'\n",
      "Exception ignored on calling ctypes callback function: <function _ThreadpoolInfo._find_modules_with_dl_iterate_phdr.<locals>.match_module_callback at 0x7f34d6a38670>\n",
      "Traceback (most recent call last):\n",
      "  File \"/home/ehgeraldo/miniconda3/lib/python3.9/site-packages/threadpoolctl.py\", line 400, in match_module_callback\n",
      "    self._make_module_from_path(filepath)\n",
      "  File \"/home/ehgeraldo/miniconda3/lib/python3.9/site-packages/threadpoolctl.py\", line 515, in _make_module_from_path\n",
      "    module = module_class(filepath, prefix, user_api, internal_api)\n",
      "  File \"/home/ehgeraldo/miniconda3/lib/python3.9/site-packages/threadpoolctl.py\", line 606, in __init__\n",
      "    self.version = self.get_version()\n",
      "  File \"/home/ehgeraldo/miniconda3/lib/python3.9/site-packages/threadpoolctl.py\", line 646, in get_version\n",
      "    config = get_config().split()\n",
      "AttributeError: 'NoneType' object has no attribute 'split'\n",
      "Exception ignored on calling ctypes callback function: <function _ThreadpoolInfo._find_modules_with_dl_iterate_phdr.<locals>.match_module_callback at 0x7f34d6a38670>\n",
      "Traceback (most recent call last):\n",
      "  File \"/home/ehgeraldo/miniconda3/lib/python3.9/site-packages/threadpoolctl.py\", line 400, in match_module_callback\n",
      "    self._make_module_from_path(filepath)\n",
      "  File \"/home/ehgeraldo/miniconda3/lib/python3.9/site-packages/threadpoolctl.py\", line 515, in _make_module_from_path\n",
      "    module = module_class(filepath, prefix, user_api, internal_api)\n",
      "  File \"/home/ehgeraldo/miniconda3/lib/python3.9/site-packages/threadpoolctl.py\", line 606, in __init__\n",
      "    self.version = self.get_version()\n",
      "  File \"/home/ehgeraldo/miniconda3/lib/python3.9/site-packages/threadpoolctl.py\", line 646, in get_version\n",
      "    config = get_config().split()\n",
      "AttributeError: 'NoneType' object has no attribute 'split'\n",
      "Exception ignored on calling ctypes callback function: <function _ThreadpoolInfo._find_modules_with_dl_iterate_phdr.<locals>.match_module_callback at 0x7f34d6a38670>\n",
      "Traceback (most recent call last):\n",
      "  File \"/home/ehgeraldo/miniconda3/lib/python3.9/site-packages/threadpoolctl.py\", line 400, in match_module_callback\n",
      "    self._make_module_from_path(filepath)\n",
      "  File \"/home/ehgeraldo/miniconda3/lib/python3.9/site-packages/threadpoolctl.py\", line 515, in _make_module_from_path\n",
      "    module = module_class(filepath, prefix, user_api, internal_api)\n",
      "  File \"/home/ehgeraldo/miniconda3/lib/python3.9/site-packages/threadpoolctl.py\", line 606, in __init__\n",
      "    self.version = self.get_version()\n",
      "  File \"/home/ehgeraldo/miniconda3/lib/python3.9/site-packages/threadpoolctl.py\", line 646, in get_version\n",
      "    config = get_config().split()\n",
      "AttributeError: 'NoneType' object has no attribute 'split'\n",
      "Exception ignored on calling ctypes callback function: <function _ThreadpoolInfo._find_modules_with_dl_iterate_phdr.<locals>.match_module_callback at 0x7f34d6a38670>\n",
      "Traceback (most recent call last):\n",
      "  File \"/home/ehgeraldo/miniconda3/lib/python3.9/site-packages/threadpoolctl.py\", line 400, in match_module_callback\n",
      "    self._make_module_from_path(filepath)\n",
      "  File \"/home/ehgeraldo/miniconda3/lib/python3.9/site-packages/threadpoolctl.py\", line 515, in _make_module_from_path\n",
      "    module = module_class(filepath, prefix, user_api, internal_api)\n",
      "  File \"/home/ehgeraldo/miniconda3/lib/python3.9/site-packages/threadpoolctl.py\", line 606, in __init__\n",
      "    self.version = self.get_version()\n",
      "  File \"/home/ehgeraldo/miniconda3/lib/python3.9/site-packages/threadpoolctl.py\", line 646, in get_version\n",
      "    config = get_config().split()\n",
      "AttributeError: 'NoneType' object has no attribute 'split'\n",
      "Exception ignored on calling ctypes callback function: <function _ThreadpoolInfo._find_modules_with_dl_iterate_phdr.<locals>.match_module_callback at 0x7f34d6a38670>\n",
      "Traceback (most recent call last):\n",
      "  File \"/home/ehgeraldo/miniconda3/lib/python3.9/site-packages/threadpoolctl.py\", line 400, in match_module_callback\n",
      "    self._make_module_from_path(filepath)\n",
      "  File \"/home/ehgeraldo/miniconda3/lib/python3.9/site-packages/threadpoolctl.py\", line 515, in _make_module_from_path\n",
      "    module = module_class(filepath, prefix, user_api, internal_api)\n",
      "  File \"/home/ehgeraldo/miniconda3/lib/python3.9/site-packages/threadpoolctl.py\", line 606, in __init__\n",
      "    self.version = self.get_version()\n",
      "  File \"/home/ehgeraldo/miniconda3/lib/python3.9/site-packages/threadpoolctl.py\", line 646, in get_version\n",
      "    config = get_config().split()\n",
      "AttributeError: 'NoneType' object has no attribute 'split'\n",
      "Exception ignored on calling ctypes callback function: <function _ThreadpoolInfo._find_modules_with_dl_iterate_phdr.<locals>.match_module_callback at 0x7f34d6a38670>\n",
      "Traceback (most recent call last):\n",
      "  File \"/home/ehgeraldo/miniconda3/lib/python3.9/site-packages/threadpoolctl.py\", line 400, in match_module_callback\n",
      "    self._make_module_from_path(filepath)\n",
      "  File \"/home/ehgeraldo/miniconda3/lib/python3.9/site-packages/threadpoolctl.py\", line 515, in _make_module_from_path\n",
      "    module = module_class(filepath, prefix, user_api, internal_api)\n",
      "  File \"/home/ehgeraldo/miniconda3/lib/python3.9/site-packages/threadpoolctl.py\", line 606, in __init__\n",
      "    self.version = self.get_version()\n",
      "  File \"/home/ehgeraldo/miniconda3/lib/python3.9/site-packages/threadpoolctl.py\", line 646, in get_version\n",
      "    config = get_config().split()\n",
      "AttributeError: 'NoneType' object has no attribute 'split'\n"
     ]
    }
   ],
   "source": [
    "for k in range(1, 5):\n",
    "    kmeans=KMeans(n_clusters=k)\n",
    "    kmeans.fit(df1[['DEN_T','NEU_T']])\n",
    "    df1[f'KMeans_{k}'] = kmeans.labels_\n",
    "    "
   ]
  },
  {
   "cell_type": "code",
   "execution_count": 89,
   "id": "19431322",
   "metadata": {
    "ExecuteTime": {
     "end_time": "2022-09-17T22:14:03.569683Z",
     "start_time": "2022-09-17T22:14:03.509136Z"
    }
   },
   "outputs": [
    {
     "data": {
      "text/html": [
       "<div>\n",
       "<style scoped>\n",
       "    .dataframe tbody tr th:only-of-type {\n",
       "        vertical-align: middle;\n",
       "    }\n",
       "\n",
       "    .dataframe tbody tr th {\n",
       "        vertical-align: top;\n",
       "    }\n",
       "\n",
       "    .dataframe thead th {\n",
       "        text-align: right;\n",
       "    }\n",
       "</style>\n",
       "<table border=\"1\" class=\"dataframe\">\n",
       "  <thead>\n",
       "    <tr style=\"text-align: right;\">\n",
       "      <th></th>\n",
       "      <th>AC</th>\n",
       "      <th>CALI</th>\n",
       "      <th>DEN</th>\n",
       "      <th>GR</th>\n",
       "      <th>NEU</th>\n",
       "      <th>RDEP</th>\n",
       "      <th>RMED</th>\n",
       "      <th>AC_T</th>\n",
       "      <th>CALI_T</th>\n",
       "      <th>DEN_T</th>\n",
       "      <th>...</th>\n",
       "      <th>Kmeans_1</th>\n",
       "      <th>Kmeans_2</th>\n",
       "      <th>Kmeans_3</th>\n",
       "      <th>Kmeans_4</th>\n",
       "      <th>Kmeans_5</th>\n",
       "      <th>KMeans_1</th>\n",
       "      <th>KMeans_2</th>\n",
       "      <th>KMeans_3</th>\n",
       "      <th>KMeans_4</th>\n",
       "      <th>KMeans_5</th>\n",
       "    </tr>\n",
       "    <tr>\n",
       "      <th>DEPT</th>\n",
       "      <th></th>\n",
       "      <th></th>\n",
       "      <th></th>\n",
       "      <th></th>\n",
       "      <th></th>\n",
       "      <th></th>\n",
       "      <th></th>\n",
       "      <th></th>\n",
       "      <th></th>\n",
       "      <th></th>\n",
       "      <th></th>\n",
       "      <th></th>\n",
       "      <th></th>\n",
       "      <th></th>\n",
       "      <th></th>\n",
       "      <th></th>\n",
       "      <th></th>\n",
       "      <th></th>\n",
       "      <th></th>\n",
       "      <th></th>\n",
       "      <th></th>\n",
       "    </tr>\n",
       "  </thead>\n",
       "  <tbody>\n",
       "    <tr>\n",
       "      <th>3615.4340</th>\n",
       "      <td>95.7952</td>\n",
       "      <td>12.7249</td>\n",
       "      <td>2.3429</td>\n",
       "      <td>54.8754</td>\n",
       "      <td>44.5742</td>\n",
       "      <td>0.8941</td>\n",
       "      <td>0.8359</td>\n",
       "      <td>1.027831</td>\n",
       "      <td>3.502816</td>\n",
       "      <td>-0.713177</td>\n",
       "      <td>...</td>\n",
       "      <td>0</td>\n",
       "      <td>0</td>\n",
       "      <td>2</td>\n",
       "      <td>1</td>\n",
       "      <td>2</td>\n",
       "      <td>0</td>\n",
       "      <td>0</td>\n",
       "      <td>0</td>\n",
       "      <td>2</td>\n",
       "      <td>4</td>\n",
       "    </tr>\n",
       "    <tr>\n",
       "      <th>3615.5864</th>\n",
       "      <td>94.2267</td>\n",
       "      <td>12.5961</td>\n",
       "      <td>2.3528</td>\n",
       "      <td>53.5158</td>\n",
       "      <td>62.1103</td>\n",
       "      <td>0.7367</td>\n",
       "      <td>0.8028</td>\n",
       "      <td>0.935611</td>\n",
       "      <td>3.360684</td>\n",
       "      <td>-0.652630</td>\n",
       "      <td>...</td>\n",
       "      <td>0</td>\n",
       "      <td>0</td>\n",
       "      <td>2</td>\n",
       "      <td>1</td>\n",
       "      <td>2</td>\n",
       "      <td>0</td>\n",
       "      <td>0</td>\n",
       "      <td>0</td>\n",
       "      <td>2</td>\n",
       "      <td>4</td>\n",
       "    </tr>\n",
       "    <tr>\n",
       "      <th>3615.7388</th>\n",
       "      <td>101.3254</td>\n",
       "      <td>13.7632</td>\n",
       "      <td>2.3170</td>\n",
       "      <td>48.9803</td>\n",
       "      <td>71.9087</td>\n",
       "      <td>0.6423</td>\n",
       "      <td>0.7958</td>\n",
       "      <td>1.352979</td>\n",
       "      <td>4.648592</td>\n",
       "      <td>-0.871576</td>\n",
       "      <td>...</td>\n",
       "      <td>0</td>\n",
       "      <td>0</td>\n",
       "      <td>2</td>\n",
       "      <td>1</td>\n",
       "      <td>2</td>\n",
       "      <td>0</td>\n",
       "      <td>0</td>\n",
       "      <td>0</td>\n",
       "      <td>2</td>\n",
       "      <td>4</td>\n",
       "    </tr>\n",
       "    <tr>\n",
       "      <th>3615.8912</th>\n",
       "      <td>99.5672</td>\n",
       "      <td>14.3249</td>\n",
       "      <td>2.2585</td>\n",
       "      <td>36.6762</td>\n",
       "      <td>44.8988</td>\n",
       "      <td>0.6571</td>\n",
       "      <td>0.7929</td>\n",
       "      <td>1.249606</td>\n",
       "      <td>5.268435</td>\n",
       "      <td>-1.229350</td>\n",
       "      <td>...</td>\n",
       "      <td>0</td>\n",
       "      <td>0</td>\n",
       "      <td>2</td>\n",
       "      <td>1</td>\n",
       "      <td>2</td>\n",
       "      <td>0</td>\n",
       "      <td>0</td>\n",
       "      <td>0</td>\n",
       "      <td>2</td>\n",
       "      <td>4</td>\n",
       "    </tr>\n",
       "    <tr>\n",
       "      <th>3616.0436</th>\n",
       "      <td>100.5965</td>\n",
       "      <td>11.1429</td>\n",
       "      <td>2.2108</td>\n",
       "      <td>40.4632</td>\n",
       "      <td>49.5744</td>\n",
       "      <td>0.7442</td>\n",
       "      <td>0.7940</td>\n",
       "      <td>1.310123</td>\n",
       "      <td>1.757060</td>\n",
       "      <td>-1.521073</td>\n",
       "      <td>...</td>\n",
       "      <td>0</td>\n",
       "      <td>0</td>\n",
       "      <td>2</td>\n",
       "      <td>1</td>\n",
       "      <td>2</td>\n",
       "      <td>0</td>\n",
       "      <td>0</td>\n",
       "      <td>0</td>\n",
       "      <td>2</td>\n",
       "      <td>4</td>\n",
       "    </tr>\n",
       "  </tbody>\n",
       "</table>\n",
       "<p>5 rows × 25 columns</p>\n",
       "</div>"
      ],
      "text/plain": [
       "                 AC     CALI     DEN       GR      NEU    RDEP    RMED  \\\n",
       "DEPT                                                                     \n",
       "3615.4340   95.7952  12.7249  2.3429  54.8754  44.5742  0.8941  0.8359   \n",
       "3615.5864   94.2267  12.5961  2.3528  53.5158  62.1103  0.7367  0.8028   \n",
       "3615.7388  101.3254  13.7632  2.3170  48.9803  71.9087  0.6423  0.7958   \n",
       "3615.8912   99.5672  14.3249  2.2585  36.6762  44.8988  0.6571  0.7929   \n",
       "3616.0436  100.5965  11.1429  2.2108  40.4632  49.5744  0.7442  0.7940   \n",
       "\n",
       "               AC_T    CALI_T     DEN_T  ...  Kmeans_1  Kmeans_2  Kmeans_3  \\\n",
       "DEPT                                     ...                                 \n",
       "3615.4340  1.027831  3.502816 -0.713177  ...         0         0         2   \n",
       "3615.5864  0.935611  3.360684 -0.652630  ...         0         0         2   \n",
       "3615.7388  1.352979  4.648592 -0.871576  ...         0         0         2   \n",
       "3615.8912  1.249606  5.268435 -1.229350  ...         0         0         2   \n",
       "3616.0436  1.310123  1.757060 -1.521073  ...         0         0         2   \n",
       "\n",
       "           Kmeans_4  Kmeans_5  KMeans_1  KMeans_2  KMeans_3  KMeans_4  \\\n",
       "DEPT                                                                    \n",
       "3615.4340         1         2         0         0         0         2   \n",
       "3615.5864         1         2         0         0         0         2   \n",
       "3615.7388         1         2         0         0         0         2   \n",
       "3615.8912         1         2         0         0         0         2   \n",
       "3616.0436         1         2         0         0         0         2   \n",
       "\n",
       "           KMeans_5  \n",
       "DEPT                 \n",
       "3615.4340         4  \n",
       "3615.5864         4  \n",
       "3615.7388         4  \n",
       "3615.8912         4  \n",
       "3616.0436         4  \n",
       "\n",
       "[5 rows x 25 columns]"
      ]
     },
     "execution_count": 89,
     "metadata": {},
     "output_type": "execute_result"
    }
   ],
   "source": [
    "df1.head()"
   ]
  },
  {
   "cell_type": "code",
   "execution_count": 91,
   "id": "1cd2cd1f",
   "metadata": {
    "ExecuteTime": {
     "end_time": "2022-09-17T22:14:22.288150Z",
     "start_time": "2022-09-17T22:14:20.680218Z"
    }
   },
   "outputs": [
    {
     "data": {
      "image/png": "[encoded data removed]",
      "text/plain": [
       "<Figure size 1440x360 with 5 Axes>"
      ]
     },
     "metadata": {
      "needs_background": "light"
     },
     "output_type": "display_data"
    }
   ],
   "source": [
    "fig, axs = plt.subplots(nrows=1, ncols=5, figsize=(20,5))\n",
    "for i, ax in enumerate(fig.axes, start=1):\n",
    "    ax.scatter(x=df1['DEN'], y=df1['NEU'], c=df1[f'KMeans_{i}'])\n",
    "    ax.set_title(f'N Clusters: {i}')"
   ]
  },
  {
   "cell_type": "code",
   "execution_count": 92,
   "id": "f53be23a",
   "metadata": {
    "ExecuteTime": {
     "end_time": "2022-09-17T22:15:06.168926Z",
     "start_time": "2022-09-17T22:15:05.664633Z"
    }
   },
   "outputs": [
    {
     "name": "stderr",
     "output_type": "stream",
     "text": [
      "Exception ignored on calling ctypes callback function: <function _ThreadpoolInfo._find_modules_with_dl_iterate_phdr.<locals>.match_module_callback at 0x7f34d4fc4af0>\n",
      "Traceback (most recent call last):\n",
      "  File \"/home/ehgeraldo/miniconda3/lib/python3.9/site-packages/threadpoolctl.py\", line 400, in match_module_callback\n",
      "    self._make_module_from_path(filepath)\n",
      "  File \"/home/ehgeraldo/miniconda3/lib/python3.9/site-packages/threadpoolctl.py\", line 515, in _make_module_from_path\n",
      "    module = module_class(filepath, prefix, user_api, internal_api)\n",
      "  File \"/home/ehgeraldo/miniconda3/lib/python3.9/site-packages/threadpoolctl.py\", line 606, in __init__\n",
      "    self.version = self.get_version()\n",
      "  File \"/home/ehgeraldo/miniconda3/lib/python3.9/site-packages/threadpoolctl.py\", line 646, in get_version\n",
      "    config = get_config().split()\n",
      "AttributeError: 'NoneType' object has no attribute 'split'\n",
      "Exception ignored on calling ctypes callback function: <function _ThreadpoolInfo._find_modules_with_dl_iterate_phdr.<locals>.match_module_callback at 0x7f34d4fc4af0>\n",
      "Traceback (most recent call last):\n",
      "  File \"/home/ehgeraldo/miniconda3/lib/python3.9/site-packages/threadpoolctl.py\", line 400, in match_module_callback\n",
      "    self._make_module_from_path(filepath)\n",
      "  File \"/home/ehgeraldo/miniconda3/lib/python3.9/site-packages/threadpoolctl.py\", line 515, in _make_module_from_path\n",
      "    module = module_class(filepath, prefix, user_api, internal_api)\n",
      "  File \"/home/ehgeraldo/miniconda3/lib/python3.9/site-packages/threadpoolctl.py\", line 606, in __init__\n",
      "    self.version = self.get_version()\n",
      "  File \"/home/ehgeraldo/miniconda3/lib/python3.9/site-packages/threadpoolctl.py\", line 646, in get_version\n",
      "    config = get_config().split()\n",
      "AttributeError: 'NoneType' object has no attribute 'split'\n",
      "Exception ignored on calling ctypes callback function: <function _ThreadpoolInfo._find_modules_with_dl_iterate_phdr.<locals>.match_module_callback at 0x7f34d4fc4af0>\n",
      "Traceback (most recent call last):\n",
      "  File \"/home/ehgeraldo/miniconda3/lib/python3.9/site-packages/threadpoolctl.py\", line 400, in match_module_callback\n",
      "    self._make_module_from_path(filepath)\n",
      "  File \"/home/ehgeraldo/miniconda3/lib/python3.9/site-packages/threadpoolctl.py\", line 515, in _make_module_from_path\n",
      "    module = module_class(filepath, prefix, user_api, internal_api)\n",
      "  File \"/home/ehgeraldo/miniconda3/lib/python3.9/site-packages/threadpoolctl.py\", line 606, in __init__\n",
      "    self.version = self.get_version()\n",
      "  File \"/home/ehgeraldo/miniconda3/lib/python3.9/site-packages/threadpoolctl.py\", line 646, in get_version\n",
      "    config = get_config().split()\n",
      "AttributeError: 'NoneType' object has no attribute 'split'\n",
      "Exception ignored on calling ctypes callback function: <function _ThreadpoolInfo._find_modules_with_dl_iterate_phdr.<locals>.match_module_callback at 0x7f34d4fc4af0>\n",
      "Traceback (most recent call last):\n",
      "  File \"/home/ehgeraldo/miniconda3/lib/python3.9/site-packages/threadpoolctl.py\", line 400, in match_module_callback\n",
      "    self._make_module_from_path(filepath)\n",
      "  File \"/home/ehgeraldo/miniconda3/lib/python3.9/site-packages/threadpoolctl.py\", line 515, in _make_module_from_path\n",
      "    module = module_class(filepath, prefix, user_api, internal_api)\n",
      "  File \"/home/ehgeraldo/miniconda3/lib/python3.9/site-packages/threadpoolctl.py\", line 606, in __init__\n",
      "    self.version = self.get_version()\n",
      "  File \"/home/ehgeraldo/miniconda3/lib/python3.9/site-packages/threadpoolctl.py\", line 646, in get_version\n",
      "    config = get_config().split()\n",
      "AttributeError: 'NoneType' object has no attribute 'split'\n",
      "Exception ignored on calling ctypes callback function: <function _ThreadpoolInfo._find_modules_with_dl_iterate_phdr.<locals>.match_module_callback at 0x7f34d4fc4af0>\n",
      "Traceback (most recent call last):\n",
      "  File \"/home/ehgeraldo/miniconda3/lib/python3.9/site-packages/threadpoolctl.py\", line 400, in match_module_callback\n",
      "    self._make_module_from_path(filepath)\n",
      "  File \"/home/ehgeraldo/miniconda3/lib/python3.9/site-packages/threadpoolctl.py\", line 515, in _make_module_from_path\n",
      "    module = module_class(filepath, prefix, user_api, internal_api)\n",
      "  File \"/home/ehgeraldo/miniconda3/lib/python3.9/site-packages/threadpoolctl.py\", line 606, in __init__\n",
      "    self.version = self.get_version()\n",
      "  File \"/home/ehgeraldo/miniconda3/lib/python3.9/site-packages/threadpoolctl.py\", line 646, in get_version\n",
      "    config = get_config().split()\n",
      "AttributeError: 'NoneType' object has no attribute 'split'\n",
      "Exception ignored on calling ctypes callback function: <function _ThreadpoolInfo._find_modules_with_dl_iterate_phdr.<locals>.match_module_callback at 0x7f34d4fc4af0>\n",
      "Traceback (most recent call last):\n",
      "  File \"/home/ehgeraldo/miniconda3/lib/python3.9/site-packages/threadpoolctl.py\", line 400, in match_module_callback\n",
      "    self._make_module_from_path(filepath)\n",
      "  File \"/home/ehgeraldo/miniconda3/lib/python3.9/site-packages/threadpoolctl.py\", line 515, in _make_module_from_path\n",
      "    module = module_class(filepath, prefix, user_api, internal_api)\n",
      "  File \"/home/ehgeraldo/miniconda3/lib/python3.9/site-packages/threadpoolctl.py\", line 606, in __init__\n",
      "    self.version = self.get_version()\n",
      "  File \"/home/ehgeraldo/miniconda3/lib/python3.9/site-packages/threadpoolctl.py\", line 646, in get_version\n",
      "    config = get_config().split()\n",
      "AttributeError: 'NoneType' object has no attribute 'split'\n",
      "Exception ignored on calling ctypes callback function: <function _ThreadpoolInfo._find_modules_with_dl_iterate_phdr.<locals>.match_module_callback at 0x7f34d4fc4af0>\n",
      "Traceback (most recent call last):\n",
      "  File \"/home/ehgeraldo/miniconda3/lib/python3.9/site-packages/threadpoolctl.py\", line 400, in match_module_callback\n",
      "    self._make_module_from_path(filepath)\n",
      "  File \"/home/ehgeraldo/miniconda3/lib/python3.9/site-packages/threadpoolctl.py\", line 515, in _make_module_from_path\n",
      "    module = module_class(filepath, prefix, user_api, internal_api)\n",
      "  File \"/home/ehgeraldo/miniconda3/lib/python3.9/site-packages/threadpoolctl.py\", line 606, in __init__\n",
      "    self.version = self.get_version()\n",
      "  File \"/home/ehgeraldo/miniconda3/lib/python3.9/site-packages/threadpoolctl.py\", line 646, in get_version\n",
      "    config = get_config().split()\n",
      "AttributeError: 'NoneType' object has no attribute 'split'\n",
      "Exception ignored on calling ctypes callback function: <function _ThreadpoolInfo._find_modules_with_dl_iterate_phdr.<locals>.match_module_callback at 0x7f34d4fc4af0>\n",
      "Traceback (most recent call last):\n",
      "  File \"/home/ehgeraldo/miniconda3/lib/python3.9/site-packages/threadpoolctl.py\", line 400, in match_module_callback\n",
      "    self._make_module_from_path(filepath)\n",
      "  File \"/home/ehgeraldo/miniconda3/lib/python3.9/site-packages/threadpoolctl.py\", line 515, in _make_module_from_path\n",
      "    module = module_class(filepath, prefix, user_api, internal_api)\n",
      "  File \"/home/ehgeraldo/miniconda3/lib/python3.9/site-packages/threadpoolctl.py\", line 606, in __init__\n",
      "    self.version = self.get_version()\n",
      "  File \"/home/ehgeraldo/miniconda3/lib/python3.9/site-packages/threadpoolctl.py\", line 646, in get_version\n",
      "    config = get_config().split()\n",
      "AttributeError: 'NoneType' object has no attribute 'split'\n",
      "Exception ignored on calling ctypes callback function: <function _ThreadpoolInfo._find_modules_with_dl_iterate_phdr.<locals>.match_module_callback at 0x7f34d4fc4af0>\n",
      "Traceback (most recent call last):\n",
      "  File \"/home/ehgeraldo/miniconda3/lib/python3.9/site-packages/threadpoolctl.py\", line 400, in match_module_callback\n",
      "    self._make_module_from_path(filepath)\n",
      "  File \"/home/ehgeraldo/miniconda3/lib/python3.9/site-packages/threadpoolctl.py\", line 515, in _make_module_from_path\n",
      "    module = module_class(filepath, prefix, user_api, internal_api)\n",
      "  File \"/home/ehgeraldo/miniconda3/lib/python3.9/site-packages/threadpoolctl.py\", line 606, in __init__\n",
      "    self.version = self.get_version()\n",
      "  File \"/home/ehgeraldo/miniconda3/lib/python3.9/site-packages/threadpoolctl.py\", line 646, in get_version\n",
      "    config = get_config().split()\n",
      "AttributeError: 'NoneType' object has no attribute 'split'\n",
      "Exception ignored on calling ctypes callback function: <function _ThreadpoolInfo._find_modules_with_dl_iterate_phdr.<locals>.match_module_callback at 0x7f34d4fc4af0>\n",
      "Traceback (most recent call last):\n",
      "  File \"/home/ehgeraldo/miniconda3/lib/python3.9/site-packages/threadpoolctl.py\", line 400, in match_module_callback\n",
      "    self._make_module_from_path(filepath)\n",
      "  File \"/home/ehgeraldo/miniconda3/lib/python3.9/site-packages/threadpoolctl.py\", line 515, in _make_module_from_path\n",
      "    module = module_class(filepath, prefix, user_api, internal_api)\n",
      "  File \"/home/ehgeraldo/miniconda3/lib/python3.9/site-packages/threadpoolctl.py\", line 606, in __init__\n",
      "    self.version = self.get_version()\n",
      "  File \"/home/ehgeraldo/miniconda3/lib/python3.9/site-packages/threadpoolctl.py\", line 646, in get_version\n",
      "    config = get_config().split()\n",
      "AttributeError: 'NoneType' object has no attribute 'split'\n"
     ]
    }
   ],
   "source": [
    "for k in range(1, 5):\n",
    "    kmeans=KMeans(n_clusters=k)\n",
    "    kmeans.fit(df1[['DEN_T','GR_T']])\n",
    "    df1[f'KMeans_{k}'] = kmeans.labels_\n",
    "    "
   ]
  },
  {
   "cell_type": "code",
   "execution_count": 93,
   "id": "71bb00bb",
   "metadata": {
    "ExecuteTime": {
     "end_time": "2022-09-17T22:15:25.117695Z",
     "start_time": "2022-09-17T22:15:23.553914Z"
    }
   },
   "outputs": [
    {
     "data": {
      "image/png": "[encoded data removed]",
      "text/plain": [
       "<Figure size 1440x360 with 5 Axes>"
      ]
     },
     "metadata": {
      "needs_background": "light"
     },
     "output_type": "display_data"
    }
   ],
   "source": [
    "fig, axs = plt.subplots(nrows=1, ncols=5, figsize=(20,5))\n",
    "for i, ax in enumerate(fig.axes, start=1):\n",
    "    ax.scatter(x=df1['DEN'], y=df1['GR'], c=df1[f'KMeans_{i}'])\n",
    "    ax.set_title(f'N Clusters: {i}')"
   ]
  },
  {
   "cell_type": "code",
   "execution_count": 94,
   "id": "c2c2533f",
   "metadata": {
    "ExecuteTime": {
     "end_time": "2022-09-17T22:17:14.758060Z",
     "start_time": "2022-09-17T22:17:14.234683Z"
    }
   },
   "outputs": [
    {
     "name": "stderr",
     "output_type": "stream",
     "text": [
      "Exception ignored on calling ctypes callback function: <function _ThreadpoolInfo._find_modules_with_dl_iterate_phdr.<locals>.match_module_callback at 0x7f34d4afadc0>\n",
      "Traceback (most recent call last):\n",
      "  File \"/home/ehgeraldo/miniconda3/lib/python3.9/site-packages/threadpoolctl.py\", line 400, in match_module_callback\n",
      "    self._make_module_from_path(filepath)\n",
      "  File \"/home/ehgeraldo/miniconda3/lib/python3.9/site-packages/threadpoolctl.py\", line 515, in _make_module_from_path\n",
      "    module = module_class(filepath, prefix, user_api, internal_api)\n",
      "  File \"/home/ehgeraldo/miniconda3/lib/python3.9/site-packages/threadpoolctl.py\", line 606, in __init__\n",
      "    self.version = self.get_version()\n",
      "  File \"/home/ehgeraldo/miniconda3/lib/python3.9/site-packages/threadpoolctl.py\", line 646, in get_version\n",
      "    config = get_config().split()\n",
      "AttributeError: 'NoneType' object has no attribute 'split'\n",
      "Exception ignored on calling ctypes callback function: <function _ThreadpoolInfo._find_modules_with_dl_iterate_phdr.<locals>.match_module_callback at 0x7f34d4afadc0>\n",
      "Traceback (most recent call last):\n",
      "  File \"/home/ehgeraldo/miniconda3/lib/python3.9/site-packages/threadpoolctl.py\", line 400, in match_module_callback\n",
      "    self._make_module_from_path(filepath)\n",
      "  File \"/home/ehgeraldo/miniconda3/lib/python3.9/site-packages/threadpoolctl.py\", line 515, in _make_module_from_path\n",
      "    module = module_class(filepath, prefix, user_api, internal_api)\n",
      "  File \"/home/ehgeraldo/miniconda3/lib/python3.9/site-packages/threadpoolctl.py\", line 606, in __init__\n",
      "    self.version = self.get_version()\n",
      "  File \"/home/ehgeraldo/miniconda3/lib/python3.9/site-packages/threadpoolctl.py\", line 646, in get_version\n",
      "    config = get_config().split()\n",
      "AttributeError: 'NoneType' object has no attribute 'split'\n",
      "Exception ignored on calling ctypes callback function: <function _ThreadpoolInfo._find_modules_with_dl_iterate_phdr.<locals>.match_module_callback at 0x7f34d4afadc0>\n",
      "Traceback (most recent call last):\n",
      "  File \"/home/ehgeraldo/miniconda3/lib/python3.9/site-packages/threadpoolctl.py\", line 400, in match_module_callback\n",
      "    self._make_module_from_path(filepath)\n",
      "  File \"/home/ehgeraldo/miniconda3/lib/python3.9/site-packages/threadpoolctl.py\", line 515, in _make_module_from_path\n",
      "    module = module_class(filepath, prefix, user_api, internal_api)\n",
      "  File \"/home/ehgeraldo/miniconda3/lib/python3.9/site-packages/threadpoolctl.py\", line 606, in __init__\n",
      "    self.version = self.get_version()\n",
      "  File \"/home/ehgeraldo/miniconda3/lib/python3.9/site-packages/threadpoolctl.py\", line 646, in get_version\n",
      "    config = get_config().split()\n",
      "AttributeError: 'NoneType' object has no attribute 'split'\n",
      "Exception ignored on calling ctypes callback function: <function _ThreadpoolInfo._find_modules_with_dl_iterate_phdr.<locals>.match_module_callback at 0x7f34d4afadc0>\n",
      "Traceback (most recent call last):\n",
      "  File \"/home/ehgeraldo/miniconda3/lib/python3.9/site-packages/threadpoolctl.py\", line 400, in match_module_callback\n",
      "    self._make_module_from_path(filepath)\n",
      "  File \"/home/ehgeraldo/miniconda3/lib/python3.9/site-packages/threadpoolctl.py\", line 515, in _make_module_from_path\n",
      "    module = module_class(filepath, prefix, user_api, internal_api)\n",
      "  File \"/home/ehgeraldo/miniconda3/lib/python3.9/site-packages/threadpoolctl.py\", line 606, in __init__\n",
      "    self.version = self.get_version()\n",
      "  File \"/home/ehgeraldo/miniconda3/lib/python3.9/site-packages/threadpoolctl.py\", line 646, in get_version\n",
      "    config = get_config().split()\n",
      "AttributeError: 'NoneType' object has no attribute 'split'\n",
      "Exception ignored on calling ctypes callback function: <function _ThreadpoolInfo._find_modules_with_dl_iterate_phdr.<locals>.match_module_callback at 0x7f34d4afadc0>\n",
      "Traceback (most recent call last):\n",
      "  File \"/home/ehgeraldo/miniconda3/lib/python3.9/site-packages/threadpoolctl.py\", line 400, in match_module_callback\n",
      "    self._make_module_from_path(filepath)\n",
      "  File \"/home/ehgeraldo/miniconda3/lib/python3.9/site-packages/threadpoolctl.py\", line 515, in _make_module_from_path\n",
      "    module = module_class(filepath, prefix, user_api, internal_api)\n",
      "  File \"/home/ehgeraldo/miniconda3/lib/python3.9/site-packages/threadpoolctl.py\", line 606, in __init__\n",
      "    self.version = self.get_version()\n",
      "  File \"/home/ehgeraldo/miniconda3/lib/python3.9/site-packages/threadpoolctl.py\", line 646, in get_version\n",
      "    config = get_config().split()\n",
      "AttributeError: 'NoneType' object has no attribute 'split'\n",
      "Exception ignored on calling ctypes callback function: <function _ThreadpoolInfo._find_modules_with_dl_iterate_phdr.<locals>.match_module_callback at 0x7f34d4afadc0>\n",
      "Traceback (most recent call last):\n",
      "  File \"/home/ehgeraldo/miniconda3/lib/python3.9/site-packages/threadpoolctl.py\", line 400, in match_module_callback\n",
      "    self._make_module_from_path(filepath)\n",
      "  File \"/home/ehgeraldo/miniconda3/lib/python3.9/site-packages/threadpoolctl.py\", line 515, in _make_module_from_path\n",
      "    module = module_class(filepath, prefix, user_api, internal_api)\n",
      "  File \"/home/ehgeraldo/miniconda3/lib/python3.9/site-packages/threadpoolctl.py\", line 606, in __init__\n",
      "    self.version = self.get_version()\n",
      "  File \"/home/ehgeraldo/miniconda3/lib/python3.9/site-packages/threadpoolctl.py\", line 646, in get_version\n",
      "    config = get_config().split()\n",
      "AttributeError: 'NoneType' object has no attribute 'split'\n",
      "Exception ignored on calling ctypes callback function: <function _ThreadpoolInfo._find_modules_with_dl_iterate_phdr.<locals>.match_module_callback at 0x7f34d4afadc0>\n",
      "Traceback (most recent call last):\n",
      "  File \"/home/ehgeraldo/miniconda3/lib/python3.9/site-packages/threadpoolctl.py\", line 400, in match_module_callback\n",
      "    self._make_module_from_path(filepath)\n",
      "  File \"/home/ehgeraldo/miniconda3/lib/python3.9/site-packages/threadpoolctl.py\", line 515, in _make_module_from_path\n",
      "    module = module_class(filepath, prefix, user_api, internal_api)\n",
      "  File \"/home/ehgeraldo/miniconda3/lib/python3.9/site-packages/threadpoolctl.py\", line 606, in __init__\n",
      "    self.version = self.get_version()\n",
      "  File \"/home/ehgeraldo/miniconda3/lib/python3.9/site-packages/threadpoolctl.py\", line 646, in get_version\n",
      "    config = get_config().split()\n",
      "AttributeError: 'NoneType' object has no attribute 'split'\n",
      "Exception ignored on calling ctypes callback function: <function _ThreadpoolInfo._find_modules_with_dl_iterate_phdr.<locals>.match_module_callback at 0x7f34d4afadc0>\n",
      "Traceback (most recent call last):\n",
      "  File \"/home/ehgeraldo/miniconda3/lib/python3.9/site-packages/threadpoolctl.py\", line 400, in match_module_callback\n",
      "    self._make_module_from_path(filepath)\n",
      "  File \"/home/ehgeraldo/miniconda3/lib/python3.9/site-packages/threadpoolctl.py\", line 515, in _make_module_from_path\n",
      "    module = module_class(filepath, prefix, user_api, internal_api)\n",
      "  File \"/home/ehgeraldo/miniconda3/lib/python3.9/site-packages/threadpoolctl.py\", line 606, in __init__\n",
      "    self.version = self.get_version()\n",
      "  File \"/home/ehgeraldo/miniconda3/lib/python3.9/site-packages/threadpoolctl.py\", line 646, in get_version\n",
      "    config = get_config().split()\n",
      "AttributeError: 'NoneType' object has no attribute 'split'\n",
      "Exception ignored on calling ctypes callback function: <function _ThreadpoolInfo._find_modules_with_dl_iterate_phdr.<locals>.match_module_callback at 0x7f34d4afadc0>\n",
      "Traceback (most recent call last):\n",
      "  File \"/home/ehgeraldo/miniconda3/lib/python3.9/site-packages/threadpoolctl.py\", line 400, in match_module_callback\n",
      "    self._make_module_from_path(filepath)\n",
      "  File \"/home/ehgeraldo/miniconda3/lib/python3.9/site-packages/threadpoolctl.py\", line 515, in _make_module_from_path\n",
      "    module = module_class(filepath, prefix, user_api, internal_api)\n",
      "  File \"/home/ehgeraldo/miniconda3/lib/python3.9/site-packages/threadpoolctl.py\", line 606, in __init__\n",
      "    self.version = self.get_version()\n",
      "  File \"/home/ehgeraldo/miniconda3/lib/python3.9/site-packages/threadpoolctl.py\", line 646, in get_version\n",
      "    config = get_config().split()\n",
      "AttributeError: 'NoneType' object has no attribute 'split'\n",
      "Exception ignored on calling ctypes callback function: <function _ThreadpoolInfo._find_modules_with_dl_iterate_phdr.<locals>.match_module_callback at 0x7f34d4afadc0>\n",
      "Traceback (most recent call last):\n",
      "  File \"/home/ehgeraldo/miniconda3/lib/python3.9/site-packages/threadpoolctl.py\", line 400, in match_module_callback\n",
      "    self._make_module_from_path(filepath)\n",
      "  File \"/home/ehgeraldo/miniconda3/lib/python3.9/site-packages/threadpoolctl.py\", line 515, in _make_module_from_path\n",
      "    module = module_class(filepath, prefix, user_api, internal_api)\n",
      "  File \"/home/ehgeraldo/miniconda3/lib/python3.9/site-packages/threadpoolctl.py\", line 606, in __init__\n",
      "    self.version = self.get_version()\n",
      "  File \"/home/ehgeraldo/miniconda3/lib/python3.9/site-packages/threadpoolctl.py\", line 646, in get_version\n",
      "    config = get_config().split()\n",
      "AttributeError: 'NoneType' object has no attribute 'split'\n"
     ]
    }
   ],
   "source": [
    "for k in range(1, 5):\n",
    "    kmeans=KMeans(n_clusters=k)\n",
    "    kmeans.fit(df1[['GR_T','NEU_T']])\n",
    "    df1[f'KMeans_{k}'] = kmeans.labels_\n",
    "    "
   ]
  },
  {
   "cell_type": "code",
   "execution_count": 95,
   "id": "b643928c",
   "metadata": {
    "ExecuteTime": {
     "end_time": "2022-09-17T22:17:37.164353Z",
     "start_time": "2022-09-17T22:17:35.634713Z"
    }
   },
   "outputs": [
    {
     "data": {
      "image/png": "[encoded data removed]",
      "text/plain": [
       "<Figure size 1440x360 with 5 Axes>"
      ]
     },
     "metadata": {
      "needs_background": "light"
     },
     "output_type": "display_data"
    }
   ],
   "source": [
    "fig, axs = plt.subplots(nrows=1, ncols=5, figsize=(20,5))\n",
    "for i, ax in enumerate(fig.axes, start=1):\n",
    "    ax.scatter(x=df1['GR'], y=df1['NEU'], c=df1[f'KMeans_{i}'])\n",
    "    ax.set_title(f'N Clusters: {i}')"
   ]
  },
  {
   "cell_type": "code",
   "execution_count": null,
   "id": "2e0dfac0",
   "metadata": {},
   "outputs": [],
   "source": []
  },
  {
   "cell_type": "code",
   "execution_count": null,
   "id": "5a6848fb",
   "metadata": {},
   "outputs": [],
   "source": []
  },
  {
   "cell_type": "code",
   "execution_count": null,
   "id": "9fece320",
   "metadata": {},
   "outputs": [],
   "source": []
  }
 ],
 "metadata": {
  "kernelspec": {
   "display_name": "Python 3 (ipykernel)",
   "language": "python",
   "name": "python3"
  },
  "language_info": {
   "codemirror_mode": {
    "name": "ipython",
    "version": 3
   },
   "file_extension": ".py",
   "mimetype": "text/x-python",
   "name": "python",
   "nbconvert_exporter": "python",
   "pygments_lexer": "ipython3",
   "version": "3.9.5"
  },
  "toc": {
   "base_numbering": 1,
   "nav_menu": {},
   "number_sections": true,
   "sideBar": true,
   "skip_h1_title": false,
   "title_cell": "Table of Contents",
   "title_sidebar": "Contents",
   "toc_cell": false,
   "toc_position": {},
   "toc_section_display": true,
   "toc_window_display": false
  }
 },
 "nbformat": 4,
 "nbformat_minor": 5
}
