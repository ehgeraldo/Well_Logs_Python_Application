{
 "cells": [
  {
   "cell_type": "markdown",
   "id": "80b0dfd8",
   "metadata": {},
   "source": [
    "# Well Log plot - Plotly"
   ]
  },
  {
   "cell_type": "markdown",
   "id": "5b857918",
   "metadata": {},
   "source": [
    "# Planning\n",
    "\n",
    "\n",
    "# Solution at (IOT)\n",
    "\n",
    "\n",
    "# Input\n",
    "* We choose an oil well with open source to apply visualization methods with python libraries.\n",
    "\n",
    "\n",
    "# Output\n",
    "* Jupyter notebook tutorial to analysis\n",
    "\n",
    "# Tasks\n",
    "* From https://www.nlog.nl/datacenter "
   ]
  },
  {
   "cell_type": "markdown",
   "id": "b5ad3706",
   "metadata": {},
   "source": [
    "# Imports"
   ]
  },
  {
   "cell_type": "code",
   "execution_count": 17,
   "id": "53cf9af6",
   "metadata": {
    "ExecuteTime": {
     "end_time": "2022-09-02T23:31:16.537190Z",
     "start_time": "2022-09-02T23:31:16.526174Z"
    }
   },
   "outputs": [],
   "source": [
    "import pandas            as pd\n",
    "import numpy             as np\n",
    "import missingno         as msno\n",
    "\n",
    "import matplotlib.pyplot as plt\n"
   ]
  },
  {
   "cell_type": "code",
   "execution_count": 5,
   "id": "bcce7ebb",
   "metadata": {
    "ExecuteTime": {
     "end_time": "2022-09-02T23:28:12.847270Z",
     "start_time": "2022-09-02T23:28:12.831017Z"
    }
   },
   "outputs": [
    {
     "data": {
      "text/plain": [
       "'/home/ehgeraldo/repos/Well_Logs_Plots'"
      ]
     },
     "execution_count": 5,
     "metadata": {},
     "output_type": "execute_result"
    }
   ],
   "source": [
    "pwd"
   ]
  },
  {
   "cell_type": "code",
   "execution_count": 6,
   "id": "06728a74",
   "metadata": {
    "ExecuteTime": {
     "end_time": "2022-09-02T23:28:13.771304Z",
     "start_time": "2022-09-02T23:28:13.628979Z"
    }
   },
   "outputs": [
    {
     "name": "stdout",
     "output_type": "stream",
     "text": [
      "total 8624\r\n",
      "-rw-rw-r-- 1 ehgeraldo ehgeraldo  479237 ago 29 22:33 c0.0-ehgeraldo-planning.ipynb\r\n",
      "-rw-rw-r-- 1 ehgeraldo ehgeraldo   95981 ago 29 22:34 c1.1-ehgeraldo-planning_histogram.ipynb\r\n",
      "-rw-rw-r-- 1 ehgeraldo ehgeraldo  398435 ago 29 22:37 c2.2-ehgeraldo-planning_scatterplot.ipynb\r\n",
      "-rw-rw-r-- 1 ehgeraldo ehgeraldo  395869 ago 29 22:43 c3.3-ehgeraldo_matplotlib_subplots.ipynb\r\n",
      "-rw-rw-r-- 1 ehgeraldo ehgeraldo 5739415 ago 27 17:21 c4.4-ehgeraldo_matplotlib.ipynb\r\n",
      "-rw-rw-r-- 1 ehgeraldo ehgeraldo  201758 ago 29 17:10 c5.5-ehgeraldo_shading.ipynb\r\n",
      "-rw-rw-r-- 1 ehgeraldo ehgeraldo  247083 ago 29 22:30 c6.6-ehgeraldo_matplotlib_subplot.ipynb\r\n",
      "-rw-rw-r-- 1 ehgeraldo ehgeraldo  803860 ago 30 16:10 c7.7-ehgeraldo_well_locations.ipynb\r\n",
      "-rw-rw-r-- 1 ehgeraldo ehgeraldo  217375 set  1 09:21 c8.8-ehgeraldo_well_boxplots.ipynb\r\n",
      "-rw-rw-r-- 1 ehgeraldo ehgeraldo  217347 set  2 20:26 c9.9-ehgeraldo_well_missing_data.ipynb\r\n",
      "drwxrwxr-x 2 ehgeraldo ehgeraldo    4096 set  2 20:26 \u001b[0m\u001b[01;34mdata\u001b[0m/\r\n"
     ]
    }
   ],
   "source": [
    "ls -l"
   ]
  },
  {
   "cell_type": "code",
   "execution_count": 8,
   "id": "e36f67bf",
   "metadata": {
    "ExecuteTime": {
     "end_time": "2022-09-02T23:28:38.417742Z",
     "start_time": "2022-09-02T23:28:37.406091Z"
    }
   },
   "outputs": [],
   "source": [
    "df_raw = pd.read_csv('/home/ehgeraldo/repos/Well_Logs_Plots/data/xeek_subset2.csv')"
   ]
  },
  {
   "cell_type": "markdown",
   "id": "d4798e94",
   "metadata": {},
   "source": [
    "## Data dimensions"
   ]
  },
  {
   "cell_type": "code",
   "execution_count": 9,
   "id": "cd5fa797",
   "metadata": {
    "ExecuteTime": {
     "end_time": "2022-09-02T23:30:22.268474Z",
     "start_time": "2022-09-02T23:30:22.254664Z"
    }
   },
   "outputs": [
    {
     "name": "stdout",
     "output_type": "stream",
     "text": [
      "Number of rows: 133198\n",
      "Number of cols: 25\n"
     ]
    }
   ],
   "source": [
    "print('Number of rows: {}'.format(df_raw.shape[0]))\n",
    "print('Number of cols: {}'.format(df_raw.shape[1]))"
   ]
  },
  {
   "cell_type": "markdown",
   "id": "cfa1d204",
   "metadata": {},
   "source": [
    "## Data types"
   ]
  },
  {
   "cell_type": "code",
   "execution_count": 10,
   "id": "b30c14ec",
   "metadata": {
    "ExecuteTime": {
     "end_time": "2022-09-02T23:30:29.025483Z",
     "start_time": "2022-09-02T23:30:29.002187Z"
    }
   },
   "outputs": [
    {
     "data": {
      "text/plain": [
       "WELL            object\n",
       "DEPTH_MD       float64\n",
       "X_LOC          float64\n",
       "Y_LOC          float64\n",
       "Z_LOC          float64\n",
       "GROUP           object\n",
       "FORMATION       object\n",
       "CALI           float64\n",
       "RSHA           float64\n",
       "RMED           float64\n",
       "RDEP           float64\n",
       "RHOB           float64\n",
       "GR             float64\n",
       "SGR            float64\n",
       "NPHI           float64\n",
       "PEF            float64\n",
       "DTC            float64\n",
       "SP             float64\n",
       "DTS            float64\n",
       "DCAL           float64\n",
       "DRHO           float64\n",
       "ROPA           float64\n",
       "RXO            float64\n",
       "LITHOFACIES      int64\n",
       "LITH_CONF      float64\n",
       "dtype: object"
      ]
     },
     "execution_count": 10,
     "metadata": {},
     "output_type": "execute_result"
    }
   ],
   "source": [
    "df_raw.dtypes"
   ]
  },
  {
   "cell_type": "markdown",
   "id": "b37cce69",
   "metadata": {},
   "source": [
    "## Check NAs "
   ]
  },
  {
   "cell_type": "code",
   "execution_count": 11,
   "id": "3922c77f",
   "metadata": {
    "ExecuteTime": {
     "end_time": "2022-09-02T23:30:33.794352Z",
     "start_time": "2022-09-02T23:30:33.658862Z"
    }
   },
   "outputs": [
    {
     "data": {
      "text/plain": [
       "WELL                0\n",
       "DEPTH_MD            0\n",
       "X_LOC            7393\n",
       "Y_LOC            7393\n",
       "Z_LOC            7393\n",
       "GROUP               0\n",
       "FORMATION       21566\n",
       "CALI              192\n",
       "RSHA            71159\n",
       "RMED             7642\n",
       "RDEP             7393\n",
       "RHOB            25145\n",
       "GR                  0\n",
       "SGR            115848\n",
       "NPHI            41473\n",
       "PEF             32358\n",
       "DTC               563\n",
       "SP              39518\n",
       "DTS            121014\n",
       "DCAL            76998\n",
       "DRHO            27659\n",
       "ROPA           119725\n",
       "RXO             94252\n",
       "LITHOFACIES         0\n",
       "LITH_CONF          15\n",
       "dtype: int64"
      ]
     },
     "execution_count": 11,
     "metadata": {},
     "output_type": "execute_result"
    }
   ],
   "source": [
    "df_raw.isna().sum()"
   ]
  },
  {
   "cell_type": "code",
   "execution_count": 8,
   "id": "c9f20252",
   "metadata": {
    "ExecuteTime": {
     "end_time": "2022-09-01T11:36:40.544922Z",
     "start_time": "2022-09-01T11:36:40.522069Z"
    }
   },
   "outputs": [],
   "source": [
    "#df_raw.dropna(inplace=True)"
   ]
  },
  {
   "cell_type": "code",
   "execution_count": 12,
   "id": "68e64192",
   "metadata": {
    "ExecuteTime": {
     "end_time": "2022-09-02T23:30:44.751664Z",
     "start_time": "2022-09-02T23:30:44.741022Z"
    }
   },
   "outputs": [],
   "source": [
    "#df_raw.sample().T"
   ]
  },
  {
   "cell_type": "markdown",
   "id": "d069ab92",
   "metadata": {},
   "source": [
    "## Data Describe"
   ]
  },
  {
   "cell_type": "code",
   "execution_count": 13,
   "id": "54f0e84a",
   "metadata": {
    "ExecuteTime": {
     "end_time": "2022-09-02T23:30:48.386203Z",
     "start_time": "2022-09-02T23:30:48.086120Z"
    }
   },
   "outputs": [
    {
     "data": {
      "text/html": [
       "<div>\n",
       "<style scoped>\n",
       "    .dataframe tbody tr th:only-of-type {\n",
       "        vertical-align: middle;\n",
       "    }\n",
       "\n",
       "    .dataframe tbody tr th {\n",
       "        vertical-align: top;\n",
       "    }\n",
       "\n",
       "    .dataframe thead th {\n",
       "        text-align: right;\n",
       "    }\n",
       "</style>\n",
       "<table border=\"1\" class=\"dataframe\">\n",
       "  <thead>\n",
       "    <tr style=\"text-align: right;\">\n",
       "      <th></th>\n",
       "      <th>DEPTH_MD</th>\n",
       "      <th>X_LOC</th>\n",
       "      <th>Y_LOC</th>\n",
       "      <th>Z_LOC</th>\n",
       "      <th>CALI</th>\n",
       "      <th>RSHA</th>\n",
       "      <th>RMED</th>\n",
       "      <th>RDEP</th>\n",
       "      <th>RHOB</th>\n",
       "      <th>GR</th>\n",
       "      <th>...</th>\n",
       "      <th>PEF</th>\n",
       "      <th>DTC</th>\n",
       "      <th>SP</th>\n",
       "      <th>DTS</th>\n",
       "      <th>DCAL</th>\n",
       "      <th>DRHO</th>\n",
       "      <th>ROPA</th>\n",
       "      <th>RXO</th>\n",
       "      <th>LITHOFACIES</th>\n",
       "      <th>LITH_CONF</th>\n",
       "    </tr>\n",
       "  </thead>\n",
       "  <tbody>\n",
       "    <tr>\n",
       "      <th>count</th>\n",
       "      <td>133198.000000</td>\n",
       "      <td>125805.000000</td>\n",
       "      <td>1.258050e+05</td>\n",
       "      <td>125805.000000</td>\n",
       "      <td>133006.000000</td>\n",
       "      <td>62039.000000</td>\n",
       "      <td>125556.000000</td>\n",
       "      <td>125805.000000</td>\n",
       "      <td>108053.000000</td>\n",
       "      <td>133198.000000</td>\n",
       "      <td>...</td>\n",
       "      <td>100840.000000</td>\n",
       "      <td>132635.000000</td>\n",
       "      <td>93680.000000</td>\n",
       "      <td>12184.000000</td>\n",
       "      <td>56200.000000</td>\n",
       "      <td>105539.000000</td>\n",
       "      <td>13473.000000</td>\n",
       "      <td>38946.000000</td>\n",
       "      <td>133198.000000</td>\n",
       "      <td>133183.000000</td>\n",
       "    </tr>\n",
       "    <tr>\n",
       "      <th>mean</th>\n",
       "      <td>1792.944663</td>\n",
       "      <td>451235.640861</td>\n",
       "      <td>6.471392e+06</td>\n",
       "      <td>-1719.214522</td>\n",
       "      <td>13.199399</td>\n",
       "      <td>10.561825</td>\n",
       "      <td>1.708851</td>\n",
       "      <td>1.743774</td>\n",
       "      <td>2.199556</td>\n",
       "      <td>69.553872</td>\n",
       "      <td>...</td>\n",
       "      <td>4.511845</td>\n",
       "      <td>122.700286</td>\n",
       "      <td>91.608922</td>\n",
       "      <td>176.583712</td>\n",
       "      <td>0.972165</td>\n",
       "      <td>0.009307</td>\n",
       "      <td>25.253839</td>\n",
       "      <td>-112.944168</td>\n",
       "      <td>63261.582892</td>\n",
       "      <td>1.235796</td>\n",
       "    </tr>\n",
       "    <tr>\n",
       "      <th>std</th>\n",
       "      <td>739.441515</td>\n",
       "      <td>15299.395264</td>\n",
       "      <td>3.094449e+04</td>\n",
       "      <td>740.536678</td>\n",
       "      <td>3.561386</td>\n",
       "      <td>116.359983</td>\n",
       "      <td>9.127200</td>\n",
       "      <td>13.233330</td>\n",
       "      <td>0.236902</td>\n",
       "      <td>39.328728</td>\n",
       "      <td>...</td>\n",
       "      <td>5.092807</td>\n",
       "      <td>34.234879</td>\n",
       "      <td>98.781404</td>\n",
       "      <td>44.358622</td>\n",
       "      <td>43.000304</td>\n",
       "      <td>0.067312</td>\n",
       "      <td>14.319902</td>\n",
       "      <td>333.547482</td>\n",
       "      <td>13623.352961</td>\n",
       "      <td>0.480781</td>\n",
       "    </tr>\n",
       "    <tr>\n",
       "      <th>min</th>\n",
       "      <td>415.261599</td>\n",
       "      <td>436790.843800</td>\n",
       "      <td>6.429286e+06</td>\n",
       "      <td>-3246.156250</td>\n",
       "      <td>5.946157</td>\n",
       "      <td>0.130193</td>\n",
       "      <td>-0.008419</td>\n",
       "      <td>0.123068</td>\n",
       "      <td>1.366913</td>\n",
       "      <td>0.109284</td>\n",
       "      <td>...</td>\n",
       "      <td>1.010027</td>\n",
       "      <td>7.415132</td>\n",
       "      <td>-2.199269</td>\n",
       "      <td>93.068260</td>\n",
       "      <td>-12.215459</td>\n",
       "      <td>-1.795894</td>\n",
       "      <td>0.556113</td>\n",
       "      <td>-999.900024</td>\n",
       "      <td>30000.000000</td>\n",
       "      <td>1.000000</td>\n",
       "    </tr>\n",
       "    <tr>\n",
       "      <th>25%</th>\n",
       "      <td>1182.822400</td>\n",
       "      <td>437640.781300</td>\n",
       "      <td>6.453743e+06</td>\n",
       "      <td>-2334.161865</td>\n",
       "      <td>11.381848</td>\n",
       "      <td>0.759227</td>\n",
       "      <td>0.779763</td>\n",
       "      <td>0.777323</td>\n",
       "      <td>2.029237</td>\n",
       "      <td>43.244637</td>\n",
       "      <td>...</td>\n",
       "      <td>2.857540</td>\n",
       "      <td>87.899776</td>\n",
       "      <td>48.808243</td>\n",
       "      <td>149.754013</td>\n",
       "      <td>0.007800</td>\n",
       "      <td>-0.007736</td>\n",
       "      <td>14.260232</td>\n",
       "      <td>0.537328</td>\n",
       "      <td>65000.000000</td>\n",
       "      <td>1.000000</td>\n",
       "    </tr>\n",
       "    <tr>\n",
       "      <th>50%</th>\n",
       "      <td>1747.524496</td>\n",
       "      <td>444152.093800</td>\n",
       "      <td>6.463019e+06</td>\n",
       "      <td>-1626.893433</td>\n",
       "      <td>12.698571</td>\n",
       "      <td>0.997515</td>\n",
       "      <td>1.095681</td>\n",
       "      <td>1.130621</td>\n",
       "      <td>2.162121</td>\n",
       "      <td>66.266132</td>\n",
       "      <td>...</td>\n",
       "      <td>3.780121</td>\n",
       "      <td>135.968094</td>\n",
       "      <td>70.282761</td>\n",
       "      <td>162.537949</td>\n",
       "      <td>0.415419</td>\n",
       "      <td>0.003215</td>\n",
       "      <td>24.598738</td>\n",
       "      <td>0.879455</td>\n",
       "      <td>65000.000000</td>\n",
       "      <td>1.000000</td>\n",
       "    </tr>\n",
       "    <tr>\n",
       "      <th>75%</th>\n",
       "      <td>2413.874901</td>\n",
       "      <td>460442.093800</td>\n",
       "      <td>6.478963e+06</td>\n",
       "      <td>-1119.113525</td>\n",
       "      <td>14.944049</td>\n",
       "      <td>1.450392</td>\n",
       "      <td>1.535653</td>\n",
       "      <td>1.644573</td>\n",
       "      <td>2.404375</td>\n",
       "      <td>93.808681</td>\n",
       "      <td>...</td>\n",
       "      <td>5.098502</td>\n",
       "      <td>147.388626</td>\n",
       "      <td>92.173889</td>\n",
       "      <td>190.082294</td>\n",
       "      <td>1.118416</td>\n",
       "      <td>0.022928</td>\n",
       "      <td>33.749100</td>\n",
       "      <td>1.519061</td>\n",
       "      <td>65030.000000</td>\n",
       "      <td>1.000000</td>\n",
       "    </tr>\n",
       "    <tr>\n",
       "      <th>max</th>\n",
       "      <td>3272.024000</td>\n",
       "      <td>476770.156300</td>\n",
       "      <td>6.539631e+06</td>\n",
       "      <td>-375.251495</td>\n",
       "      <td>25.717396</td>\n",
       "      <td>2193.904541</td>\n",
       "      <td>1796.209106</td>\n",
       "      <td>1856.935059</td>\n",
       "      <td>3.115611</td>\n",
       "      <td>804.298950</td>\n",
       "      <td>...</td>\n",
       "      <td>365.575592</td>\n",
       "      <td>230.432953</td>\n",
       "      <td>526.547302</td>\n",
       "      <td>377.327789</td>\n",
       "      <td>10006.789060</td>\n",
       "      <td>0.433157</td>\n",
       "      <td>86.378632</td>\n",
       "      <td>2000.000000</td>\n",
       "      <td>99000.000000</td>\n",
       "      <td>3.000000</td>\n",
       "    </tr>\n",
       "  </tbody>\n",
       "</table>\n",
       "<p>8 rows × 22 columns</p>\n",
       "</div>"
      ],
      "text/plain": [
       "            DEPTH_MD          X_LOC         Y_LOC          Z_LOC  \\\n",
       "count  133198.000000  125805.000000  1.258050e+05  125805.000000   \n",
       "mean     1792.944663  451235.640861  6.471392e+06   -1719.214522   \n",
       "std       739.441515   15299.395264  3.094449e+04     740.536678   \n",
       "min       415.261599  436790.843800  6.429286e+06   -3246.156250   \n",
       "25%      1182.822400  437640.781300  6.453743e+06   -2334.161865   \n",
       "50%      1747.524496  444152.093800  6.463019e+06   -1626.893433   \n",
       "75%      2413.874901  460442.093800  6.478963e+06   -1119.113525   \n",
       "max      3272.024000  476770.156300  6.539631e+06    -375.251495   \n",
       "\n",
       "                CALI          RSHA           RMED           RDEP  \\\n",
       "count  133006.000000  62039.000000  125556.000000  125805.000000   \n",
       "mean       13.199399     10.561825       1.708851       1.743774   \n",
       "std         3.561386    116.359983       9.127200      13.233330   \n",
       "min         5.946157      0.130193      -0.008419       0.123068   \n",
       "25%        11.381848      0.759227       0.779763       0.777323   \n",
       "50%        12.698571      0.997515       1.095681       1.130621   \n",
       "75%        14.944049      1.450392       1.535653       1.644573   \n",
       "max        25.717396   2193.904541    1796.209106    1856.935059   \n",
       "\n",
       "                RHOB             GR  ...            PEF            DTC  \\\n",
       "count  108053.000000  133198.000000  ...  100840.000000  132635.000000   \n",
       "mean        2.199556      69.553872  ...       4.511845     122.700286   \n",
       "std         0.236902      39.328728  ...       5.092807      34.234879   \n",
       "min         1.366913       0.109284  ...       1.010027       7.415132   \n",
       "25%         2.029237      43.244637  ...       2.857540      87.899776   \n",
       "50%         2.162121      66.266132  ...       3.780121     135.968094   \n",
       "75%         2.404375      93.808681  ...       5.098502     147.388626   \n",
       "max         3.115611     804.298950  ...     365.575592     230.432953   \n",
       "\n",
       "                 SP           DTS          DCAL           DRHO          ROPA  \\\n",
       "count  93680.000000  12184.000000  56200.000000  105539.000000  13473.000000   \n",
       "mean      91.608922    176.583712      0.972165       0.009307     25.253839   \n",
       "std       98.781404     44.358622     43.000304       0.067312     14.319902   \n",
       "min       -2.199269     93.068260    -12.215459      -1.795894      0.556113   \n",
       "25%       48.808243    149.754013      0.007800      -0.007736     14.260232   \n",
       "50%       70.282761    162.537949      0.415419       0.003215     24.598738   \n",
       "75%       92.173889    190.082294      1.118416       0.022928     33.749100   \n",
       "max      526.547302    377.327789  10006.789060       0.433157     86.378632   \n",
       "\n",
       "                RXO    LITHOFACIES      LITH_CONF  \n",
       "count  38946.000000  133198.000000  133183.000000  \n",
       "mean    -112.944168   63261.582892       1.235796  \n",
       "std      333.547482   13623.352961       0.480781  \n",
       "min     -999.900024   30000.000000       1.000000  \n",
       "25%        0.537328   65000.000000       1.000000  \n",
       "50%        0.879455   65000.000000       1.000000  \n",
       "75%        1.519061   65030.000000       1.000000  \n",
       "max     2000.000000   99000.000000       3.000000  \n",
       "\n",
       "[8 rows x 22 columns]"
      ]
     },
     "execution_count": 13,
     "metadata": {},
     "output_type": "execute_result"
    }
   ],
   "source": [
    "df_raw.describe()"
   ]
  },
  {
   "cell_type": "markdown",
   "id": "1ab06b64",
   "metadata": {},
   "source": [
    "## Descriptive Statistical"
   ]
  },
  {
   "cell_type": "code",
   "execution_count": 14,
   "id": "51e1bc45",
   "metadata": {
    "ExecuteTime": {
     "end_time": "2022-09-02T23:30:51.353755Z",
     "start_time": "2022-09-02T23:30:51.331295Z"
    }
   },
   "outputs": [],
   "source": [
    "num_attributes = df_raw.select_dtypes('float64')"
   ]
  },
  {
   "cell_type": "code",
   "execution_count": 15,
   "id": "c1db25a9",
   "metadata": {
    "ExecuteTime": {
     "end_time": "2022-09-02T23:30:52.372523Z",
     "start_time": "2022-09-02T23:30:52.306603Z"
    }
   },
   "outputs": [
    {
     "data": {
      "text/html": [
       "<div>\n",
       "<style scoped>\n",
       "    .dataframe tbody tr th:only-of-type {\n",
       "        vertical-align: middle;\n",
       "    }\n",
       "\n",
       "    .dataframe tbody tr th {\n",
       "        vertical-align: top;\n",
       "    }\n",
       "\n",
       "    .dataframe thead th {\n",
       "        text-align: right;\n",
       "    }\n",
       "</style>\n",
       "<table border=\"1\" class=\"dataframe\">\n",
       "  <thead>\n",
       "    <tr style=\"text-align: right;\">\n",
       "      <th></th>\n",
       "      <th>DEPTH_MD</th>\n",
       "      <th>X_LOC</th>\n",
       "      <th>Y_LOC</th>\n",
       "      <th>Z_LOC</th>\n",
       "      <th>CALI</th>\n",
       "      <th>RSHA</th>\n",
       "      <th>RMED</th>\n",
       "      <th>RDEP</th>\n",
       "      <th>RHOB</th>\n",
       "      <th>GR</th>\n",
       "      <th>...</th>\n",
       "      <th>NPHI</th>\n",
       "      <th>PEF</th>\n",
       "      <th>DTC</th>\n",
       "      <th>SP</th>\n",
       "      <th>DTS</th>\n",
       "      <th>DCAL</th>\n",
       "      <th>DRHO</th>\n",
       "      <th>ROPA</th>\n",
       "      <th>RXO</th>\n",
       "      <th>LITH_CONF</th>\n",
       "    </tr>\n",
       "  </thead>\n",
       "  <tbody>\n",
       "    <tr>\n",
       "      <th>26537</th>\n",
       "      <td>1741.840</td>\n",
       "      <td>436812.0313</td>\n",
       "      <td>6462996.0</td>\n",
       "      <td>-1716.756836</td>\n",
       "      <td>15.975877</td>\n",
       "      <td>0.773976</td>\n",
       "      <td>0.773976</td>\n",
       "      <td>0.766566</td>\n",
       "      <td>2.018696</td>\n",
       "      <td>52.092594</td>\n",
       "      <td>...</td>\n",
       "      <td>0.502810</td>\n",
       "      <td>2.704002</td>\n",
       "      <td>148.156982</td>\n",
       "      <td>69.570465</td>\n",
       "      <td>NaN</td>\n",
       "      <td>3.725876</td>\n",
       "      <td>0.085146</td>\n",
       "      <td>NaN</td>\n",
       "      <td>0.413648</td>\n",
       "      <td>1.0</td>\n",
       "    </tr>\n",
       "    <tr>\n",
       "      <th>4712</th>\n",
       "      <td>1210.752</td>\n",
       "      <td>437640.8125</td>\n",
       "      <td>6470976.5</td>\n",
       "      <td>-1185.699951</td>\n",
       "      <td>15.841737</td>\n",
       "      <td>NaN</td>\n",
       "      <td>0.977854</td>\n",
       "      <td>1.120605</td>\n",
       "      <td>1.747347</td>\n",
       "      <td>55.652431</td>\n",
       "      <td>...</td>\n",
       "      <td>0.529613</td>\n",
       "      <td>2.374283</td>\n",
       "      <td>149.838333</td>\n",
       "      <td>49.811161</td>\n",
       "      <td>NaN</td>\n",
       "      <td>NaN</td>\n",
       "      <td>-0.001998</td>\n",
       "      <td>NaN</td>\n",
       "      <td>NaN</td>\n",
       "      <td>1.0</td>\n",
       "    </tr>\n",
       "  </tbody>\n",
       "</table>\n",
       "<p>2 rows × 21 columns</p>\n",
       "</div>"
      ],
      "text/plain": [
       "       DEPTH_MD        X_LOC      Y_LOC        Z_LOC       CALI      RSHA  \\\n",
       "26537  1741.840  436812.0313  6462996.0 -1716.756836  15.975877  0.773976   \n",
       "4712   1210.752  437640.8125  6470976.5 -1185.699951  15.841737       NaN   \n",
       "\n",
       "           RMED      RDEP      RHOB         GR  ...      NPHI       PEF  \\\n",
       "26537  0.773976  0.766566  2.018696  52.092594  ...  0.502810  2.704002   \n",
       "4712   0.977854  1.120605  1.747347  55.652431  ...  0.529613  2.374283   \n",
       "\n",
       "              DTC         SP  DTS      DCAL      DRHO  ROPA       RXO  \\\n",
       "26537  148.156982  69.570465  NaN  3.725876  0.085146   NaN  0.413648   \n",
       "4712   149.838333  49.811161  NaN       NaN -0.001998   NaN       NaN   \n",
       "\n",
       "       LITH_CONF  \n",
       "26537        1.0  \n",
       "4712         1.0  \n",
       "\n",
       "[2 rows x 21 columns]"
      ]
     },
     "execution_count": 15,
     "metadata": {},
     "output_type": "execute_result"
    }
   ],
   "source": [
    "num_attributes.sample(2)"
   ]
  },
  {
   "cell_type": "markdown",
   "id": "a63970bb",
   "metadata": {},
   "source": [
    "## Numerical Attributes"
   ]
  },
  {
   "cell_type": "code",
   "execution_count": 18,
   "id": "83e01744",
   "metadata": {
    "ExecuteTime": {
     "end_time": "2022-09-02T23:31:21.518928Z",
     "start_time": "2022-09-02T23:31:21.226504Z"
    }
   },
   "outputs": [],
   "source": [
    "# Central Tendency - Mean, median:\n",
    "\n",
    "ct1 = pd.DataFrame(num_attributes.apply(np.mean)).T\n",
    "ct2 = pd.DataFrame(num_attributes.apply(np.median)).T\n",
    "\n",
    "# Dispersion - std, min, max, range, skew, kurtosis:\n",
    "\n",
    "d1 = pd.DataFrame(num_attributes.apply( np.std)).T\n",
    "d2 = pd.DataFrame(num_attributes.apply( np.min)).T\n",
    "d3 = pd.DataFrame(num_attributes.apply( np.max)).T\n",
    "d4 = pd.DataFrame(num_attributes.apply( lambda x: x.max() - x.min() ) ).T\n",
    "d5 = pd.DataFrame(num_attributes.apply( lambda x: x.skew() ) ).T\n",
    "d6 = pd.DataFrame(num_attributes.apply( lambda x: x.kurtosis() ) ).T\n",
    "                  \n",
    "# Concatenate:\n",
    "m = pd.concat( [d2, d3, d4, ct1, ct2, d1, d5, d6] ).T.reset_index()\n",
    "m.columns = ['attributes','min','max','range','mean','median','std','skew','kurtosis']"
   ]
  },
  {
   "cell_type": "code",
   "execution_count": 19,
   "id": "7592d258",
   "metadata": {
    "ExecuteTime": {
     "end_time": "2022-09-02T23:31:22.788425Z",
     "start_time": "2022-09-02T23:31:22.731919Z"
    }
   },
   "outputs": [
    {
     "data": {
      "text/html": [
       "<div>\n",
       "<style scoped>\n",
       "    .dataframe tbody tr th:only-of-type {\n",
       "        vertical-align: middle;\n",
       "    }\n",
       "\n",
       "    .dataframe tbody tr th {\n",
       "        vertical-align: top;\n",
       "    }\n",
       "\n",
       "    .dataframe thead th {\n",
       "        text-align: right;\n",
       "    }\n",
       "</style>\n",
       "<table border=\"1\" class=\"dataframe\">\n",
       "  <thead>\n",
       "    <tr style=\"text-align: right;\">\n",
       "      <th></th>\n",
       "      <th>attributes</th>\n",
       "      <th>min</th>\n",
       "      <th>max</th>\n",
       "      <th>range</th>\n",
       "      <th>mean</th>\n",
       "      <th>median</th>\n",
       "      <th>std</th>\n",
       "      <th>skew</th>\n",
       "      <th>kurtosis</th>\n",
       "    </tr>\n",
       "  </thead>\n",
       "  <tbody>\n",
       "    <tr>\n",
       "      <th>0</th>\n",
       "      <td>DEPTH_MD</td>\n",
       "      <td>4.152616e+02</td>\n",
       "      <td>3.272024e+03</td>\n",
       "      <td>2856.762401</td>\n",
       "      <td>1.792945e+03</td>\n",
       "      <td>1747.524496</td>\n",
       "      <td>739.438740</td>\n",
       "      <td>0.093931</td>\n",
       "      <td>-1.105894</td>\n",
       "    </tr>\n",
       "    <tr>\n",
       "      <th>1</th>\n",
       "      <td>X_LOC</td>\n",
       "      <td>4.367908e+05</td>\n",
       "      <td>4.767702e+05</td>\n",
       "      <td>39979.312500</td>\n",
       "      <td>4.512356e+05</td>\n",
       "      <td>NaN</td>\n",
       "      <td>15299.334458</td>\n",
       "      <td>0.638058</td>\n",
       "      <td>-1.230148</td>\n",
       "    </tr>\n",
       "    <tr>\n",
       "      <th>2</th>\n",
       "      <td>Y_LOC</td>\n",
       "      <td>6.429286e+06</td>\n",
       "      <td>6.539631e+06</td>\n",
       "      <td>110344.500000</td>\n",
       "      <td>6.471392e+06</td>\n",
       "      <td>NaN</td>\n",
       "      <td>30944.363932</td>\n",
       "      <td>0.708930</td>\n",
       "      <td>-0.541641</td>\n",
       "    </tr>\n",
       "    <tr>\n",
       "      <th>3</th>\n",
       "      <td>Z_LOC</td>\n",
       "      <td>-3.246156e+03</td>\n",
       "      <td>-3.752515e+02</td>\n",
       "      <td>2870.904755</td>\n",
       "      <td>-1.719215e+03</td>\n",
       "      <td>NaN</td>\n",
       "      <td>740.533735</td>\n",
       "      <td>-0.221370</td>\n",
       "      <td>-1.048622</td>\n",
       "    </tr>\n",
       "    <tr>\n",
       "      <th>4</th>\n",
       "      <td>CALI</td>\n",
       "      <td>5.946157e+00</td>\n",
       "      <td>2.571740e+01</td>\n",
       "      <td>19.771239</td>\n",
       "      <td>1.319940e+01</td>\n",
       "      <td>NaN</td>\n",
       "      <td>3.561372</td>\n",
       "      <td>0.495462</td>\n",
       "      <td>-0.137184</td>\n",
       "    </tr>\n",
       "    <tr>\n",
       "      <th>5</th>\n",
       "      <td>RSHA</td>\n",
       "      <td>1.301926e-01</td>\n",
       "      <td>2.193905e+03</td>\n",
       "      <td>2193.774348</td>\n",
       "      <td>1.056183e+01</td>\n",
       "      <td>NaN</td>\n",
       "      <td>116.359045</td>\n",
       "      <td>14.561793</td>\n",
       "      <td>223.720361</td>\n",
       "    </tr>\n",
       "    <tr>\n",
       "      <th>6</th>\n",
       "      <td>RMED</td>\n",
       "      <td>-8.418695e-03</td>\n",
       "      <td>1.796209e+03</td>\n",
       "      <td>1796.217525</td>\n",
       "      <td>1.708851e+00</td>\n",
       "      <td>NaN</td>\n",
       "      <td>9.127164</td>\n",
       "      <td>119.825374</td>\n",
       "      <td>18574.889367</td>\n",
       "    </tr>\n",
       "    <tr>\n",
       "      <th>7</th>\n",
       "      <td>RDEP</td>\n",
       "      <td>1.230677e-01</td>\n",
       "      <td>1.856935e+03</td>\n",
       "      <td>1856.811991</td>\n",
       "      <td>1.743774e+00</td>\n",
       "      <td>NaN</td>\n",
       "      <td>13.233277</td>\n",
       "      <td>104.044125</td>\n",
       "      <td>12601.611440</td>\n",
       "    </tr>\n",
       "    <tr>\n",
       "      <th>8</th>\n",
       "      <td>RHOB</td>\n",
       "      <td>1.366913e+00</td>\n",
       "      <td>3.115611e+00</td>\n",
       "      <td>1.748698</td>\n",
       "      <td>2.199556e+00</td>\n",
       "      <td>NaN</td>\n",
       "      <td>0.236900</td>\n",
       "      <td>-0.120073</td>\n",
       "      <td>0.030612</td>\n",
       "    </tr>\n",
       "    <tr>\n",
       "      <th>9</th>\n",
       "      <td>GR</td>\n",
       "      <td>1.092843e-01</td>\n",
       "      <td>8.042990e+02</td>\n",
       "      <td>804.189666</td>\n",
       "      <td>6.955387e+01</td>\n",
       "      <td>66.266132</td>\n",
       "      <td>39.328581</td>\n",
       "      <td>1.346259</td>\n",
       "      <td>11.784259</td>\n",
       "    </tr>\n",
       "    <tr>\n",
       "      <th>10</th>\n",
       "      <td>SGR</td>\n",
       "      <td>-1.968700e+02</td>\n",
       "      <td>1.525168e+02</td>\n",
       "      <td>349.386825</td>\n",
       "      <td>5.981314e+01</td>\n",
       "      <td>NaN</td>\n",
       "      <td>25.537933</td>\n",
       "      <td>-0.321064</td>\n",
       "      <td>3.666799</td>\n",
       "    </tr>\n",
       "    <tr>\n",
       "      <th>11</th>\n",
       "      <td>NPHI</td>\n",
       "      <td>-2.314329e-02</td>\n",
       "      <td>8.173102e-01</td>\n",
       "      <td>0.840453</td>\n",
       "      <td>3.556019e-01</td>\n",
       "      <td>NaN</td>\n",
       "      <td>0.143856</td>\n",
       "      <td>-0.297153</td>\n",
       "      <td>-1.060910</td>\n",
       "    </tr>\n",
       "    <tr>\n",
       "      <th>12</th>\n",
       "      <td>PEF</td>\n",
       "      <td>1.010027e+00</td>\n",
       "      <td>3.655756e+02</td>\n",
       "      <td>364.565565</td>\n",
       "      <td>4.511845e+00</td>\n",
       "      <td>NaN</td>\n",
       "      <td>5.092781</td>\n",
       "      <td>25.347416</td>\n",
       "      <td>1174.551144</td>\n",
       "    </tr>\n",
       "    <tr>\n",
       "      <th>13</th>\n",
       "      <td>DTC</td>\n",
       "      <td>7.415132e+00</td>\n",
       "      <td>2.304330e+02</td>\n",
       "      <td>223.017821</td>\n",
       "      <td>1.227003e+02</td>\n",
       "      <td>NaN</td>\n",
       "      <td>34.234750</td>\n",
       "      <td>-0.298447</td>\n",
       "      <td>-1.054025</td>\n",
       "    </tr>\n",
       "    <tr>\n",
       "      <th>14</th>\n",
       "      <td>SP</td>\n",
       "      <td>-2.199269e+00</td>\n",
       "      <td>5.265473e+02</td>\n",
       "      <td>528.746571</td>\n",
       "      <td>9.160892e+01</td>\n",
       "      <td>NaN</td>\n",
       "      <td>98.780876</td>\n",
       "      <td>3.540162</td>\n",
       "      <td>12.017343</td>\n",
       "    </tr>\n",
       "    <tr>\n",
       "      <th>15</th>\n",
       "      <td>DTS</td>\n",
       "      <td>9.306826e+01</td>\n",
       "      <td>3.773278e+02</td>\n",
       "      <td>284.259529</td>\n",
       "      <td>1.765837e+02</td>\n",
       "      <td>NaN</td>\n",
       "      <td>44.356802</td>\n",
       "      <td>1.424776</td>\n",
       "      <td>1.829451</td>\n",
       "    </tr>\n",
       "    <tr>\n",
       "      <th>16</th>\n",
       "      <td>DCAL</td>\n",
       "      <td>-1.221546e+01</td>\n",
       "      <td>1.000679e+04</td>\n",
       "      <td>10019.004519</td>\n",
       "      <td>9.721649e-01</td>\n",
       "      <td>NaN</td>\n",
       "      <td>42.999921</td>\n",
       "      <td>225.729530</td>\n",
       "      <td>52237.205800</td>\n",
       "    </tr>\n",
       "    <tr>\n",
       "      <th>17</th>\n",
       "      <td>DRHO</td>\n",
       "      <td>-1.795894e+00</td>\n",
       "      <td>4.331570e-01</td>\n",
       "      <td>2.229051</td>\n",
       "      <td>9.306930e-03</td>\n",
       "      <td>NaN</td>\n",
       "      <td>0.067312</td>\n",
       "      <td>-8.277377</td>\n",
       "      <td>114.011091</td>\n",
       "    </tr>\n",
       "    <tr>\n",
       "      <th>18</th>\n",
       "      <td>ROPA</td>\n",
       "      <td>5.561134e-01</td>\n",
       "      <td>8.637863e+01</td>\n",
       "      <td>85.822518</td>\n",
       "      <td>2.525384e+01</td>\n",
       "      <td>NaN</td>\n",
       "      <td>14.319371</td>\n",
       "      <td>0.569804</td>\n",
       "      <td>0.244312</td>\n",
       "    </tr>\n",
       "    <tr>\n",
       "      <th>19</th>\n",
       "      <td>RXO</td>\n",
       "      <td>-9.999000e+02</td>\n",
       "      <td>2.000000e+03</td>\n",
       "      <td>2999.900024</td>\n",
       "      <td>-1.129442e+02</td>\n",
       "      <td>NaN</td>\n",
       "      <td>333.543200</td>\n",
       "      <td>-1.779587</td>\n",
       "      <td>5.423446</td>\n",
       "    </tr>\n",
       "    <tr>\n",
       "      <th>20</th>\n",
       "      <td>LITH_CONF</td>\n",
       "      <td>1.000000e+00</td>\n",
       "      <td>3.000000e+00</td>\n",
       "      <td>2.000000</td>\n",
       "      <td>1.235796e+00</td>\n",
       "      <td>NaN</td>\n",
       "      <td>0.480779</td>\n",
       "      <td>1.907955</td>\n",
       "      <td>2.844777</td>\n",
       "    </tr>\n",
       "  </tbody>\n",
       "</table>\n",
       "</div>"
      ],
      "text/plain": [
       "   attributes           min           max          range          mean  \\\n",
       "0    DEPTH_MD  4.152616e+02  3.272024e+03    2856.762401  1.792945e+03   \n",
       "1       X_LOC  4.367908e+05  4.767702e+05   39979.312500  4.512356e+05   \n",
       "2       Y_LOC  6.429286e+06  6.539631e+06  110344.500000  6.471392e+06   \n",
       "3       Z_LOC -3.246156e+03 -3.752515e+02    2870.904755 -1.719215e+03   \n",
       "4        CALI  5.946157e+00  2.571740e+01      19.771239  1.319940e+01   \n",
       "5        RSHA  1.301926e-01  2.193905e+03    2193.774348  1.056183e+01   \n",
       "6        RMED -8.418695e-03  1.796209e+03    1796.217525  1.708851e+00   \n",
       "7        RDEP  1.230677e-01  1.856935e+03    1856.811991  1.743774e+00   \n",
       "8        RHOB  1.366913e+00  3.115611e+00       1.748698  2.199556e+00   \n",
       "9          GR  1.092843e-01  8.042990e+02     804.189666  6.955387e+01   \n",
       "10        SGR -1.968700e+02  1.525168e+02     349.386825  5.981314e+01   \n",
       "11       NPHI -2.314329e-02  8.173102e-01       0.840453  3.556019e-01   \n",
       "12        PEF  1.010027e+00  3.655756e+02     364.565565  4.511845e+00   \n",
       "13        DTC  7.415132e+00  2.304330e+02     223.017821  1.227003e+02   \n",
       "14         SP -2.199269e+00  5.265473e+02     528.746571  9.160892e+01   \n",
       "15        DTS  9.306826e+01  3.773278e+02     284.259529  1.765837e+02   \n",
       "16       DCAL -1.221546e+01  1.000679e+04   10019.004519  9.721649e-01   \n",
       "17       DRHO -1.795894e+00  4.331570e-01       2.229051  9.306930e-03   \n",
       "18       ROPA  5.561134e-01  8.637863e+01      85.822518  2.525384e+01   \n",
       "19        RXO -9.999000e+02  2.000000e+03    2999.900024 -1.129442e+02   \n",
       "20  LITH_CONF  1.000000e+00  3.000000e+00       2.000000  1.235796e+00   \n",
       "\n",
       "         median           std        skew      kurtosis  \n",
       "0   1747.524496    739.438740    0.093931     -1.105894  \n",
       "1           NaN  15299.334458    0.638058     -1.230148  \n",
       "2           NaN  30944.363932    0.708930     -0.541641  \n",
       "3           NaN    740.533735   -0.221370     -1.048622  \n",
       "4           NaN      3.561372    0.495462     -0.137184  \n",
       "5           NaN    116.359045   14.561793    223.720361  \n",
       "6           NaN      9.127164  119.825374  18574.889367  \n",
       "7           NaN     13.233277  104.044125  12601.611440  \n",
       "8           NaN      0.236900   -0.120073      0.030612  \n",
       "9     66.266132     39.328581    1.346259     11.784259  \n",
       "10          NaN     25.537933   -0.321064      3.666799  \n",
       "11          NaN      0.143856   -0.297153     -1.060910  \n",
       "12          NaN      5.092781   25.347416   1174.551144  \n",
       "13          NaN     34.234750   -0.298447     -1.054025  \n",
       "14          NaN     98.780876    3.540162     12.017343  \n",
       "15          NaN     44.356802    1.424776      1.829451  \n",
       "16          NaN     42.999921  225.729530  52237.205800  \n",
       "17          NaN      0.067312   -8.277377    114.011091  \n",
       "18          NaN     14.319371    0.569804      0.244312  \n",
       "19          NaN    333.543200   -1.779587      5.423446  \n",
       "20          NaN      0.480779    1.907955      2.844777  "
      ]
     },
     "execution_count": 19,
     "metadata": {},
     "output_type": "execute_result"
    }
   ],
   "source": [
    "m"
   ]
  },
  {
   "cell_type": "markdown",
   "id": "1ecc3c2c",
   "metadata": {},
   "source": [
    "## Data missing Plotting"
   ]
  },
  {
   "cell_type": "code",
   "execution_count": 20,
   "id": "a537b52a",
   "metadata": {
    "ExecuteTime": {
     "end_time": "2022-09-02T23:31:27.010797Z",
     "start_time": "2022-09-02T23:31:26.997239Z"
    }
   },
   "outputs": [
    {
     "data": {
      "text/plain": [
       "Index(['WELL', 'DEPTH_MD', 'X_LOC', 'Y_LOC', 'Z_LOC', 'GROUP', 'FORMATION',\n",
       "       'CALI', 'RSHA', 'RMED', 'RDEP', 'RHOB', 'GR', 'SGR', 'NPHI', 'PEF',\n",
       "       'DTC', 'SP', 'DTS', 'DCAL', 'DRHO', 'ROPA', 'RXO', 'LITHOFACIES',\n",
       "       'LITH_CONF'],\n",
       "      dtype='object')"
      ]
     },
     "execution_count": 20,
     "metadata": {},
     "output_type": "execute_result"
    }
   ],
   "source": [
    "df_raw.columns"
   ]
  },
  {
   "cell_type": "code",
   "execution_count": 26,
   "id": "e51df70f",
   "metadata": {
    "ExecuteTime": {
     "end_time": "2022-09-02T23:34:05.065534Z",
     "start_time": "2022-09-02T23:34:03.250937Z"
    }
   },
   "outputs": [
    {
     "data": {
      "text/plain": [
       "<AxesSubplot:>"
      ]
     },
     "execution_count": 26,
     "metadata": {},
     "output_type": "execute_result"
    },
    {
     "data": {
      "image/png": "[encoded data removed]",
      "text/plain": [
       "<Figure size 1800x720 with 3 Axes>"
      ]
     },
     "metadata": {
      "needs_background": "light"
     },
     "output_type": "display_data"
    }
   ],
   "source": [
    "# bar chart\n",
    "\n",
    "msno.bar(df_raw)"
   ]
  },
  {
   "cell_type": "code",
   "execution_count": 27,
   "id": "16d3dc50",
   "metadata": {
    "ExecuteTime": {
     "end_time": "2022-09-02T23:37:31.518563Z",
     "start_time": "2022-09-02T23:37:29.816505Z"
    }
   },
   "outputs": [
    {
     "data": {
      "text/plain": [
       "<AxesSubplot:>"
      ]
     },
     "execution_count": 27,
     "metadata": {},
     "output_type": "execute_result"
    },
    {
     "data": {
      "image/png": "[encoded data removed]",
      "text/plain": [
       "<Figure size 1440x864 with 2 Axes>"
      ]
     },
     "metadata": {
      "needs_background": "light"
     },
     "output_type": "display_data"
    }
   ],
   "source": [
    "# Heat map\n",
    "\n",
    "msno.heatmap(df_raw)"
   ]
  },
  {
   "cell_type": "code",
   "execution_count": 28,
   "id": "3cd9249a",
   "metadata": {
    "ExecuteTime": {
     "end_time": "2022-09-02T23:40:58.482613Z",
     "start_time": "2022-09-02T23:40:57.795254Z"
    }
   },
   "outputs": [
    {
     "data": {
      "text/plain": [
       "<AxesSubplot:>"
      ]
     },
     "execution_count": 28,
     "metadata": {},
     "output_type": "execute_result"
    },
    {
     "data": {
      "image/png": "[encoded data removed]",
      "text/plain": [
       "<Figure size 1800x720 with 1 Axes>"
      ]
     },
     "metadata": {
      "needs_background": "light"
     },
     "output_type": "display_data"
    }
   ],
   "source": [
    "# Dendograms\n",
    "\n",
    "msno.dendrogram(df_raw)"
   ]
  },
  {
   "cell_type": "code",
   "execution_count": null,
   "id": "def995bf",
   "metadata": {},
   "outputs": [],
   "source": []
  },
  {
   "cell_type": "code",
   "execution_count": null,
   "id": "b8c58abf",
   "metadata": {},
   "outputs": [],
   "source": []
  },
  {
   "cell_type": "code",
   "execution_count": null,
   "id": "68a8fe74",
   "metadata": {},
   "outputs": [],
   "source": []
  }
 ],
 "metadata": {
  "kernelspec": {
   "display_name": "Python 3 (ipykernel)",
   "language": "python",
   "name": "python3"
  },
  "language_info": {
   "codemirror_mode": {
    "name": "ipython",
    "version": 3
   },
   "file_extension": ".py",
   "mimetype": "text/x-python",
   "name": "python",
   "nbconvert_exporter": "python",
   "pygments_lexer": "ipython3",
   "version": "3.9.5"
  },
  "toc": {
   "base_numbering": 1,
   "nav_menu": {},
   "number_sections": true,
   "sideBar": true,
   "skip_h1_title": false,
   "title_cell": "Table of Contents",
   "title_sidebar": "Contents",
   "toc_cell": false,
   "toc_position": {},
   "toc_section_display": true,
   "toc_window_display": false
  }
 },
 "nbformat": 4,
 "nbformat_minor": 5
}
