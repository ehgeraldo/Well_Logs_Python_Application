{
 "cells": [
  {
   "cell_type": "markdown",
   "id": "80b0dfd8",
   "metadata": {},
   "source": [
    "# Well Log plot - Plotly"
   ]
  },
  {
   "cell_type": "markdown",
   "id": "5b857918",
   "metadata": {},
   "source": [
    "# Planning\n",
    "\n",
    "\n",
    "# Solution at (IOT)\n",
    "\n",
    "\n",
    "# Input\n",
    "* We choose an oil well with open source to apply visualization methods with python libraries.\n",
    "\n",
    "\n",
    "# Output\n",
    "* Jupyter notebook tutorial to analysis\n",
    "\n",
    "# Tasks\n",
    "* From https://www.nlog.nl/datacenter "
   ]
  },
  {
   "cell_type": "markdown",
   "id": "b5ad3706",
   "metadata": {},
   "source": [
    "# Imports"
   ]
  },
  {
   "cell_type": "code",
   "execution_count": 1,
   "id": "53cf9af6",
   "metadata": {
    "ExecuteTime": {
     "end_time": "2022-08-30T00:51:12.677258Z",
     "start_time": "2022-08-30T00:51:10.645623Z"
    }
   },
   "outputs": [],
   "source": [
    "import pandas as pd\n",
    "import numpy  as np\n",
    "import matplotlib.pyplot as plt\n",
    "\n",
    "\n",
    "import plotly.graph_objects as go\n",
    "import plotly.express       as px\n",
    "\n",
    "from plotly.subplots import make_subplots"
   ]
  },
  {
   "cell_type": "code",
   "execution_count": 2,
   "id": "bcce7ebb",
   "metadata": {
    "ExecuteTime": {
     "end_time": "2022-08-30T00:51:12.714160Z",
     "start_time": "2022-08-30T00:51:12.690929Z"
    }
   },
   "outputs": [
    {
     "data": {
      "text/plain": [
       "'/home/ehgeraldo/repos/Well_Log_Plots_Applications'"
      ]
     },
     "execution_count": 2,
     "metadata": {},
     "output_type": "execute_result"
    }
   ],
   "source": [
    "pwd"
   ]
  },
  {
   "cell_type": "code",
   "execution_count": 3,
   "id": "06728a74",
   "metadata": {
    "ExecuteTime": {
     "end_time": "2022-08-30T00:51:12.856493Z",
     "start_time": "2022-08-30T00:51:12.720857Z"
    }
   },
   "outputs": [
    {
     "name": "stdout",
     "output_type": "stream",
     "text": [
      "total 7220\r\n",
      "-rw-rw-r-- 1 ehgeraldo ehgeraldo  478572 ago 29 18:51 c0.0-ehgeraldo-planning.ipynb\r\n",
      "-rw-rw-r-- 1 ehgeraldo ehgeraldo   95928 ago 27 17:19 c1.1-ehgeraldo-planning_histogram.ipynb\r\n",
      "-rw-rw-r-- 1 ehgeraldo ehgeraldo  429306 ago 27 17:19 c2.2-ehgeraldo-planning_scatterplot.ipynb\r\n",
      "-rw-rw-r-- 1 ehgeraldo ehgeraldo  395962 ago 27 17:19 c3.3-ehgeraldo_matplolib.ipynb\r\n",
      "-rw-rw-r-- 1 ehgeraldo ehgeraldo 5739415 ago 27 17:21 c4.4-ehgeraldo_matplolib.ipynb\r\n",
      "-rw-rw-r-- 1 ehgeraldo ehgeraldo  201758 ago 29 17:10 c5.5-ehgeraldo_shading.ipynb\r\n",
      "-rw-rw-r-- 1 ehgeraldo ehgeraldo   33003 ago 29 20:00 c6.6-ehgeraldo_matplotlib_subplot.ipynb\r\n",
      "drwxrwxr-x 2 ehgeraldo ehgeraldo    4096 ago 29 19:57 \u001b[0m\u001b[01;34mdata\u001b[0m/\r\n"
     ]
    }
   ],
   "source": [
    "ls -l"
   ]
  },
  {
   "cell_type": "code",
   "execution_count": 4,
   "id": "e36f67bf",
   "metadata": {
    "ExecuteTime": {
     "end_time": "2022-08-30T00:51:12.907449Z",
     "start_time": "2022-08-30T00:51:12.869707Z"
    }
   },
   "outputs": [],
   "source": [
    "df_raw = pd.read_csv('/home/ehgeraldo/repos/Well_Logs_Plots/data/15_9-19A-CORE.csv')"
   ]
  },
  {
   "cell_type": "code",
   "execution_count": 5,
   "id": "f3666507",
   "metadata": {
    "ExecuteTime": {
     "end_time": "2022-08-30T00:51:12.936881Z",
     "start_time": "2022-08-30T00:51:12.913835Z"
    }
   },
   "outputs": [],
   "source": [
    "df_raw.reset_index(inplace=True)"
   ]
  },
  {
   "cell_type": "code",
   "execution_count": 6,
   "id": "9f39e31c",
   "metadata": {
    "ExecuteTime": {
     "end_time": "2022-08-30T00:51:13.018213Z",
     "start_time": "2022-08-30T00:51:12.943997Z"
    }
   },
   "outputs": [
    {
     "data": {
      "text/html": [
       "<div>\n",
       "<style scoped>\n",
       "    .dataframe tbody tr th:only-of-type {\n",
       "        vertical-align: middle;\n",
       "    }\n",
       "\n",
       "    .dataframe tbody tr th {\n",
       "        vertical-align: top;\n",
       "    }\n",
       "\n",
       "    .dataframe thead th {\n",
       "        text-align: right;\n",
       "    }\n",
       "</style>\n",
       "<table border=\"1\" class=\"dataframe\">\n",
       "  <thead>\n",
       "    <tr style=\"text-align: right;\">\n",
       "      <th></th>\n",
       "      <th>index</th>\n",
       "      <th>DEPTH</th>\n",
       "      <th>OrigDepth</th>\n",
       "      <th>CORE_NO</th>\n",
       "      <th>SAMPLE</th>\n",
       "      <th>CKHG</th>\n",
       "      <th>CKHL</th>\n",
       "      <th>CKVG</th>\n",
       "      <th>CKVL</th>\n",
       "      <th>CPOR</th>\n",
       "      <th>CPORV</th>\n",
       "      <th>So</th>\n",
       "      <th>Sw</th>\n",
       "      <th>CGD</th>\n",
       "      <th>CGDV</th>\n",
       "    </tr>\n",
       "  </thead>\n",
       "  <tbody>\n",
       "    <tr>\n",
       "      <th>0</th>\n",
       "      <td>0</td>\n",
       "      <td>3838.60</td>\n",
       "      <td>3837.00</td>\n",
       "      <td>1</td>\n",
       "      <td>1</td>\n",
       "      <td>13.80</td>\n",
       "      <td>11.500</td>\n",
       "      <td>NaN</td>\n",
       "      <td>NaN</td>\n",
       "      <td>17.0</td>\n",
       "      <td>NaN</td>\n",
       "      <td>NaN</td>\n",
       "      <td>NaN</td>\n",
       "      <td>2.66</td>\n",
       "      <td>NaN</td>\n",
       "    </tr>\n",
       "    <tr>\n",
       "      <th>1</th>\n",
       "      <td>1</td>\n",
       "      <td>3838.85</td>\n",
       "      <td>3837.25</td>\n",
       "      <td>1</td>\n",
       "      <td>2</td>\n",
       "      <td>NaN</td>\n",
       "      <td>NaN</td>\n",
       "      <td>NaN</td>\n",
       "      <td>NaN</td>\n",
       "      <td>14.8</td>\n",
       "      <td>NaN</td>\n",
       "      <td>NaN</td>\n",
       "      <td>NaN</td>\n",
       "      <td>2.67</td>\n",
       "      <td>NaN</td>\n",
       "    </tr>\n",
       "    <tr>\n",
       "      <th>2</th>\n",
       "      <td>2</td>\n",
       "      <td>3839.15</td>\n",
       "      <td>3837.55</td>\n",
       "      <td>1</td>\n",
       "      <td>3</td>\n",
       "      <td>25.20</td>\n",
       "      <td>21.400</td>\n",
       "      <td>3.94</td>\n",
       "      <td>3.16</td>\n",
       "      <td>10.8</td>\n",
       "      <td>NaN</td>\n",
       "      <td>NaN</td>\n",
       "      <td>NaN</td>\n",
       "      <td>2.69</td>\n",
       "      <td>NaN</td>\n",
       "    </tr>\n",
       "    <tr>\n",
       "      <th>3</th>\n",
       "      <td>3</td>\n",
       "      <td>3839.40</td>\n",
       "      <td>3837.80</td>\n",
       "      <td>1</td>\n",
       "      <td>4</td>\n",
       "      <td>1.02</td>\n",
       "      <td>0.694</td>\n",
       "      <td>NaN</td>\n",
       "      <td>NaN</td>\n",
       "      <td>12.8</td>\n",
       "      <td>NaN</td>\n",
       "      <td>NaN</td>\n",
       "      <td>NaN</td>\n",
       "      <td>2.70</td>\n",
       "      <td>NaN</td>\n",
       "    </tr>\n",
       "    <tr>\n",
       "      <th>4</th>\n",
       "      <td>4</td>\n",
       "      <td>3839.48</td>\n",
       "      <td>3837.88</td>\n",
       "      <td>1</td>\n",
       "      <td>5</td>\n",
       "      <td>NaN</td>\n",
       "      <td>NaN</td>\n",
       "      <td>NaN</td>\n",
       "      <td>NaN</td>\n",
       "      <td>NaN</td>\n",
       "      <td>18.8</td>\n",
       "      <td>52.9</td>\n",
       "      <td>36.4</td>\n",
       "      <td>NaN</td>\n",
       "      <td>2.68</td>\n",
       "    </tr>\n",
       "  </tbody>\n",
       "</table>\n",
       "</div>"
      ],
      "text/plain": [
       "   index    DEPTH  OrigDepth  CORE_NO  SAMPLE   CKHG    CKHL  CKVG  CKVL  \\\n",
       "0      0  3838.60    3837.00        1       1  13.80  11.500   NaN   NaN   \n",
       "1      1  3838.85    3837.25        1       2    NaN     NaN   NaN   NaN   \n",
       "2      2  3839.15    3837.55        1       3  25.20  21.400  3.94  3.16   \n",
       "3      3  3839.40    3837.80        1       4   1.02   0.694   NaN   NaN   \n",
       "4      4  3839.48    3837.88        1       5    NaN     NaN   NaN   NaN   \n",
       "\n",
       "   CPOR  CPORV    So    Sw   CGD  CGDV  \n",
       "0  17.0    NaN   NaN   NaN  2.66   NaN  \n",
       "1  14.8    NaN   NaN   NaN  2.67   NaN  \n",
       "2  10.8    NaN   NaN   NaN  2.69   NaN  \n",
       "3  12.8    NaN   NaN   NaN  2.70   NaN  \n",
       "4   NaN   18.8  52.9  36.4   NaN  2.68  "
      ]
     },
     "execution_count": 6,
     "metadata": {},
     "output_type": "execute_result"
    }
   ],
   "source": [
    "df_raw.head()"
   ]
  },
  {
   "cell_type": "markdown",
   "id": "90284c00",
   "metadata": {},
   "source": [
    "# Data descrition"
   ]
  },
  {
   "cell_type": "code",
   "execution_count": 7,
   "id": "84f7af24",
   "metadata": {
    "ExecuteTime": {
     "end_time": "2022-08-30T00:51:13.037406Z",
     "start_time": "2022-08-30T00:51:13.026023Z"
    }
   },
   "outputs": [],
   "source": [
    "df1 = df_raw.copy()"
   ]
  },
  {
   "cell_type": "markdown",
   "id": "d4798e94",
   "metadata": {},
   "source": [
    "## Data dimensions"
   ]
  },
  {
   "cell_type": "code",
   "execution_count": 8,
   "id": "cd5fa797",
   "metadata": {
    "ExecuteTime": {
     "end_time": "2022-08-30T00:51:13.061147Z",
     "start_time": "2022-08-30T00:51:13.047890Z"
    }
   },
   "outputs": [
    {
     "name": "stdout",
     "output_type": "stream",
     "text": [
      "Number of rows: 728\n",
      "Number of cols: 15\n"
     ]
    }
   ],
   "source": [
    "print('Number of rows: {}'.format(df_raw.shape[0]))\n",
    "print('Number of cols: {}'.format(df_raw.shape[1]))"
   ]
  },
  {
   "cell_type": "markdown",
   "id": "cfa1d204",
   "metadata": {},
   "source": [
    "## Data types"
   ]
  },
  {
   "cell_type": "code",
   "execution_count": 9,
   "id": "b30c14ec",
   "metadata": {
    "ExecuteTime": {
     "end_time": "2022-08-30T00:51:18.277952Z",
     "start_time": "2022-08-30T00:51:18.259250Z"
    }
   },
   "outputs": [
    {
     "data": {
      "text/plain": [
       "index          int64\n",
       "DEPTH        float64\n",
       "OrigDepth    float64\n",
       "CORE_NO        int64\n",
       "SAMPLE         int64\n",
       "CKHG         float64\n",
       "CKHL         float64\n",
       "CKVG         float64\n",
       "CKVL         float64\n",
       "CPOR         float64\n",
       "CPORV        float64\n",
       "So           float64\n",
       "Sw           float64\n",
       "CGD          float64\n",
       "CGDV         float64\n",
       "dtype: object"
      ]
     },
     "execution_count": 9,
     "metadata": {},
     "output_type": "execute_result"
    }
   ],
   "source": [
    "df1.dtypes"
   ]
  },
  {
   "cell_type": "markdown",
   "id": "b37cce69",
   "metadata": {},
   "source": [
    "## Check NAs "
   ]
  },
  {
   "cell_type": "code",
   "execution_count": 10,
   "id": "3922c77f",
   "metadata": {
    "ExecuteTime": {
     "end_time": "2022-08-30T00:51:18.723022Z",
     "start_time": "2022-08-30T00:51:18.700180Z"
    }
   },
   "outputs": [
    {
     "data": {
      "text/plain": [
       "index          0\n",
       "DEPTH          0\n",
       "OrigDepth      0\n",
       "CORE_NO        0\n",
       "SAMPLE         0\n",
       "CKHG         171\n",
       "CKHL         171\n",
       "CKVG         587\n",
       "CKVL         587\n",
       "CPOR         135\n",
       "CPORV        657\n",
       "So           657\n",
       "Sw           657\n",
       "CGD          134\n",
       "CGDV         657\n",
       "dtype: int64"
      ]
     },
     "execution_count": 10,
     "metadata": {},
     "output_type": "execute_result"
    }
   ],
   "source": [
    "df1.isna().sum()"
   ]
  },
  {
   "cell_type": "code",
   "execution_count": 11,
   "id": "68e64192",
   "metadata": {
    "ExecuteTime": {
     "end_time": "2022-08-30T00:51:18.950791Z",
     "start_time": "2022-08-30T00:51:18.913234Z"
    }
   },
   "outputs": [
    {
     "data": {
      "text/html": [
       "<div>\n",
       "<style scoped>\n",
       "    .dataframe tbody tr th:only-of-type {\n",
       "        vertical-align: middle;\n",
       "    }\n",
       "\n",
       "    .dataframe tbody tr th {\n",
       "        vertical-align: top;\n",
       "    }\n",
       "\n",
       "    .dataframe thead th {\n",
       "        text-align: right;\n",
       "    }\n",
       "</style>\n",
       "<table border=\"1\" class=\"dataframe\">\n",
       "  <thead>\n",
       "    <tr style=\"text-align: right;\">\n",
       "      <th></th>\n",
       "      <th>558</th>\n",
       "    </tr>\n",
       "  </thead>\n",
       "  <tbody>\n",
       "    <tr>\n",
       "      <th>index</th>\n",
       "      <td>558.0</td>\n",
       "    </tr>\n",
       "    <tr>\n",
       "      <th>DEPTH</th>\n",
       "      <td>3963.6</td>\n",
       "    </tr>\n",
       "    <tr>\n",
       "      <th>OrigDepth</th>\n",
       "      <td>3963.6</td>\n",
       "    </tr>\n",
       "    <tr>\n",
       "      <th>CORE_NO</th>\n",
       "      <td>6.0</td>\n",
       "    </tr>\n",
       "    <tr>\n",
       "      <th>SAMPLE</th>\n",
       "      <td>559.0</td>\n",
       "    </tr>\n",
       "    <tr>\n",
       "      <th>CKHG</th>\n",
       "      <td>122.0</td>\n",
       "    </tr>\n",
       "    <tr>\n",
       "      <th>CKHL</th>\n",
       "      <td>110.0</td>\n",
       "    </tr>\n",
       "    <tr>\n",
       "      <th>CKVG</th>\n",
       "      <td>108.0</td>\n",
       "    </tr>\n",
       "    <tr>\n",
       "      <th>CKVL</th>\n",
       "      <td>96.3</td>\n",
       "    </tr>\n",
       "    <tr>\n",
       "      <th>CPOR</th>\n",
       "      <td>22.8</td>\n",
       "    </tr>\n",
       "    <tr>\n",
       "      <th>CPORV</th>\n",
       "      <td>NaN</td>\n",
       "    </tr>\n",
       "    <tr>\n",
       "      <th>So</th>\n",
       "      <td>NaN</td>\n",
       "    </tr>\n",
       "    <tr>\n",
       "      <th>Sw</th>\n",
       "      <td>NaN</td>\n",
       "    </tr>\n",
       "    <tr>\n",
       "      <th>CGD</th>\n",
       "      <td>2.7</td>\n",
       "    </tr>\n",
       "    <tr>\n",
       "      <th>CGDV</th>\n",
       "      <td>NaN</td>\n",
       "    </tr>\n",
       "  </tbody>\n",
       "</table>\n",
       "</div>"
      ],
      "text/plain": [
       "              558\n",
       "index       558.0\n",
       "DEPTH      3963.6\n",
       "OrigDepth  3963.6\n",
       "CORE_NO       6.0\n",
       "SAMPLE      559.0\n",
       "CKHG        122.0\n",
       "CKHL        110.0\n",
       "CKVG        108.0\n",
       "CKVL         96.3\n",
       "CPOR         22.8\n",
       "CPORV         NaN\n",
       "So            NaN\n",
       "Sw            NaN\n",
       "CGD           2.7\n",
       "CGDV          NaN"
      ]
     },
     "execution_count": 11,
     "metadata": {},
     "output_type": "execute_result"
    }
   ],
   "source": [
    "df1.sample().T"
   ]
  },
  {
   "cell_type": "markdown",
   "id": "24fd5f9b",
   "metadata": {},
   "source": [
    "## Replace NAs"
   ]
  },
  {
   "cell_type": "code",
   "execution_count": 12,
   "id": "e6224a46",
   "metadata": {
    "ExecuteTime": {
     "end_time": "2022-08-30T00:51:19.236211Z",
     "start_time": "2022-08-30T00:51:19.224586Z"
    }
   },
   "outputs": [],
   "source": [
    "#df1 = df1.dropna()"
   ]
  },
  {
   "cell_type": "code",
   "execution_count": 13,
   "id": "2eed421e",
   "metadata": {
    "ExecuteTime": {
     "end_time": "2022-08-30T00:51:19.506700Z",
     "start_time": "2022-08-30T00:51:19.496542Z"
    }
   },
   "outputs": [],
   "source": [
    "#df1.shape"
   ]
  },
  {
   "cell_type": "code",
   "execution_count": 14,
   "id": "fba73655",
   "metadata": {
    "ExecuteTime": {
     "end_time": "2022-08-30T00:51:20.275073Z",
     "start_time": "2022-08-30T00:51:20.265789Z"
    }
   },
   "outputs": [],
   "source": [
    "#print('Removed data: {:.2f}%'.format( 1-( df1.shape[0] / df_raw.shape[0] ) ) )"
   ]
  },
  {
   "cell_type": "code",
   "execution_count": 15,
   "id": "1441f00d",
   "metadata": {
    "ExecuteTime": {
     "end_time": "2022-08-30T00:51:20.507973Z",
     "start_time": "2022-08-30T00:51:20.487550Z"
    }
   },
   "outputs": [
    {
     "data": {
      "text/plain": [
       "index          0\n",
       "DEPTH          0\n",
       "OrigDepth      0\n",
       "CORE_NO        0\n",
       "SAMPLE         0\n",
       "CKHG         171\n",
       "CKHL         171\n",
       "CKVG         587\n",
       "CKVL         587\n",
       "CPOR         135\n",
       "CPORV        657\n",
       "So           657\n",
       "Sw           657\n",
       "CGD          134\n",
       "CGDV         657\n",
       "dtype: int64"
      ]
     },
     "execution_count": 15,
     "metadata": {},
     "output_type": "execute_result"
    }
   ],
   "source": [
    "df1.isna().sum()"
   ]
  },
  {
   "cell_type": "markdown",
   "id": "d069ab92",
   "metadata": {},
   "source": [
    "## Data Describe"
   ]
  },
  {
   "cell_type": "code",
   "execution_count": 16,
   "id": "54f0e84a",
   "metadata": {
    "ExecuteTime": {
     "end_time": "2022-08-30T00:51:21.054936Z",
     "start_time": "2022-08-30T00:51:20.916215Z"
    }
   },
   "outputs": [
    {
     "data": {
      "text/html": [
       "<div>\n",
       "<style scoped>\n",
       "    .dataframe tbody tr th:only-of-type {\n",
       "        vertical-align: middle;\n",
       "    }\n",
       "\n",
       "    .dataframe tbody tr th {\n",
       "        vertical-align: top;\n",
       "    }\n",
       "\n",
       "    .dataframe thead th {\n",
       "        text-align: right;\n",
       "    }\n",
       "</style>\n",
       "<table border=\"1\" class=\"dataframe\">\n",
       "  <thead>\n",
       "    <tr style=\"text-align: right;\">\n",
       "      <th></th>\n",
       "      <th>index</th>\n",
       "      <th>DEPTH</th>\n",
       "      <th>OrigDepth</th>\n",
       "      <th>CORE_NO</th>\n",
       "      <th>SAMPLE</th>\n",
       "      <th>CKHG</th>\n",
       "      <th>CKHL</th>\n",
       "      <th>CKVG</th>\n",
       "      <th>CKVL</th>\n",
       "      <th>CPOR</th>\n",
       "      <th>CPORV</th>\n",
       "      <th>So</th>\n",
       "      <th>Sw</th>\n",
       "      <th>CGD</th>\n",
       "      <th>CGDV</th>\n",
       "    </tr>\n",
       "  </thead>\n",
       "  <tbody>\n",
       "    <tr>\n",
       "      <th>count</th>\n",
       "      <td>728.000000</td>\n",
       "      <td>728.000000</td>\n",
       "      <td>728.000000</td>\n",
       "      <td>728.00000</td>\n",
       "      <td>728.000000</td>\n",
       "      <td>557.000000</td>\n",
       "      <td>557.000000</td>\n",
       "      <td>141.000000</td>\n",
       "      <td>141.000000</td>\n",
       "      <td>593.000000</td>\n",
       "      <td>71.000000</td>\n",
       "      <td>71.000000</td>\n",
       "      <td>71.000000</td>\n",
       "      <td>594.000000</td>\n",
       "      <td>71.000000</td>\n",
       "    </tr>\n",
       "    <tr>\n",
       "      <th>mean</th>\n",
       "      <td>363.500000</td>\n",
       "      <td>3920.528338</td>\n",
       "      <td>3920.153338</td>\n",
       "      <td>3.93956</td>\n",
       "      <td>364.500000</td>\n",
       "      <td>649.801463</td>\n",
       "      <td>627.972549</td>\n",
       "      <td>490.086071</td>\n",
       "      <td>472.875284</td>\n",
       "      <td>16.829342</td>\n",
       "      <td>19.497183</td>\n",
       "      <td>56.943662</td>\n",
       "      <td>28.309859</td>\n",
       "      <td>2.653569</td>\n",
       "      <td>2.656901</td>\n",
       "    </tr>\n",
       "    <tr>\n",
       "      <th>std</th>\n",
       "      <td>210.299786</td>\n",
       "      <td>46.545695</td>\n",
       "      <td>46.902816</td>\n",
       "      <td>1.75976</td>\n",
       "      <td>210.299786</td>\n",
       "      <td>2160.127387</td>\n",
       "      <td>2116.307023</td>\n",
       "      <td>1973.601098</td>\n",
       "      <td>1929.420018</td>\n",
       "      <td>6.552523</td>\n",
       "      <td>5.657763</td>\n",
       "      <td>21.084319</td>\n",
       "      <td>19.203758</td>\n",
       "      <td>0.046735</td>\n",
       "      <td>0.035560</td>\n",
       "    </tr>\n",
       "    <tr>\n",
       "      <th>min</th>\n",
       "      <td>0.000000</td>\n",
       "      <td>3838.600000</td>\n",
       "      <td>3837.000000</td>\n",
       "      <td>1.00000</td>\n",
       "      <td>1.000000</td>\n",
       "      <td>0.018000</td>\n",
       "      <td>0.010000</td>\n",
       "      <td>0.030000</td>\n",
       "      <td>0.017000</td>\n",
       "      <td>2.900000</td>\n",
       "      <td>2.700000</td>\n",
       "      <td>0.000000</td>\n",
       "      <td>4.500000</td>\n",
       "      <td>2.250000</td>\n",
       "      <td>2.620000</td>\n",
       "    </tr>\n",
       "    <tr>\n",
       "      <th>25%</th>\n",
       "      <td>181.750000</td>\n",
       "      <td>3882.580000</td>\n",
       "      <td>3881.980000</td>\n",
       "      <td>3.00000</td>\n",
       "      <td>182.750000</td>\n",
       "      <td>2.620000</td>\n",
       "      <td>2.030000</td>\n",
       "      <td>0.874000</td>\n",
       "      <td>0.590000</td>\n",
       "      <td>12.000000</td>\n",
       "      <td>18.150000</td>\n",
       "      <td>52.000000</td>\n",
       "      <td>18.200000</td>\n",
       "      <td>2.640000</td>\n",
       "      <td>2.630000</td>\n",
       "    </tr>\n",
       "    <tr>\n",
       "      <th>50%</th>\n",
       "      <td>363.500000</td>\n",
       "      <td>3921.725000</td>\n",
       "      <td>3921.125000</td>\n",
       "      <td>4.00000</td>\n",
       "      <td>364.500000</td>\n",
       "      <td>59.900000</td>\n",
       "      <td>52.300000</td>\n",
       "      <td>27.300000</td>\n",
       "      <td>23.300000</td>\n",
       "      <td>18.100000</td>\n",
       "      <td>21.200000</td>\n",
       "      <td>62.300000</td>\n",
       "      <td>22.800000</td>\n",
       "      <td>2.650000</td>\n",
       "      <td>2.650000</td>\n",
       "    </tr>\n",
       "    <tr>\n",
       "      <th>75%</th>\n",
       "      <td>545.250000</td>\n",
       "      <td>3960.287500</td>\n",
       "      <td>3960.487500</td>\n",
       "      <td>5.00000</td>\n",
       "      <td>546.250000</td>\n",
       "      <td>213.000000</td>\n",
       "      <td>194.000000</td>\n",
       "      <td>108.000000</td>\n",
       "      <td>96.300000</td>\n",
       "      <td>21.700000</td>\n",
       "      <td>23.500000</td>\n",
       "      <td>68.500000</td>\n",
       "      <td>29.950000</td>\n",
       "      <td>2.660000</td>\n",
       "      <td>2.660000</td>\n",
       "    </tr>\n",
       "    <tr>\n",
       "      <th>max</th>\n",
       "      <td>727.000000</td>\n",
       "      <td>3999.950000</td>\n",
       "      <td>3999.750000</td>\n",
       "      <td>7.00000</td>\n",
       "      <td>728.000000</td>\n",
       "      <td>20800.000000</td>\n",
       "      <td>20500.000000</td>\n",
       "      <td>14800.000000</td>\n",
       "      <td>14500.000000</td>\n",
       "      <td>36.000000</td>\n",
       "      <td>27.800000</td>\n",
       "      <td>86.000000</td>\n",
       "      <td>90.800000</td>\n",
       "      <td>3.030000</td>\n",
       "      <td>2.810000</td>\n",
       "    </tr>\n",
       "  </tbody>\n",
       "</table>\n",
       "</div>"
      ],
      "text/plain": [
       "            index        DEPTH    OrigDepth    CORE_NO      SAMPLE  \\\n",
       "count  728.000000   728.000000   728.000000  728.00000  728.000000   \n",
       "mean   363.500000  3920.528338  3920.153338    3.93956  364.500000   \n",
       "std    210.299786    46.545695    46.902816    1.75976  210.299786   \n",
       "min      0.000000  3838.600000  3837.000000    1.00000    1.000000   \n",
       "25%    181.750000  3882.580000  3881.980000    3.00000  182.750000   \n",
       "50%    363.500000  3921.725000  3921.125000    4.00000  364.500000   \n",
       "75%    545.250000  3960.287500  3960.487500    5.00000  546.250000   \n",
       "max    727.000000  3999.950000  3999.750000    7.00000  728.000000   \n",
       "\n",
       "               CKHG          CKHL          CKVG          CKVL        CPOR  \\\n",
       "count    557.000000    557.000000    141.000000    141.000000  593.000000   \n",
       "mean     649.801463    627.972549    490.086071    472.875284   16.829342   \n",
       "std     2160.127387   2116.307023   1973.601098   1929.420018    6.552523   \n",
       "min        0.018000      0.010000      0.030000      0.017000    2.900000   \n",
       "25%        2.620000      2.030000      0.874000      0.590000   12.000000   \n",
       "50%       59.900000     52.300000     27.300000     23.300000   18.100000   \n",
       "75%      213.000000    194.000000    108.000000     96.300000   21.700000   \n",
       "max    20800.000000  20500.000000  14800.000000  14500.000000   36.000000   \n",
       "\n",
       "           CPORV         So         Sw         CGD       CGDV  \n",
       "count  71.000000  71.000000  71.000000  594.000000  71.000000  \n",
       "mean   19.497183  56.943662  28.309859    2.653569   2.656901  \n",
       "std     5.657763  21.084319  19.203758    0.046735   0.035560  \n",
       "min     2.700000   0.000000   4.500000    2.250000   2.620000  \n",
       "25%    18.150000  52.000000  18.200000    2.640000   2.630000  \n",
       "50%    21.200000  62.300000  22.800000    2.650000   2.650000  \n",
       "75%    23.500000  68.500000  29.950000    2.660000   2.660000  \n",
       "max    27.800000  86.000000  90.800000    3.030000   2.810000  "
      ]
     },
     "execution_count": 16,
     "metadata": {},
     "output_type": "execute_result"
    }
   ],
   "source": [
    "df1.describe()"
   ]
  },
  {
   "cell_type": "markdown",
   "id": "1ab06b64",
   "metadata": {},
   "source": [
    "## Descriptive Statistical"
   ]
  },
  {
   "cell_type": "code",
   "execution_count": 17,
   "id": "51e1bc45",
   "metadata": {
    "ExecuteTime": {
     "end_time": "2022-08-30T00:51:21.760903Z",
     "start_time": "2022-08-30T00:51:21.746267Z"
    }
   },
   "outputs": [],
   "source": [
    "num_attributes = df1.select_dtypes('float64')"
   ]
  },
  {
   "cell_type": "code",
   "execution_count": 18,
   "id": "c1db25a9",
   "metadata": {
    "ExecuteTime": {
     "end_time": "2022-08-30T00:51:22.070812Z",
     "start_time": "2022-08-30T00:51:22.023351Z"
    }
   },
   "outputs": [
    {
     "data": {
      "text/html": [
       "<div>\n",
       "<style scoped>\n",
       "    .dataframe tbody tr th:only-of-type {\n",
       "        vertical-align: middle;\n",
       "    }\n",
       "\n",
       "    .dataframe tbody tr th {\n",
       "        vertical-align: top;\n",
       "    }\n",
       "\n",
       "    .dataframe thead th {\n",
       "        text-align: right;\n",
       "    }\n",
       "</style>\n",
       "<table border=\"1\" class=\"dataframe\">\n",
       "  <thead>\n",
       "    <tr style=\"text-align: right;\">\n",
       "      <th></th>\n",
       "      <th>DEPTH</th>\n",
       "      <th>OrigDepth</th>\n",
       "      <th>CKHG</th>\n",
       "      <th>CKHL</th>\n",
       "      <th>CKVG</th>\n",
       "      <th>CKVL</th>\n",
       "      <th>CPOR</th>\n",
       "      <th>CPORV</th>\n",
       "      <th>So</th>\n",
       "      <th>Sw</th>\n",
       "      <th>CGD</th>\n",
       "      <th>CGDV</th>\n",
       "    </tr>\n",
       "  </thead>\n",
       "  <tbody>\n",
       "    <tr>\n",
       "      <th>154</th>\n",
       "      <td>3875.95</td>\n",
       "      <td>3875.75</td>\n",
       "      <td>1.890</td>\n",
       "      <td>1.340</td>\n",
       "      <td>NaN</td>\n",
       "      <td>NaN</td>\n",
       "      <td>12.7</td>\n",
       "      <td>NaN</td>\n",
       "      <td>NaN</td>\n",
       "      <td>NaN</td>\n",
       "      <td>2.65</td>\n",
       "      <td>NaN</td>\n",
       "    </tr>\n",
       "    <tr>\n",
       "      <th>11</th>\n",
       "      <td>3840.80</td>\n",
       "      <td>3839.20</td>\n",
       "      <td>0.298</td>\n",
       "      <td>0.189</td>\n",
       "      <td>NaN</td>\n",
       "      <td>NaN</td>\n",
       "      <td>10.3</td>\n",
       "      <td>NaN</td>\n",
       "      <td>NaN</td>\n",
       "      <td>NaN</td>\n",
       "      <td>2.93</td>\n",
       "      <td>NaN</td>\n",
       "    </tr>\n",
       "  </tbody>\n",
       "</table>\n",
       "</div>"
      ],
      "text/plain": [
       "       DEPTH  OrigDepth   CKHG   CKHL  CKVG  CKVL  CPOR  CPORV  So  Sw   CGD  \\\n",
       "154  3875.95    3875.75  1.890  1.340   NaN   NaN  12.7    NaN NaN NaN  2.65   \n",
       "11   3840.80    3839.20  0.298  0.189   NaN   NaN  10.3    NaN NaN NaN  2.93   \n",
       "\n",
       "     CGDV  \n",
       "154   NaN  \n",
       "11    NaN  "
      ]
     },
     "execution_count": 18,
     "metadata": {},
     "output_type": "execute_result"
    }
   ],
   "source": [
    "num_attributes.sample(2)"
   ]
  },
  {
   "cell_type": "markdown",
   "id": "a63970bb",
   "metadata": {},
   "source": [
    "## Numerical Attributes"
   ]
  },
  {
   "cell_type": "code",
   "execution_count": 19,
   "id": "83e01744",
   "metadata": {
    "ExecuteTime": {
     "end_time": "2022-08-30T00:51:23.027942Z",
     "start_time": "2022-08-30T00:51:22.938416Z"
    }
   },
   "outputs": [],
   "source": [
    "# Central Tendency - Mean, median:\n",
    "\n",
    "ct1 = pd.DataFrame(num_attributes.apply(np.mean)).T\n",
    "ct2 = pd.DataFrame(num_attributes.apply(np.median)).T\n",
    "\n",
    "# Dispersion - std, min, max, range, skew, kurtosis:\n",
    "\n",
    "d1 = pd.DataFrame(num_attributes.apply( np.std)).T\n",
    "d2 = pd.DataFrame(num_attributes.apply( np.min)).T\n",
    "d3 = pd.DataFrame(num_attributes.apply( np.max)).T\n",
    "d4 = pd.DataFrame(num_attributes.apply( lambda x: x.max() - x.min() ) ).T\n",
    "d5 = pd.DataFrame(num_attributes.apply( lambda x: x.skew() ) ).T\n",
    "d6 = pd.DataFrame(num_attributes.apply( lambda x: x.kurtosis() ) ).T\n",
    "                  \n",
    "# Concatenate:\n",
    "m = pd.concat( [d2, d3, d4, ct1, ct2, d1, d5, d6] ).T.reset_index()\n",
    "m.columns = ['attributes','min','max','range','mean','median','std','skew','kurtosis']"
   ]
  },
  {
   "cell_type": "code",
   "execution_count": 20,
   "id": "7592d258",
   "metadata": {
    "ExecuteTime": {
     "end_time": "2022-08-30T00:51:23.279038Z",
     "start_time": "2022-08-30T00:51:23.231651Z"
    }
   },
   "outputs": [
    {
     "data": {
      "text/html": [
       "<div>\n",
       "<style scoped>\n",
       "    .dataframe tbody tr th:only-of-type {\n",
       "        vertical-align: middle;\n",
       "    }\n",
       "\n",
       "    .dataframe tbody tr th {\n",
       "        vertical-align: top;\n",
       "    }\n",
       "\n",
       "    .dataframe thead th {\n",
       "        text-align: right;\n",
       "    }\n",
       "</style>\n",
       "<table border=\"1\" class=\"dataframe\">\n",
       "  <thead>\n",
       "    <tr style=\"text-align: right;\">\n",
       "      <th></th>\n",
       "      <th>attributes</th>\n",
       "      <th>min</th>\n",
       "      <th>max</th>\n",
       "      <th>range</th>\n",
       "      <th>mean</th>\n",
       "      <th>median</th>\n",
       "      <th>std</th>\n",
       "      <th>skew</th>\n",
       "      <th>kurtosis</th>\n",
       "    </tr>\n",
       "  </thead>\n",
       "  <tbody>\n",
       "    <tr>\n",
       "      <th>0</th>\n",
       "      <td>DEPTH</td>\n",
       "      <td>3838.600</td>\n",
       "      <td>3999.95</td>\n",
       "      <td>161.350</td>\n",
       "      <td>3920.528338</td>\n",
       "      <td>3921.725</td>\n",
       "      <td>46.513716</td>\n",
       "      <td>-0.061404</td>\n",
       "      <td>-1.159051</td>\n",
       "    </tr>\n",
       "    <tr>\n",
       "      <th>1</th>\n",
       "      <td>OrigDepth</td>\n",
       "      <td>3837.000</td>\n",
       "      <td>3999.75</td>\n",
       "      <td>162.750</td>\n",
       "      <td>3920.153338</td>\n",
       "      <td>3921.125</td>\n",
       "      <td>46.870592</td>\n",
       "      <td>-0.069337</td>\n",
       "      <td>-1.155375</td>\n",
       "    </tr>\n",
       "    <tr>\n",
       "      <th>2</th>\n",
       "      <td>CKHG</td>\n",
       "      <td>0.018</td>\n",
       "      <td>20800.00</td>\n",
       "      <td>20799.982</td>\n",
       "      <td>649.801463</td>\n",
       "      <td>NaN</td>\n",
       "      <td>2158.187443</td>\n",
       "      <td>5.376242</td>\n",
       "      <td>34.859277</td>\n",
       "    </tr>\n",
       "    <tr>\n",
       "      <th>3</th>\n",
       "      <td>CKHL</td>\n",
       "      <td>0.010</td>\n",
       "      <td>20500.00</td>\n",
       "      <td>20499.990</td>\n",
       "      <td>627.972549</td>\n",
       "      <td>NaN</td>\n",
       "      <td>2114.406432</td>\n",
       "      <td>5.419010</td>\n",
       "      <td>35.482375</td>\n",
       "    </tr>\n",
       "    <tr>\n",
       "      <th>4</th>\n",
       "      <td>CKVG</td>\n",
       "      <td>0.030</td>\n",
       "      <td>14800.00</td>\n",
       "      <td>14799.970</td>\n",
       "      <td>490.086071</td>\n",
       "      <td>NaN</td>\n",
       "      <td>1966.590059</td>\n",
       "      <td>5.643111</td>\n",
       "      <td>33.189321</td>\n",
       "    </tr>\n",
       "    <tr>\n",
       "      <th>5</th>\n",
       "      <td>CKVL</td>\n",
       "      <td>0.017</td>\n",
       "      <td>14500.00</td>\n",
       "      <td>14499.983</td>\n",
       "      <td>472.875284</td>\n",
       "      <td>NaN</td>\n",
       "      <td>1922.565929</td>\n",
       "      <td>5.659770</td>\n",
       "      <td>33.370662</td>\n",
       "    </tr>\n",
       "    <tr>\n",
       "      <th>6</th>\n",
       "      <td>CPOR</td>\n",
       "      <td>2.900</td>\n",
       "      <td>36.00</td>\n",
       "      <td>33.100</td>\n",
       "      <td>16.829342</td>\n",
       "      <td>NaN</td>\n",
       "      <td>6.546996</td>\n",
       "      <td>-0.389141</td>\n",
       "      <td>-0.529203</td>\n",
       "    </tr>\n",
       "    <tr>\n",
       "      <th>7</th>\n",
       "      <td>CPORV</td>\n",
       "      <td>2.700</td>\n",
       "      <td>27.80</td>\n",
       "      <td>25.100</td>\n",
       "      <td>19.497183</td>\n",
       "      <td>NaN</td>\n",
       "      <td>5.617778</td>\n",
       "      <td>-1.429381</td>\n",
       "      <td>1.618011</td>\n",
       "    </tr>\n",
       "    <tr>\n",
       "      <th>8</th>\n",
       "      <td>So</td>\n",
       "      <td>0.000</td>\n",
       "      <td>86.00</td>\n",
       "      <td>86.000</td>\n",
       "      <td>56.943662</td>\n",
       "      <td>NaN</td>\n",
       "      <td>20.935311</td>\n",
       "      <td>-1.411998</td>\n",
       "      <td>1.514488</td>\n",
       "    </tr>\n",
       "    <tr>\n",
       "      <th>9</th>\n",
       "      <td>Sw</td>\n",
       "      <td>4.500</td>\n",
       "      <td>90.80</td>\n",
       "      <td>86.300</td>\n",
       "      <td>28.309859</td>\n",
       "      <td>NaN</td>\n",
       "      <td>19.068041</td>\n",
       "      <td>1.691781</td>\n",
       "      <td>2.550176</td>\n",
       "    </tr>\n",
       "    <tr>\n",
       "      <th>10</th>\n",
       "      <td>CGD</td>\n",
       "      <td>2.250</td>\n",
       "      <td>3.03</td>\n",
       "      <td>0.780</td>\n",
       "      <td>2.653569</td>\n",
       "      <td>NaN</td>\n",
       "      <td>0.046696</td>\n",
       "      <td>0.510444</td>\n",
       "      <td>23.977041</td>\n",
       "    </tr>\n",
       "    <tr>\n",
       "      <th>11</th>\n",
       "      <td>CGDV</td>\n",
       "      <td>2.620</td>\n",
       "      <td>2.81</td>\n",
       "      <td>0.190</td>\n",
       "      <td>2.656901</td>\n",
       "      <td>NaN</td>\n",
       "      <td>0.035309</td>\n",
       "      <td>2.066945</td>\n",
       "      <td>5.121158</td>\n",
       "    </tr>\n",
       "  </tbody>\n",
       "</table>\n",
       "</div>"
      ],
      "text/plain": [
       "   attributes       min       max      range         mean    median  \\\n",
       "0       DEPTH  3838.600   3999.95    161.350  3920.528338  3921.725   \n",
       "1   OrigDepth  3837.000   3999.75    162.750  3920.153338  3921.125   \n",
       "2        CKHG     0.018  20800.00  20799.982   649.801463       NaN   \n",
       "3        CKHL     0.010  20500.00  20499.990   627.972549       NaN   \n",
       "4        CKVG     0.030  14800.00  14799.970   490.086071       NaN   \n",
       "5        CKVL     0.017  14500.00  14499.983   472.875284       NaN   \n",
       "6        CPOR     2.900     36.00     33.100    16.829342       NaN   \n",
       "7       CPORV     2.700     27.80     25.100    19.497183       NaN   \n",
       "8          So     0.000     86.00     86.000    56.943662       NaN   \n",
       "9          Sw     4.500     90.80     86.300    28.309859       NaN   \n",
       "10        CGD     2.250      3.03      0.780     2.653569       NaN   \n",
       "11       CGDV     2.620      2.81      0.190     2.656901       NaN   \n",
       "\n",
       "            std      skew   kurtosis  \n",
       "0     46.513716 -0.061404  -1.159051  \n",
       "1     46.870592 -0.069337  -1.155375  \n",
       "2   2158.187443  5.376242  34.859277  \n",
       "3   2114.406432  5.419010  35.482375  \n",
       "4   1966.590059  5.643111  33.189321  \n",
       "5   1922.565929  5.659770  33.370662  \n",
       "6      6.546996 -0.389141  -0.529203  \n",
       "7      5.617778 -1.429381   1.618011  \n",
       "8     20.935311 -1.411998   1.514488  \n",
       "9     19.068041  1.691781   2.550176  \n",
       "10     0.046696  0.510444  23.977041  \n",
       "11     0.035309  2.066945   5.121158  "
      ]
     },
     "execution_count": 20,
     "metadata": {},
     "output_type": "execute_result"
    }
   ],
   "source": [
    "m"
   ]
  },
  {
   "cell_type": "markdown",
   "id": "1ecc3c2c",
   "metadata": {},
   "source": [
    "## Data Plotting"
   ]
  },
  {
   "cell_type": "code",
   "execution_count": 21,
   "id": "4ce0f325",
   "metadata": {
    "ExecuteTime": {
     "end_time": "2022-08-30T00:51:23.696448Z",
     "start_time": "2022-08-30T00:51:23.680676Z"
    }
   },
   "outputs": [
    {
     "data": {
      "text/plain": [
       "Index(['index', 'DEPTH', 'OrigDepth', 'CORE_NO', 'SAMPLE', 'CKHG', 'CKHL',\n",
       "       'CKVG', 'CKVL', 'CPOR', 'CPORV', 'So', 'Sw', 'CGD', 'CGDV'],\n",
       "      dtype='object')"
      ]
     },
     "execution_count": 21,
     "metadata": {},
     "output_type": "execute_result"
    }
   ],
   "source": [
    "df1.columns"
   ]
  },
  {
   "cell_type": "markdown",
   "id": "3864457d",
   "metadata": {},
   "source": [
    "# Subplots "
   ]
  },
  {
   "cell_type": "code",
   "execution_count": 41,
   "id": "29d26c4d",
   "metadata": {
    "ExecuteTime": {
     "end_time": "2022-08-30T01:24:04.960267Z",
     "start_time": "2022-08-30T01:24:03.532065Z"
    }
   },
   "outputs": [
    {
     "data": {
      "image/png": "[encoded data removed]",
      "text/plain": [
       "<Figure size 1080x1080 with 2 Axes>"
      ]
     },
     "metadata": {
      "needs_background": "light"
     },
     "output_type": "display_data"
    }
   ],
   "source": [
    "fig, ax = plt.subplots(figsize=(15,15))\n",
    "\n",
    "ax1 = plt.subplot2grid(shape=(3,3), loc=(0,0), rowspan=3)\n",
    "ax2 = plt.subplot2grid(shape=(3,3), loc=(0,1), rowspan=3)\n",
    "\n",
    "# ax1 CPOR to DEPTH\n",
    "\n",
    "ax1.scatter(df1['CPOR'], df1['DEPTH'], marker='.', c='red')\n",
    "ax1.set_xlim(0,50)\n",
    "ax1.set_ylim(4010,3825)\n",
    "ax1.set_title('Core Porosity')\n",
    "ax1.grid()\n",
    "\n",
    "# ax2 CKHG  to DEPTH\n",
    "\n",
    "ax2.scatter(df1['CKHG'], df1['DEPTH'], marker='.', c='blue')\n",
    "ax2.set_xlim(0.01,10000)\n",
    "ax2.semilogx()\n",
    "ax2.set_ylim(4010,3825)\n",
    "ax2.set_title('Core Permeability')\n",
    "ax2.grid()\n",
    "\n",
    "\n",
    "\n",
    "plt.tight_layout()\n",
    "plt.show()"
   ]
  },
  {
   "cell_type": "code",
   "execution_count": 44,
   "id": "777d43bb",
   "metadata": {
    "ExecuteTime": {
     "end_time": "2022-08-30T01:26:31.588719Z",
     "start_time": "2022-08-30T01:26:29.724813Z"
    }
   },
   "outputs": [
    {
     "data": {
      "image/png": "[encoded data removed]",
      "text/plain": [
       "<Figure size 1440x1440 with 3 Axes>"
      ]
     },
     "metadata": {
      "needs_background": "light"
     },
     "output_type": "display_data"
    }
   ],
   "source": [
    "fig, ax = plt.subplots(figsize=(20,20))\n",
    "\n",
    "ax3 = plt.subplot2grid(shape=(3,3), loc=(0,2))\n",
    "ax4 = plt.subplot2grid(shape=(3,3), loc=(1,2))\n",
    "ax5 = plt.subplot2grid(shape=(3,3), loc=(2,2))\n",
    "\n",
    "# ax3 CPOR to CKHG\n",
    "\n",
    "ax3.scatter(df1['CPOR'], df1['CKHG'], marker='.', alpha=0.5)\n",
    "ax3.semilogy()\n",
    "ax3.set_xlim(0.01,10000)\n",
    "ax3.set_xlim(0,50)\n",
    "ax3.set_title('Poro-Perm Scatter Plot')\n",
    "ax3.set_xlabel('Core Porosity (%)')\n",
    "ax3.set_ylabel('Core Permeability (m0)')\n",
    "ax3.grid()\n",
    "\n",
    "# ax4 Histogram CPOR\n",
    "\n",
    "ax4.hist(df1['CPOR'], bins=30, edgecolor='black', color='red', alpha=0.6)\n",
    "ax4.set_xlabel('Core Porosity')\n",
    "\n",
    "# ax5 Histogram CGD\n",
    "\n",
    "ax5.hist(df1['CGD'], bins=30, edgecolor='black', color='blue', alpha=0.6)\n",
    "ax5.set_xlabel('Core Grain Density')\n",
    "\n",
    "\n",
    "\n",
    "plt.tight_layout()\n",
    "plt.show()"
   ]
  },
  {
   "cell_type": "code",
   "execution_count": 36,
   "id": "4f39813c",
   "metadata": {
    "ExecuteTime": {
     "end_time": "2022-08-30T01:20:51.651940Z",
     "start_time": "2022-08-30T01:20:49.675444Z"
    }
   },
   "outputs": [
    {
     "data": {
      "image/png": "[encoded data removed]",
      "text/plain": [
       "<Figure size 720x720 with 5 Axes>"
      ]
     },
     "metadata": {
      "needs_background": "light"
     },
     "output_type": "display_data"
    }
   ],
   "source": [
    "fig, ax = plt.subplots(figsize=(10,10))\n",
    "\n",
    "ax1 = plt.subplot2grid(shape=(3,3), loc=(0,0), rowspan=3)\n",
    "ax2 = plt.subplot2grid(shape=(3,3), loc=(0,1), rowspan=3)\n",
    "ax3 = plt.subplot2grid(shape=(3,3), loc=(0,2))\n",
    "ax4 = plt.subplot2grid(shape=(3,3), loc=(1,2))\n",
    "ax5 = plt.subplot2grid(shape=(3,3), loc=(2,2))\n",
    "\n",
    "# ax1 CPOR to DEPTH\n",
    "\n",
    "ax1.scatter(df1['CPOR'], df1['DEPTH'], marker='.', c='red')\n",
    "ax1.set_xlim(0,50)\n",
    "ax1.set_ylim(4010,3825)\n",
    "ax1.set_title('Core Porosity')\n",
    "ax1.grid()\n",
    "\n",
    "# ax2 CKHG  to DEPTH\n",
    "\n",
    "ax2.scatter(df1['CKHG'], df1['DEPTH'], marker='.', c='blue')\n",
    "ax2.set_xlim(0.01,10000)\n",
    "ax2.semilogx()\n",
    "ax2.set_ylim(4010,3825)\n",
    "ax2.set_title('Core Permeability')\n",
    "ax2.grid()\n",
    "\n",
    "# ax3 CPOR to CKHG\n",
    "\n",
    "ax3.scatter(df1['CPOR'], df1['CKHG'], marker='.', alpha=0.5)\n",
    "ax3.semilogy()\n",
    "ax3.set_xlim(0.01,10000)\n",
    "ax3.set_xlim(0,50)\n",
    "ax3.set_title('Poro-Perm Scatter Plot')\n",
    "ax3.set_xlabel('Core Porosity (%)')\n",
    "ax3.set_ylabel('Core Permeability (m0)')\n",
    "ax3.grid()\n",
    "\n",
    "# ax4 Histogram CPOR\n",
    "\n",
    "ax4.hist(df1['CPOR'], bins=30, edgecolor='black', color='red', alpha=0.6)\n",
    "ax4.set_xlabel('Core Porosity')\n",
    "\n",
    "# ax5 Histogram CGD\n",
    "\n",
    "ax5.hist(df1['CGD'], bins=30, edgecolor='black', color='blue', alpha=0.6)\n",
    "ax5.set_xlabel('Core Grain Density')\n",
    "\n",
    "\n",
    "\n",
    "plt.tight_layout()\n",
    "plt.show()"
   ]
  },
  {
   "cell_type": "code",
   "execution_count": null,
   "id": "737e79c7",
   "metadata": {},
   "outputs": [],
   "source": []
  },
  {
   "cell_type": "code",
   "execution_count": null,
   "id": "50acb155",
   "metadata": {},
   "outputs": [],
   "source": []
  },
  {
   "cell_type": "code",
   "execution_count": null,
   "id": "b803ac33",
   "metadata": {},
   "outputs": [],
   "source": []
  },
  {
   "cell_type": "code",
   "execution_count": null,
   "id": "8052258c",
   "metadata": {},
   "outputs": [],
   "source": []
  },
  {
   "cell_type": "code",
   "execution_count": null,
   "id": "f4ace427",
   "metadata": {},
   "outputs": [],
   "source": []
  },
  {
   "cell_type": "code",
   "execution_count": null,
   "id": "201adf60",
   "metadata": {},
   "outputs": [],
   "source": []
  },
  {
   "cell_type": "code",
   "execution_count": null,
   "id": "0fa4d535",
   "metadata": {},
   "outputs": [],
   "source": []
  },
  {
   "cell_type": "code",
   "execution_count": null,
   "id": "794f2c06",
   "metadata": {},
   "outputs": [],
   "source": []
  }
 ],
 "metadata": {
  "kernelspec": {
   "display_name": "Python 3 (ipykernel)",
   "language": "python",
   "name": "python3"
  },
  "language_info": {
   "codemirror_mode": {
    "name": "ipython",
    "version": 3
   },
   "file_extension": ".py",
   "mimetype": "text/x-python",
   "name": "python",
   "nbconvert_exporter": "python",
   "pygments_lexer": "ipython3",
   "version": "3.9.5"
  },
  "toc": {
   "base_numbering": 1,
   "nav_menu": {},
   "number_sections": true,
   "sideBar": true,
   "skip_h1_title": false,
   "title_cell": "Table of Contents",
   "title_sidebar": "Contents",
   "toc_cell": false,
   "toc_position": {},
   "toc_section_display": true,
   "toc_window_display": false
  }
 },
 "nbformat": 4,
 "nbformat_minor": 5
}
