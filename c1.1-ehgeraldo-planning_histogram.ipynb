{
 "cells": [
  {
   "cell_type": "markdown",
   "id": "80b0dfd8",
   "metadata": {},
   "source": [
    "# Well Log plot - Plotly"
   ]
  },
  {
   "cell_type": "markdown",
   "id": "5b857918",
   "metadata": {},
   "source": [
    "# Planning\n",
    "\n",
    "\n",
    "# Solution at (IOT)\n",
    "\n",
    "\n",
    "# Input\n",
    "* We choose an oil well with open source to apply visualization methods with python libraries.\n",
    "\n",
    "\n",
    "# Output\n",
    "* Jupyter notebook tutorial to analysis\n",
    "\n",
    "# Tasks\n",
    "* From https://www.nlog.nl/datacenter "
   ]
  },
  {
   "cell_type": "markdown",
   "id": "b5ad3706",
   "metadata": {},
   "source": [
    "# Imports"
   ]
  },
  {
   "cell_type": "code",
   "execution_count": 1,
   "id": "5961225e",
   "metadata": {
    "ExecuteTime": {
     "end_time": "2022-08-23T01:17:27.132372Z",
     "start_time": "2022-08-23T01:17:23.910725Z"
    }
   },
   "outputs": [
    {
     "name": "stdout",
     "output_type": "stream",
     "text": [
      "Requirement already satisfied: lasio in /home/ehgeraldo/miniconda3/lib/python3.9/site-packages (0.30)\n",
      "Requirement already satisfied: numpy in /home/ehgeraldo/miniconda3/lib/python3.9/site-packages (from lasio) (1.23.1)\n",
      "Note: you may need to restart the kernel to use updated packages.\n"
     ]
    }
   ],
   "source": [
    "pip install lasio"
   ]
  },
  {
   "cell_type": "code",
   "execution_count": 1,
   "id": "53cf9af6",
   "metadata": {
    "ExecuteTime": {
     "end_time": "2022-08-30T01:34:10.928486Z",
     "start_time": "2022-08-30T01:34:09.763121Z"
    }
   },
   "outputs": [],
   "source": [
    "import pandas as pd\n",
    "import numpy  as np\n",
    "import matplotlib.pyplot as plt\n",
    "import lasio\n",
    "\n",
    "\n",
    "import plotly.graph_objects as go\n",
    "import plotly.express       as px\n",
    "\n",
    "from plotly.subplots import make_subplots"
   ]
  },
  {
   "cell_type": "code",
   "execution_count": 2,
   "id": "bcce7ebb",
   "metadata": {
    "ExecuteTime": {
     "end_time": "2022-08-30T01:34:10.957516Z",
     "start_time": "2022-08-30T01:34:10.939020Z"
    }
   },
   "outputs": [
    {
     "data": {
      "text/plain": [
       "'/home/ehgeraldo/repos/Well_Log_Plots_Applications'"
      ]
     },
     "execution_count": 2,
     "metadata": {},
     "output_type": "execute_result"
    }
   ],
   "source": [
    "pwd"
   ]
  },
  {
   "cell_type": "code",
   "execution_count": 3,
   "id": "06728a74",
   "metadata": {
    "ExecuteTime": {
     "end_time": "2022-08-30T01:34:11.106901Z",
     "start_time": "2022-08-30T01:34:10.969315Z"
    }
   },
   "outputs": [
    {
     "name": "stdout",
     "output_type": "stream",
     "text": [
      "total 7432\r\n",
      "-rw-rw-r-- 1 ehgeraldo ehgeraldo  479237 ago 29 22:33 c0.0-ehgeraldo-planning.ipynb\r\n",
      "-rw-rw-r-- 1 ehgeraldo ehgeraldo   95928 ago 27 17:19 c1.1-ehgeraldo-planning_histogram.ipynb\r\n",
      "-rw-rw-r-- 1 ehgeraldo ehgeraldo  429306 ago 27 17:19 c2.2-ehgeraldo-planning_scatterplot.ipynb\r\n",
      "-rw-rw-r-- 1 ehgeraldo ehgeraldo  395962 ago 27 17:19 c3.3-ehgeraldo_matplolib.ipynb\r\n",
      "-rw-rw-r-- 1 ehgeraldo ehgeraldo 5739415 ago 27 17:21 c4.4-ehgeraldo_matplolib.ipynb\r\n",
      "-rw-rw-r-- 1 ehgeraldo ehgeraldo  201758 ago 29 17:10 c5.5-ehgeraldo_shading.ipynb\r\n",
      "-rw-rw-r-- 1 ehgeraldo ehgeraldo  247083 ago 29 22:30 c6.6-ehgeraldo_matplotlib_subplot.ipynb\r\n",
      "drwxrwxr-x 2 ehgeraldo ehgeraldo    4096 ago 29 19:57 \u001b[0m\u001b[01;34mdata\u001b[0m/\r\n"
     ]
    }
   ],
   "source": [
    "ls -l"
   ]
  },
  {
   "cell_type": "code",
   "execution_count": 7,
   "id": "e36f67bf",
   "metadata": {
    "ExecuteTime": {
     "end_time": "2022-08-30T01:34:33.264888Z",
     "start_time": "2022-08-30T01:34:32.971373Z"
    }
   },
   "outputs": [],
   "source": [
    "df_raw = lasio.read('/home/ehgeraldo/repos/Well_Log_Plots_Applications/data/15-9-19_SR_COMP.LAS').df()"
   ]
  },
  {
   "cell_type": "code",
   "execution_count": 8,
   "id": "f3666507",
   "metadata": {
    "ExecuteTime": {
     "end_time": "2022-08-30T01:34:34.174408Z",
     "start_time": "2022-08-30T01:34:34.162584Z"
    }
   },
   "outputs": [],
   "source": [
    "df_raw.reset_index(inplace=True)"
   ]
  },
  {
   "cell_type": "code",
   "execution_count": 9,
   "id": "9f39e31c",
   "metadata": {
    "ExecuteTime": {
     "end_time": "2022-08-30T01:34:34.516050Z",
     "start_time": "2022-08-30T01:34:34.476558Z"
    }
   },
   "outputs": [
    {
     "data": {
      "text/html": [
       "<div>\n",
       "<style scoped>\n",
       "    .dataframe tbody tr th:only-of-type {\n",
       "        vertical-align: middle;\n",
       "    }\n",
       "\n",
       "    .dataframe tbody tr th {\n",
       "        vertical-align: top;\n",
       "    }\n",
       "\n",
       "    .dataframe thead th {\n",
       "        text-align: right;\n",
       "    }\n",
       "</style>\n",
       "<table border=\"1\" class=\"dataframe\">\n",
       "  <thead>\n",
       "    <tr style=\"text-align: right;\">\n",
       "      <th></th>\n",
       "      <th>DEPT</th>\n",
       "      <th>AC</th>\n",
       "      <th>CALI</th>\n",
       "      <th>DEN</th>\n",
       "      <th>GR</th>\n",
       "      <th>NEU</th>\n",
       "      <th>RDEP</th>\n",
       "      <th>RMED</th>\n",
       "    </tr>\n",
       "  </thead>\n",
       "  <tbody>\n",
       "    <tr>\n",
       "      <th>0</th>\n",
       "      <td>3615.4340</td>\n",
       "      <td>95.7952</td>\n",
       "      <td>12.7249</td>\n",
       "      <td>2.3429</td>\n",
       "      <td>54.8754</td>\n",
       "      <td>44.5742</td>\n",
       "      <td>0.8941</td>\n",
       "      <td>0.8359</td>\n",
       "    </tr>\n",
       "    <tr>\n",
       "      <th>1</th>\n",
       "      <td>3615.5864</td>\n",
       "      <td>94.2267</td>\n",
       "      <td>12.5961</td>\n",
       "      <td>2.3528</td>\n",
       "      <td>53.5158</td>\n",
       "      <td>62.1103</td>\n",
       "      <td>0.7367</td>\n",
       "      <td>0.8028</td>\n",
       "    </tr>\n",
       "    <tr>\n",
       "      <th>2</th>\n",
       "      <td>3615.7388</td>\n",
       "      <td>101.3254</td>\n",
       "      <td>13.7632</td>\n",
       "      <td>2.3170</td>\n",
       "      <td>48.9803</td>\n",
       "      <td>71.9087</td>\n",
       "      <td>0.6423</td>\n",
       "      <td>0.7958</td>\n",
       "    </tr>\n",
       "    <tr>\n",
       "      <th>3</th>\n",
       "      <td>3615.8912</td>\n",
       "      <td>99.5672</td>\n",
       "      <td>14.3249</td>\n",
       "      <td>2.2585</td>\n",
       "      <td>36.6762</td>\n",
       "      <td>44.8988</td>\n",
       "      <td>0.6571</td>\n",
       "      <td>0.7929</td>\n",
       "    </tr>\n",
       "    <tr>\n",
       "      <th>4</th>\n",
       "      <td>3616.0436</td>\n",
       "      <td>100.5965</td>\n",
       "      <td>11.1429</td>\n",
       "      <td>2.2108</td>\n",
       "      <td>40.4632</td>\n",
       "      <td>49.5744</td>\n",
       "      <td>0.7442</td>\n",
       "      <td>0.7940</td>\n",
       "    </tr>\n",
       "  </tbody>\n",
       "</table>\n",
       "</div>"
      ],
      "text/plain": [
       "        DEPT        AC     CALI     DEN       GR      NEU    RDEP    RMED\n",
       "0  3615.4340   95.7952  12.7249  2.3429  54.8754  44.5742  0.8941  0.8359\n",
       "1  3615.5864   94.2267  12.5961  2.3528  53.5158  62.1103  0.7367  0.8028\n",
       "2  3615.7388  101.3254  13.7632  2.3170  48.9803  71.9087  0.6423  0.7958\n",
       "3  3615.8912   99.5672  14.3249  2.2585  36.6762  44.8988  0.6571  0.7929\n",
       "4  3616.0436  100.5965  11.1429  2.2108  40.4632  49.5744  0.7442  0.7940"
      ]
     },
     "execution_count": 9,
     "metadata": {},
     "output_type": "execute_result"
    }
   ],
   "source": [
    "df_raw.head()"
   ]
  },
  {
   "cell_type": "markdown",
   "id": "90284c00",
   "metadata": {},
   "source": [
    "# Data descrition"
   ]
  },
  {
   "cell_type": "code",
   "execution_count": 10,
   "id": "84f7af24",
   "metadata": {
    "ExecuteTime": {
     "end_time": "2022-08-30T01:34:34.953855Z",
     "start_time": "2022-08-30T01:34:34.942666Z"
    }
   },
   "outputs": [],
   "source": [
    "df1 = df_raw.copy()"
   ]
  },
  {
   "cell_type": "markdown",
   "id": "d4798e94",
   "metadata": {},
   "source": [
    "## Data dimensions"
   ]
  },
  {
   "cell_type": "code",
   "execution_count": 11,
   "id": "cd5fa797",
   "metadata": {
    "ExecuteTime": {
     "end_time": "2022-08-30T01:34:35.365695Z",
     "start_time": "2022-08-30T01:34:35.348503Z"
    }
   },
   "outputs": [
    {
     "name": "stdout",
     "output_type": "stream",
     "text": [
      "Number of rows: 6701\n",
      "Number of cols: 8\n"
     ]
    }
   ],
   "source": [
    "print('Number of rows: {}'.format(df_raw.shape[0]))\n",
    "print('Number of cols: {}'.format(df_raw.shape[1]))"
   ]
  },
  {
   "cell_type": "markdown",
   "id": "cfa1d204",
   "metadata": {},
   "source": [
    "## Data types"
   ]
  },
  {
   "cell_type": "code",
   "execution_count": 12,
   "id": "b30c14ec",
   "metadata": {
    "ExecuteTime": {
     "end_time": "2022-08-30T01:34:35.757216Z",
     "start_time": "2022-08-30T01:34:35.736352Z"
    }
   },
   "outputs": [
    {
     "data": {
      "text/plain": [
       "DEPT    float64\n",
       "AC      float64\n",
       "CALI    float64\n",
       "DEN     float64\n",
       "GR      float64\n",
       "NEU     float64\n",
       "RDEP    float64\n",
       "RMED    float64\n",
       "dtype: object"
      ]
     },
     "execution_count": 12,
     "metadata": {},
     "output_type": "execute_result"
    }
   ],
   "source": [
    "df1.dtypes"
   ]
  },
  {
   "cell_type": "markdown",
   "id": "b37cce69",
   "metadata": {},
   "source": [
    "## Check NAs "
   ]
  },
  {
   "cell_type": "code",
   "execution_count": 13,
   "id": "3922c77f",
   "metadata": {
    "ExecuteTime": {
     "end_time": "2022-08-30T01:34:36.176525Z",
     "start_time": "2022-08-30T01:34:36.148642Z"
    }
   },
   "outputs": [
    {
     "data": {
      "text/plain": [
       "DEPT      0\n",
       "AC      122\n",
       "CALI    122\n",
       "DEN      45\n",
       "GR       12\n",
       "NEU      33\n",
       "RDEP      0\n",
       "RMED      0\n",
       "dtype: int64"
      ]
     },
     "execution_count": 13,
     "metadata": {},
     "output_type": "execute_result"
    }
   ],
   "source": [
    "df1.isna().sum()"
   ]
  },
  {
   "cell_type": "code",
   "execution_count": 14,
   "id": "68e64192",
   "metadata": {
    "ExecuteTime": {
     "end_time": "2022-08-30T01:34:36.362800Z",
     "start_time": "2022-08-30T01:34:36.333816Z"
    }
   },
   "outputs": [
    {
     "data": {
      "text/html": [
       "<div>\n",
       "<style scoped>\n",
       "    .dataframe tbody tr th:only-of-type {\n",
       "        vertical-align: middle;\n",
       "    }\n",
       "\n",
       "    .dataframe tbody tr th {\n",
       "        vertical-align: top;\n",
       "    }\n",
       "\n",
       "    .dataframe thead th {\n",
       "        text-align: right;\n",
       "    }\n",
       "</style>\n",
       "<table border=\"1\" class=\"dataframe\">\n",
       "  <thead>\n",
       "    <tr style=\"text-align: right;\">\n",
       "      <th></th>\n",
       "      <th>2663</th>\n",
       "    </tr>\n",
       "  </thead>\n",
       "  <tbody>\n",
       "    <tr>\n",
       "      <th>DEPT</th>\n",
       "      <td>4021.2752</td>\n",
       "    </tr>\n",
       "    <tr>\n",
       "      <th>AC</th>\n",
       "      <td>59.5899</td>\n",
       "    </tr>\n",
       "    <tr>\n",
       "      <th>CALI</th>\n",
       "      <td>9.5238</td>\n",
       "    </tr>\n",
       "    <tr>\n",
       "      <th>DEN</th>\n",
       "      <td>2.6559</td>\n",
       "    </tr>\n",
       "    <tr>\n",
       "      <th>GR</th>\n",
       "      <td>7.8933</td>\n",
       "    </tr>\n",
       "    <tr>\n",
       "      <th>NEU</th>\n",
       "      <td>4.2924</td>\n",
       "    </tr>\n",
       "    <tr>\n",
       "      <th>RDEP</th>\n",
       "      <td>6.7440</td>\n",
       "    </tr>\n",
       "    <tr>\n",
       "      <th>RMED</th>\n",
       "      <td>6.8325</td>\n",
       "    </tr>\n",
       "  </tbody>\n",
       "</table>\n",
       "</div>"
      ],
      "text/plain": [
       "           2663\n",
       "DEPT  4021.2752\n",
       "AC      59.5899\n",
       "CALI     9.5238\n",
       "DEN      2.6559\n",
       "GR       7.8933\n",
       "NEU      4.2924\n",
       "RDEP     6.7440\n",
       "RMED     6.8325"
      ]
     },
     "execution_count": 14,
     "metadata": {},
     "output_type": "execute_result"
    }
   ],
   "source": [
    "df1.sample().T"
   ]
  },
  {
   "cell_type": "markdown",
   "id": "24fd5f9b",
   "metadata": {},
   "source": [
    "## Replace NAs"
   ]
  },
  {
   "cell_type": "code",
   "execution_count": 15,
   "id": "e6224a46",
   "metadata": {
    "ExecuteTime": {
     "end_time": "2022-08-30T01:34:36.702373Z",
     "start_time": "2022-08-30T01:34:36.694674Z"
    }
   },
   "outputs": [],
   "source": [
    "#df1 = df1.dropna()"
   ]
  },
  {
   "cell_type": "code",
   "execution_count": 16,
   "id": "2eed421e",
   "metadata": {
    "ExecuteTime": {
     "end_time": "2022-08-30T01:34:36.925150Z",
     "start_time": "2022-08-30T01:34:36.913847Z"
    }
   },
   "outputs": [],
   "source": [
    "#df1.shape"
   ]
  },
  {
   "cell_type": "code",
   "execution_count": 17,
   "id": "fba73655",
   "metadata": {
    "ExecuteTime": {
     "end_time": "2022-08-30T01:34:37.100206Z",
     "start_time": "2022-08-30T01:34:37.087291Z"
    }
   },
   "outputs": [],
   "source": [
    "#print('Removed data: {:.2f}%'.format( 1-( df1.shape[0] / df_raw.shape[0] ) ) )"
   ]
  },
  {
   "cell_type": "code",
   "execution_count": 18,
   "id": "1441f00d",
   "metadata": {
    "ExecuteTime": {
     "end_time": "2022-08-30T01:34:37.298655Z",
     "start_time": "2022-08-30T01:34:37.277940Z"
    }
   },
   "outputs": [
    {
     "data": {
      "text/plain": [
       "DEPT      0\n",
       "AC      122\n",
       "CALI    122\n",
       "DEN      45\n",
       "GR       12\n",
       "NEU      33\n",
       "RDEP      0\n",
       "RMED      0\n",
       "dtype: int64"
      ]
     },
     "execution_count": 18,
     "metadata": {},
     "output_type": "execute_result"
    }
   ],
   "source": [
    "df1.isna().sum()"
   ]
  },
  {
   "cell_type": "markdown",
   "id": "d069ab92",
   "metadata": {},
   "source": [
    "## Data Describe"
   ]
  },
  {
   "cell_type": "code",
   "execution_count": 19,
   "id": "54f0e84a",
   "metadata": {
    "ExecuteTime": {
     "end_time": "2022-08-30T01:34:37.740423Z",
     "start_time": "2022-08-30T01:34:37.654551Z"
    }
   },
   "outputs": [
    {
     "data": {
      "text/html": [
       "<div>\n",
       "<style scoped>\n",
       "    .dataframe tbody tr th:only-of-type {\n",
       "        vertical-align: middle;\n",
       "    }\n",
       "\n",
       "    .dataframe tbody tr th {\n",
       "        vertical-align: top;\n",
       "    }\n",
       "\n",
       "    .dataframe thead th {\n",
       "        text-align: right;\n",
       "    }\n",
       "</style>\n",
       "<table border=\"1\" class=\"dataframe\">\n",
       "  <thead>\n",
       "    <tr style=\"text-align: right;\">\n",
       "      <th></th>\n",
       "      <th>DEPT</th>\n",
       "      <th>AC</th>\n",
       "      <th>CALI</th>\n",
       "      <th>DEN</th>\n",
       "      <th>GR</th>\n",
       "      <th>NEU</th>\n",
       "      <th>RDEP</th>\n",
       "      <th>RMED</th>\n",
       "    </tr>\n",
       "  </thead>\n",
       "  <tbody>\n",
       "    <tr>\n",
       "      <th>count</th>\n",
       "      <td>6701.000000</td>\n",
       "      <td>6579.000000</td>\n",
       "      <td>6579.000000</td>\n",
       "      <td>6656.000000</td>\n",
       "      <td>6689.000000</td>\n",
       "      <td>6668.000000</td>\n",
       "      <td>6701.000000</td>\n",
       "      <td>6701.000000</td>\n",
       "    </tr>\n",
       "    <tr>\n",
       "      <th>mean</th>\n",
       "      <td>4125.974000</td>\n",
       "      <td>78.313607</td>\n",
       "      <td>9.550656</td>\n",
       "      <td>2.459291</td>\n",
       "      <td>36.048563</td>\n",
       "      <td>17.986061</td>\n",
       "      <td>3.221012</td>\n",
       "      <td>3.081261</td>\n",
       "    </tr>\n",
       "    <tr>\n",
       "      <th>std</th>\n",
       "      <td>294.826397</td>\n",
       "      <td>17.009535</td>\n",
       "      <td>0.906267</td>\n",
       "      <td>0.162682</td>\n",
       "      <td>26.705519</td>\n",
       "      <td>11.694084</td>\n",
       "      <td>8.860387</td>\n",
       "      <td>6.306741</td>\n",
       "    </tr>\n",
       "    <tr>\n",
       "      <th>min</th>\n",
       "      <td>3615.434000</td>\n",
       "      <td>1.025100</td>\n",
       "      <td>6.000000</td>\n",
       "      <td>2.037700</td>\n",
       "      <td>2.766100</td>\n",
       "      <td>2.178300</td>\n",
       "      <td>0.250300</td>\n",
       "      <td>0.294700</td>\n",
       "    </tr>\n",
       "    <tr>\n",
       "      <th>25%</th>\n",
       "      <td>3870.704000</td>\n",
       "      <td>66.169300</td>\n",
       "      <td>9.142900</td>\n",
       "      <td>2.341250</td>\n",
       "      <td>14.852300</td>\n",
       "      <td>10.244475</td>\n",
       "      <td>0.800600</td>\n",
       "      <td>0.844800</td>\n",
       "    </tr>\n",
       "    <tr>\n",
       "      <th>50%</th>\n",
       "      <td>4125.974000</td>\n",
       "      <td>74.145900</td>\n",
       "      <td>9.523800</td>\n",
       "      <td>2.514200</td>\n",
       "      <td>32.142600</td>\n",
       "      <td>15.245100</td>\n",
       "      <td>1.770000</td>\n",
       "      <td>1.801400</td>\n",
       "    </tr>\n",
       "    <tr>\n",
       "      <th>75%</th>\n",
       "      <td>4381.244000</td>\n",
       "      <td>89.024250</td>\n",
       "      <td>9.904800</td>\n",
       "      <td>2.589800</td>\n",
       "      <td>50.901700</td>\n",
       "      <td>22.952525</td>\n",
       "      <td>3.394000</td>\n",
       "      <td>3.537300</td>\n",
       "    </tr>\n",
       "    <tr>\n",
       "      <th>max</th>\n",
       "      <td>4636.514000</td>\n",
       "      <td>149.218700</td>\n",
       "      <td>20.285700</td>\n",
       "      <td>3.001300</td>\n",
       "      <td>304.333700</td>\n",
       "      <td>146.347400</td>\n",
       "      <td>198.537100</td>\n",
       "      <td>115.635000</td>\n",
       "    </tr>\n",
       "  </tbody>\n",
       "</table>\n",
       "</div>"
      ],
      "text/plain": [
       "              DEPT           AC         CALI          DEN           GR  \\\n",
       "count  6701.000000  6579.000000  6579.000000  6656.000000  6689.000000   \n",
       "mean   4125.974000    78.313607     9.550656     2.459291    36.048563   \n",
       "std     294.826397    17.009535     0.906267     0.162682    26.705519   \n",
       "min    3615.434000     1.025100     6.000000     2.037700     2.766100   \n",
       "25%    3870.704000    66.169300     9.142900     2.341250    14.852300   \n",
       "50%    4125.974000    74.145900     9.523800     2.514200    32.142600   \n",
       "75%    4381.244000    89.024250     9.904800     2.589800    50.901700   \n",
       "max    4636.514000   149.218700    20.285700     3.001300   304.333700   \n",
       "\n",
       "               NEU         RDEP         RMED  \n",
       "count  6668.000000  6701.000000  6701.000000  \n",
       "mean     17.986061     3.221012     3.081261  \n",
       "std      11.694084     8.860387     6.306741  \n",
       "min       2.178300     0.250300     0.294700  \n",
       "25%      10.244475     0.800600     0.844800  \n",
       "50%      15.245100     1.770000     1.801400  \n",
       "75%      22.952525     3.394000     3.537300  \n",
       "max     146.347400   198.537100   115.635000  "
      ]
     },
     "execution_count": 19,
     "metadata": {},
     "output_type": "execute_result"
    }
   ],
   "source": [
    "df1.describe()"
   ]
  },
  {
   "cell_type": "markdown",
   "id": "1ab06b64",
   "metadata": {},
   "source": [
    "## Descriptive Statistical"
   ]
  },
  {
   "cell_type": "code",
   "execution_count": 20,
   "id": "51e1bc45",
   "metadata": {
    "ExecuteTime": {
     "end_time": "2022-08-30T01:34:38.066203Z",
     "start_time": "2022-08-30T01:34:38.052291Z"
    }
   },
   "outputs": [],
   "source": [
    "num_attributes = df1.select_dtypes('float64')"
   ]
  },
  {
   "cell_type": "code",
   "execution_count": 21,
   "id": "c1db25a9",
   "metadata": {
    "ExecuteTime": {
     "end_time": "2022-08-30T01:34:38.285783Z",
     "start_time": "2022-08-30T01:34:38.250927Z"
    }
   },
   "outputs": [
    {
     "data": {
      "text/html": [
       "<div>\n",
       "<style scoped>\n",
       "    .dataframe tbody tr th:only-of-type {\n",
       "        vertical-align: middle;\n",
       "    }\n",
       "\n",
       "    .dataframe tbody tr th {\n",
       "        vertical-align: top;\n",
       "    }\n",
       "\n",
       "    .dataframe thead th {\n",
       "        text-align: right;\n",
       "    }\n",
       "</style>\n",
       "<table border=\"1\" class=\"dataframe\">\n",
       "  <thead>\n",
       "    <tr style=\"text-align: right;\">\n",
       "      <th></th>\n",
       "      <th>DEPT</th>\n",
       "      <th>AC</th>\n",
       "      <th>CALI</th>\n",
       "      <th>DEN</th>\n",
       "      <th>GR</th>\n",
       "      <th>NEU</th>\n",
       "      <th>RDEP</th>\n",
       "      <th>RMED</th>\n",
       "    </tr>\n",
       "  </thead>\n",
       "  <tbody>\n",
       "    <tr>\n",
       "      <th>511</th>\n",
       "      <td>3693.3104</td>\n",
       "      <td>100.3522</td>\n",
       "      <td>8.7876</td>\n",
       "      <td>2.1792</td>\n",
       "      <td>31.1832</td>\n",
       "      <td>28.5062</td>\n",
       "      <td>0.4230</td>\n",
       "      <td>0.4813</td>\n",
       "    </tr>\n",
       "    <tr>\n",
       "      <th>5319</th>\n",
       "      <td>4426.0496</td>\n",
       "      <td>85.5738</td>\n",
       "      <td>8.8547</td>\n",
       "      <td>2.3025</td>\n",
       "      <td>53.8611</td>\n",
       "      <td>26.5727</td>\n",
       "      <td>0.5412</td>\n",
       "      <td>0.5708</td>\n",
       "    </tr>\n",
       "  </tbody>\n",
       "</table>\n",
       "</div>"
      ],
      "text/plain": [
       "           DEPT        AC    CALI     DEN       GR      NEU    RDEP    RMED\n",
       "511   3693.3104  100.3522  8.7876  2.1792  31.1832  28.5062  0.4230  0.4813\n",
       "5319  4426.0496   85.5738  8.8547  2.3025  53.8611  26.5727  0.5412  0.5708"
      ]
     },
     "execution_count": 21,
     "metadata": {},
     "output_type": "execute_result"
    }
   ],
   "source": [
    "num_attributes.sample(2)"
   ]
  },
  {
   "cell_type": "markdown",
   "id": "a63970bb",
   "metadata": {},
   "source": [
    "## Numerical Attributes"
   ]
  },
  {
   "cell_type": "code",
   "execution_count": 22,
   "id": "83e01744",
   "metadata": {
    "ExecuteTime": {
     "end_time": "2022-08-30T01:34:38.716732Z",
     "start_time": "2022-08-30T01:34:38.640775Z"
    }
   },
   "outputs": [],
   "source": [
    "# Central Tendency - Mean, median:\n",
    "\n",
    "ct1 = pd.DataFrame(num_attributes.apply(np.mean)).T\n",
    "ct2 = pd.DataFrame(num_attributes.apply(np.median)).T\n",
    "\n",
    "# Dispersion - std, min, max, range, skew, kurtosis:\n",
    "\n",
    "d1 = pd.DataFrame(num_attributes.apply( np.std)).T\n",
    "d2 = pd.DataFrame(num_attributes.apply( np.min)).T\n",
    "d3 = pd.DataFrame(num_attributes.apply( np.max)).T\n",
    "d4 = pd.DataFrame(num_attributes.apply( lambda x: x.max() - x.min() ) ).T\n",
    "d5 = pd.DataFrame(num_attributes.apply( lambda x: x.skew() ) ).T\n",
    "d6 = pd.DataFrame(num_attributes.apply( lambda x: x.kurtosis() ) ).T\n",
    "                  \n",
    "# Concatenate:\n",
    "m = pd.concat( [d2, d3, d4, ct1, ct2, d1, d5, d6] ).T.reset_index()\n",
    "m.columns = ['attributes','min','max','range','mean','median','std','skew','kurtosis']"
   ]
  },
  {
   "cell_type": "code",
   "execution_count": 23,
   "id": "7592d258",
   "metadata": {
    "ExecuteTime": {
     "end_time": "2022-08-30T01:34:38.876766Z",
     "start_time": "2022-08-30T01:34:38.834083Z"
    }
   },
   "outputs": [
    {
     "data": {
      "text/html": [
       "<div>\n",
       "<style scoped>\n",
       "    .dataframe tbody tr th:only-of-type {\n",
       "        vertical-align: middle;\n",
       "    }\n",
       "\n",
       "    .dataframe tbody tr th {\n",
       "        vertical-align: top;\n",
       "    }\n",
       "\n",
       "    .dataframe thead th {\n",
       "        text-align: right;\n",
       "    }\n",
       "</style>\n",
       "<table border=\"1\" class=\"dataframe\">\n",
       "  <thead>\n",
       "    <tr style=\"text-align: right;\">\n",
       "      <th></th>\n",
       "      <th>attributes</th>\n",
       "      <th>min</th>\n",
       "      <th>max</th>\n",
       "      <th>range</th>\n",
       "      <th>mean</th>\n",
       "      <th>median</th>\n",
       "      <th>std</th>\n",
       "      <th>skew</th>\n",
       "      <th>kurtosis</th>\n",
       "    </tr>\n",
       "  </thead>\n",
       "  <tbody>\n",
       "    <tr>\n",
       "      <th>0</th>\n",
       "      <td>DEPT</td>\n",
       "      <td>3615.4340</td>\n",
       "      <td>4636.5140</td>\n",
       "      <td>1021.0800</td>\n",
       "      <td>4125.974000</td>\n",
       "      <td>4125.9740</td>\n",
       "      <td>294.804397</td>\n",
       "      <td>-1.777894e-15</td>\n",
       "      <td>-1.200000</td>\n",
       "    </tr>\n",
       "    <tr>\n",
       "      <th>1</th>\n",
       "      <td>AC</td>\n",
       "      <td>1.0251</td>\n",
       "      <td>149.2187</td>\n",
       "      <td>148.1936</td>\n",
       "      <td>78.313607</td>\n",
       "      <td>NaN</td>\n",
       "      <td>17.008242</td>\n",
       "      <td>5.688211e-01</td>\n",
       "      <td>0.188815</td>\n",
       "    </tr>\n",
       "    <tr>\n",
       "      <th>2</th>\n",
       "      <td>CALI</td>\n",
       "      <td>6.0000</td>\n",
       "      <td>20.2857</td>\n",
       "      <td>14.2857</td>\n",
       "      <td>9.550656</td>\n",
       "      <td>NaN</td>\n",
       "      <td>0.906198</td>\n",
       "      <td>1.356733e+00</td>\n",
       "      <td>26.107515</td>\n",
       "    </tr>\n",
       "    <tr>\n",
       "      <th>3</th>\n",
       "      <td>DEN</td>\n",
       "      <td>2.0377</td>\n",
       "      <td>3.0013</td>\n",
       "      <td>0.9636</td>\n",
       "      <td>2.459291</td>\n",
       "      <td>NaN</td>\n",
       "      <td>0.162669</td>\n",
       "      <td>-7.807570e-01</td>\n",
       "      <td>-0.583874</td>\n",
       "    </tr>\n",
       "    <tr>\n",
       "      <th>4</th>\n",
       "      <td>GR</td>\n",
       "      <td>2.7661</td>\n",
       "      <td>304.3337</td>\n",
       "      <td>301.5676</td>\n",
       "      <td>36.048563</td>\n",
       "      <td>NaN</td>\n",
       "      <td>26.703523</td>\n",
       "      <td>3.509568e+00</td>\n",
       "      <td>27.005485</td>\n",
       "    </tr>\n",
       "    <tr>\n",
       "      <th>5</th>\n",
       "      <td>NEU</td>\n",
       "      <td>2.1783</td>\n",
       "      <td>146.3474</td>\n",
       "      <td>144.1691</td>\n",
       "      <td>17.986061</td>\n",
       "      <td>NaN</td>\n",
       "      <td>11.693207</td>\n",
       "      <td>2.324613e+00</td>\n",
       "      <td>9.520320</td>\n",
       "    </tr>\n",
       "    <tr>\n",
       "      <th>6</th>\n",
       "      <td>RDEP</td>\n",
       "      <td>0.2503</td>\n",
       "      <td>198.5371</td>\n",
       "      <td>198.2868</td>\n",
       "      <td>3.221012</td>\n",
       "      <td>1.7700</td>\n",
       "      <td>8.859726</td>\n",
       "      <td>1.293431e+01</td>\n",
       "      <td>193.265962</td>\n",
       "    </tr>\n",
       "    <tr>\n",
       "      <th>7</th>\n",
       "      <td>RMED</td>\n",
       "      <td>0.2947</td>\n",
       "      <td>115.6350</td>\n",
       "      <td>115.3403</td>\n",
       "      <td>3.081261</td>\n",
       "      <td>1.8014</td>\n",
       "      <td>6.306271</td>\n",
       "      <td>1.035734e+01</td>\n",
       "      <td>130.680492</td>\n",
       "    </tr>\n",
       "  </tbody>\n",
       "</table>\n",
       "</div>"
      ],
      "text/plain": [
       "  attributes        min        max      range         mean     median  \\\n",
       "0       DEPT  3615.4340  4636.5140  1021.0800  4125.974000  4125.9740   \n",
       "1         AC     1.0251   149.2187   148.1936    78.313607        NaN   \n",
       "2       CALI     6.0000    20.2857    14.2857     9.550656        NaN   \n",
       "3        DEN     2.0377     3.0013     0.9636     2.459291        NaN   \n",
       "4         GR     2.7661   304.3337   301.5676    36.048563        NaN   \n",
       "5        NEU     2.1783   146.3474   144.1691    17.986061        NaN   \n",
       "6       RDEP     0.2503   198.5371   198.2868     3.221012     1.7700   \n",
       "7       RMED     0.2947   115.6350   115.3403     3.081261     1.8014   \n",
       "\n",
       "          std          skew    kurtosis  \n",
       "0  294.804397 -1.777894e-15   -1.200000  \n",
       "1   17.008242  5.688211e-01    0.188815  \n",
       "2    0.906198  1.356733e+00   26.107515  \n",
       "3    0.162669 -7.807570e-01   -0.583874  \n",
       "4   26.703523  3.509568e+00   27.005485  \n",
       "5   11.693207  2.324613e+00    9.520320  \n",
       "6    8.859726  1.293431e+01  193.265962  \n",
       "7    6.306271  1.035734e+01  130.680492  "
      ]
     },
     "execution_count": 23,
     "metadata": {},
     "output_type": "execute_result"
    }
   ],
   "source": [
    "m"
   ]
  },
  {
   "cell_type": "markdown",
   "id": "1ecc3c2c",
   "metadata": {},
   "source": [
    "# Creating histograms Using Pandas"
   ]
  },
  {
   "cell_type": "code",
   "execution_count": 24,
   "id": "4ce0f325",
   "metadata": {
    "ExecuteTime": {
     "end_time": "2022-08-30T01:34:39.219808Z",
     "start_time": "2022-08-30T01:34:39.203676Z"
    }
   },
   "outputs": [
    {
     "data": {
      "text/plain": [
       "Index(['DEPT', 'AC', 'CALI', 'DEN', 'GR', 'NEU', 'RDEP', 'RMED'], dtype='object')"
      ]
     },
     "execution_count": 24,
     "metadata": {},
     "output_type": "execute_result"
    }
   ],
   "source": [
    "df1.columns"
   ]
  },
  {
   "cell_type": "code",
   "execution_count": 25,
   "id": "b2031d82",
   "metadata": {
    "ExecuteTime": {
     "end_time": "2022-08-30T01:34:39.850975Z",
     "start_time": "2022-08-30T01:34:39.383681Z"
    }
   },
   "outputs": [
    {
     "data": {
      "image/png": "[encoded data removed]",
      "text/plain": [
       "<Figure size 432x288 with 1 Axes>"
      ]
     },
     "metadata": {
      "needs_background": "light"
     },
     "output_type": "display_data"
    }
   ],
   "source": [
    "df1['GR'].plot(kind='hist')\n",
    "plt.show()"
   ]
  },
  {
   "cell_type": "code",
   "execution_count": 26,
   "id": "9550e695",
   "metadata": {
    "ExecuteTime": {
     "end_time": "2022-08-30T01:34:40.344447Z",
     "start_time": "2022-08-30T01:34:39.857733Z"
    }
   },
   "outputs": [
    {
     "data": {
      "image/png": "[encoded data removed]",
      "text/plain": [
       "<Figure size 432x288 with 1 Axes>"
      ]
     },
     "metadata": {
      "needs_background": "light"
     },
     "output_type": "display_data"
    }
   ],
   "source": [
    "plt.hist(df1['GR'], bins=30, edgecolor='black')\n",
    "plt.show()"
   ]
  },
  {
   "cell_type": "code",
   "execution_count": 27,
   "id": "dd01e9fb",
   "metadata": {
    "ExecuteTime": {
     "end_time": "2022-08-30T01:34:41.117462Z",
     "start_time": "2022-08-30T01:34:40.359056Z"
    }
   },
   "outputs": [
    {
     "data": {
      "image/png": "[encoded data removed]",
      "text/plain": [
       "<Figure size 432x288 with 1 Axes>"
      ]
     },
     "metadata": {
      "needs_background": "light"
     },
     "output_type": "display_data"
    }
   ],
   "source": [
    "plt.hist(df1['GR'], bins=30, color='red', alpha=0.5, edgecolor='black')\n",
    "plt.xlabel('Gamma Ray - API', fontsize=14)\n",
    "plt.ylabel('Frequency', fontsize=14)\n",
    "plt.xlim(0,200)\n",
    "plt.show()"
   ]
  },
  {
   "cell_type": "code",
   "execution_count": 28,
   "id": "fe8674fd",
   "metadata": {
    "ExecuteTime": {
     "end_time": "2022-08-30T01:34:42.674650Z",
     "start_time": "2022-08-30T01:34:41.131616Z"
    }
   },
   "outputs": [
    {
     "name": "stderr",
     "output_type": "stream",
     "text": [
      "/home/ehgeraldo/miniconda3/lib/python3.9/site-packages/scipy/__init__.py:146: UserWarning: A NumPy version >=1.16.5 and <1.23.0 is required for this version of SciPy (detected version 1.23.1\n",
      "  warnings.warn(f\"A NumPy version >={np_minversion} and <{np_maxversion}\"\n"
     ]
    },
    {
     "data": {
      "image/png": "[encoded data removed]",
      "text/plain": [
       "<Figure size 432x288 with 1 Axes>"
      ]
     },
     "metadata": {
      "needs_background": "light"
     },
     "output_type": "display_data"
    }
   ],
   "source": [
    "df1['GR'].plot(kind='hist',bins=30, color='red', alpha=0.5, density=True, edgecolor='black')\n",
    "df1['GR'].plot(kind='kde', color='black')\n",
    "\n",
    "plt.xlabel('Gamma Ray - API', fontsize=14)\n",
    "plt.ylabel('Density', fontsize=14)\n",
    "plt.xlim(0,200)\n",
    "plt.show()"
   ]
  },
  {
   "cell_type": "code",
   "execution_count": 29,
   "id": "65993e10",
   "metadata": {
    "ExecuteTime": {
     "end_time": "2022-08-30T01:34:42.702542Z",
     "start_time": "2022-08-30T01:34:42.682492Z"
    }
   },
   "outputs": [],
   "source": [
    "mean = df1['GR'].mean()\n",
    "p5   = df1['GR'].quantile(0.05)\n",
    "p95  = df1['GR'].quantile(0.95)"
   ]
  },
  {
   "cell_type": "code",
   "execution_count": 30,
   "id": "2052be14",
   "metadata": {
    "ExecuteTime": {
     "end_time": "2022-08-30T01:34:43.506658Z",
     "start_time": "2022-08-30T01:34:42.715645Z"
    }
   },
   "outputs": [
    {
     "data": {
      "image/png": "[encoded data removed]",
      "text/plain": [
       "<Figure size 432x288 with 1 Axes>"
      ]
     },
     "metadata": {
      "needs_background": "light"
     },
     "output_type": "display_data"
    }
   ],
   "source": [
    "df1['GR'].plot(kind='hist', bins=30, color='red', alpha=0.5, edgecolor='black')\n",
    "plt.xlabel('Gamma Ray', fontsize=14)\n",
    "plt.ylabel('Frequency', fontsize=14)\n",
    "plt.xlim(0,200)\n",
    "\n",
    "plt.axvline(mean, color='blue',  label='mean')\n",
    "plt.axvline(p5,   color='green', label='5th Percent')\n",
    "plt.axvline(p95,  color='blue',  label='95th Percent')\n",
    "\n",
    "plt.legend()\n",
    "plt.show()"
   ]
  },
  {
   "cell_type": "code",
   "execution_count": null,
   "id": "8aac86e3",
   "metadata": {},
   "outputs": [],
   "source": []
  },
  {
   "cell_type": "code",
   "execution_count": null,
   "id": "175c3609",
   "metadata": {},
   "outputs": [],
   "source": []
  },
  {
   "cell_type": "code",
   "execution_count": null,
   "id": "55873cb1",
   "metadata": {},
   "outputs": [],
   "source": []
  }
 ],
 "metadata": {
  "kernelspec": {
   "display_name": "Python 3 (ipykernel)",
   "language": "python",
   "name": "python3"
  },
  "language_info": {
   "codemirror_mode": {
    "name": "ipython",
    "version": 3
   },
   "file_extension": ".py",
   "mimetype": "text/x-python",
   "name": "python",
   "nbconvert_exporter": "python",
   "pygments_lexer": "ipython3",
   "version": "3.9.5"
  },
  "toc": {
   "base_numbering": 1,
   "nav_menu": {},
   "number_sections": true,
   "sideBar": true,
   "skip_h1_title": false,
   "title_cell": "Table of Contents",
   "title_sidebar": "Contents",
   "toc_cell": false,
   "toc_position": {},
   "toc_section_display": true,
   "toc_window_display": false
  }
 },
 "nbformat": 4,
 "nbformat_minor": 5
}
