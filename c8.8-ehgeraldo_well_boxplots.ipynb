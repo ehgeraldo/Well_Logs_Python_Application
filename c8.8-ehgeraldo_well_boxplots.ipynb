{
 "cells": [
  {
   "cell_type": "markdown",
   "id": "80b0dfd8",
   "metadata": {},
   "source": [
    "# Well Log plot - Plotly"
   ]
  },
  {
   "cell_type": "markdown",
   "id": "5b857918",
   "metadata": {},
   "source": [
    "# Planning\n",
    "\n",
    "\n",
    "# Solution at (IOT)\n",
    "\n",
    "\n",
    "# Input\n",
    "* We choose an oil well with open source to apply visualization methods with python libraries.\n",
    "\n",
    "\n",
    "# Output\n",
    "* Jupyter notebook tutorial to analysis\n",
    "\n",
    "# Tasks\n",
    "* From https://www.nlog.nl/datacenter "
   ]
  },
  {
   "cell_type": "markdown",
   "id": "b5ad3706",
   "metadata": {},
   "source": [
    "# Imports"
   ]
  },
  {
   "cell_type": "code",
   "execution_count": 1,
   "id": "53cf9af6",
   "metadata": {
    "ExecuteTime": {
     "end_time": "2022-09-01T11:36:31.788447Z",
     "start_time": "2022-09-01T11:36:29.820515Z"
    }
   },
   "outputs": [],
   "source": [
    "import pandas            as pd\n",
    "import numpy             as np\n",
    "\n",
    "import matplotlib.pyplot as plt\n",
    "\n",
    "import lasio"
   ]
  },
  {
   "cell_type": "code",
   "execution_count": 2,
   "id": "bcce7ebb",
   "metadata": {
    "ExecuteTime": {
     "end_time": "2022-09-01T11:36:32.550842Z",
     "start_time": "2022-09-01T11:36:32.521296Z"
    }
   },
   "outputs": [
    {
     "data": {
      "text/plain": [
       "'/home/ehgeraldo/repos/Well_Log_Plots_Applications'"
      ]
     },
     "execution_count": 2,
     "metadata": {},
     "output_type": "execute_result"
    }
   ],
   "source": [
    "pwd"
   ]
  },
  {
   "cell_type": "code",
   "execution_count": 3,
   "id": "06728a74",
   "metadata": {
    "ExecuteTime": {
     "end_time": "2022-09-01T11:36:34.155481Z",
     "start_time": "2022-09-01T11:36:34.015929Z"
    }
   },
   "outputs": [
    {
     "name": "stdout",
     "output_type": "stream",
     "text": [
      "total 8240\r\n",
      "-rw-rw-r-- 1 ehgeraldo ehgeraldo  479237 ago 29 22:33 c0.0-ehgeraldo-planning.ipynb\r\n",
      "-rw-rw-r-- 1 ehgeraldo ehgeraldo   95981 ago 29 22:34 c1.1-ehgeraldo-planning_histogram.ipynb\r\n",
      "-rw-rw-r-- 1 ehgeraldo ehgeraldo  398435 ago 29 22:37 c2.2-ehgeraldo-planning_scatterplot.ipynb\r\n",
      "-rw-rw-r-- 1 ehgeraldo ehgeraldo  395869 ago 29 22:43 c3.3-ehgeraldo_matplotlib_subplots.ipynb\r\n",
      "-rw-rw-r-- 1 ehgeraldo ehgeraldo 5739415 ago 27 17:21 c4.4-ehgeraldo_matplotlib.ipynb\r\n",
      "-rw-rw-r-- 1 ehgeraldo ehgeraldo  201758 ago 29 17:10 c5.5-ehgeraldo_shading.ipynb\r\n",
      "-rw-rw-r-- 1 ehgeraldo ehgeraldo  247083 ago 29 22:30 c6.6-ehgeraldo_matplotlib_subplot.ipynb\r\n",
      "-rw-rw-r-- 1 ehgeraldo ehgeraldo  803860 ago 30 16:10 c7.7-ehgeraldo_well_locations.ipynb\r\n",
      "-rw-rw-r-- 1 ehgeraldo ehgeraldo   46921 ago 31 22:16 c8.8-ehgeraldo_well_boxplots.ipynb\r\n",
      "drwxrwxr-x 2 ehgeraldo ehgeraldo    4096 ago 30 10:42 \u001b[0m\u001b[01;34mdata\u001b[0m/\r\n"
     ]
    }
   ],
   "source": [
    "ls -l"
   ]
  },
  {
   "cell_type": "code",
   "execution_count": 4,
   "id": "e36f67bf",
   "metadata": {
    "ExecuteTime": {
     "end_time": "2022-09-01T11:36:36.311694Z",
     "start_time": "2022-09-01T11:36:35.823931Z"
    }
   },
   "outputs": [],
   "source": [
    "df_raw = lasio.read('/home/ehgeraldo/repos/Well_Log_Plots/data/15-9-19_SR_COMP.LAS').df()"
   ]
  },
  {
   "cell_type": "markdown",
   "id": "d4798e94",
   "metadata": {},
   "source": [
    "## Data dimensions"
   ]
  },
  {
   "cell_type": "code",
   "execution_count": 5,
   "id": "cd5fa797",
   "metadata": {
    "ExecuteTime": {
     "end_time": "2022-09-01T11:36:37.912369Z",
     "start_time": "2022-09-01T11:36:37.896103Z"
    }
   },
   "outputs": [
    {
     "name": "stdout",
     "output_type": "stream",
     "text": [
      "Number of rows: 6701\n",
      "Number of cols: 7\n"
     ]
    }
   ],
   "source": [
    "print('Number of rows: {}'.format(df_raw.shape[0]))\n",
    "print('Number of cols: {}'.format(df_raw.shape[1]))"
   ]
  },
  {
   "cell_type": "markdown",
   "id": "cfa1d204",
   "metadata": {},
   "source": [
    "## Data types"
   ]
  },
  {
   "cell_type": "code",
   "execution_count": 6,
   "id": "b30c14ec",
   "metadata": {
    "ExecuteTime": {
     "end_time": "2022-09-01T11:36:39.720394Z",
     "start_time": "2022-09-01T11:36:39.697550Z"
    }
   },
   "outputs": [
    {
     "data": {
      "text/plain": [
       "AC      float64\n",
       "CALI    float64\n",
       "DEN     float64\n",
       "GR      float64\n",
       "NEU     float64\n",
       "RDEP    float64\n",
       "RMED    float64\n",
       "dtype: object"
      ]
     },
     "execution_count": 6,
     "metadata": {},
     "output_type": "execute_result"
    }
   ],
   "source": [
    "df_raw.dtypes"
   ]
  },
  {
   "cell_type": "markdown",
   "id": "b37cce69",
   "metadata": {},
   "source": [
    "## Check NAs "
   ]
  },
  {
   "cell_type": "code",
   "execution_count": 7,
   "id": "3922c77f",
   "metadata": {
    "ExecuteTime": {
     "end_time": "2022-09-01T11:36:40.276614Z",
     "start_time": "2022-09-01T11:36:40.249668Z"
    }
   },
   "outputs": [
    {
     "data": {
      "text/plain": [
       "AC      122\n",
       "CALI    122\n",
       "DEN      45\n",
       "GR       12\n",
       "NEU      33\n",
       "RDEP      0\n",
       "RMED      0\n",
       "dtype: int64"
      ]
     },
     "execution_count": 7,
     "metadata": {},
     "output_type": "execute_result"
    }
   ],
   "source": [
    "df_raw.isna().sum()"
   ]
  },
  {
   "cell_type": "code",
   "execution_count": 8,
   "id": "c9f20252",
   "metadata": {
    "ExecuteTime": {
     "end_time": "2022-09-01T11:36:40.544922Z",
     "start_time": "2022-09-01T11:36:40.522069Z"
    }
   },
   "outputs": [],
   "source": [
    "df_raw.dropna(inplace=True)"
   ]
  },
  {
   "cell_type": "code",
   "execution_count": 9,
   "id": "68e64192",
   "metadata": {
    "ExecuteTime": {
     "end_time": "2022-09-01T11:36:40.819540Z",
     "start_time": "2022-09-01T11:36:40.782805Z"
    }
   },
   "outputs": [
    {
     "data": {
      "text/html": [
       "<div>\n",
       "<style scoped>\n",
       "    .dataframe tbody tr th:only-of-type {\n",
       "        vertical-align: middle;\n",
       "    }\n",
       "\n",
       "    .dataframe tbody tr th {\n",
       "        vertical-align: top;\n",
       "    }\n",
       "\n",
       "    .dataframe thead th {\n",
       "        text-align: right;\n",
       "    }\n",
       "</style>\n",
       "<table border=\"1\" class=\"dataframe\">\n",
       "  <thead>\n",
       "    <tr style=\"text-align: right;\">\n",
       "      <th>DEPT</th>\n",
       "      <th>4029.8096</th>\n",
       "    </tr>\n",
       "  </thead>\n",
       "  <tbody>\n",
       "    <tr>\n",
       "      <th>AC</th>\n",
       "      <td>58.9872</td>\n",
       "    </tr>\n",
       "    <tr>\n",
       "      <th>CALI</th>\n",
       "      <td>9.5238</td>\n",
       "    </tr>\n",
       "    <tr>\n",
       "      <th>DEN</th>\n",
       "      <td>2.6680</td>\n",
       "    </tr>\n",
       "    <tr>\n",
       "      <th>GR</th>\n",
       "      <td>10.4433</td>\n",
       "    </tr>\n",
       "    <tr>\n",
       "      <th>NEU</th>\n",
       "      <td>4.0616</td>\n",
       "    </tr>\n",
       "    <tr>\n",
       "      <th>RDEP</th>\n",
       "      <td>6.0940</td>\n",
       "    </tr>\n",
       "    <tr>\n",
       "      <th>RMED</th>\n",
       "      <td>7.9869</td>\n",
       "    </tr>\n",
       "  </tbody>\n",
       "</table>\n",
       "</div>"
      ],
      "text/plain": [
       "DEPT  4029.8096\n",
       "AC      58.9872\n",
       "CALI     9.5238\n",
       "DEN      2.6680\n",
       "GR      10.4433\n",
       "NEU      4.0616\n",
       "RDEP     6.0940\n",
       "RMED     7.9869"
      ]
     },
     "execution_count": 9,
     "metadata": {},
     "output_type": "execute_result"
    }
   ],
   "source": [
    "df_raw.sample().T"
   ]
  },
  {
   "cell_type": "markdown",
   "id": "d069ab92",
   "metadata": {},
   "source": [
    "## Data Describe"
   ]
  },
  {
   "cell_type": "code",
   "execution_count": 10,
   "id": "54f0e84a",
   "metadata": {
    "ExecuteTime": {
     "end_time": "2022-09-01T11:36:41.281778Z",
     "start_time": "2022-09-01T11:36:41.188543Z"
    }
   },
   "outputs": [
    {
     "data": {
      "text/html": [
       "<div>\n",
       "<style scoped>\n",
       "    .dataframe tbody tr th:only-of-type {\n",
       "        vertical-align: middle;\n",
       "    }\n",
       "\n",
       "    .dataframe tbody tr th {\n",
       "        vertical-align: top;\n",
       "    }\n",
       "\n",
       "    .dataframe thead th {\n",
       "        text-align: right;\n",
       "    }\n",
       "</style>\n",
       "<table border=\"1\" class=\"dataframe\">\n",
       "  <thead>\n",
       "    <tr style=\"text-align: right;\">\n",
       "      <th></th>\n",
       "      <th>AC</th>\n",
       "      <th>CALI</th>\n",
       "      <th>DEN</th>\n",
       "      <th>GR</th>\n",
       "      <th>NEU</th>\n",
       "      <th>RDEP</th>\n",
       "      <th>RMED</th>\n",
       "    </tr>\n",
       "  </thead>\n",
       "  <tbody>\n",
       "    <tr>\n",
       "      <th>count</th>\n",
       "      <td>6579.000000</td>\n",
       "      <td>6579.000000</td>\n",
       "      <td>6579.000000</td>\n",
       "      <td>6579.000000</td>\n",
       "      <td>6579.000000</td>\n",
       "      <td>6579.000000</td>\n",
       "      <td>6579.000000</td>\n",
       "    </tr>\n",
       "    <tr>\n",
       "      <th>mean</th>\n",
       "      <td>78.313607</td>\n",
       "      <td>9.550656</td>\n",
       "      <td>2.459512</td>\n",
       "      <td>35.814045</td>\n",
       "      <td>17.989428</td>\n",
       "      <td>3.257043</td>\n",
       "      <td>3.117874</td>\n",
       "    </tr>\n",
       "    <tr>\n",
       "      <th>std</th>\n",
       "      <td>17.009535</td>\n",
       "      <td>0.906267</td>\n",
       "      <td>0.163524</td>\n",
       "      <td>26.848476</td>\n",
       "      <td>11.770996</td>\n",
       "      <td>8.937792</td>\n",
       "      <td>6.358822</td>\n",
       "    </tr>\n",
       "    <tr>\n",
       "      <th>min</th>\n",
       "      <td>1.025100</td>\n",
       "      <td>6.000000</td>\n",
       "      <td>2.037700</td>\n",
       "      <td>2.766100</td>\n",
       "      <td>2.178300</td>\n",
       "      <td>0.250300</td>\n",
       "      <td>0.294700</td>\n",
       "    </tr>\n",
       "    <tr>\n",
       "      <th>25%</th>\n",
       "      <td>66.169300</td>\n",
       "      <td>9.142900</td>\n",
       "      <td>2.339150</td>\n",
       "      <td>14.567300</td>\n",
       "      <td>10.156650</td>\n",
       "      <td>0.794950</td>\n",
       "      <td>0.846850</td>\n",
       "    </tr>\n",
       "    <tr>\n",
       "      <th>50%</th>\n",
       "      <td>74.145900</td>\n",
       "      <td>9.523800</td>\n",
       "      <td>2.515400</td>\n",
       "      <td>31.706400</td>\n",
       "      <td>15.158800</td>\n",
       "      <td>1.813600</td>\n",
       "      <td>1.849500</td>\n",
       "    </tr>\n",
       "    <tr>\n",
       "      <th>75%</th>\n",
       "      <td>89.024250</td>\n",
       "      <td>9.904800</td>\n",
       "      <td>2.590450</td>\n",
       "      <td>50.767000</td>\n",
       "      <td>23.103300</td>\n",
       "      <td>3.406250</td>\n",
       "      <td>3.587400</td>\n",
       "    </tr>\n",
       "    <tr>\n",
       "      <th>max</th>\n",
       "      <td>149.218700</td>\n",
       "      <td>20.285700</td>\n",
       "      <td>3.001300</td>\n",
       "      <td>304.333700</td>\n",
       "      <td>146.347400</td>\n",
       "      <td>198.537100</td>\n",
       "      <td>115.635000</td>\n",
       "    </tr>\n",
       "  </tbody>\n",
       "</table>\n",
       "</div>"
      ],
      "text/plain": [
       "                AC         CALI          DEN           GR          NEU  \\\n",
       "count  6579.000000  6579.000000  6579.000000  6579.000000  6579.000000   \n",
       "mean     78.313607     9.550656     2.459512    35.814045    17.989428   \n",
       "std      17.009535     0.906267     0.163524    26.848476    11.770996   \n",
       "min       1.025100     6.000000     2.037700     2.766100     2.178300   \n",
       "25%      66.169300     9.142900     2.339150    14.567300    10.156650   \n",
       "50%      74.145900     9.523800     2.515400    31.706400    15.158800   \n",
       "75%      89.024250     9.904800     2.590450    50.767000    23.103300   \n",
       "max     149.218700    20.285700     3.001300   304.333700   146.347400   \n",
       "\n",
       "              RDEP         RMED  \n",
       "count  6579.000000  6579.000000  \n",
       "mean      3.257043     3.117874  \n",
       "std       8.937792     6.358822  \n",
       "min       0.250300     0.294700  \n",
       "25%       0.794950     0.846850  \n",
       "50%       1.813600     1.849500  \n",
       "75%       3.406250     3.587400  \n",
       "max     198.537100   115.635000  "
      ]
     },
     "execution_count": 10,
     "metadata": {},
     "output_type": "execute_result"
    }
   ],
   "source": [
    "df_raw.describe()"
   ]
  },
  {
   "cell_type": "markdown",
   "id": "1ab06b64",
   "metadata": {},
   "source": [
    "## Descriptive Statistical"
   ]
  },
  {
   "cell_type": "code",
   "execution_count": 11,
   "id": "51e1bc45",
   "metadata": {
    "ExecuteTime": {
     "end_time": "2022-09-01T11:36:41.715758Z",
     "start_time": "2022-09-01T11:36:41.701940Z"
    }
   },
   "outputs": [],
   "source": [
    "num_attributes = df_raw.select_dtypes('float64')"
   ]
  },
  {
   "cell_type": "code",
   "execution_count": 12,
   "id": "c1db25a9",
   "metadata": {
    "ExecuteTime": {
     "end_time": "2022-09-01T11:36:42.200125Z",
     "start_time": "2022-09-01T11:36:42.159795Z"
    }
   },
   "outputs": [
    {
     "data": {
      "text/html": [
       "<div>\n",
       "<style scoped>\n",
       "    .dataframe tbody tr th:only-of-type {\n",
       "        vertical-align: middle;\n",
       "    }\n",
       "\n",
       "    .dataframe tbody tr th {\n",
       "        vertical-align: top;\n",
       "    }\n",
       "\n",
       "    .dataframe thead th {\n",
       "        text-align: right;\n",
       "    }\n",
       "</style>\n",
       "<table border=\"1\" class=\"dataframe\">\n",
       "  <thead>\n",
       "    <tr style=\"text-align: right;\">\n",
       "      <th></th>\n",
       "      <th>AC</th>\n",
       "      <th>CALI</th>\n",
       "      <th>DEN</th>\n",
       "      <th>GR</th>\n",
       "      <th>NEU</th>\n",
       "      <th>RDEP</th>\n",
       "      <th>RMED</th>\n",
       "    </tr>\n",
       "    <tr>\n",
       "      <th>DEPT</th>\n",
       "      <th></th>\n",
       "      <th></th>\n",
       "      <th></th>\n",
       "      <th></th>\n",
       "      <th></th>\n",
       "      <th></th>\n",
       "      <th></th>\n",
       "    </tr>\n",
       "  </thead>\n",
       "  <tbody>\n",
       "    <tr>\n",
       "      <th>3658.8680</th>\n",
       "      <td>100.8148</td>\n",
       "      <td>8.9524</td>\n",
       "      <td>2.1573</td>\n",
       "      <td>26.6100</td>\n",
       "      <td>30.0620</td>\n",
       "      <td>0.4127</td>\n",
       "      <td>0.5072</td>\n",
       "    </tr>\n",
       "    <tr>\n",
       "      <th>4381.5488</th>\n",
       "      <td>69.1013</td>\n",
       "      <td>10.2857</td>\n",
       "      <td>2.5500</td>\n",
       "      <td>54.1428</td>\n",
       "      <td>18.1161</td>\n",
       "      <td>1.6930</td>\n",
       "      <td>1.5403</td>\n",
       "    </tr>\n",
       "  </tbody>\n",
       "</table>\n",
       "</div>"
      ],
      "text/plain": [
       "                 AC     CALI     DEN       GR      NEU    RDEP    RMED\n",
       "DEPT                                                                  \n",
       "3658.8680  100.8148   8.9524  2.1573  26.6100  30.0620  0.4127  0.5072\n",
       "4381.5488   69.1013  10.2857  2.5500  54.1428  18.1161  1.6930  1.5403"
      ]
     },
     "execution_count": 12,
     "metadata": {},
     "output_type": "execute_result"
    }
   ],
   "source": [
    "num_attributes.sample(2)"
   ]
  },
  {
   "cell_type": "markdown",
   "id": "a63970bb",
   "metadata": {},
   "source": [
    "## Numerical Attributes"
   ]
  },
  {
   "cell_type": "code",
   "execution_count": 13,
   "id": "83e01744",
   "metadata": {
    "ExecuteTime": {
     "end_time": "2022-09-01T11:36:42.739463Z",
     "start_time": "2022-09-01T11:36:42.657430Z"
    }
   },
   "outputs": [],
   "source": [
    "# Central Tendency - Mean, median:\n",
    "\n",
    "ct1 = pd.DataFrame(num_attributes.apply(np.mean)).T\n",
    "ct2 = pd.DataFrame(num_attributes.apply(np.median)).T\n",
    "\n",
    "# Dispersion - std, min, max, range, skew, kurtosis:\n",
    "\n",
    "d1 = pd.DataFrame(num_attributes.apply( np.std)).T\n",
    "d2 = pd.DataFrame(num_attributes.apply( np.min)).T\n",
    "d3 = pd.DataFrame(num_attributes.apply( np.max)).T\n",
    "d4 = pd.DataFrame(num_attributes.apply( lambda x: x.max() - x.min() ) ).T\n",
    "d5 = pd.DataFrame(num_attributes.apply( lambda x: x.skew() ) ).T\n",
    "d6 = pd.DataFrame(num_attributes.apply( lambda x: x.kurtosis() ) ).T\n",
    "                  \n",
    "# Concatenate:\n",
    "m = pd.concat( [d2, d3, d4, ct1, ct2, d1, d5, d6] ).T.reset_index()\n",
    "m.columns = ['attributes','min','max','range','mean','median','std','skew','kurtosis']"
   ]
  },
  {
   "cell_type": "code",
   "execution_count": 14,
   "id": "7592d258",
   "metadata": {
    "ExecuteTime": {
     "end_time": "2022-09-01T11:36:42.957714Z",
     "start_time": "2022-09-01T11:36:42.910020Z"
    }
   },
   "outputs": [
    {
     "data": {
      "text/html": [
       "<div>\n",
       "<style scoped>\n",
       "    .dataframe tbody tr th:only-of-type {\n",
       "        vertical-align: middle;\n",
       "    }\n",
       "\n",
       "    .dataframe tbody tr th {\n",
       "        vertical-align: top;\n",
       "    }\n",
       "\n",
       "    .dataframe thead th {\n",
       "        text-align: right;\n",
       "    }\n",
       "</style>\n",
       "<table border=\"1\" class=\"dataframe\">\n",
       "  <thead>\n",
       "    <tr style=\"text-align: right;\">\n",
       "      <th></th>\n",
       "      <th>attributes</th>\n",
       "      <th>min</th>\n",
       "      <th>max</th>\n",
       "      <th>range</th>\n",
       "      <th>mean</th>\n",
       "      <th>median</th>\n",
       "      <th>std</th>\n",
       "      <th>skew</th>\n",
       "      <th>kurtosis</th>\n",
       "    </tr>\n",
       "  </thead>\n",
       "  <tbody>\n",
       "    <tr>\n",
       "      <th>0</th>\n",
       "      <td>AC</td>\n",
       "      <td>1.0251</td>\n",
       "      <td>149.2187</td>\n",
       "      <td>148.1936</td>\n",
       "      <td>78.313607</td>\n",
       "      <td>74.1459</td>\n",
       "      <td>17.008242</td>\n",
       "      <td>0.568821</td>\n",
       "      <td>0.188815</td>\n",
       "    </tr>\n",
       "    <tr>\n",
       "      <th>1</th>\n",
       "      <td>CALI</td>\n",
       "      <td>6.0000</td>\n",
       "      <td>20.2857</td>\n",
       "      <td>14.2857</td>\n",
       "      <td>9.550656</td>\n",
       "      <td>9.5238</td>\n",
       "      <td>0.906198</td>\n",
       "      <td>1.356733</td>\n",
       "      <td>26.107515</td>\n",
       "    </tr>\n",
       "    <tr>\n",
       "      <th>2</th>\n",
       "      <td>DEN</td>\n",
       "      <td>2.0377</td>\n",
       "      <td>3.0013</td>\n",
       "      <td>0.9636</td>\n",
       "      <td>2.459512</td>\n",
       "      <td>2.5154</td>\n",
       "      <td>0.163511</td>\n",
       "      <td>-0.781671</td>\n",
       "      <td>-0.601550</td>\n",
       "    </tr>\n",
       "    <tr>\n",
       "      <th>3</th>\n",
       "      <td>GR</td>\n",
       "      <td>2.7661</td>\n",
       "      <td>304.3337</td>\n",
       "      <td>301.5676</td>\n",
       "      <td>35.814045</td>\n",
       "      <td>31.7064</td>\n",
       "      <td>26.846435</td>\n",
       "      <td>3.532985</td>\n",
       "      <td>26.981597</td>\n",
       "    </tr>\n",
       "    <tr>\n",
       "      <th>4</th>\n",
       "      <td>NEU</td>\n",
       "      <td>2.1783</td>\n",
       "      <td>146.3474</td>\n",
       "      <td>144.1691</td>\n",
       "      <td>17.989428</td>\n",
       "      <td>15.1588</td>\n",
       "      <td>11.770101</td>\n",
       "      <td>2.309390</td>\n",
       "      <td>9.358745</td>\n",
       "    </tr>\n",
       "    <tr>\n",
       "      <th>5</th>\n",
       "      <td>RDEP</td>\n",
       "      <td>0.2503</td>\n",
       "      <td>198.5371</td>\n",
       "      <td>198.2868</td>\n",
       "      <td>3.257043</td>\n",
       "      <td>1.8136</td>\n",
       "      <td>8.937113</td>\n",
       "      <td>12.823084</td>\n",
       "      <td>189.866496</td>\n",
       "    </tr>\n",
       "    <tr>\n",
       "      <th>6</th>\n",
       "      <td>RMED</td>\n",
       "      <td>0.2947</td>\n",
       "      <td>115.6350</td>\n",
       "      <td>115.3403</td>\n",
       "      <td>3.117874</td>\n",
       "      <td>1.8495</td>\n",
       "      <td>6.358339</td>\n",
       "      <td>10.275765</td>\n",
       "      <td>128.518434</td>\n",
       "    </tr>\n",
       "  </tbody>\n",
       "</table>\n",
       "</div>"
      ],
      "text/plain": [
       "  attributes     min       max     range       mean   median        std  \\\n",
       "0         AC  1.0251  149.2187  148.1936  78.313607  74.1459  17.008242   \n",
       "1       CALI  6.0000   20.2857   14.2857   9.550656   9.5238   0.906198   \n",
       "2        DEN  2.0377    3.0013    0.9636   2.459512   2.5154   0.163511   \n",
       "3         GR  2.7661  304.3337  301.5676  35.814045  31.7064  26.846435   \n",
       "4        NEU  2.1783  146.3474  144.1691  17.989428  15.1588  11.770101   \n",
       "5       RDEP  0.2503  198.5371  198.2868   3.257043   1.8136   8.937113   \n",
       "6       RMED  0.2947  115.6350  115.3403   3.117874   1.8495   6.358339   \n",
       "\n",
       "        skew    kurtosis  \n",
       "0   0.568821    0.188815  \n",
       "1   1.356733   26.107515  \n",
       "2  -0.781671   -0.601550  \n",
       "3   3.532985   26.981597  \n",
       "4   2.309390    9.358745  \n",
       "5  12.823084  189.866496  \n",
       "6  10.275765  128.518434  "
      ]
     },
     "execution_count": 14,
     "metadata": {},
     "output_type": "execute_result"
    }
   ],
   "source": [
    "m"
   ]
  },
  {
   "cell_type": "markdown",
   "id": "1ecc3c2c",
   "metadata": {},
   "source": [
    "## Data Plotting"
   ]
  },
  {
   "cell_type": "code",
   "execution_count": 15,
   "id": "a537b52a",
   "metadata": {
    "ExecuteTime": {
     "end_time": "2022-09-01T11:36:43.537603Z",
     "start_time": "2022-09-01T11:36:43.515640Z"
    }
   },
   "outputs": [
    {
     "data": {
      "text/plain": [
       "Index(['AC', 'CALI', 'DEN', 'GR', 'NEU', 'RDEP', 'RMED'], dtype='object')"
      ]
     },
     "execution_count": 15,
     "metadata": {},
     "output_type": "execute_result"
    }
   ],
   "source": [
    "df_raw.columns"
   ]
  },
  {
   "cell_type": "code",
   "execution_count": 21,
   "id": "c5521324",
   "metadata": {
    "ExecuteTime": {
     "end_time": "2022-09-01T11:37:46.421950Z",
     "start_time": "2022-09-01T11:37:46.135069Z"
    }
   },
   "outputs": [
    {
     "data": {
      "text/plain": [
       "<AxesSubplot:>"
      ]
     },
     "execution_count": 21,
     "metadata": {},
     "output_type": "execute_result"
    },
    {
     "data": {
      "image/png": "[encoded data removed]",
      "text/plain": [
       "<Figure size 432x288 with 1 Axes>"
      ]
     },
     "metadata": {
      "needs_background": "light"
     },
     "output_type": "display_data"
    }
   ],
   "source": [
    "# Gamma box ploting\n",
    "\n",
    "df_raw['GR'].plot(kind='box')"
   ]
  },
  {
   "cell_type": "code",
   "execution_count": 23,
   "id": "a86853c6",
   "metadata": {
    "ExecuteTime": {
     "end_time": "2022-09-01T11:38:25.798305Z",
     "start_time": "2022-09-01T11:38:25.514326Z"
    }
   },
   "outputs": [
    {
     "data": {
      "text/plain": [
       "<AxesSubplot:>"
      ]
     },
     "execution_count": 23,
     "metadata": {},
     "output_type": "execute_result"
    },
    {
     "data": {
      "image/png": "[encoded data removed]",
      "text/plain": [
       "<Figure size 432x288 with 1 Axes>"
      ]
     },
     "metadata": {
      "needs_background": "light"
     },
     "output_type": "display_data"
    }
   ],
   "source": [
    "#Gamma box ploting horizontal view\n",
    "\n",
    "df_raw['GR'].plot(kind='box', vert=False)"
   ]
  },
  {
   "cell_type": "code",
   "execution_count": 18,
   "id": "3357175f",
   "metadata": {
    "ExecuteTime": {
     "end_time": "2022-09-01T11:36:46.207612Z",
     "start_time": "2022-09-01T11:36:44.697395Z"
    }
   },
   "outputs": [
    {
     "data": {
      "text/plain": [
       "[]"
      ]
     },
     "execution_count": 18,
     "metadata": {},
     "output_type": "execute_result"
    },
    {
     "data": {
      "image/png": "[encoded data removed]",
      "text/plain": [
       "<Figure size 432x288 with 1 Axes>"
      ]
     },
     "metadata": {
      "needs_background": "light"
     },
     "output_type": "display_data"
    }
   ],
   "source": [
    "# Resistivity box plot logarithmically scalled\n",
    "\n",
    "df_raw['RDEP'].plot(kind='box')\n",
    "plt.semilogy()"
   ]
  },
  {
   "cell_type": "code",
   "execution_count": 24,
   "id": "a2edb0cc",
   "metadata": {
    "ExecuteTime": {
     "end_time": "2022-09-01T11:38:57.768409Z",
     "start_time": "2022-09-01T11:38:57.235669Z"
    }
   },
   "outputs": [
    {
     "data": {
      "text/plain": [
       "[]"
      ]
     },
     "execution_count": 24,
     "metadata": {},
     "output_type": "execute_result"
    },
    {
     "data": {
      "image/png": "[encoded data removed]",
      "text/plain": [
       "<Figure size 432x288 with 1 Axes>"
      ]
     },
     "metadata": {
      "needs_background": "light"
     },
     "output_type": "display_data"
    }
   ],
   "source": [
    "# Resistivity box plot logarithmically scalled, horizontal view\n",
    "\n",
    "df_raw['RDEP'].plot(kind='box', vert=False)\n",
    "plt.semilogy()"
   ]
  },
  {
   "cell_type": "markdown",
   "id": "2b52942a",
   "metadata": {},
   "source": [
    "# Styling the Boxplot "
   ]
  },
  {
   "cell_type": "code",
   "execution_count": 26,
   "id": "14a0e277",
   "metadata": {
    "ExecuteTime": {
     "end_time": "2022-09-01T11:45:21.464733Z",
     "start_time": "2022-09-01T11:45:21.210613Z"
    }
   },
   "outputs": [
    {
     "data": {
      "text/plain": [
       "{'whiskers': [<matplotlib.lines.Line2D at 0x7f3c165ce040>,\n",
       "  <matplotlib.lines.Line2D at 0x7f3c165ce6d0>],\n",
       " 'caps': [<matplotlib.lines.Line2D at 0x7f3c1654e400>,\n",
       "  <matplotlib.lines.Line2D at 0x7f3c1654edf0>],\n",
       " 'boxes': [<matplotlib.lines.Line2D at 0x7f3c165ce790>],\n",
       " 'medians': [<matplotlib.lines.Line2D at 0x7f3c1650f5e0>],\n",
       " 'fliers': [<matplotlib.lines.Line2D at 0x7f3c1650fa30>],\n",
       " 'means': []}"
      ]
     },
     "execution_count": 26,
     "metadata": {},
     "output_type": "execute_result"
    },
    {
     "data": {
      "image/png": "[encoded data removed]",
      "text/plain": [
       "<Figure size 432x288 with 1 Axes>"
      ]
     },
     "metadata": {
      "needs_background": "light"
     },
     "output_type": "display_data"
    }
   ],
   "source": [
    "# Changing the outlier markers\n",
    "\n",
    "red_circle = dict(markerfacecolor='red', marker='o')\n",
    "plt.boxplot(x=df_raw['GR'], vert=False, flierprops=red_circle)"
   ]
  },
  {
   "cell_type": "code",
   "execution_count": 39,
   "id": "20215c20",
   "metadata": {
    "ExecuteTime": {
     "end_time": "2022-09-01T11:52:42.026108Z",
     "start_time": "2022-09-01T11:52:41.763886Z"
    }
   },
   "outputs": [
    {
     "data": {
      "text/plain": [
       "{'whiskers': [<matplotlib.lines.Line2D at 0x7f3c151cc310>,\n",
       "  <matplotlib.lines.Line2D at 0x7f3c151ce850>],\n",
       " 'caps': [<matplotlib.lines.Line2D at 0x7f3c151d0e50>,\n",
       "  <matplotlib.lines.Line2D at 0x7f3c151d3730>],\n",
       " 'boxes': [<matplotlib.lines.Line2D at 0x7f3c151c70d0>],\n",
       " 'medians': [<matplotlib.lines.Line2D at 0x7f3c151d64c0>],\n",
       " 'fliers': [<matplotlib.lines.Line2D at 0x7f3c15158850>],\n",
       " 'means': []}"
      ]
     },
     "execution_count": 39,
     "metadata": {},
     "output_type": "execute_result"
    },
    {
     "data": {
      "image/png": "[encoded data removed]",
      "text/plain": [
       "<Figure size 432x288 with 1 Axes>"
      ]
     },
     "metadata": {
      "needs_background": "light"
     },
     "output_type": "display_data"
    }
   ],
   "source": [
    "# Changing the outlier markers\n",
    "\n",
    "red_circle = dict(markerfacecolor='red', marker='o')\n",
    "plt.boxplot(x=df_raw['RDEP'], vert=False, flierprops=red_circle)"
   ]
  },
  {
   "cell_type": "code",
   "execution_count": 42,
   "id": "662d0172",
   "metadata": {
    "ExecuteTime": {
     "end_time": "2022-09-01T11:56:14.448681Z",
     "start_time": "2022-09-01T11:56:14.173983Z"
    }
   },
   "outputs": [
    {
     "data": {
      "text/plain": [
       "{'whiskers': [<matplotlib.lines.Line2D at 0x7f3c15e00280>,\n",
       "  <matplotlib.lines.Line2D at 0x7f3c15e000d0>],\n",
       " 'caps': [<matplotlib.lines.Line2D at 0x7f3c15e00460>,\n",
       "  <matplotlib.lines.Line2D at 0x7f3c15e00eb0>],\n",
       " 'boxes': [<matplotlib.lines.Line2D at 0x7f3c15e00190>],\n",
       " 'medians': [<matplotlib.lines.Line2D at 0x7f3c15c4bd00>],\n",
       " 'fliers': [<matplotlib.lines.Line2D at 0x7f3c15c4b2e0>],\n",
       " 'means': [<matplotlib.lines.Line2D at 0x7f3c15c4b9a0>]}"
      ]
     },
     "execution_count": 42,
     "metadata": {},
     "output_type": "execute_result"
    },
    {
     "data": {
      "image/png": "[encoded data removed]",
      "text/plain": [
       "<Figure size 432x288 with 1 Axes>"
      ]
     },
     "metadata": {
      "needs_background": "light"
     },
     "output_type": "display_data"
    }
   ],
   "source": [
    "# Adding the mean\n",
    "\n",
    "red_circle = dict(markerfacecolor='red', marker='o')\n",
    "mean_shape = dict(markerfacecolor='green', marker='D', markeredgecolor='green')\n",
    "\n",
    "plt.boxplot(x=df_raw['AC'], vert=False, flierprops=red_circle,\n",
    "           showmeans=True, medianprops=mean_shape)"
   ]
  },
  {
   "cell_type": "code",
   "execution_count": 43,
   "id": "33b048cf",
   "metadata": {
    "ExecuteTime": {
     "end_time": "2022-09-01T11:56:43.448606Z",
     "start_time": "2022-09-01T11:56:43.176000Z"
    }
   },
   "outputs": [
    {
     "data": {
      "text/plain": [
       "{'whiskers': [<matplotlib.lines.Line2D at 0x7f3c171b23d0>,\n",
       "  <matplotlib.lines.Line2D at 0x7f3c16b1a280>],\n",
       " 'caps': [<matplotlib.lines.Line2D at 0x7f3c16b1afd0>,\n",
       "  <matplotlib.lines.Line2D at 0x7f3c16b1afa0>],\n",
       " 'boxes': [<matplotlib.lines.Line2D at 0x7f3c171b24c0>],\n",
       " 'medians': [<matplotlib.lines.Line2D at 0x7f3c16b1a4f0>],\n",
       " 'fliers': [<matplotlib.lines.Line2D at 0x7f3c166ef6a0>],\n",
       " 'means': [<matplotlib.lines.Line2D at 0x7f3c16b1a430>]}"
      ]
     },
     "execution_count": 43,
     "metadata": {},
     "output_type": "execute_result"
    },
    {
     "data": {
      "image/png": "[encoded data removed]",
      "text/plain": [
       "<Figure size 432x288 with 1 Axes>"
      ]
     },
     "metadata": {
      "needs_background": "light"
     },
     "output_type": "display_data"
    }
   ],
   "source": [
    "# Adding the mean\n",
    "\n",
    "red_circle = dict(markerfacecolor='red', marker='o')\n",
    "mean_shape = dict(markerfacecolor='green', marker='D', markeredgecolor='green')\n",
    "\n",
    "plt.boxplot(x=df_raw['DEN'], vert=False, flierprops=red_circle,\n",
    "           showmeans=True, medianprops=mean_shape)"
   ]
  },
  {
   "cell_type": "markdown",
   "id": "6c192a79",
   "metadata": {},
   "source": [
    "# Displaying multiple boxplots on "
   ]
  },
  {
   "cell_type": "code",
   "execution_count": 45,
   "id": "f82bda5a",
   "metadata": {
    "ExecuteTime": {
     "end_time": "2022-09-01T11:58:21.330683Z",
     "start_time": "2022-09-01T11:58:20.939097Z"
    }
   },
   "outputs": [
    {
     "data": {
      "text/plain": [
       "<AxesSubplot:>"
      ]
     },
     "execution_count": 45,
     "metadata": {},
     "output_type": "execute_result"
    },
    {
     "data": {
      "image/png": "[encoded data removed]",
      "text/plain": [
       "<Figure size 432x288 with 1 Axes>"
      ]
     },
     "metadata": {
      "needs_background": "light"
     },
     "output_type": "display_data"
    }
   ],
   "source": [
    "# Displaying all columns in the dataframe\n",
    "\n",
    "df_raw.plot(kind='box')"
   ]
  },
  {
   "cell_type": "code",
   "execution_count": 46,
   "id": "3c9658a8",
   "metadata": {
    "ExecuteTime": {
     "end_time": "2022-09-01T12:06:22.855517Z",
     "start_time": "2022-09-01T12:06:21.621227Z"
    }
   },
   "outputs": [
    {
     "data": {
      "image/png": "[encoded data removed]",
      "text/plain": [
       "<Figure size 1440x720 with 7 Axes>"
      ]
     },
     "metadata": {
      "needs_background": "light"
     },
     "output_type": "display_data"
    }
   ],
   "source": [
    "# Subplot of each column\n",
    "\n",
    "red_circle = dict(markerfacecolor='red', marker='o', markeredgecolor='white')\n",
    "\n",
    "fig, axs = plt.subplots(1, len(df_raw.columns), figsize=(20,10))\n",
    "\n",
    "for i, ax in enumerate(axs.flat):\n",
    "    ax.boxplot(df_raw.iloc[:,i], flierprops=red_circle)\n",
    "    ax.set_title(df_raw.columns[i], fontsize=28, fontweight='bold')\n",
    "    ax.tick_params(axis='y', labelsize=14)\n",
    "    \n",
    "plt.tight_layout()"
   ]
  },
  {
   "cell_type": "code",
   "execution_count": 52,
   "id": "255d4c41",
   "metadata": {
    "ExecuteTime": {
     "end_time": "2022-09-01T12:10:24.896035Z",
     "start_time": "2022-09-01T12:10:22.781378Z"
    }
   },
   "outputs": [
    {
     "data": {
      "image/png": "[encoded data removed]",
      "text/plain": [
       "<Figure size 1440x720 with 7 Axes>"
      ]
     },
     "metadata": {
      "needs_background": "light"
     },
     "output_type": "display_data"
    }
   ],
   "source": [
    "# Subplot of each column\n",
    "\n",
    "red_circle = dict(markerfacecolor='red', marker='o', markeredgecolor='white')\n",
    "\n",
    "fig, axs = plt.subplots(1, len(df_raw.columns), figsize=(20,10))\n",
    "\n",
    "for i, ax in enumerate(axs.flat):\n",
    "    ax.boxplot(df_raw.iloc[:,i], flierprops=red_circle)\n",
    "    ax.set_title(df_raw.columns[i], fontsize=28, fontweight='bold')\n",
    "    ax.tick_params(axis='y', labelsize=14)\n",
    "    \n",
    "    if df_raw.columns[i] == 'RDEP' or df_raw.columns[i] == 'RMED':\n",
    "        ax.semilogy()\n",
    "    \n",
    "plt.tight_layout()"
   ]
  },
  {
   "cell_type": "code",
   "execution_count": null,
   "id": "2310d9ab",
   "metadata": {},
   "outputs": [],
   "source": []
  },
  {
   "cell_type": "code",
   "execution_count": null,
   "id": "963d22e9",
   "metadata": {},
   "outputs": [],
   "source": []
  },
  {
   "cell_type": "code",
   "execution_count": null,
   "id": "e51df70f",
   "metadata": {},
   "outputs": [],
   "source": []
  }
 ],
 "metadata": {
  "kernelspec": {
   "display_name": "Python 3 (ipykernel)",
   "language": "python",
   "name": "python3"
  },
  "language_info": {
   "codemirror_mode": {
    "name": "ipython",
    "version": 3
   },
   "file_extension": ".py",
   "mimetype": "text/x-python",
   "name": "python",
   "nbconvert_exporter": "python",
   "pygments_lexer": "ipython3",
   "version": "3.9.5"
  },
  "toc": {
   "base_numbering": 1,
   "nav_menu": {},
   "number_sections": true,
   "sideBar": true,
   "skip_h1_title": false,
   "title_cell": "Table of Contents",
   "title_sidebar": "Contents",
   "toc_cell": false,
   "toc_position": {},
   "toc_section_display": true,
   "toc_window_display": false
  }
 },
 "nbformat": 4,
 "nbformat_minor": 5
}
